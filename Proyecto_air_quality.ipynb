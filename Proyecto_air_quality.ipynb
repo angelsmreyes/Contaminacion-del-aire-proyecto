{
 "cells": [
  {
   "cell_type": "code",
   "execution_count": 93,
   "id": "5354ca10",
   "metadata": {},
   "outputs": [],
   "source": [
    "import pandas as pd \n",
    "import numpy as np\n",
    "import matplotlib.pyplot as plt \n",
    "import seaborn as sns"
   ]
  },
  {
   "cell_type": "markdown",
   "id": "bdbc0bdb",
   "metadata": {},
   "source": [
    "**Cargando la data de Chile, Valdivia**"
   ]
  },
  {
   "cell_type": "code",
   "execution_count": 25,
   "id": "6c13b480",
   "metadata": {},
   "outputs": [],
   "source": [
    "chile_aqi = pd.read_csv('chile_air_quality.csv')"
   ]
  },
  {
   "cell_type": "code",
   "execution_count": 26,
   "id": "5847a444",
   "metadata": {},
   "outputs": [
    {
     "data": {
      "text/html": [
       "<div>\n",
       "<style scoped>\n",
       "    .dataframe tbody tr th:only-of-type {\n",
       "        vertical-align: middle;\n",
       "    }\n",
       "\n",
       "    .dataframe tbody tr th {\n",
       "        vertical-align: top;\n",
       "    }\n",
       "\n",
       "    .dataframe thead th {\n",
       "        text-align: right;\n",
       "    }\n",
       "</style>\n",
       "<table border=\"1\" class=\"dataframe\">\n",
       "  <thead>\n",
       "    <tr style=\"text-align: right;\">\n",
       "      <th></th>\n",
       "      <th>locationId</th>\n",
       "      <th>location</th>\n",
       "      <th>city</th>\n",
       "      <th>country</th>\n",
       "      <th>utc</th>\n",
       "      <th>local</th>\n",
       "      <th>parameter</th>\n",
       "      <th>value</th>\n",
       "      <th>unit</th>\n",
       "      <th>latitude</th>\n",
       "      <th>longitude</th>\n",
       "    </tr>\n",
       "  </thead>\n",
       "  <tbody>\n",
       "    <tr>\n",
       "      <th>0</th>\n",
       "      <td>6990</td>\n",
       "      <td>Valdivia 2</td>\n",
       "      <td>Valdivia</td>\n",
       "      <td>CL</td>\n",
       "      <td>2021-08-20T21:00:00+00:00</td>\n",
       "      <td>2021-08-20T20:00:00-01:00</td>\n",
       "      <td>pm25</td>\n",
       "      <td>6</td>\n",
       "      <td>µg/m³</td>\n",
       "      <td>-39.805429</td>\n",
       "      <td>-73.25873</td>\n",
       "    </tr>\n",
       "    <tr>\n",
       "      <th>1</th>\n",
       "      <td>6990</td>\n",
       "      <td>Valdivia 2</td>\n",
       "      <td>Valdivia</td>\n",
       "      <td>CL</td>\n",
       "      <td>2021-08-20T21:00:00+00:00</td>\n",
       "      <td>2021-08-20T20:00:00-01:00</td>\n",
       "      <td>pm10</td>\n",
       "      <td>8</td>\n",
       "      <td>µg/m³</td>\n",
       "      <td>-39.805429</td>\n",
       "      <td>-73.25873</td>\n",
       "    </tr>\n",
       "    <tr>\n",
       "      <th>2</th>\n",
       "      <td>6990</td>\n",
       "      <td>Valdivia 2</td>\n",
       "      <td>Valdivia</td>\n",
       "      <td>CL</td>\n",
       "      <td>2021-08-20T20:00:00+00:00</td>\n",
       "      <td>2021-08-20T19:00:00-01:00</td>\n",
       "      <td>pm25</td>\n",
       "      <td>1</td>\n",
       "      <td>µg/m³</td>\n",
       "      <td>-39.805429</td>\n",
       "      <td>-73.25873</td>\n",
       "    </tr>\n",
       "    <tr>\n",
       "      <th>3</th>\n",
       "      <td>6990</td>\n",
       "      <td>Valdivia 2</td>\n",
       "      <td>Valdivia</td>\n",
       "      <td>CL</td>\n",
       "      <td>2021-08-20T20:00:00+00:00</td>\n",
       "      <td>2021-08-20T19:00:00-01:00</td>\n",
       "      <td>pm10</td>\n",
       "      <td>6</td>\n",
       "      <td>µg/m³</td>\n",
       "      <td>-39.805429</td>\n",
       "      <td>-73.25873</td>\n",
       "    </tr>\n",
       "    <tr>\n",
       "      <th>4</th>\n",
       "      <td>6990</td>\n",
       "      <td>Valdivia 2</td>\n",
       "      <td>Valdivia</td>\n",
       "      <td>CL</td>\n",
       "      <td>2021-08-20T19:00:00+00:00</td>\n",
       "      <td>2021-08-20T18:00:00-01:00</td>\n",
       "      <td>pm10</td>\n",
       "      <td>5</td>\n",
       "      <td>µg/m³</td>\n",
       "      <td>-39.805429</td>\n",
       "      <td>-73.25873</td>\n",
       "    </tr>\n",
       "  </tbody>\n",
       "</table>\n",
       "</div>"
      ],
      "text/plain": [
       "   locationId    location      city country                        utc  \\\n",
       "0        6990  Valdivia 2  Valdivia      CL  2021-08-20T21:00:00+00:00   \n",
       "1        6990  Valdivia 2  Valdivia      CL  2021-08-20T21:00:00+00:00   \n",
       "2        6990  Valdivia 2  Valdivia      CL  2021-08-20T20:00:00+00:00   \n",
       "3        6990  Valdivia 2  Valdivia      CL  2021-08-20T20:00:00+00:00   \n",
       "4        6990  Valdivia 2  Valdivia      CL  2021-08-20T19:00:00+00:00   \n",
       "\n",
       "                       local parameter  value   unit   latitude  longitude  \n",
       "0  2021-08-20T20:00:00-01:00      pm25      6  µg/m³ -39.805429  -73.25873  \n",
       "1  2021-08-20T20:00:00-01:00      pm10      8  µg/m³ -39.805429  -73.25873  \n",
       "2  2021-08-20T19:00:00-01:00      pm25      1  µg/m³ -39.805429  -73.25873  \n",
       "3  2021-08-20T19:00:00-01:00      pm10      6  µg/m³ -39.805429  -73.25873  \n",
       "4  2021-08-20T18:00:00-01:00      pm10      5  µg/m³ -39.805429  -73.25873  "
      ]
     },
     "execution_count": 26,
     "metadata": {},
     "output_type": "execute_result"
    }
   ],
   "source": [
    "chile_aqi.head(5)"
   ]
  },
  {
   "cell_type": "code",
   "execution_count": 27,
   "id": "c7005413",
   "metadata": {},
   "outputs": [
    {
     "data": {
      "text/plain": [
       "(5676, 11)"
      ]
     },
     "execution_count": 27,
     "metadata": {},
     "output_type": "execute_result"
    }
   ],
   "source": [
    "chile_aqi.shape"
   ]
  },
  {
   "cell_type": "code",
   "execution_count": 28,
   "id": "13fd6c1f",
   "metadata": {},
   "outputs": [
    {
     "data": {
      "text/plain": [
       "locationId    0\n",
       "location      0\n",
       "city          0\n",
       "country       0\n",
       "utc           0\n",
       "local         0\n",
       "parameter     0\n",
       "value         0\n",
       "unit          0\n",
       "latitude      0\n",
       "longitude     0\n",
       "dtype: int64"
      ]
     },
     "execution_count": 28,
     "metadata": {},
     "output_type": "execute_result"
    }
   ],
   "source": [
    "chile_aqi.isnull().sum()"
   ]
  },
  {
   "cell_type": "code",
   "execution_count": 30,
   "id": "2c24da22",
   "metadata": {},
   "outputs": [
    {
     "name": "stdout",
     "output_type": "stream",
     "text": [
      "<class 'pandas.core.frame.DataFrame'>\n",
      "RangeIndex: 5676 entries, 0 to 5675\n",
      "Data columns (total 11 columns):\n",
      " #   Column      Non-Null Count  Dtype  \n",
      "---  ------      --------------  -----  \n",
      " 0   locationId  5676 non-null   int64  \n",
      " 1   location    5676 non-null   object \n",
      " 2   city        5676 non-null   object \n",
      " 3   country     5676 non-null   object \n",
      " 4   utc         5676 non-null   object \n",
      " 5   local       5676 non-null   object \n",
      " 6   parameter   5676 non-null   object \n",
      " 7   value       5676 non-null   int64  \n",
      " 8   unit        5676 non-null   object \n",
      " 9   latitude    5676 non-null   float64\n",
      " 10  longitude   5676 non-null   float64\n",
      "dtypes: float64(2), int64(2), object(7)\n",
      "memory usage: 487.9+ KB\n"
     ]
    }
   ],
   "source": [
    "chile_aqi.info()"
   ]
  },
  {
   "cell_type": "markdown",
   "id": "11f3dd42",
   "metadata": {},
   "source": [
    "You should transform utc and local to datetime"
   ]
  },
  {
   "cell_type": "markdown",
   "id": "2a85a0ae",
   "metadata": {},
   "source": [
    "**Cargando la data de Mexico, Tlaxcala**"
   ]
  },
  {
   "cell_type": "code",
   "execution_count": 32,
   "id": "7f6340ea",
   "metadata": {},
   "outputs": [],
   "source": [
    "mx_aqi = pd.read_csv('mx_air_quality.csv')"
   ]
  },
  {
   "cell_type": "code",
   "execution_count": 33,
   "id": "6cb797ee",
   "metadata": {},
   "outputs": [
    {
     "data": {
      "text/html": [
       "<div>\n",
       "<style scoped>\n",
       "    .dataframe tbody tr th:only-of-type {\n",
       "        vertical-align: middle;\n",
       "    }\n",
       "\n",
       "    .dataframe tbody tr th {\n",
       "        vertical-align: top;\n",
       "    }\n",
       "\n",
       "    .dataframe thead th {\n",
       "        text-align: right;\n",
       "    }\n",
       "</style>\n",
       "<table border=\"1\" class=\"dataframe\">\n",
       "  <thead>\n",
       "    <tr style=\"text-align: right;\">\n",
       "      <th></th>\n",
       "      <th>locationId</th>\n",
       "      <th>location</th>\n",
       "      <th>city</th>\n",
       "      <th>country</th>\n",
       "      <th>utc</th>\n",
       "      <th>local</th>\n",
       "      <th>parameter</th>\n",
       "      <th>value</th>\n",
       "      <th>unit</th>\n",
       "      <th>latitude</th>\n",
       "      <th>longitude</th>\n",
       "    </tr>\n",
       "  </thead>\n",
       "  <tbody>\n",
       "    <tr>\n",
       "      <th>0</th>\n",
       "      <td>235235</td>\n",
       "      <td>Palacio de Gobierno</td>\n",
       "      <td>Tlaxcala</td>\n",
       "      <td>MX</td>\n",
       "      <td>2021-09-22T04:00:00+00:00</td>\n",
       "      <td>2021-09-21T23:00:00-05:00</td>\n",
       "      <td>co</td>\n",
       "      <td>4.693750</td>\n",
       "      <td>ppm</td>\n",
       "      <td>19.317583</td>\n",
       "      <td>-98.237306</td>\n",
       "    </tr>\n",
       "    <tr>\n",
       "      <th>1</th>\n",
       "      <td>235235</td>\n",
       "      <td>Palacio de Gobierno</td>\n",
       "      <td>Tlaxcala</td>\n",
       "      <td>MX</td>\n",
       "      <td>2021-09-22T04:00:00+00:00</td>\n",
       "      <td>2021-09-21T23:00:00-05:00</td>\n",
       "      <td>pm25</td>\n",
       "      <td>11.379578</td>\n",
       "      <td>µg/m³</td>\n",
       "      <td>19.317583</td>\n",
       "      <td>-98.237306</td>\n",
       "    </tr>\n",
       "    <tr>\n",
       "      <th>2</th>\n",
       "      <td>235235</td>\n",
       "      <td>Palacio de Gobierno</td>\n",
       "      <td>Tlaxcala</td>\n",
       "      <td>MX</td>\n",
       "      <td>2021-09-22T04:00:00+00:00</td>\n",
       "      <td>2021-09-21T23:00:00-05:00</td>\n",
       "      <td>so2</td>\n",
       "      <td>0.668039</td>\n",
       "      <td>ppm</td>\n",
       "      <td>19.317583</td>\n",
       "      <td>-98.237306</td>\n",
       "    </tr>\n",
       "    <tr>\n",
       "      <th>3</th>\n",
       "      <td>235235</td>\n",
       "      <td>Palacio de Gobierno</td>\n",
       "      <td>Tlaxcala</td>\n",
       "      <td>MX</td>\n",
       "      <td>2021-09-22T04:00:00+00:00</td>\n",
       "      <td>2021-09-21T23:00:00-05:00</td>\n",
       "      <td>pm10</td>\n",
       "      <td>20.700410</td>\n",
       "      <td>µg/m³</td>\n",
       "      <td>19.317583</td>\n",
       "      <td>-98.237306</td>\n",
       "    </tr>\n",
       "    <tr>\n",
       "      <th>4</th>\n",
       "      <td>235235</td>\n",
       "      <td>Palacio de Gobierno</td>\n",
       "      <td>Tlaxcala</td>\n",
       "      <td>MX</td>\n",
       "      <td>2021-09-22T03:00:00+00:00</td>\n",
       "      <td>2021-09-21T22:00:00-05:00</td>\n",
       "      <td>co</td>\n",
       "      <td>5.050694</td>\n",
       "      <td>ppm</td>\n",
       "      <td>19.317583</td>\n",
       "      <td>-98.237306</td>\n",
       "    </tr>\n",
       "  </tbody>\n",
       "</table>\n",
       "</div>"
      ],
      "text/plain": [
       "   locationId             location      city country  \\\n",
       "0      235235  Palacio de Gobierno  Tlaxcala      MX   \n",
       "1      235235  Palacio de Gobierno  Tlaxcala      MX   \n",
       "2      235235  Palacio de Gobierno  Tlaxcala      MX   \n",
       "3      235235  Palacio de Gobierno  Tlaxcala      MX   \n",
       "4      235235  Palacio de Gobierno  Tlaxcala      MX   \n",
       "\n",
       "                         utc                      local parameter      value  \\\n",
       "0  2021-09-22T04:00:00+00:00  2021-09-21T23:00:00-05:00        co   4.693750   \n",
       "1  2021-09-22T04:00:00+00:00  2021-09-21T23:00:00-05:00      pm25  11.379578   \n",
       "2  2021-09-22T04:00:00+00:00  2021-09-21T23:00:00-05:00       so2   0.668039   \n",
       "3  2021-09-22T04:00:00+00:00  2021-09-21T23:00:00-05:00      pm10  20.700410   \n",
       "4  2021-09-22T03:00:00+00:00  2021-09-21T22:00:00-05:00        co   5.050694   \n",
       "\n",
       "    unit   latitude  longitude  \n",
       "0    ppm  19.317583 -98.237306  \n",
       "1  µg/m³  19.317583 -98.237306  \n",
       "2    ppm  19.317583 -98.237306  \n",
       "3  µg/m³  19.317583 -98.237306  \n",
       "4    ppm  19.317583 -98.237306  "
      ]
     },
     "execution_count": 33,
     "metadata": {},
     "output_type": "execute_result"
    }
   ],
   "source": [
    "mx_aqi.head(5)"
   ]
  },
  {
   "cell_type": "code",
   "execution_count": 34,
   "id": "6f909495",
   "metadata": {},
   "outputs": [
    {
     "data": {
      "text/plain": [
       "(335, 11)"
      ]
     },
     "execution_count": 34,
     "metadata": {},
     "output_type": "execute_result"
    }
   ],
   "source": [
    "mx_aqi.shape"
   ]
  },
  {
   "cell_type": "code",
   "execution_count": 35,
   "id": "deec227f",
   "metadata": {},
   "outputs": [
    {
     "data": {
      "text/plain": [
       "locationId    0\n",
       "location      0\n",
       "city          0\n",
       "country       0\n",
       "utc           0\n",
       "local         0\n",
       "parameter     0\n",
       "value         0\n",
       "unit          0\n",
       "latitude      0\n",
       "longitude     0\n",
       "dtype: int64"
      ]
     },
     "execution_count": 35,
     "metadata": {},
     "output_type": "execute_result"
    }
   ],
   "source": [
    "mx_aqi.isnull().sum()"
   ]
  },
  {
   "cell_type": "code",
   "execution_count": 36,
   "id": "a49a4892",
   "metadata": {},
   "outputs": [
    {
     "data": {
      "text/plain": [
       "locationId      int64\n",
       "location       object\n",
       "city           object\n",
       "country        object\n",
       "utc            object\n",
       "local          object\n",
       "parameter      object\n",
       "value         float64\n",
       "unit           object\n",
       "latitude      float64\n",
       "longitude     float64\n",
       "dtype: object"
      ]
     },
     "execution_count": 36,
     "metadata": {},
     "output_type": "execute_result"
    }
   ],
   "source": [
    "mx_aqi.dtypes"
   ]
  },
  {
   "cell_type": "markdown",
   "id": "323247ab",
   "metadata": {},
   "source": [
    "**Cargando la Data para mexico, saltillo**"
   ]
  },
  {
   "cell_type": "code",
   "execution_count": 37,
   "id": "23d07e7d",
   "metadata": {
    "scrolled": false
   },
   "outputs": [
    {
     "data": {
      "text/html": [
       "<div>\n",
       "<style scoped>\n",
       "    .dataframe tbody tr th:only-of-type {\n",
       "        vertical-align: middle;\n",
       "    }\n",
       "\n",
       "    .dataframe tbody tr th {\n",
       "        vertical-align: top;\n",
       "    }\n",
       "\n",
       "    .dataframe thead th {\n",
       "        text-align: right;\n",
       "    }\n",
       "</style>\n",
       "<table border=\"1\" class=\"dataframe\">\n",
       "  <thead>\n",
       "    <tr style=\"text-align: right;\">\n",
       "      <th></th>\n",
       "      <th>locationId</th>\n",
       "      <th>location</th>\n",
       "      <th>city</th>\n",
       "      <th>country</th>\n",
       "      <th>utc</th>\n",
       "      <th>local</th>\n",
       "      <th>parameter</th>\n",
       "      <th>value</th>\n",
       "      <th>unit</th>\n",
       "      <th>latitude</th>\n",
       "      <th>longitude</th>\n",
       "    </tr>\n",
       "  </thead>\n",
       "  <tbody>\n",
       "    <tr>\n",
       "      <th>0</th>\n",
       "      <td>8006</td>\n",
       "      <td>Finanzas</td>\n",
       "      <td>Saltillo</td>\n",
       "      <td>MX</td>\n",
       "      <td>2021-09-23T18:00:00+00:00</td>\n",
       "      <td>2021-09-23T13:00:00-05:00</td>\n",
       "      <td>so2</td>\n",
       "      <td>0.003317</td>\n",
       "      <td>ppm</td>\n",
       "      <td>25.421472</td>\n",
       "      <td>-100.996861</td>\n",
       "    </tr>\n",
       "    <tr>\n",
       "      <th>1</th>\n",
       "      <td>8006</td>\n",
       "      <td>Finanzas</td>\n",
       "      <td>Saltillo</td>\n",
       "      <td>MX</td>\n",
       "      <td>2021-09-23T18:00:00+00:00</td>\n",
       "      <td>2021-09-23T13:00:00-05:00</td>\n",
       "      <td>no2</td>\n",
       "      <td>0.013258</td>\n",
       "      <td>ppm</td>\n",
       "      <td>25.421472</td>\n",
       "      <td>-100.996861</td>\n",
       "    </tr>\n",
       "    <tr>\n",
       "      <th>2</th>\n",
       "      <td>8006</td>\n",
       "      <td>Finanzas</td>\n",
       "      <td>Saltillo</td>\n",
       "      <td>MX</td>\n",
       "      <td>2021-09-23T18:00:00+00:00</td>\n",
       "      <td>2021-09-23T13:00:00-05:00</td>\n",
       "      <td>pm10</td>\n",
       "      <td>68.471000</td>\n",
       "      <td>µg/m³</td>\n",
       "      <td>25.421472</td>\n",
       "      <td>-100.996861</td>\n",
       "    </tr>\n",
       "    <tr>\n",
       "      <th>3</th>\n",
       "      <td>8006</td>\n",
       "      <td>Finanzas</td>\n",
       "      <td>Saltillo</td>\n",
       "      <td>MX</td>\n",
       "      <td>2021-09-23T18:00:00+00:00</td>\n",
       "      <td>2021-09-23T13:00:00-05:00</td>\n",
       "      <td>o3</td>\n",
       "      <td>0.046686</td>\n",
       "      <td>ppm</td>\n",
       "      <td>25.421472</td>\n",
       "      <td>-100.996861</td>\n",
       "    </tr>\n",
       "    <tr>\n",
       "      <th>4</th>\n",
       "      <td>8006</td>\n",
       "      <td>Finanzas</td>\n",
       "      <td>Saltillo</td>\n",
       "      <td>MX</td>\n",
       "      <td>2021-09-23T18:00:00+00:00</td>\n",
       "      <td>2021-09-23T13:00:00-05:00</td>\n",
       "      <td>pm25</td>\n",
       "      <td>19.571000</td>\n",
       "      <td>µg/m³</td>\n",
       "      <td>25.421472</td>\n",
       "      <td>-100.996861</td>\n",
       "    </tr>\n",
       "  </tbody>\n",
       "</table>\n",
       "</div>"
      ],
      "text/plain": [
       "   locationId  location      city country                        utc  \\\n",
       "0        8006  Finanzas  Saltillo      MX  2021-09-23T18:00:00+00:00   \n",
       "1        8006  Finanzas  Saltillo      MX  2021-09-23T18:00:00+00:00   \n",
       "2        8006  Finanzas  Saltillo      MX  2021-09-23T18:00:00+00:00   \n",
       "3        8006  Finanzas  Saltillo      MX  2021-09-23T18:00:00+00:00   \n",
       "4        8006  Finanzas  Saltillo      MX  2021-09-23T18:00:00+00:00   \n",
       "\n",
       "                       local parameter      value   unit   latitude  \\\n",
       "0  2021-09-23T13:00:00-05:00       so2   0.003317    ppm  25.421472   \n",
       "1  2021-09-23T13:00:00-05:00       no2   0.013258    ppm  25.421472   \n",
       "2  2021-09-23T13:00:00-05:00      pm10  68.471000  µg/m³  25.421472   \n",
       "3  2021-09-23T13:00:00-05:00        o3   0.046686    ppm  25.421472   \n",
       "4  2021-09-23T13:00:00-05:00      pm25  19.571000  µg/m³  25.421472   \n",
       "\n",
       "    longitude  \n",
       "0 -100.996861  \n",
       "1 -100.996861  \n",
       "2 -100.996861  \n",
       "3 -100.996861  \n",
       "4 -100.996861  "
      ]
     },
     "execution_count": 37,
     "metadata": {},
     "output_type": "execute_result"
    }
   ],
   "source": [
    "mx_saltillo = pd.read_csv('mx_saltillo.csv')\n",
    "mx_saltillo.head(5)"
   ]
  },
  {
   "cell_type": "code",
   "execution_count": 38,
   "id": "8e6cc252",
   "metadata": {},
   "outputs": [
    {
     "data": {
      "text/plain": [
       "(5761, 11)"
      ]
     },
     "execution_count": 38,
     "metadata": {},
     "output_type": "execute_result"
    }
   ],
   "source": [
    "mx_saltillo.shape"
   ]
  },
  {
   "cell_type": "code",
   "execution_count": 39,
   "id": "de8104ff",
   "metadata": {},
   "outputs": [
    {
     "name": "stdout",
     "output_type": "stream",
     "text": [
      "<class 'pandas.core.frame.DataFrame'>\n",
      "RangeIndex: 5761 entries, 0 to 5760\n",
      "Data columns (total 11 columns):\n",
      " #   Column      Non-Null Count  Dtype  \n",
      "---  ------      --------------  -----  \n",
      " 0   locationId  5761 non-null   int64  \n",
      " 1   location    5761 non-null   object \n",
      " 2   city        5761 non-null   object \n",
      " 3   country     5761 non-null   object \n",
      " 4   utc         5761 non-null   object \n",
      " 5   local       5761 non-null   object \n",
      " 6   parameter   5761 non-null   object \n",
      " 7   value       5761 non-null   float64\n",
      " 8   unit        5761 non-null   object \n",
      " 9   latitude    5761 non-null   float64\n",
      " 10  longitude   5761 non-null   float64\n",
      "dtypes: float64(3), int64(1), object(7)\n",
      "memory usage: 495.2+ KB\n"
     ]
    }
   ],
   "source": [
    "mx_saltillo.info()"
   ]
  },
  {
   "cell_type": "markdown",
   "id": "c5667866",
   "metadata": {},
   "source": [
    "### Transformando las columnas utc y local de los tres dataframes"
   ]
  },
  {
   "cell_type": "code",
   "execution_count": 40,
   "id": "686d8c34",
   "metadata": {
    "scrolled": true
   },
   "outputs": [
    {
     "data": {
      "text/html": [
       "<div>\n",
       "<style scoped>\n",
       "    .dataframe tbody tr th:only-of-type {\n",
       "        vertical-align: middle;\n",
       "    }\n",
       "\n",
       "    .dataframe tbody tr th {\n",
       "        vertical-align: top;\n",
       "    }\n",
       "\n",
       "    .dataframe thead th {\n",
       "        text-align: right;\n",
       "    }\n",
       "</style>\n",
       "<table border=\"1\" class=\"dataframe\">\n",
       "  <thead>\n",
       "    <tr style=\"text-align: right;\">\n",
       "      <th></th>\n",
       "      <th>locationId</th>\n",
       "      <th>location</th>\n",
       "      <th>city</th>\n",
       "      <th>country</th>\n",
       "      <th>utc</th>\n",
       "      <th>local</th>\n",
       "      <th>parameter</th>\n",
       "      <th>value</th>\n",
       "      <th>unit</th>\n",
       "      <th>latitude</th>\n",
       "      <th>longitude</th>\n",
       "    </tr>\n",
       "  </thead>\n",
       "  <tbody>\n",
       "    <tr>\n",
       "      <th>0</th>\n",
       "      <td>6990</td>\n",
       "      <td>Valdivia 2</td>\n",
       "      <td>Valdivia</td>\n",
       "      <td>CL</td>\n",
       "      <td>2021-08-20T21:00:00+00:00</td>\n",
       "      <td>2021-08-20T20:00:00-01:00</td>\n",
       "      <td>pm25</td>\n",
       "      <td>6</td>\n",
       "      <td>µg/m³</td>\n",
       "      <td>-39.805429</td>\n",
       "      <td>-73.25873</td>\n",
       "    </tr>\n",
       "    <tr>\n",
       "      <th>1</th>\n",
       "      <td>6990</td>\n",
       "      <td>Valdivia 2</td>\n",
       "      <td>Valdivia</td>\n",
       "      <td>CL</td>\n",
       "      <td>2021-08-20T21:00:00+00:00</td>\n",
       "      <td>2021-08-20T20:00:00-01:00</td>\n",
       "      <td>pm10</td>\n",
       "      <td>8</td>\n",
       "      <td>µg/m³</td>\n",
       "      <td>-39.805429</td>\n",
       "      <td>-73.25873</td>\n",
       "    </tr>\n",
       "  </tbody>\n",
       "</table>\n",
       "</div>"
      ],
      "text/plain": [
       "   locationId    location      city country                        utc  \\\n",
       "0        6990  Valdivia 2  Valdivia      CL  2021-08-20T21:00:00+00:00   \n",
       "1        6990  Valdivia 2  Valdivia      CL  2021-08-20T21:00:00+00:00   \n",
       "\n",
       "                       local parameter  value   unit   latitude  longitude  \n",
       "0  2021-08-20T20:00:00-01:00      pm25      6  µg/m³ -39.805429  -73.25873  \n",
       "1  2021-08-20T20:00:00-01:00      pm10      8  µg/m³ -39.805429  -73.25873  "
      ]
     },
     "execution_count": 40,
     "metadata": {},
     "output_type": "execute_result"
    }
   ],
   "source": [
    "chile_aqi.head(2)"
   ]
  },
  {
   "cell_type": "code",
   "execution_count": 41,
   "id": "8a9f3a32",
   "metadata": {},
   "outputs": [
    {
     "data": {
      "text/plain": [
       "6990    5676\n",
       "Name: locationId, dtype: int64"
      ]
     },
     "execution_count": 41,
     "metadata": {},
     "output_type": "execute_result"
    }
   ],
   "source": [
    "chile_aqi['locationId'].value_counts()"
   ]
  },
  {
   "cell_type": "code",
   "execution_count": 42,
   "id": "43114548",
   "metadata": {},
   "outputs": [
    {
     "data": {
      "text/plain": [
       "array(['pm25', 'pm10'], dtype=object)"
      ]
     },
     "execution_count": 42,
     "metadata": {},
     "output_type": "execute_result"
    }
   ],
   "source": [
    "chile_aqi['parameter'].unique()"
   ]
  },
  {
   "cell_type": "code",
   "execution_count": 43,
   "id": "3c882bab",
   "metadata": {},
   "outputs": [
    {
     "data": {
      "text/plain": [
       "pm10    2839\n",
       "pm25    2837\n",
       "Name: parameter, dtype: int64"
      ]
     },
     "execution_count": 43,
     "metadata": {},
     "output_type": "execute_result"
    }
   ],
   "source": [
    "chile_aqi['parameter'].value_counts()"
   ]
  },
  {
   "cell_type": "code",
   "execution_count": 44,
   "id": "2f516d9f",
   "metadata": {},
   "outputs": [],
   "source": [
    "chile_aqi['utc'] = pd.to_datetime(chile_aqi['utc'])"
   ]
  },
  {
   "cell_type": "code",
   "execution_count": 45,
   "id": "02bb3f8f",
   "metadata": {},
   "outputs": [],
   "source": [
    "chile_aqi['local'] = pd.to_datetime(chile_aqi['local'])"
   ]
  },
  {
   "cell_type": "code",
   "execution_count": 46,
   "id": "04bb3eeb",
   "metadata": {},
   "outputs": [],
   "source": [
    "chile_aqi['year'] = chile_aqi['utc'].dt.year"
   ]
  },
  {
   "cell_type": "code",
   "execution_count": 47,
   "id": "89f25976",
   "metadata": {},
   "outputs": [],
   "source": [
    "chile_aqi['month'] = chile_aqi['utc'].dt.month"
   ]
  },
  {
   "cell_type": "code",
   "execution_count": 48,
   "id": "16e6cd64",
   "metadata": {},
   "outputs": [],
   "source": [
    "chile_aqi['hour_local'] = chile_aqi['local'].dt.hour "
   ]
  },
  {
   "cell_type": "code",
   "execution_count": 49,
   "id": "418189f2",
   "metadata": {},
   "outputs": [],
   "source": [
    "chile_aqi['hour_utc'] = chile_aqi['utc'].dt.hour"
   ]
  },
  {
   "cell_type": "code",
   "execution_count": 50,
   "id": "37da4692",
   "metadata": {
    "scrolled": false
   },
   "outputs": [
    {
     "data": {
      "text/html": [
       "<div>\n",
       "<style scoped>\n",
       "    .dataframe tbody tr th:only-of-type {\n",
       "        vertical-align: middle;\n",
       "    }\n",
       "\n",
       "    .dataframe tbody tr th {\n",
       "        vertical-align: top;\n",
       "    }\n",
       "\n",
       "    .dataframe thead th {\n",
       "        text-align: right;\n",
       "    }\n",
       "</style>\n",
       "<table border=\"1\" class=\"dataframe\">\n",
       "  <thead>\n",
       "    <tr style=\"text-align: right;\">\n",
       "      <th></th>\n",
       "      <th>locationId</th>\n",
       "      <th>location</th>\n",
       "      <th>city</th>\n",
       "      <th>country</th>\n",
       "      <th>utc</th>\n",
       "      <th>local</th>\n",
       "      <th>parameter</th>\n",
       "      <th>value</th>\n",
       "      <th>unit</th>\n",
       "      <th>latitude</th>\n",
       "      <th>longitude</th>\n",
       "      <th>year</th>\n",
       "      <th>month</th>\n",
       "      <th>hour_local</th>\n",
       "      <th>hour_utc</th>\n",
       "    </tr>\n",
       "  </thead>\n",
       "  <tbody>\n",
       "    <tr>\n",
       "      <th>0</th>\n",
       "      <td>6990</td>\n",
       "      <td>Valdivia 2</td>\n",
       "      <td>Valdivia</td>\n",
       "      <td>CL</td>\n",
       "      <td>2021-08-20 21:00:00+00:00</td>\n",
       "      <td>2021-08-20 20:00:00-01:00</td>\n",
       "      <td>pm25</td>\n",
       "      <td>6</td>\n",
       "      <td>µg/m³</td>\n",
       "      <td>-39.805429</td>\n",
       "      <td>-73.25873</td>\n",
       "      <td>2021</td>\n",
       "      <td>8</td>\n",
       "      <td>20</td>\n",
       "      <td>21</td>\n",
       "    </tr>\n",
       "    <tr>\n",
       "      <th>1</th>\n",
       "      <td>6990</td>\n",
       "      <td>Valdivia 2</td>\n",
       "      <td>Valdivia</td>\n",
       "      <td>CL</td>\n",
       "      <td>2021-08-20 21:00:00+00:00</td>\n",
       "      <td>2021-08-20 20:00:00-01:00</td>\n",
       "      <td>pm10</td>\n",
       "      <td>8</td>\n",
       "      <td>µg/m³</td>\n",
       "      <td>-39.805429</td>\n",
       "      <td>-73.25873</td>\n",
       "      <td>2021</td>\n",
       "      <td>8</td>\n",
       "      <td>20</td>\n",
       "      <td>21</td>\n",
       "    </tr>\n",
       "  </tbody>\n",
       "</table>\n",
       "</div>"
      ],
      "text/plain": [
       "   locationId    location      city country                       utc  \\\n",
       "0        6990  Valdivia 2  Valdivia      CL 2021-08-20 21:00:00+00:00   \n",
       "1        6990  Valdivia 2  Valdivia      CL 2021-08-20 21:00:00+00:00   \n",
       "\n",
       "                      local parameter  value   unit   latitude  longitude  \\\n",
       "0 2021-08-20 20:00:00-01:00      pm25      6  µg/m³ -39.805429  -73.25873   \n",
       "1 2021-08-20 20:00:00-01:00      pm10      8  µg/m³ -39.805429  -73.25873   \n",
       "\n",
       "   year  month  hour_local  hour_utc  \n",
       "0  2021      8          20        21  \n",
       "1  2021      8          20        21  "
      ]
     },
     "execution_count": 50,
     "metadata": {},
     "output_type": "execute_result"
    }
   ],
   "source": [
    "chile_aqi.head(2)"
   ]
  },
  {
   "cell_type": "code",
   "execution_count": 52,
   "id": "99c06a45",
   "metadata": {},
   "outputs": [
    {
     "data": {
      "text/plain": [
       "parameter\n",
       "pm10    14.827404\n",
       "pm25     7.323581\n",
       "Name: value, dtype: float64"
      ]
     },
     "execution_count": 52,
     "metadata": {},
     "output_type": "execute_result"
    }
   ],
   "source": [
    "chile_avg = chile_aqi.groupby('parameter')['value'].mean()\n",
    "chile_avg"
   ]
  },
  {
   "cell_type": "markdown",
   "id": "3f3ae3fb",
   "metadata": {},
   "source": [
    "**__________________________________________________________**"
   ]
  },
  {
   "cell_type": "code",
   "execution_count": 61,
   "id": "4d78b33e",
   "metadata": {
    "scrolled": true
   },
   "outputs": [
    {
     "data": {
      "text/plain": [
       "pm10    2839\n",
       "pm25    2837\n",
       "Name: parameter, dtype: int64"
      ]
     },
     "execution_count": 61,
     "metadata": {},
     "output_type": "execute_result"
    }
   ],
   "source": [
    "chile_aqi['parameter'].value_counts()"
   ]
  },
  {
   "cell_type": "markdown",
   "id": "38c3969f",
   "metadata": {},
   "source": [
    "- Realiza una columna de los años y la fecha completa\n",
    "\n",
    "- Ve los valores únicos de varias columnas\n",
    "\n",
    "- Group by por pollutant"
   ]
  },
  {
   "cell_type": "markdown",
   "id": "7b1f4349",
   "metadata": {},
   "source": [
    "### All years"
   ]
  },
  {
   "cell_type": "code",
   "execution_count": 162,
   "id": "900d0bdd",
   "metadata": {},
   "outputs": [],
   "source": [
    "mx_sal = pd.read_csv('saltillo_ally.csv')"
   ]
  },
  {
   "cell_type": "code",
   "execution_count": 163,
   "id": "0c834b35",
   "metadata": {},
   "outputs": [
    {
     "data": {
      "text/html": [
       "<div>\n",
       "<style scoped>\n",
       "    .dataframe tbody tr th:only-of-type {\n",
       "        vertical-align: middle;\n",
       "    }\n",
       "\n",
       "    .dataframe tbody tr th {\n",
       "        vertical-align: top;\n",
       "    }\n",
       "\n",
       "    .dataframe thead th {\n",
       "        text-align: right;\n",
       "    }\n",
       "</style>\n",
       "<table border=\"1\" class=\"dataframe\">\n",
       "  <thead>\n",
       "    <tr style=\"text-align: right;\">\n",
       "      <th></th>\n",
       "      <th>locationId</th>\n",
       "      <th>location</th>\n",
       "      <th>city</th>\n",
       "      <th>country</th>\n",
       "      <th>utc</th>\n",
       "      <th>local</th>\n",
       "      <th>parameter</th>\n",
       "      <th>value</th>\n",
       "      <th>unit</th>\n",
       "      <th>latitude</th>\n",
       "      <th>longitude</th>\n",
       "    </tr>\n",
       "  </thead>\n",
       "  <tbody>\n",
       "    <tr>\n",
       "      <th>0</th>\n",
       "      <td>8006</td>\n",
       "      <td>Finanzas</td>\n",
       "      <td>Saltillo</td>\n",
       "      <td>MX</td>\n",
       "      <td>2021-09-23T18:00:00+00:00</td>\n",
       "      <td>2021-09-23T13:00:00-05:00</td>\n",
       "      <td>o3</td>\n",
       "      <td>0.046686</td>\n",
       "      <td>ppm</td>\n",
       "      <td>25.421472</td>\n",
       "      <td>-100.996861</td>\n",
       "    </tr>\n",
       "    <tr>\n",
       "      <th>1</th>\n",
       "      <td>8006</td>\n",
       "      <td>Finanzas</td>\n",
       "      <td>Saltillo</td>\n",
       "      <td>MX</td>\n",
       "      <td>2021-09-23T18:00:00+00:00</td>\n",
       "      <td>2021-09-23T13:00:00-05:00</td>\n",
       "      <td>no2</td>\n",
       "      <td>0.013258</td>\n",
       "      <td>ppm</td>\n",
       "      <td>25.421472</td>\n",
       "      <td>-100.996861</td>\n",
       "    </tr>\n",
       "  </tbody>\n",
       "</table>\n",
       "</div>"
      ],
      "text/plain": [
       "   locationId  location      city country                        utc  \\\n",
       "0        8006  Finanzas  Saltillo      MX  2021-09-23T18:00:00+00:00   \n",
       "1        8006  Finanzas  Saltillo      MX  2021-09-23T18:00:00+00:00   \n",
       "\n",
       "                       local parameter     value unit   latitude   longitude  \n",
       "0  2021-09-23T13:00:00-05:00        o3  0.046686  ppm  25.421472 -100.996861  \n",
       "1  2021-09-23T13:00:00-05:00       no2  0.013258  ppm  25.421472 -100.996861  "
      ]
     },
     "execution_count": 163,
     "metadata": {},
     "output_type": "execute_result"
    }
   ],
   "source": [
    "mx_sal.head(2)"
   ]
  },
  {
   "cell_type": "code",
   "execution_count": 164,
   "id": "521c5544",
   "metadata": {},
   "outputs": [
    {
     "data": {
      "text/html": [
       "<div>\n",
       "<style scoped>\n",
       "    .dataframe tbody tr th:only-of-type {\n",
       "        vertical-align: middle;\n",
       "    }\n",
       "\n",
       "    .dataframe tbody tr th {\n",
       "        vertical-align: top;\n",
       "    }\n",
       "\n",
       "    .dataframe thead th {\n",
       "        text-align: right;\n",
       "    }\n",
       "</style>\n",
       "<table border=\"1\" class=\"dataframe\">\n",
       "  <thead>\n",
       "    <tr style=\"text-align: right;\">\n",
       "      <th></th>\n",
       "      <th>locationId</th>\n",
       "      <th>location</th>\n",
       "      <th>city</th>\n",
       "      <th>country</th>\n",
       "      <th>utc</th>\n",
       "      <th>local</th>\n",
       "      <th>parameter</th>\n",
       "      <th>value</th>\n",
       "      <th>unit</th>\n",
       "      <th>latitude</th>\n",
       "      <th>longitude</th>\n",
       "    </tr>\n",
       "  </thead>\n",
       "  <tbody>\n",
       "    <tr>\n",
       "      <th>2</th>\n",
       "      <td>8006</td>\n",
       "      <td>Finanzas</td>\n",
       "      <td>Saltillo</td>\n",
       "      <td>MX</td>\n",
       "      <td>2021-09-23T18:00:00+00:00</td>\n",
       "      <td>2021-09-23T13:00:00-05:00</td>\n",
       "      <td>pm10</td>\n",
       "      <td>68.471</td>\n",
       "      <td>µg/m³</td>\n",
       "      <td>25.421472</td>\n",
       "      <td>-100.996861</td>\n",
       "    </tr>\n",
       "    <tr>\n",
       "      <th>4</th>\n",
       "      <td>8006</td>\n",
       "      <td>Finanzas</td>\n",
       "      <td>Saltillo</td>\n",
       "      <td>MX</td>\n",
       "      <td>2021-09-23T18:00:00+00:00</td>\n",
       "      <td>2021-09-23T13:00:00-05:00</td>\n",
       "      <td>pm25</td>\n",
       "      <td>19.571</td>\n",
       "      <td>µg/m³</td>\n",
       "      <td>25.421472</td>\n",
       "      <td>-100.996861</td>\n",
       "    </tr>\n",
       "    <tr>\n",
       "      <th>8</th>\n",
       "      <td>8006</td>\n",
       "      <td>Finanzas</td>\n",
       "      <td>Saltillo</td>\n",
       "      <td>MX</td>\n",
       "      <td>2021-09-23T17:00:00+00:00</td>\n",
       "      <td>2021-09-23T12:00:00-05:00</td>\n",
       "      <td>pm10</td>\n",
       "      <td>58.031</td>\n",
       "      <td>µg/m³</td>\n",
       "      <td>25.421472</td>\n",
       "      <td>-100.996861</td>\n",
       "    </tr>\n",
       "    <tr>\n",
       "      <th>9</th>\n",
       "      <td>8006</td>\n",
       "      <td>Finanzas</td>\n",
       "      <td>Saltillo</td>\n",
       "      <td>MX</td>\n",
       "      <td>2021-09-23T17:00:00+00:00</td>\n",
       "      <td>2021-09-23T12:00:00-05:00</td>\n",
       "      <td>pm25</td>\n",
       "      <td>18.289</td>\n",
       "      <td>µg/m³</td>\n",
       "      <td>25.421472</td>\n",
       "      <td>-100.996861</td>\n",
       "    </tr>\n",
       "    <tr>\n",
       "      <th>10</th>\n",
       "      <td>8006</td>\n",
       "      <td>Finanzas</td>\n",
       "      <td>Saltillo</td>\n",
       "      <td>MX</td>\n",
       "      <td>2021-09-23T16:00:00+00:00</td>\n",
       "      <td>2021-09-23T11:00:00-05:00</td>\n",
       "      <td>pm10</td>\n",
       "      <td>49.564</td>\n",
       "      <td>µg/m³</td>\n",
       "      <td>25.421472</td>\n",
       "      <td>-100.996861</td>\n",
       "    </tr>\n",
       "  </tbody>\n",
       "</table>\n",
       "</div>"
      ],
      "text/plain": [
       "    locationId  location      city country                        utc  \\\n",
       "2         8006  Finanzas  Saltillo      MX  2021-09-23T18:00:00+00:00   \n",
       "4         8006  Finanzas  Saltillo      MX  2021-09-23T18:00:00+00:00   \n",
       "8         8006  Finanzas  Saltillo      MX  2021-09-23T17:00:00+00:00   \n",
       "9         8006  Finanzas  Saltillo      MX  2021-09-23T17:00:00+00:00   \n",
       "10        8006  Finanzas  Saltillo      MX  2021-09-23T16:00:00+00:00   \n",
       "\n",
       "                        local parameter   value   unit   latitude   longitude  \n",
       "2   2021-09-23T13:00:00-05:00      pm10  68.471  µg/m³  25.421472 -100.996861  \n",
       "4   2021-09-23T13:00:00-05:00      pm25  19.571  µg/m³  25.421472 -100.996861  \n",
       "8   2021-09-23T12:00:00-05:00      pm10  58.031  µg/m³  25.421472 -100.996861  \n",
       "9   2021-09-23T12:00:00-05:00      pm25  18.289  µg/m³  25.421472 -100.996861  \n",
       "10  2021-09-23T11:00:00-05:00      pm10  49.564  µg/m³  25.421472 -100.996861  "
      ]
     },
     "execution_count": 164,
     "metadata": {},
     "output_type": "execute_result"
    }
   ],
   "source": [
    "mx_sal = mx_sal[mx_sal['unit'] == 'µg/m³']\n",
    "mx_sal.head()"
   ]
  },
  {
   "cell_type": "code",
   "execution_count": 165,
   "id": "a237bb55",
   "metadata": {
    "scrolled": true
   },
   "outputs": [
    {
     "data": {
      "text/plain": [
       "pm10    2380\n",
       "pm25    2376\n",
       "Name: parameter, dtype: int64"
      ]
     },
     "execution_count": 165,
     "metadata": {},
     "output_type": "execute_result"
    }
   ],
   "source": [
    "mx_sal['parameter'].value_counts()"
   ]
  },
  {
   "cell_type": "code",
   "execution_count": 166,
   "id": "fca63363",
   "metadata": {},
   "outputs": [],
   "source": [
    "mx_sal['utc'] = pd.to_datetime(mx_sal['utc'])"
   ]
  },
  {
   "cell_type": "code",
   "execution_count": 167,
   "id": "e20c17a6",
   "metadata": {},
   "outputs": [],
   "source": [
    "mx_sal['local'] = pd.to_datetime(mx_sal['local'])"
   ]
  },
  {
   "cell_type": "code",
   "execution_count": 168,
   "id": "38c70bce",
   "metadata": {
    "scrolled": true
   },
   "outputs": [],
   "source": [
    "mx_sal['year'] = mx_sal['utc'].dt.year"
   ]
  },
  {
   "cell_type": "code",
   "execution_count": 169,
   "id": "fff5fe1c",
   "metadata": {},
   "outputs": [],
   "source": [
    "mx_sal['month'] = mx_sal['utc'].dt.month"
   ]
  },
  {
   "cell_type": "code",
   "execution_count": 170,
   "id": "aeddf90f",
   "metadata": {},
   "outputs": [],
   "source": [
    "mx_sal['hour_utc'] = mx_sal['utc'].dt.hour"
   ]
  },
  {
   "cell_type": "code",
   "execution_count": 171,
   "id": "6731bd66",
   "metadata": {},
   "outputs": [],
   "source": [
    "mx_sal['place'] = mx_sal['city'] + ' ' + mx_sal['country']"
   ]
  },
  {
   "cell_type": "code",
   "execution_count": 172,
   "id": "e8659cc3",
   "metadata": {
    "scrolled": false
   },
   "outputs": [
    {
     "data": {
      "text/html": [
       "<div>\n",
       "<style scoped>\n",
       "    .dataframe tbody tr th:only-of-type {\n",
       "        vertical-align: middle;\n",
       "    }\n",
       "\n",
       "    .dataframe tbody tr th {\n",
       "        vertical-align: top;\n",
       "    }\n",
       "\n",
       "    .dataframe thead th {\n",
       "        text-align: right;\n",
       "    }\n",
       "</style>\n",
       "<table border=\"1\" class=\"dataframe\">\n",
       "  <thead>\n",
       "    <tr style=\"text-align: right;\">\n",
       "      <th></th>\n",
       "      <th>locationId</th>\n",
       "      <th>location</th>\n",
       "      <th>city</th>\n",
       "      <th>country</th>\n",
       "      <th>utc</th>\n",
       "      <th>local</th>\n",
       "      <th>parameter</th>\n",
       "      <th>value</th>\n",
       "      <th>unit</th>\n",
       "      <th>latitude</th>\n",
       "      <th>longitude</th>\n",
       "      <th>year</th>\n",
       "      <th>month</th>\n",
       "      <th>hour_utc</th>\n",
       "      <th>place</th>\n",
       "    </tr>\n",
       "  </thead>\n",
       "  <tbody>\n",
       "    <tr>\n",
       "      <th>2</th>\n",
       "      <td>8006</td>\n",
       "      <td>Finanzas</td>\n",
       "      <td>Saltillo</td>\n",
       "      <td>MX</td>\n",
       "      <td>2021-09-23 18:00:00+00:00</td>\n",
       "      <td>2021-09-23 13:00:00-05:00</td>\n",
       "      <td>pm10</td>\n",
       "      <td>68.471</td>\n",
       "      <td>µg/m³</td>\n",
       "      <td>25.421472</td>\n",
       "      <td>-100.996861</td>\n",
       "      <td>2021</td>\n",
       "      <td>9</td>\n",
       "      <td>18</td>\n",
       "      <td>Saltillo MX</td>\n",
       "    </tr>\n",
       "    <tr>\n",
       "      <th>4</th>\n",
       "      <td>8006</td>\n",
       "      <td>Finanzas</td>\n",
       "      <td>Saltillo</td>\n",
       "      <td>MX</td>\n",
       "      <td>2021-09-23 18:00:00+00:00</td>\n",
       "      <td>2021-09-23 13:00:00-05:00</td>\n",
       "      <td>pm25</td>\n",
       "      <td>19.571</td>\n",
       "      <td>µg/m³</td>\n",
       "      <td>25.421472</td>\n",
       "      <td>-100.996861</td>\n",
       "      <td>2021</td>\n",
       "      <td>9</td>\n",
       "      <td>18</td>\n",
       "      <td>Saltillo MX</td>\n",
       "    </tr>\n",
       "    <tr>\n",
       "      <th>8</th>\n",
       "      <td>8006</td>\n",
       "      <td>Finanzas</td>\n",
       "      <td>Saltillo</td>\n",
       "      <td>MX</td>\n",
       "      <td>2021-09-23 17:00:00+00:00</td>\n",
       "      <td>2021-09-23 12:00:00-05:00</td>\n",
       "      <td>pm10</td>\n",
       "      <td>58.031</td>\n",
       "      <td>µg/m³</td>\n",
       "      <td>25.421472</td>\n",
       "      <td>-100.996861</td>\n",
       "      <td>2021</td>\n",
       "      <td>9</td>\n",
       "      <td>17</td>\n",
       "      <td>Saltillo MX</td>\n",
       "    </tr>\n",
       "    <tr>\n",
       "      <th>9</th>\n",
       "      <td>8006</td>\n",
       "      <td>Finanzas</td>\n",
       "      <td>Saltillo</td>\n",
       "      <td>MX</td>\n",
       "      <td>2021-09-23 17:00:00+00:00</td>\n",
       "      <td>2021-09-23 12:00:00-05:00</td>\n",
       "      <td>pm25</td>\n",
       "      <td>18.289</td>\n",
       "      <td>µg/m³</td>\n",
       "      <td>25.421472</td>\n",
       "      <td>-100.996861</td>\n",
       "      <td>2021</td>\n",
       "      <td>9</td>\n",
       "      <td>17</td>\n",
       "      <td>Saltillo MX</td>\n",
       "    </tr>\n",
       "    <tr>\n",
       "      <th>10</th>\n",
       "      <td>8006</td>\n",
       "      <td>Finanzas</td>\n",
       "      <td>Saltillo</td>\n",
       "      <td>MX</td>\n",
       "      <td>2021-09-23 16:00:00+00:00</td>\n",
       "      <td>2021-09-23 11:00:00-05:00</td>\n",
       "      <td>pm10</td>\n",
       "      <td>49.564</td>\n",
       "      <td>µg/m³</td>\n",
       "      <td>25.421472</td>\n",
       "      <td>-100.996861</td>\n",
       "      <td>2021</td>\n",
       "      <td>9</td>\n",
       "      <td>16</td>\n",
       "      <td>Saltillo MX</td>\n",
       "    </tr>\n",
       "  </tbody>\n",
       "</table>\n",
       "</div>"
      ],
      "text/plain": [
       "    locationId  location      city country                       utc  \\\n",
       "2         8006  Finanzas  Saltillo      MX 2021-09-23 18:00:00+00:00   \n",
       "4         8006  Finanzas  Saltillo      MX 2021-09-23 18:00:00+00:00   \n",
       "8         8006  Finanzas  Saltillo      MX 2021-09-23 17:00:00+00:00   \n",
       "9         8006  Finanzas  Saltillo      MX 2021-09-23 17:00:00+00:00   \n",
       "10        8006  Finanzas  Saltillo      MX 2021-09-23 16:00:00+00:00   \n",
       "\n",
       "                        local parameter   value   unit   latitude   longitude  \\\n",
       "2   2021-09-23 13:00:00-05:00      pm10  68.471  µg/m³  25.421472 -100.996861   \n",
       "4   2021-09-23 13:00:00-05:00      pm25  19.571  µg/m³  25.421472 -100.996861   \n",
       "8   2021-09-23 12:00:00-05:00      pm10  58.031  µg/m³  25.421472 -100.996861   \n",
       "9   2021-09-23 12:00:00-05:00      pm25  18.289  µg/m³  25.421472 -100.996861   \n",
       "10  2021-09-23 11:00:00-05:00      pm10  49.564  µg/m³  25.421472 -100.996861   \n",
       "\n",
       "    year  month  hour_utc        place  \n",
       "2   2021      9        18  Saltillo MX  \n",
       "4   2021      9        18  Saltillo MX  \n",
       "8   2021      9        17  Saltillo MX  \n",
       "9   2021      9        17  Saltillo MX  \n",
       "10  2021      9        16  Saltillo MX  "
      ]
     },
     "execution_count": 172,
     "metadata": {},
     "output_type": "execute_result"
    }
   ],
   "source": [
    "mx_sal.head()"
   ]
  },
  {
   "cell_type": "code",
   "execution_count": 176,
   "id": "edb93ed5",
   "metadata": {
    "scrolled": false
   },
   "outputs": [],
   "source": [
    "mx_sal['year'] = mx_sal['year'].astype('object')"
   ]
  },
  {
   "cell_type": "code",
   "execution_count": 177,
   "id": "39dc3827",
   "metadata": {},
   "outputs": [],
   "source": [
    "mx_sal['month'] = mx_sal['month'].astype('object')"
   ]
  },
  {
   "cell_type": "markdown",
   "id": "ba6bcfd0",
   "metadata": {},
   "source": [
    "**Concentración de PM10 y PM25 en Saltillo en los años 2020 y 2021**"
   ]
  },
  {
   "cell_type": "code",
   "execution_count": 189,
   "id": "651096fb",
   "metadata": {
    "scrolled": true
   },
   "outputs": [
    {
     "data": {
      "text/html": [
       "<div>\n",
       "<style scoped>\n",
       "    .dataframe tbody tr th:only-of-type {\n",
       "        vertical-align: middle;\n",
       "    }\n",
       "\n",
       "    .dataframe tbody tr th {\n",
       "        vertical-align: top;\n",
       "    }\n",
       "\n",
       "    .dataframe thead th {\n",
       "        text-align: right;\n",
       "    }\n",
       "</style>\n",
       "<table border=\"1\" class=\"dataframe\">\n",
       "  <thead>\n",
       "    <tr style=\"text-align: right;\">\n",
       "      <th></th>\n",
       "      <th>year</th>\n",
       "      <th>parameter</th>\n",
       "      <th>value</th>\n",
       "    </tr>\n",
       "  </thead>\n",
       "  <tbody>\n",
       "    <tr>\n",
       "      <th>0</th>\n",
       "      <td>2020</td>\n",
       "      <td>pm10</td>\n",
       "      <td>84.814253</td>\n",
       "    </tr>\n",
       "    <tr>\n",
       "      <th>1</th>\n",
       "      <td>2021</td>\n",
       "      <td>pm10</td>\n",
       "      <td>58.435135</td>\n",
       "    </tr>\n",
       "  </tbody>\n",
       "</table>\n",
       "</div>"
      ],
      "text/plain": [
       "   year parameter      value\n",
       "0  2020      pm10  84.814253\n",
       "1  2021      pm10  58.435135"
      ]
     },
     "execution_count": 189,
     "metadata": {},
     "output_type": "execute_result"
    }
   ],
   "source": [
    "mx_con_pm10_y = mx_sal.loc[mx_sal['parameter'] == 'pm10', ['parameter','year', 'place', 'value']].groupby(['year', 'parameter'], as_index=False).agg({'value':'mean'})\n",
    "mx_con_pm10_y"
   ]
  },
  {
   "cell_type": "code",
   "execution_count": 196,
   "id": "672c4426",
   "metadata": {},
   "outputs": [
    {
     "data": {
      "text/plain": [
       "year           int64\n",
       "parameter     object\n",
       "value        float64\n",
       "dtype: object"
      ]
     },
     "execution_count": 196,
     "metadata": {},
     "output_type": "execute_result"
    }
   ],
   "source": [
    "mx_con_pm10_y.dtypes"
   ]
  },
  {
   "cell_type": "code",
   "execution_count": 199,
   "id": "88b989fe",
   "metadata": {},
   "outputs": [
    {
     "name": "stderr",
     "output_type": "stream",
     "text": [
      "C:\\Users\\c725676\\Anaconda3\\lib\\site-packages\\seaborn\\_decorators.py:36: FutureWarning: Pass the following variables as keyword args: x, y. From version 0.12, the only valid positional argument will be `data`, and passing other arguments without an explicit keyword will result in an error or misinterpretation.\n",
      "  warnings.warn(\n"
     ]
    },
    {
     "data": {
      "image/png": "[encoded data removed]",
      "text/plain": [
       "<Figure size 1008x432 with 1 Axes>"
      ]
     },
     "metadata": {
      "needs_background": "light"
     },
     "output_type": "display_data"
    }
   ],
   "source": [
    "plt.subplots(figsize=(14,6))\n",
    "sns.barplot(mx_con_pm10_y['year'], mx_con_pm10_y['value'])\n",
    "plt.title('Concentration of PM10 in the air over Saltillo');"
   ]
  },
  {
   "cell_type": "markdown",
   "id": "6dc41289",
   "metadata": {},
   "source": [
    "**Tentativo, tienes que hacer el barplot por año**"
   ]
  },
  {
   "cell_type": "code",
   "execution_count": 192,
   "id": "7214a6fb",
   "metadata": {
    "collapsed": true
   },
   "outputs": [
    {
     "name": "stderr",
     "output_type": "stream",
     "text": [
      "C:\\Users\\c725676\\Anaconda3\\lib\\site-packages\\seaborn\\_decorators.py:36: FutureWarning: Pass the following variables as keyword args: x, y. From version 0.12, the only valid positional argument will be `data`, and passing other arguments without an explicit keyword will result in an error or misinterpretation.\n",
      "  warnings.warn(\n"
     ]
    },
    {
     "data": {
      "image/png": "[encoded data removed]",
      "text/plain": [
       "<Figure size 1008x432 with 1 Axes>"
      ]
     },
     "metadata": {
      "needs_background": "light"
     },
     "output_type": "display_data"
    }
   ],
   "source": [
    "#f, ax = plt.subplots(figsize=(14,6))\n",
    "plt.subplots(figsize=(14,6))\n",
    "sns.barplot(mx_con_m_pm10['month'], mx_con_m_pm10['value'])\n",
    "plt.title('Concentration of PM10 in the air over Saltillo');"
   ]
  },
  {
   "cell_type": "code",
   "execution_count": 203,
   "id": "3380b8b4",
   "metadata": {},
   "outputs": [
    {
     "data": {
      "text/html": [
       "<div>\n",
       "<style scoped>\n",
       "    .dataframe tbody tr th:only-of-type {\n",
       "        vertical-align: middle;\n",
       "    }\n",
       "\n",
       "    .dataframe tbody tr th {\n",
       "        vertical-align: top;\n",
       "    }\n",
       "\n",
       "    .dataframe thead th {\n",
       "        text-align: right;\n",
       "    }\n",
       "</style>\n",
       "<table border=\"1\" class=\"dataframe\">\n",
       "  <thead>\n",
       "    <tr style=\"text-align: right;\">\n",
       "      <th></th>\n",
       "      <th>year</th>\n",
       "      <th>parameter</th>\n",
       "      <th>value</th>\n",
       "    </tr>\n",
       "  </thead>\n",
       "  <tbody>\n",
       "    <tr>\n",
       "      <th>0</th>\n",
       "      <td>2020</td>\n",
       "      <td>pm25</td>\n",
       "      <td>63.531688</td>\n",
       "    </tr>\n",
       "    <tr>\n",
       "      <th>1</th>\n",
       "      <td>2021</td>\n",
       "      <td>pm25</td>\n",
       "      <td>46.678575</td>\n",
       "    </tr>\n",
       "  </tbody>\n",
       "</table>\n",
       "</div>"
      ],
      "text/plain": [
       "   year parameter      value\n",
       "0  2020      pm25  63.531688\n",
       "1  2021      pm25  46.678575"
      ]
     },
     "execution_count": 203,
     "metadata": {},
     "output_type": "execute_result"
    }
   ],
   "source": [
    "mx_con_pm25_y = mx_sal.loc[mx_sal['parameter'] == 'pm25', ['parameter','year', 'place', 'value']].groupby(['year', 'parameter'], as_index=False).agg({'value':'mean'})\n",
    "mx_con_pm25_y"
   ]
  },
  {
   "cell_type": "code",
   "execution_count": 206,
   "id": "d287c9d9",
   "metadata": {},
   "outputs": [
    {
     "name": "stderr",
     "output_type": "stream",
     "text": [
      "C:\\Users\\c725676\\Anaconda3\\lib\\site-packages\\seaborn\\_decorators.py:36: FutureWarning: Pass the following variables as keyword args: x, y. From version 0.12, the only valid positional argument will be `data`, and passing other arguments without an explicit keyword will result in an error or misinterpretation.\n",
      "  warnings.warn(\n"
     ]
    },
    {
     "data": {
      "image/png": "[encoded data removed]",
      "text/plain": [
       "<Figure size 1008x432 with 1 Axes>"
      ]
     },
     "metadata": {
      "needs_background": "light"
     },
     "output_type": "display_data"
    }
   ],
   "source": [
    "plt.subplots(figsize=(14,6))\n",
    "sns.barplot(mx_con_pm25_y['year'], mx_con_pm25_y['value'])\n",
    "plt.title('Concentration of PM25 in the air over Saltillo');"
   ]
  },
  {
   "cell_type": "code",
   "execution_count": null,
   "id": "09346e4b",
   "metadata": {},
   "outputs": [],
   "source": []
  }
 ],
 "metadata": {
  "kernelspec": {
   "display_name": "Python 3",
   "language": "python",
   "name": "python3"
  },
  "language_info": {
   "codemirror_mode": {
    "name": "ipython",
    "version": 3
   },
   "file_extension": ".py",
   "mimetype": "text/x-python",
   "name": "python",
   "nbconvert_exporter": "python",
   "pygments_lexer": "ipython3",
   "version": "3.8.8"
  }
 },
 "nbformat": 4,
 "nbformat_minor": 5
}
