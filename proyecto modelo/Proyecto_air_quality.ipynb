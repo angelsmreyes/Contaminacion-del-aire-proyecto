{
 "cells": [
  {
   "cell_type": "code",
   "execution_count": 18,
   "id": "5354ca10",
   "metadata": {},
   "outputs": [],
   "source": [
    "import pandas as pd \n",
    "import numpy as np"
   ]
  },
  {
   "cell_type": "markdown",
   "id": "df7d21a0",
   "metadata": {},
   "source": [
    "**Cargando la data de Chile, Valdivia**"
   ]
  },
  {
   "cell_type": "code",
   "execution_count": 3,
   "id": "6c13b480",
   "metadata": {},
   "outputs": [],
   "source": [
    "chile_aqi = pd.read_csv('chile_air_quality.csv')"
   ]
  },
  {
   "cell_type": "code",
   "execution_count": 4,
   "id": "5847a444",
   "metadata": {},
   "outputs": [
    {
     "data": {
      "text/html": [
       "<div>\n",
       "<style scoped>\n",
       "    .dataframe tbody tr th:only-of-type {\n",
       "        vertical-align: middle;\n",
       "    }\n",
       "\n",
       "    .dataframe tbody tr th {\n",
       "        vertical-align: top;\n",
       "    }\n",
       "\n",
       "    .dataframe thead th {\n",
       "        text-align: right;\n",
       "    }\n",
       "</style>\n",
       "<table border=\"1\" class=\"dataframe\">\n",
       "  <thead>\n",
       "    <tr style=\"text-align: right;\">\n",
       "      <th></th>\n",
       "      <th>locationId</th>\n",
       "      <th>location</th>\n",
       "      <th>city</th>\n",
       "      <th>country</th>\n",
       "      <th>utc</th>\n",
       "      <th>local</th>\n",
       "      <th>parameter</th>\n",
       "      <th>value</th>\n",
       "      <th>unit</th>\n",
       "      <th>latitude</th>\n",
       "      <th>longitude</th>\n",
       "    </tr>\n",
       "  </thead>\n",
       "  <tbody>\n",
       "    <tr>\n",
       "      <th>0</th>\n",
       "      <td>6990</td>\n",
       "      <td>Valdivia 2</td>\n",
       "      <td>Valdivia</td>\n",
       "      <td>CL</td>\n",
       "      <td>2021-08-20T21:00:00+00:00</td>\n",
       "      <td>2021-08-20T20:00:00-01:00</td>\n",
       "      <td>pm25</td>\n",
       "      <td>6</td>\n",
       "      <td>µg/m³</td>\n",
       "      <td>-39.805429</td>\n",
       "      <td>-73.25873</td>\n",
       "    </tr>\n",
       "    <tr>\n",
       "      <th>1</th>\n",
       "      <td>6990</td>\n",
       "      <td>Valdivia 2</td>\n",
       "      <td>Valdivia</td>\n",
       "      <td>CL</td>\n",
       "      <td>2021-08-20T21:00:00+00:00</td>\n",
       "      <td>2021-08-20T20:00:00-01:00</td>\n",
       "      <td>pm10</td>\n",
       "      <td>8</td>\n",
       "      <td>µg/m³</td>\n",
       "      <td>-39.805429</td>\n",
       "      <td>-73.25873</td>\n",
       "    </tr>\n",
       "    <tr>\n",
       "      <th>2</th>\n",
       "      <td>6990</td>\n",
       "      <td>Valdivia 2</td>\n",
       "      <td>Valdivia</td>\n",
       "      <td>CL</td>\n",
       "      <td>2021-08-20T20:00:00+00:00</td>\n",
       "      <td>2021-08-20T19:00:00-01:00</td>\n",
       "      <td>pm25</td>\n",
       "      <td>1</td>\n",
       "      <td>µg/m³</td>\n",
       "      <td>-39.805429</td>\n",
       "      <td>-73.25873</td>\n",
       "    </tr>\n",
       "    <tr>\n",
       "      <th>3</th>\n",
       "      <td>6990</td>\n",
       "      <td>Valdivia 2</td>\n",
       "      <td>Valdivia</td>\n",
       "      <td>CL</td>\n",
       "      <td>2021-08-20T20:00:00+00:00</td>\n",
       "      <td>2021-08-20T19:00:00-01:00</td>\n",
       "      <td>pm10</td>\n",
       "      <td>6</td>\n",
       "      <td>µg/m³</td>\n",
       "      <td>-39.805429</td>\n",
       "      <td>-73.25873</td>\n",
       "    </tr>\n",
       "    <tr>\n",
       "      <th>4</th>\n",
       "      <td>6990</td>\n",
       "      <td>Valdivia 2</td>\n",
       "      <td>Valdivia</td>\n",
       "      <td>CL</td>\n",
       "      <td>2021-08-20T19:00:00+00:00</td>\n",
       "      <td>2021-08-20T18:00:00-01:00</td>\n",
       "      <td>pm10</td>\n",
       "      <td>5</td>\n",
       "      <td>µg/m³</td>\n",
       "      <td>-39.805429</td>\n",
       "      <td>-73.25873</td>\n",
       "    </tr>\n",
       "  </tbody>\n",
       "</table>\n",
       "</div>"
      ],
      "text/plain": [
       "   locationId    location      city country                        utc  \\\n",
       "0        6990  Valdivia 2  Valdivia      CL  2021-08-20T21:00:00+00:00   \n",
       "1        6990  Valdivia 2  Valdivia      CL  2021-08-20T21:00:00+00:00   \n",
       "2        6990  Valdivia 2  Valdivia      CL  2021-08-20T20:00:00+00:00   \n",
       "3        6990  Valdivia 2  Valdivia      CL  2021-08-20T20:00:00+00:00   \n",
       "4        6990  Valdivia 2  Valdivia      CL  2021-08-20T19:00:00+00:00   \n",
       "\n",
       "                       local parameter  value   unit   latitude  longitude  \n",
       "0  2021-08-20T20:00:00-01:00      pm25      6  µg/m³ -39.805429  -73.25873  \n",
       "1  2021-08-20T20:00:00-01:00      pm10      8  µg/m³ -39.805429  -73.25873  \n",
       "2  2021-08-20T19:00:00-01:00      pm25      1  µg/m³ -39.805429  -73.25873  \n",
       "3  2021-08-20T19:00:00-01:00      pm10      6  µg/m³ -39.805429  -73.25873  \n",
       "4  2021-08-20T18:00:00-01:00      pm10      5  µg/m³ -39.805429  -73.25873  "
      ]
     },
     "execution_count": 4,
     "metadata": {},
     "output_type": "execute_result"
    }
   ],
   "source": [
    "chile_aqi.head(5)"
   ]
  },
  {
   "cell_type": "code",
   "execution_count": 5,
   "id": "c7005413",
   "metadata": {},
   "outputs": [
    {
     "data": {
      "text/plain": [
       "(5676, 11)"
      ]
     },
     "execution_count": 5,
     "metadata": {},
     "output_type": "execute_result"
    }
   ],
   "source": [
    "chile_aqi.shape"
   ]
  },
  {
   "cell_type": "code",
   "execution_count": 6,
   "id": "13fd6c1f",
   "metadata": {
    "collapsed": true
   },
   "outputs": [
    {
     "data": {
      "text/plain": [
       "locationId    0\n",
       "location      0\n",
       "city          0\n",
       "country       0\n",
       "utc           0\n",
       "local         0\n",
       "parameter     0\n",
       "value         0\n",
       "unit          0\n",
       "latitude      0\n",
       "longitude     0\n",
       "dtype: int64"
      ]
     },
     "execution_count": 6,
     "metadata": {},
     "output_type": "execute_result"
    }
   ],
   "source": [
    "chile_aqi.isnull().sum()"
   ]
  },
  {
   "cell_type": "code",
   "execution_count": 7,
   "id": "8663b5c2",
   "metadata": {},
   "outputs": [
    {
     "data": {
      "text/plain": [
       "array(['pm25', 'pm10'], dtype=object)"
      ]
     },
     "execution_count": 7,
     "metadata": {},
     "output_type": "execute_result"
    }
   ],
   "source": [
    "chile_aqi.parameter.unique()"
   ]
  },
  {
   "cell_type": "code",
   "execution_count": 8,
   "id": "2c24da22",
   "metadata": {
    "collapsed": true
   },
   "outputs": [
    {
     "name": "stdout",
     "output_type": "stream",
     "text": [
      "<class 'pandas.core.frame.DataFrame'>\n",
      "RangeIndex: 5676 entries, 0 to 5675\n",
      "Data columns (total 11 columns):\n",
      " #   Column      Non-Null Count  Dtype  \n",
      "---  ------      --------------  -----  \n",
      " 0   locationId  5676 non-null   int64  \n",
      " 1   location    5676 non-null   object \n",
      " 2   city        5676 non-null   object \n",
      " 3   country     5676 non-null   object \n",
      " 4   utc         5676 non-null   object \n",
      " 5   local       5676 non-null   object \n",
      " 6   parameter   5676 non-null   object \n",
      " 7   value       5676 non-null   int64  \n",
      " 8   unit        5676 non-null   object \n",
      " 9   latitude    5676 non-null   float64\n",
      " 10  longitude   5676 non-null   float64\n",
      "dtypes: float64(2), int64(2), object(7)\n",
      "memory usage: 487.9+ KB\n"
     ]
    }
   ],
   "source": [
    "chile_aqi.info()"
   ]
  },
  {
   "cell_type": "code",
   "execution_count": 9,
   "id": "36393e76",
   "metadata": {
    "collapsed": true
   },
   "outputs": [
    {
     "data": {
      "text/plain": [
       "locationId      int64\n",
       "location       object\n",
       "city           object\n",
       "country        object\n",
       "utc            object\n",
       "local          object\n",
       "parameter      object\n",
       "value           int64\n",
       "unit           object\n",
       "latitude      float64\n",
       "longitude     float64\n",
       "dtype: object"
      ]
     },
     "execution_count": 9,
     "metadata": {},
     "output_type": "execute_result"
    }
   ],
   "source": [
    "chile_aqi.dtypes"
   ]
  },
  {
   "cell_type": "markdown",
   "id": "11f3dd42",
   "metadata": {},
   "source": [
    "You should transform utc and local to datetime"
   ]
  },
  {
   "cell_type": "markdown",
   "id": "0038b964",
   "metadata": {},
   "source": [
    "**Cargando la data de Mexico, Tlaxcala**"
   ]
  },
  {
   "cell_type": "code",
   "execution_count": 10,
   "id": "7f6340ea",
   "metadata": {},
   "outputs": [],
   "source": [
    "mx_aqi = pd.read_csv('mx_air_quality.csv')"
   ]
  },
  {
   "cell_type": "code",
   "execution_count": 11,
   "id": "6cb797ee",
   "metadata": {},
   "outputs": [
    {
     "data": {
      "text/html": [
       "<div>\n",
       "<style scoped>\n",
       "    .dataframe tbody tr th:only-of-type {\n",
       "        vertical-align: middle;\n",
       "    }\n",
       "\n",
       "    .dataframe tbody tr th {\n",
       "        vertical-align: top;\n",
       "    }\n",
       "\n",
       "    .dataframe thead th {\n",
       "        text-align: right;\n",
       "    }\n",
       "</style>\n",
       "<table border=\"1\" class=\"dataframe\">\n",
       "  <thead>\n",
       "    <tr style=\"text-align: right;\">\n",
       "      <th></th>\n",
       "      <th>locationId</th>\n",
       "      <th>location</th>\n",
       "      <th>city</th>\n",
       "      <th>country</th>\n",
       "      <th>utc</th>\n",
       "      <th>local</th>\n",
       "      <th>parameter</th>\n",
       "      <th>value</th>\n",
       "      <th>unit</th>\n",
       "      <th>latitude</th>\n",
       "      <th>longitude</th>\n",
       "    </tr>\n",
       "  </thead>\n",
       "  <tbody>\n",
       "    <tr>\n",
       "      <th>0</th>\n",
       "      <td>235235</td>\n",
       "      <td>Palacio de Gobierno</td>\n",
       "      <td>Tlaxcala</td>\n",
       "      <td>MX</td>\n",
       "      <td>2021-09-22T04:00:00+00:00</td>\n",
       "      <td>2021-09-21T23:00:00-05:00</td>\n",
       "      <td>co</td>\n",
       "      <td>4.693750</td>\n",
       "      <td>ppm</td>\n",
       "      <td>19.317583</td>\n",
       "      <td>-98.237306</td>\n",
       "    </tr>\n",
       "    <tr>\n",
       "      <th>1</th>\n",
       "      <td>235235</td>\n",
       "      <td>Palacio de Gobierno</td>\n",
       "      <td>Tlaxcala</td>\n",
       "      <td>MX</td>\n",
       "      <td>2021-09-22T04:00:00+00:00</td>\n",
       "      <td>2021-09-21T23:00:00-05:00</td>\n",
       "      <td>pm25</td>\n",
       "      <td>11.379578</td>\n",
       "      <td>µg/m³</td>\n",
       "      <td>19.317583</td>\n",
       "      <td>-98.237306</td>\n",
       "    </tr>\n",
       "    <tr>\n",
       "      <th>2</th>\n",
       "      <td>235235</td>\n",
       "      <td>Palacio de Gobierno</td>\n",
       "      <td>Tlaxcala</td>\n",
       "      <td>MX</td>\n",
       "      <td>2021-09-22T04:00:00+00:00</td>\n",
       "      <td>2021-09-21T23:00:00-05:00</td>\n",
       "      <td>so2</td>\n",
       "      <td>0.668039</td>\n",
       "      <td>ppm</td>\n",
       "      <td>19.317583</td>\n",
       "      <td>-98.237306</td>\n",
       "    </tr>\n",
       "    <tr>\n",
       "      <th>3</th>\n",
       "      <td>235235</td>\n",
       "      <td>Palacio de Gobierno</td>\n",
       "      <td>Tlaxcala</td>\n",
       "      <td>MX</td>\n",
       "      <td>2021-09-22T04:00:00+00:00</td>\n",
       "      <td>2021-09-21T23:00:00-05:00</td>\n",
       "      <td>pm10</td>\n",
       "      <td>20.700410</td>\n",
       "      <td>µg/m³</td>\n",
       "      <td>19.317583</td>\n",
       "      <td>-98.237306</td>\n",
       "    </tr>\n",
       "    <tr>\n",
       "      <th>4</th>\n",
       "      <td>235235</td>\n",
       "      <td>Palacio de Gobierno</td>\n",
       "      <td>Tlaxcala</td>\n",
       "      <td>MX</td>\n",
       "      <td>2021-09-22T03:00:00+00:00</td>\n",
       "      <td>2021-09-21T22:00:00-05:00</td>\n",
       "      <td>co</td>\n",
       "      <td>5.050694</td>\n",
       "      <td>ppm</td>\n",
       "      <td>19.317583</td>\n",
       "      <td>-98.237306</td>\n",
       "    </tr>\n",
       "  </tbody>\n",
       "</table>\n",
       "</div>"
      ],
      "text/plain": [
       "   locationId             location      city country  \\\n",
       "0      235235  Palacio de Gobierno  Tlaxcala      MX   \n",
       "1      235235  Palacio de Gobierno  Tlaxcala      MX   \n",
       "2      235235  Palacio de Gobierno  Tlaxcala      MX   \n",
       "3      235235  Palacio de Gobierno  Tlaxcala      MX   \n",
       "4      235235  Palacio de Gobierno  Tlaxcala      MX   \n",
       "\n",
       "                         utc                      local parameter      value  \\\n",
       "0  2021-09-22T04:00:00+00:00  2021-09-21T23:00:00-05:00        co   4.693750   \n",
       "1  2021-09-22T04:00:00+00:00  2021-09-21T23:00:00-05:00      pm25  11.379578   \n",
       "2  2021-09-22T04:00:00+00:00  2021-09-21T23:00:00-05:00       so2   0.668039   \n",
       "3  2021-09-22T04:00:00+00:00  2021-09-21T23:00:00-05:00      pm10  20.700410   \n",
       "4  2021-09-22T03:00:00+00:00  2021-09-21T22:00:00-05:00        co   5.050694   \n",
       "\n",
       "    unit   latitude  longitude  \n",
       "0    ppm  19.317583 -98.237306  \n",
       "1  µg/m³  19.317583 -98.237306  \n",
       "2    ppm  19.317583 -98.237306  \n",
       "3  µg/m³  19.317583 -98.237306  \n",
       "4    ppm  19.317583 -98.237306  "
      ]
     },
     "execution_count": 11,
     "metadata": {},
     "output_type": "execute_result"
    }
   ],
   "source": [
    "mx_aqi.head(5)"
   ]
  },
  {
   "cell_type": "code",
   "execution_count": 12,
   "id": "6f909495",
   "metadata": {},
   "outputs": [
    {
     "data": {
      "text/plain": [
       "(335, 11)"
      ]
     },
     "execution_count": 12,
     "metadata": {},
     "output_type": "execute_result"
    }
   ],
   "source": [
    "mx_aqi.shape"
   ]
  },
  {
   "cell_type": "code",
   "execution_count": 13,
   "id": "deec227f",
   "metadata": {
    "collapsed": true
   },
   "outputs": [
    {
     "data": {
      "text/plain": [
       "locationId    0\n",
       "location      0\n",
       "city          0\n",
       "country       0\n",
       "utc           0\n",
       "local         0\n",
       "parameter     0\n",
       "value         0\n",
       "unit          0\n",
       "latitude      0\n",
       "longitude     0\n",
       "dtype: int64"
      ]
     },
     "execution_count": 13,
     "metadata": {},
     "output_type": "execute_result"
    }
   ],
   "source": [
    "mx_aqi.isnull().sum()"
   ]
  },
  {
   "cell_type": "code",
   "execution_count": 14,
   "id": "a49a4892",
   "metadata": {
    "collapsed": true
   },
   "outputs": [
    {
     "data": {
      "text/plain": [
       "locationId      int64\n",
       "location       object\n",
       "city           object\n",
       "country        object\n",
       "utc            object\n",
       "local          object\n",
       "parameter      object\n",
       "value         float64\n",
       "unit           object\n",
       "latitude      float64\n",
       "longitude     float64\n",
       "dtype: object"
      ]
     },
     "execution_count": 14,
     "metadata": {},
     "output_type": "execute_result"
    }
   ],
   "source": [
    "mx_aqi.dtypes"
   ]
  },
  {
   "cell_type": "markdown",
   "id": "8916db76",
   "metadata": {},
   "source": [
    "**Cargando la Data para mexico, saltillo**"
   ]
  },
  {
   "cell_type": "code",
   "execution_count": 29,
   "id": "a113771d",
   "metadata": {
    "scrolled": false
   },
   "outputs": [
    {
     "data": {
      "text/html": [
       "<div>\n",
       "<style scoped>\n",
       "    .dataframe tbody tr th:only-of-type {\n",
       "        vertical-align: middle;\n",
       "    }\n",
       "\n",
       "    .dataframe tbody tr th {\n",
       "        vertical-align: top;\n",
       "    }\n",
       "\n",
       "    .dataframe thead th {\n",
       "        text-align: right;\n",
       "    }\n",
       "</style>\n",
       "<table border=\"1\" class=\"dataframe\">\n",
       "  <thead>\n",
       "    <tr style=\"text-align: right;\">\n",
       "      <th></th>\n",
       "      <th>locationId</th>\n",
       "      <th>location</th>\n",
       "      <th>city</th>\n",
       "      <th>country</th>\n",
       "      <th>utc</th>\n",
       "      <th>local</th>\n",
       "      <th>parameter</th>\n",
       "      <th>value</th>\n",
       "      <th>unit</th>\n",
       "      <th>latitude</th>\n",
       "      <th>longitude</th>\n",
       "    </tr>\n",
       "  </thead>\n",
       "  <tbody>\n",
       "    <tr>\n",
       "      <th>0</th>\n",
       "      <td>8006</td>\n",
       "      <td>Finanzas</td>\n",
       "      <td>Saltillo</td>\n",
       "      <td>MX</td>\n",
       "      <td>2021-09-23T18:00:00+00:00</td>\n",
       "      <td>2021-09-23T13:00:00-05:00</td>\n",
       "      <td>so2</td>\n",
       "      <td>0.003317</td>\n",
       "      <td>ppm</td>\n",
       "      <td>25.421472</td>\n",
       "      <td>-100.996861</td>\n",
       "    </tr>\n",
       "    <tr>\n",
       "      <th>1</th>\n",
       "      <td>8006</td>\n",
       "      <td>Finanzas</td>\n",
       "      <td>Saltillo</td>\n",
       "      <td>MX</td>\n",
       "      <td>2021-09-23T18:00:00+00:00</td>\n",
       "      <td>2021-09-23T13:00:00-05:00</td>\n",
       "      <td>no2</td>\n",
       "      <td>0.013258</td>\n",
       "      <td>ppm</td>\n",
       "      <td>25.421472</td>\n",
       "      <td>-100.996861</td>\n",
       "    </tr>\n",
       "    <tr>\n",
       "      <th>2</th>\n",
       "      <td>8006</td>\n",
       "      <td>Finanzas</td>\n",
       "      <td>Saltillo</td>\n",
       "      <td>MX</td>\n",
       "      <td>2021-09-23T18:00:00+00:00</td>\n",
       "      <td>2021-09-23T13:00:00-05:00</td>\n",
       "      <td>pm10</td>\n",
       "      <td>68.471000</td>\n",
       "      <td>µg/m³</td>\n",
       "      <td>25.421472</td>\n",
       "      <td>-100.996861</td>\n",
       "    </tr>\n",
       "    <tr>\n",
       "      <th>3</th>\n",
       "      <td>8006</td>\n",
       "      <td>Finanzas</td>\n",
       "      <td>Saltillo</td>\n",
       "      <td>MX</td>\n",
       "      <td>2021-09-23T18:00:00+00:00</td>\n",
       "      <td>2021-09-23T13:00:00-05:00</td>\n",
       "      <td>o3</td>\n",
       "      <td>0.046686</td>\n",
       "      <td>ppm</td>\n",
       "      <td>25.421472</td>\n",
       "      <td>-100.996861</td>\n",
       "    </tr>\n",
       "    <tr>\n",
       "      <th>4</th>\n",
       "      <td>8006</td>\n",
       "      <td>Finanzas</td>\n",
       "      <td>Saltillo</td>\n",
       "      <td>MX</td>\n",
       "      <td>2021-09-23T18:00:00+00:00</td>\n",
       "      <td>2021-09-23T13:00:00-05:00</td>\n",
       "      <td>pm25</td>\n",
       "      <td>19.571000</td>\n",
       "      <td>µg/m³</td>\n",
       "      <td>25.421472</td>\n",
       "      <td>-100.996861</td>\n",
       "    </tr>\n",
       "  </tbody>\n",
       "</table>\n",
       "</div>"
      ],
      "text/plain": [
       "   locationId  location      city country                        utc  \\\n",
       "0        8006  Finanzas  Saltillo      MX  2021-09-23T18:00:00+00:00   \n",
       "1        8006  Finanzas  Saltillo      MX  2021-09-23T18:00:00+00:00   \n",
       "2        8006  Finanzas  Saltillo      MX  2021-09-23T18:00:00+00:00   \n",
       "3        8006  Finanzas  Saltillo      MX  2021-09-23T18:00:00+00:00   \n",
       "4        8006  Finanzas  Saltillo      MX  2021-09-23T18:00:00+00:00   \n",
       "\n",
       "                       local parameter      value   unit   latitude  \\\n",
       "0  2021-09-23T13:00:00-05:00       so2   0.003317    ppm  25.421472   \n",
       "1  2021-09-23T13:00:00-05:00       no2   0.013258    ppm  25.421472   \n",
       "2  2021-09-23T13:00:00-05:00      pm10  68.471000  µg/m³  25.421472   \n",
       "3  2021-09-23T13:00:00-05:00        o3   0.046686    ppm  25.421472   \n",
       "4  2021-09-23T13:00:00-05:00      pm25  19.571000  µg/m³  25.421472   \n",
       "\n",
       "    longitude  \n",
       "0 -100.996861  \n",
       "1 -100.996861  \n",
       "2 -100.996861  \n",
       "3 -100.996861  \n",
       "4 -100.996861  "
      ]
     },
     "execution_count": 29,
     "metadata": {},
     "output_type": "execute_result"
    }
   ],
   "source": [
    "mx_saltillo = pd.read_csv('mx_saltillo.csv')\n",
    "mx_saltillo.head(5)"
   ]
  },
  {
   "cell_type": "code",
   "execution_count": 31,
   "id": "e7b8ee90",
   "metadata": {},
   "outputs": [
    {
     "data": {
      "text/plain": [
       "(5761, 11)"
      ]
     },
     "execution_count": 31,
     "metadata": {},
     "output_type": "execute_result"
    }
   ],
   "source": [
    "mx_saltillo.shape"
   ]
  },
  {
   "cell_type": "code",
   "execution_count": 30,
   "id": "e1cc076f",
   "metadata": {},
   "outputs": [
    {
     "name": "stdout",
     "output_type": "stream",
     "text": [
      "<class 'pandas.core.frame.DataFrame'>\n",
      "RangeIndex: 5761 entries, 0 to 5760\n",
      "Data columns (total 11 columns):\n",
      " #   Column      Non-Null Count  Dtype  \n",
      "---  ------      --------------  -----  \n",
      " 0   locationId  5761 non-null   int64  \n",
      " 1   location    5761 non-null   object \n",
      " 2   city        5761 non-null   object \n",
      " 3   country     5761 non-null   object \n",
      " 4   utc         5761 non-null   object \n",
      " 5   local       5761 non-null   object \n",
      " 6   parameter   5761 non-null   object \n",
      " 7   value       5761 non-null   float64\n",
      " 8   unit        5761 non-null   object \n",
      " 9   latitude    5761 non-null   float64\n",
      " 10  longitude   5761 non-null   float64\n",
      "dtypes: float64(3), int64(1), object(7)\n",
      "memory usage: 495.2+ KB\n"
     ]
    }
   ],
   "source": [
    "mx_saltillo.info()"
   ]
  },
  {
   "cell_type": "markdown",
   "id": "4cfc83d4",
   "metadata": {},
   "source": [
    "### Transformando las columnas utc y local de los tres dataframes"
   ]
  },
  {
   "cell_type": "code",
   "execution_count": 33,
   "id": "f63c7d16",
   "metadata": {
    "scrolled": true
   },
   "outputs": [
    {
     "data": {
      "text/html": [
       "<div>\n",
       "<style scoped>\n",
       "    .dataframe tbody tr th:only-of-type {\n",
       "        vertical-align: middle;\n",
       "    }\n",
       "\n",
       "    .dataframe tbody tr th {\n",
       "        vertical-align: top;\n",
       "    }\n",
       "\n",
       "    .dataframe thead th {\n",
       "        text-align: right;\n",
       "    }\n",
       "</style>\n",
       "<table border=\"1\" class=\"dataframe\">\n",
       "  <thead>\n",
       "    <tr style=\"text-align: right;\">\n",
       "      <th></th>\n",
       "      <th>locationId</th>\n",
       "      <th>location</th>\n",
       "      <th>city</th>\n",
       "      <th>country</th>\n",
       "      <th>utc</th>\n",
       "      <th>local</th>\n",
       "      <th>parameter</th>\n",
       "      <th>value</th>\n",
       "      <th>unit</th>\n",
       "      <th>latitude</th>\n",
       "      <th>longitude</th>\n",
       "    </tr>\n",
       "  </thead>\n",
       "  <tbody>\n",
       "    <tr>\n",
       "      <th>0</th>\n",
       "      <td>6990</td>\n",
       "      <td>Valdivia 2</td>\n",
       "      <td>Valdivia</td>\n",
       "      <td>CL</td>\n",
       "      <td>2021-08-20T21:00:00+00:00</td>\n",
       "      <td>2021-08-20T20:00:00-01:00</td>\n",
       "      <td>pm25</td>\n",
       "      <td>6</td>\n",
       "      <td>µg/m³</td>\n",
       "      <td>-39.805429</td>\n",
       "      <td>-73.25873</td>\n",
       "    </tr>\n",
       "    <tr>\n",
       "      <th>1</th>\n",
       "      <td>6990</td>\n",
       "      <td>Valdivia 2</td>\n",
       "      <td>Valdivia</td>\n",
       "      <td>CL</td>\n",
       "      <td>2021-08-20T21:00:00+00:00</td>\n",
       "      <td>2021-08-20T20:00:00-01:00</td>\n",
       "      <td>pm10</td>\n",
       "      <td>8</td>\n",
       "      <td>µg/m³</td>\n",
       "      <td>-39.805429</td>\n",
       "      <td>-73.25873</td>\n",
       "    </tr>\n",
       "  </tbody>\n",
       "</table>\n",
       "</div>"
      ],
      "text/plain": [
       "   locationId    location      city country                        utc  \\\n",
       "0        6990  Valdivia 2  Valdivia      CL  2021-08-20T21:00:00+00:00   \n",
       "1        6990  Valdivia 2  Valdivia      CL  2021-08-20T21:00:00+00:00   \n",
       "\n",
       "                       local parameter  value   unit   latitude  longitude  \n",
       "0  2021-08-20T20:00:00-01:00      pm25      6  µg/m³ -39.805429  -73.25873  \n",
       "1  2021-08-20T20:00:00-01:00      pm10      8  µg/m³ -39.805429  -73.25873  "
      ]
     },
     "execution_count": 33,
     "metadata": {},
     "output_type": "execute_result"
    }
   ],
   "source": [
    "chile_aqi.head(2)"
   ]
  },
  {
   "cell_type": "code",
   "execution_count": 43,
   "id": "cd3ad2c4",
   "metadata": {},
   "outputs": [
    {
     "data": {
      "text/plain": [
       "6990    5676\n",
       "Name: locationId, dtype: int64"
      ]
     },
     "execution_count": 43,
     "metadata": {},
     "output_type": "execute_result"
    }
   ],
   "source": [
    "chile_aqi['locationId'].value_counts()"
   ]
  },
  {
   "cell_type": "code",
   "execution_count": 44,
   "id": "b404cf6a",
   "metadata": {},
   "outputs": [
    {
     "data": {
      "text/plain": [
       "array(['pm25', 'pm10'], dtype=object)"
      ]
     },
     "execution_count": 44,
     "metadata": {},
     "output_type": "execute_result"
    }
   ],
   "source": [
    "chile_aqi['parameter'].unique()"
   ]
  },
  {
   "cell_type": "code",
   "execution_count": 46,
   "id": "2f9c6b13",
   "metadata": {},
   "outputs": [
    {
     "data": {
      "text/plain": [
       "pm10    2839\n",
       "pm25    2837\n",
       "Name: parameter, dtype: int64"
      ]
     },
     "execution_count": 46,
     "metadata": {},
     "output_type": "execute_result"
    }
   ],
   "source": [
    "chile_aqi['parameter'].value_counts()"
   ]
  },
  {
   "cell_type": "code",
   "execution_count": 35,
   "id": "1289888d",
   "metadata": {},
   "outputs": [],
   "source": [
    "chile_aqi['utc'] = pd.to_datetime(chile_aqi['utc'])"
   ]
  },
  {
   "cell_type": "code",
   "execution_count": 40,
   "id": "758027ee",
   "metadata": {},
   "outputs": [],
   "source": [
    "chile_aqi['local'] = pd.to_datetime(chile_aqi['local'])"
   ]
  },
  {
   "cell_type": "code",
   "execution_count": 47,
   "id": "6f716a91",
   "metadata": {},
   "outputs": [],
   "source": [
    "chile_aqi['year'] = chile_aqi['utc'].dt.year"
   ]
  },
  {
   "cell_type": "code",
   "execution_count": 51,
   "id": "d9f1ffad",
   "metadata": {},
   "outputs": [],
   "source": [
    "chile_aqi['month'] = chile_aqi['utc'].dt.month"
   ]
  },
  {
   "cell_type": "code",
   "execution_count": 54,
   "id": "9ddad945",
   "metadata": {},
   "outputs": [],
   "source": [
    "chile_aqi['hour_local'] = chile_aqi['local'].dt.hour "
   ]
  },
  {
   "cell_type": "code",
   "execution_count": 56,
   "id": "096e469b",
   "metadata": {},
   "outputs": [],
   "source": [
    "chile_aqi['hour_utc'] = chile_aqi['utc'].dt.hour"
   ]
  },
  {
   "cell_type": "code",
   "execution_count": 57,
   "id": "a77ad65f",
   "metadata": {
    "scrolled": true
   },
   "outputs": [
    {
     "data": {
      "text/html": [
       "<div>\n",
       "<style scoped>\n",
       "    .dataframe tbody tr th:only-of-type {\n",
       "        vertical-align: middle;\n",
       "    }\n",
       "\n",
       "    .dataframe tbody tr th {\n",
       "        vertical-align: top;\n",
       "    }\n",
       "\n",
       "    .dataframe thead th {\n",
       "        text-align: right;\n",
       "    }\n",
       "</style>\n",
       "<table border=\"1\" class=\"dataframe\">\n",
       "  <thead>\n",
       "    <tr style=\"text-align: right;\">\n",
       "      <th></th>\n",
       "      <th>locationId</th>\n",
       "      <th>location</th>\n",
       "      <th>city</th>\n",
       "      <th>country</th>\n",
       "      <th>utc</th>\n",
       "      <th>local</th>\n",
       "      <th>parameter</th>\n",
       "      <th>value</th>\n",
       "      <th>unit</th>\n",
       "      <th>latitude</th>\n",
       "      <th>longitude</th>\n",
       "      <th>year</th>\n",
       "      <th>month</th>\n",
       "      <th>hour_local</th>\n",
       "      <th>hour_utc</th>\n",
       "    </tr>\n",
       "  </thead>\n",
       "  <tbody>\n",
       "    <tr>\n",
       "      <th>0</th>\n",
       "      <td>6990</td>\n",
       "      <td>Valdivia 2</td>\n",
       "      <td>Valdivia</td>\n",
       "      <td>CL</td>\n",
       "      <td>2021-08-20 21:00:00+00:00</td>\n",
       "      <td>2021-08-20 20:00:00-01:00</td>\n",
       "      <td>pm25</td>\n",
       "      <td>6</td>\n",
       "      <td>µg/m³</td>\n",
       "      <td>-39.805429</td>\n",
       "      <td>-73.25873</td>\n",
       "      <td>2021</td>\n",
       "      <td>8</td>\n",
       "      <td>20</td>\n",
       "      <td>21</td>\n",
       "    </tr>\n",
       "    <tr>\n",
       "      <th>1</th>\n",
       "      <td>6990</td>\n",
       "      <td>Valdivia 2</td>\n",
       "      <td>Valdivia</td>\n",
       "      <td>CL</td>\n",
       "      <td>2021-08-20 21:00:00+00:00</td>\n",
       "      <td>2021-08-20 20:00:00-01:00</td>\n",
       "      <td>pm10</td>\n",
       "      <td>8</td>\n",
       "      <td>µg/m³</td>\n",
       "      <td>-39.805429</td>\n",
       "      <td>-73.25873</td>\n",
       "      <td>2021</td>\n",
       "      <td>8</td>\n",
       "      <td>20</td>\n",
       "      <td>21</td>\n",
       "    </tr>\n",
       "  </tbody>\n",
       "</table>\n",
       "</div>"
      ],
      "text/plain": [
       "   locationId    location      city country                       utc  \\\n",
       "0        6990  Valdivia 2  Valdivia      CL 2021-08-20 21:00:00+00:00   \n",
       "1        6990  Valdivia 2  Valdivia      CL 2021-08-20 21:00:00+00:00   \n",
       "\n",
       "                      local parameter  value   unit   latitude  longitude  \\\n",
       "0 2021-08-20 20:00:00-01:00      pm25      6  µg/m³ -39.805429  -73.25873   \n",
       "1 2021-08-20 20:00:00-01:00      pm10      8  µg/m³ -39.805429  -73.25873   \n",
       "\n",
       "   year  month  hour_local  hour_utc  \n",
       "0  2021      8          20        21  \n",
       "1  2021      8          20        21  "
      ]
     },
     "execution_count": 57,
     "metadata": {},
     "output_type": "execute_result"
    }
   ],
   "source": [
    "chile_aqi.head(2)"
   ]
  },
  {
   "cell_type": "code",
   "execution_count": 59,
   "id": "7cbd3b4b",
   "metadata": {},
   "outputs": [
    {
     "data": {
      "text/plain": [
       "parameter\n",
       "pm10    14.827404\n",
       "pm25     7.323581\n",
       "Name: value, dtype: float64"
      ]
     },
     "execution_count": 59,
     "metadata": {},
     "output_type": "execute_result"
    }
   ],
   "source": [
    "chile_avg = chile_aqi.groupby('parameter')['value'].mean()\n",
    "chile_avg"
   ]
  },
  {
   "cell_type": "markdown",
   "id": "a3b6c5b5",
   "metadata": {},
   "source": [
    "**__________________________________________________________**"
   ]
  },
  {
   "cell_type": "code",
   "execution_count": 38,
   "id": "b118d57b",
   "metadata": {
    "collapsed": true
   },
   "outputs": [
    {
     "ename": "KeyError",
     "evalue": "'date'",
     "output_type": "error",
     "traceback": [
      "\u001b[1;31m---------------------------------------------------------------------------\u001b[0m",
      "\u001b[1;31mKeyError\u001b[0m                                  Traceback (most recent call last)",
      "\u001b[1;32m~\\Anaconda3\\lib\\site-packages\\pandas\\core\\indexes\\base.py\u001b[0m in \u001b[0;36mget_loc\u001b[1;34m(self, key, method, tolerance)\u001b[0m\n\u001b[0;32m   3079\u001b[0m             \u001b[1;32mtry\u001b[0m\u001b[1;33m:\u001b[0m\u001b[1;33m\u001b[0m\u001b[1;33m\u001b[0m\u001b[0m\n\u001b[1;32m-> 3080\u001b[1;33m                 \u001b[1;32mreturn\u001b[0m \u001b[0mself\u001b[0m\u001b[1;33m.\u001b[0m\u001b[0m_engine\u001b[0m\u001b[1;33m.\u001b[0m\u001b[0mget_loc\u001b[0m\u001b[1;33m(\u001b[0m\u001b[0mcasted_key\u001b[0m\u001b[1;33m)\u001b[0m\u001b[1;33m\u001b[0m\u001b[1;33m\u001b[0m\u001b[0m\n\u001b[0m\u001b[0;32m   3081\u001b[0m             \u001b[1;32mexcept\u001b[0m \u001b[0mKeyError\u001b[0m \u001b[1;32mas\u001b[0m \u001b[0merr\u001b[0m\u001b[1;33m:\u001b[0m\u001b[1;33m\u001b[0m\u001b[1;33m\u001b[0m\u001b[0m\n",
      "\u001b[1;32mpandas\\_libs\\index.pyx\u001b[0m in \u001b[0;36mpandas._libs.index.IndexEngine.get_loc\u001b[1;34m()\u001b[0m\n",
      "\u001b[1;32mpandas\\_libs\\index.pyx\u001b[0m in \u001b[0;36mpandas._libs.index.IndexEngine.get_loc\u001b[1;34m()\u001b[0m\n",
      "\u001b[1;32mpandas\\_libs\\hashtable_class_helper.pxi\u001b[0m in \u001b[0;36mpandas._libs.hashtable.PyObjectHashTable.get_item\u001b[1;34m()\u001b[0m\n",
      "\u001b[1;32mpandas\\_libs\\hashtable_class_helper.pxi\u001b[0m in \u001b[0;36mpandas._libs.hashtable.PyObjectHashTable.get_item\u001b[1;34m()\u001b[0m\n",
      "\u001b[1;31mKeyError\u001b[0m: 'date'",
      "\nThe above exception was the direct cause of the following exception:\n",
      "\u001b[1;31mKeyError\u001b[0m                                  Traceback (most recent call last)",
      "\u001b[1;32m<ipython-input-38-86c7d5f01719>\u001b[0m in \u001b[0;36m<module>\u001b[1;34m\u001b[0m\n\u001b[1;32m----> 1\u001b[1;33m \u001b[0mchile_aqi\u001b[0m\u001b[1;33m[\u001b[0m\u001b[1;34m'date'\u001b[0m\u001b[1;33m]\u001b[0m \u001b[1;33m=\u001b[0m \u001b[0mchile_aqi\u001b[0m\u001b[1;33m[\u001b[0m\u001b[1;34m'date'\u001b[0m\u001b[1;33m]\u001b[0m\u001b[1;33m.\u001b[0m\u001b[0mdt\u001b[0m\u001b[1;33m.\u001b[0m\u001b[0mdate\u001b[0m\u001b[1;33m\u001b[0m\u001b[1;33m\u001b[0m\u001b[0m\n\u001b[0m",
      "\u001b[1;32m~\\Anaconda3\\lib\\site-packages\\pandas\\core\\frame.py\u001b[0m in \u001b[0;36m__getitem__\u001b[1;34m(self, key)\u001b[0m\n\u001b[0;32m   3022\u001b[0m             \u001b[1;32mif\u001b[0m \u001b[0mself\u001b[0m\u001b[1;33m.\u001b[0m\u001b[0mcolumns\u001b[0m\u001b[1;33m.\u001b[0m\u001b[0mnlevels\u001b[0m \u001b[1;33m>\u001b[0m \u001b[1;36m1\u001b[0m\u001b[1;33m:\u001b[0m\u001b[1;33m\u001b[0m\u001b[1;33m\u001b[0m\u001b[0m\n\u001b[0;32m   3023\u001b[0m                 \u001b[1;32mreturn\u001b[0m \u001b[0mself\u001b[0m\u001b[1;33m.\u001b[0m\u001b[0m_getitem_multilevel\u001b[0m\u001b[1;33m(\u001b[0m\u001b[0mkey\u001b[0m\u001b[1;33m)\u001b[0m\u001b[1;33m\u001b[0m\u001b[1;33m\u001b[0m\u001b[0m\n\u001b[1;32m-> 3024\u001b[1;33m             \u001b[0mindexer\u001b[0m \u001b[1;33m=\u001b[0m \u001b[0mself\u001b[0m\u001b[1;33m.\u001b[0m\u001b[0mcolumns\u001b[0m\u001b[1;33m.\u001b[0m\u001b[0mget_loc\u001b[0m\u001b[1;33m(\u001b[0m\u001b[0mkey\u001b[0m\u001b[1;33m)\u001b[0m\u001b[1;33m\u001b[0m\u001b[1;33m\u001b[0m\u001b[0m\n\u001b[0m\u001b[0;32m   3025\u001b[0m             \u001b[1;32mif\u001b[0m \u001b[0mis_integer\u001b[0m\u001b[1;33m(\u001b[0m\u001b[0mindexer\u001b[0m\u001b[1;33m)\u001b[0m\u001b[1;33m:\u001b[0m\u001b[1;33m\u001b[0m\u001b[1;33m\u001b[0m\u001b[0m\n\u001b[0;32m   3026\u001b[0m                 \u001b[0mindexer\u001b[0m \u001b[1;33m=\u001b[0m \u001b[1;33m[\u001b[0m\u001b[0mindexer\u001b[0m\u001b[1;33m]\u001b[0m\u001b[1;33m\u001b[0m\u001b[1;33m\u001b[0m\u001b[0m\n",
      "\u001b[1;32m~\\Anaconda3\\lib\\site-packages\\pandas\\core\\indexes\\base.py\u001b[0m in \u001b[0;36mget_loc\u001b[1;34m(self, key, method, tolerance)\u001b[0m\n\u001b[0;32m   3080\u001b[0m                 \u001b[1;32mreturn\u001b[0m \u001b[0mself\u001b[0m\u001b[1;33m.\u001b[0m\u001b[0m_engine\u001b[0m\u001b[1;33m.\u001b[0m\u001b[0mget_loc\u001b[0m\u001b[1;33m(\u001b[0m\u001b[0mcasted_key\u001b[0m\u001b[1;33m)\u001b[0m\u001b[1;33m\u001b[0m\u001b[1;33m\u001b[0m\u001b[0m\n\u001b[0;32m   3081\u001b[0m             \u001b[1;32mexcept\u001b[0m \u001b[0mKeyError\u001b[0m \u001b[1;32mas\u001b[0m \u001b[0merr\u001b[0m\u001b[1;33m:\u001b[0m\u001b[1;33m\u001b[0m\u001b[1;33m\u001b[0m\u001b[0m\n\u001b[1;32m-> 3082\u001b[1;33m                 \u001b[1;32mraise\u001b[0m \u001b[0mKeyError\u001b[0m\u001b[1;33m(\u001b[0m\u001b[0mkey\u001b[0m\u001b[1;33m)\u001b[0m \u001b[1;32mfrom\u001b[0m \u001b[0merr\u001b[0m\u001b[1;33m\u001b[0m\u001b[1;33m\u001b[0m\u001b[0m\n\u001b[0m\u001b[0;32m   3083\u001b[0m \u001b[1;33m\u001b[0m\u001b[0m\n\u001b[0;32m   3084\u001b[0m         \u001b[1;32mif\u001b[0m \u001b[0mtolerance\u001b[0m \u001b[1;32mis\u001b[0m \u001b[1;32mnot\u001b[0m \u001b[1;32mNone\u001b[0m\u001b[1;33m:\u001b[0m\u001b[1;33m\u001b[0m\u001b[1;33m\u001b[0m\u001b[0m\n",
      "\u001b[1;31mKeyError\u001b[0m: 'date'"
     ]
    }
   ],
   "source": [
    "chile_aqi['date'] = chile_aqi['date'].dt.date"
   ]
  },
  {
   "cell_type": "markdown",
   "id": "d1f405b8",
   "metadata": {},
   "source": [
    "- Realiza una columna de los años y la fecha completa\n",
    "\n",
    "- Ve los valores únicos de varias columnas\n",
    "\n",
    "- Group by por pollutant"
   ]
  },
  {
   "cell_type": "code",
   "execution_count": null,
   "id": "ba68ad68",
   "metadata": {},
   "outputs": [],
   "source": []
  }
 ],
 "metadata": {
  "kernelspec": {
   "display_name": "Python 3",
   "language": "python",
   "name": "python3"
  },
  "language_info": {
   "codemirror_mode": {
    "name": "ipython",
    "version": 3
   },
   "file_extension": ".py",
   "mimetype": "text/x-python",
   "name": "python",
   "nbconvert_exporter": "python",
   "pygments_lexer": "ipython3",
   "version": "3.8.8"
  }
 },
 "nbformat": 4,
 "nbformat_minor": 5
}
