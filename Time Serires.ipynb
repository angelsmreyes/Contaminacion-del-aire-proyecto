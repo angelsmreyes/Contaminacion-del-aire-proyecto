{
 "cells": [
  {
   "cell_type": "code",
   "execution_count": 3,
   "id": "47e7043d",
   "metadata": {},
   "outputs": [],
   "source": [
    "import itertools\n",
    "import numpy as np\n",
    "import matplotlib.pyplot as plt\n",
    "import seaborn as sns"
   ]
  },
  {
   "cell_type": "code",
   "execution_count": 4,
   "id": "a24bf3af",
   "metadata": {},
   "outputs": [],
   "source": [
    "import pandas as pd\n",
    "import statsmodels.api as sm\n",
    "import matplotlib\n",
    "#warning.filterwarnings(\"ignore\")\n",
    "plt.style.use('fivethirtyeight')\n",
    "\n",
    "matplotlib.rcParams['axes.labelsize'] = 14\n",
    "matplotlib.rcParams['xtick.labelsize'] = 12\n",
    "matplotlib.rcParams['ytick.labelsize'] = 12\n",
    "matplotlib.rcParams['text.color'] = 'k'"
   ]
  },
  {
   "cell_type": "markdown",
   "id": "63e9b1c2",
   "metadata": {},
   "source": [
    "### Houston"
   ]
  },
  {
   "cell_type": "code",
   "execution_count": 5,
   "id": "81b7b97d",
   "metadata": {
    "scrolled": true
   },
   "outputs": [
    {
     "data": {
      "text/html": [
       "<div>\n",
       "<style scoped>\n",
       "    .dataframe tbody tr th:only-of-type {\n",
       "        vertical-align: middle;\n",
       "    }\n",
       "\n",
       "    .dataframe tbody tr th {\n",
       "        vertical-align: top;\n",
       "    }\n",
       "\n",
       "    .dataframe thead th {\n",
       "        text-align: right;\n",
       "    }\n",
       "</style>\n",
       "<table border=\"1\" class=\"dataframe\">\n",
       "  <thead>\n",
       "    <tr style=\"text-align: right;\">\n",
       "      <th></th>\n",
       "      <th>locationId</th>\n",
       "      <th>location</th>\n",
       "      <th>city</th>\n",
       "      <th>country</th>\n",
       "      <th>utc</th>\n",
       "      <th>local</th>\n",
       "      <th>parameter</th>\n",
       "      <th>value</th>\n",
       "      <th>unit</th>\n",
       "      <th>latitude</th>\n",
       "      <th>longitude</th>\n",
       "    </tr>\n",
       "  </thead>\n",
       "  <tbody>\n",
       "    <tr>\n",
       "      <th>0</th>\n",
       "      <td>162</td>\n",
       "      <td>Houston Deer Park C3</td>\n",
       "      <td>Houston-Sugar Land-Baytown</td>\n",
       "      <td>US</td>\n",
       "      <td>2021-10-06T11:00:00+00:00</td>\n",
       "      <td>2021-10-06T06:00:00-05:00</td>\n",
       "      <td>o3</td>\n",
       "      <td>0.001</td>\n",
       "      <td>ppm</td>\n",
       "      <td>29.670025</td>\n",
       "      <td>-95.128508</td>\n",
       "    </tr>\n",
       "    <tr>\n",
       "      <th>1</th>\n",
       "      <td>162</td>\n",
       "      <td>Houston Deer Park C3</td>\n",
       "      <td>Houston-Sugar Land-Baytown</td>\n",
       "      <td>US</td>\n",
       "      <td>2021-10-06T10:00:00+00:00</td>\n",
       "      <td>2021-10-06T05:00:00-05:00</td>\n",
       "      <td>o3</td>\n",
       "      <td>0.003</td>\n",
       "      <td>ppm</td>\n",
       "      <td>29.670025</td>\n",
       "      <td>-95.128508</td>\n",
       "    </tr>\n",
       "  </tbody>\n",
       "</table>\n",
       "</div>"
      ],
      "text/plain": [
       "   locationId              location                        city country  \\\n",
       "0         162  Houston Deer Park C3  Houston-Sugar Land-Baytown      US   \n",
       "1         162  Houston Deer Park C3  Houston-Sugar Land-Baytown      US   \n",
       "\n",
       "                         utc                      local parameter  value unit  \\\n",
       "0  2021-10-06T11:00:00+00:00  2021-10-06T06:00:00-05:00        o3  0.001  ppm   \n",
       "1  2021-10-06T10:00:00+00:00  2021-10-06T05:00:00-05:00        o3  0.003  ppm   \n",
       "\n",
       "    latitude  longitude  \n",
       "0  29.670025 -95.128508  \n",
       "1  29.670025 -95.128508  "
      ]
     },
     "execution_count": 5,
     "metadata": {},
     "output_type": "execute_result"
    }
   ],
   "source": [
    "houston = pd.read_csv('Houston.csv')\n",
    "houston.head(2)"
   ]
  },
  {
   "cell_type": "code",
   "execution_count": 6,
   "id": "137fcc08",
   "metadata": {},
   "outputs": [
    {
     "name": "stdout",
     "output_type": "stream",
     "text": [
      "<class 'pandas.core.frame.DataFrame'>\n",
      "RangeIndex: 56854 entries, 0 to 56853\n",
      "Data columns (total 11 columns):\n",
      " #   Column      Non-Null Count  Dtype  \n",
      "---  ------      --------------  -----  \n",
      " 0   locationId  56854 non-null  int64  \n",
      " 1   location    56854 non-null  object \n",
      " 2   city        56854 non-null  object \n",
      " 3   country     56854 non-null  object \n",
      " 4   utc         56854 non-null  object \n",
      " 5   local       56854 non-null  object \n",
      " 6   parameter   56854 non-null  object \n",
      " 7   value       56854 non-null  float64\n",
      " 8   unit        56854 non-null  object \n",
      " 9   latitude    56854 non-null  float64\n",
      " 10  longitude   56854 non-null  float64\n",
      "dtypes: float64(3), int64(1), object(7)\n",
      "memory usage: 4.8+ MB\n"
     ]
    }
   ],
   "source": [
    "houston.info()"
   ]
  },
  {
   "cell_type": "code",
   "execution_count": 7,
   "id": "6c306ae6",
   "metadata": {},
   "outputs": [
    {
     "data": {
      "text/plain": [
       "(56854, 11)"
      ]
     },
     "execution_count": 7,
     "metadata": {},
     "output_type": "execute_result"
    }
   ],
   "source": [
    "houston.shape"
   ]
  },
  {
   "cell_type": "code",
   "execution_count": 8,
   "id": "d19b4461",
   "metadata": {},
   "outputs": [
    {
     "data": {
      "text/plain": [
       "o3      33762\n",
       "pm25    23092\n",
       "Name: parameter, dtype: int64"
      ]
     },
     "execution_count": 8,
     "metadata": {},
     "output_type": "execute_result"
    }
   ],
   "source": [
    "houston['parameter'].value_counts()"
   ]
  },
  {
   "cell_type": "code",
   "execution_count": 9,
   "id": "3517af1f",
   "metadata": {},
   "outputs": [
    {
     "data": {
      "text/plain": [
       "ppm      33762\n",
       "µg/m³    23092\n",
       "Name: unit, dtype: int64"
      ]
     },
     "execution_count": 9,
     "metadata": {},
     "output_type": "execute_result"
    }
   ],
   "source": [
    "houston['unit'].value_counts()"
   ]
  },
  {
   "cell_type": "code",
   "execution_count": 10,
   "id": "5bd68843",
   "metadata": {},
   "outputs": [],
   "source": [
    "houston = houston.loc[(houston['parameter'] == 'pm25') & (houston['unit'] == 'µg/m³')]"
   ]
  },
  {
   "cell_type": "code",
   "execution_count": 11,
   "id": "b2f0298d",
   "metadata": {},
   "outputs": [],
   "source": [
    "houston['utc'] = pd.to_datetime(houston['utc'])"
   ]
  },
  {
   "cell_type": "code",
   "execution_count": 12,
   "id": "b5457eda",
   "metadata": {},
   "outputs": [
    {
     "data": {
      "text/html": [
       "<div>\n",
       "<style scoped>\n",
       "    .dataframe tbody tr th:only-of-type {\n",
       "        vertical-align: middle;\n",
       "    }\n",
       "\n",
       "    .dataframe tbody tr th {\n",
       "        vertical-align: top;\n",
       "    }\n",
       "\n",
       "    .dataframe thead th {\n",
       "        text-align: right;\n",
       "    }\n",
       "</style>\n",
       "<table border=\"1\" class=\"dataframe\">\n",
       "  <thead>\n",
       "    <tr style=\"text-align: right;\">\n",
       "      <th></th>\n",
       "      <th>locationId</th>\n",
       "      <th>location</th>\n",
       "      <th>city</th>\n",
       "      <th>country</th>\n",
       "      <th>utc</th>\n",
       "      <th>local</th>\n",
       "      <th>parameter</th>\n",
       "      <th>value</th>\n",
       "      <th>unit</th>\n",
       "      <th>latitude</th>\n",
       "      <th>longitude</th>\n",
       "    </tr>\n",
       "  </thead>\n",
       "  <tbody>\n",
       "    <tr>\n",
       "      <th>56853</th>\n",
       "      <td>162</td>\n",
       "      <td>Houston Deer Park C3</td>\n",
       "      <td>Houston-Sugar Land-Baytown</td>\n",
       "      <td>US</td>\n",
       "      <td>2016-06-15 04:00:00+00:00</td>\n",
       "      <td>2016-06-14T23:00:00-05:00</td>\n",
       "      <td>pm25</td>\n",
       "      <td>15.7</td>\n",
       "      <td>µg/m³</td>\n",
       "      <td>29.670025</td>\n",
       "      <td>-95.128508</td>\n",
       "    </tr>\n",
       "    <tr>\n",
       "      <th>56850</th>\n",
       "      <td>162</td>\n",
       "      <td>Houston Deer Park C3</td>\n",
       "      <td>Houston-Sugar Land-Baytown</td>\n",
       "      <td>US</td>\n",
       "      <td>2016-06-15 05:00:00+00:00</td>\n",
       "      <td>2016-06-15T00:00:00-05:00</td>\n",
       "      <td>pm25</td>\n",
       "      <td>15.1</td>\n",
       "      <td>µg/m³</td>\n",
       "      <td>29.670025</td>\n",
       "      <td>-95.128508</td>\n",
       "    </tr>\n",
       "  </tbody>\n",
       "</table>\n",
       "</div>"
      ],
      "text/plain": [
       "       locationId              location                        city country  \\\n",
       "56853         162  Houston Deer Park C3  Houston-Sugar Land-Baytown      US   \n",
       "56850         162  Houston Deer Park C3  Houston-Sugar Land-Baytown      US   \n",
       "\n",
       "                            utc                      local parameter  value  \\\n",
       "56853 2016-06-15 04:00:00+00:00  2016-06-14T23:00:00-05:00      pm25   15.7   \n",
       "56850 2016-06-15 05:00:00+00:00  2016-06-15T00:00:00-05:00      pm25   15.1   \n",
       "\n",
       "        unit   latitude  longitude  \n",
       "56853  µg/m³  29.670025 -95.128508  \n",
       "56850  µg/m³  29.670025 -95.128508  "
      ]
     },
     "execution_count": 12,
     "metadata": {},
     "output_type": "execute_result"
    }
   ],
   "source": [
    "houston = houston.sort_values('utc')\n",
    "houston.head(2)"
   ]
  },
  {
   "cell_type": "code",
   "execution_count": 13,
   "id": "c3f54bc0",
   "metadata": {},
   "outputs": [],
   "source": [
    "houston['year'] = houston['utc'].dt.year"
   ]
  },
  {
   "cell_type": "code",
   "execution_count": 14,
   "id": "615820f5",
   "metadata": {},
   "outputs": [
    {
     "data": {
      "text/html": [
       "<div>\n",
       "<style scoped>\n",
       "    .dataframe tbody tr th:only-of-type {\n",
       "        vertical-align: middle;\n",
       "    }\n",
       "\n",
       "    .dataframe tbody tr th {\n",
       "        vertical-align: top;\n",
       "    }\n",
       "\n",
       "    .dataframe thead th {\n",
       "        text-align: right;\n",
       "    }\n",
       "</style>\n",
       "<table border=\"1\" class=\"dataframe\">\n",
       "  <thead>\n",
       "    <tr style=\"text-align: right;\">\n",
       "      <th></th>\n",
       "      <th>locationId</th>\n",
       "      <th>location</th>\n",
       "      <th>city</th>\n",
       "      <th>country</th>\n",
       "      <th>utc</th>\n",
       "      <th>local</th>\n",
       "      <th>parameter</th>\n",
       "      <th>value</th>\n",
       "      <th>unit</th>\n",
       "      <th>latitude</th>\n",
       "      <th>longitude</th>\n",
       "      <th>year</th>\n",
       "    </tr>\n",
       "  </thead>\n",
       "  <tbody>\n",
       "    <tr>\n",
       "      <th>56853</th>\n",
       "      <td>162</td>\n",
       "      <td>Houston Deer Park C3</td>\n",
       "      <td>Houston-Sugar Land-Baytown</td>\n",
       "      <td>US</td>\n",
       "      <td>2016-06-15 04:00:00+00:00</td>\n",
       "      <td>2016-06-14T23:00:00-05:00</td>\n",
       "      <td>pm25</td>\n",
       "      <td>15.7</td>\n",
       "      <td>µg/m³</td>\n",
       "      <td>29.670025</td>\n",
       "      <td>-95.128508</td>\n",
       "      <td>2016</td>\n",
       "    </tr>\n",
       "    <tr>\n",
       "      <th>56850</th>\n",
       "      <td>162</td>\n",
       "      <td>Houston Deer Park C3</td>\n",
       "      <td>Houston-Sugar Land-Baytown</td>\n",
       "      <td>US</td>\n",
       "      <td>2016-06-15 05:00:00+00:00</td>\n",
       "      <td>2016-06-15T00:00:00-05:00</td>\n",
       "      <td>pm25</td>\n",
       "      <td>15.1</td>\n",
       "      <td>µg/m³</td>\n",
       "      <td>29.670025</td>\n",
       "      <td>-95.128508</td>\n",
       "      <td>2016</td>\n",
       "    </tr>\n",
       "  </tbody>\n",
       "</table>\n",
       "</div>"
      ],
      "text/plain": [
       "       locationId              location                        city country  \\\n",
       "56853         162  Houston Deer Park C3  Houston-Sugar Land-Baytown      US   \n",
       "56850         162  Houston Deer Park C3  Houston-Sugar Land-Baytown      US   \n",
       "\n",
       "                            utc                      local parameter  value  \\\n",
       "56853 2016-06-15 04:00:00+00:00  2016-06-14T23:00:00-05:00      pm25   15.7   \n",
       "56850 2016-06-15 05:00:00+00:00  2016-06-15T00:00:00-05:00      pm25   15.1   \n",
       "\n",
       "        unit   latitude  longitude  year  \n",
       "56853  µg/m³  29.670025 -95.128508  2016  \n",
       "56850  µg/m³  29.670025 -95.128508  2016  "
      ]
     },
     "execution_count": 14,
     "metadata": {},
     "output_type": "execute_result"
    }
   ],
   "source": [
    "houston.head(2)"
   ]
  },
  {
   "cell_type": "code",
   "execution_count": 15,
   "id": "8a2c2412",
   "metadata": {},
   "outputs": [
    {
     "data": {
      "text/plain": [
       "2019    7700\n",
       "2018    5561\n",
       "2017    5316\n",
       "2016    4515\n",
       "Name: year, dtype: int64"
      ]
     },
     "execution_count": 15,
     "metadata": {},
     "output_type": "execute_result"
    }
   ],
   "source": [
    "houston['year'].value_counts()"
   ]
  },
  {
   "cell_type": "code",
   "execution_count": 16,
   "id": "bc1aed61",
   "metadata": {},
   "outputs": [
    {
     "data": {
      "text/html": [
       "<div>\n",
       "<style scoped>\n",
       "    .dataframe tbody tr th:only-of-type {\n",
       "        vertical-align: middle;\n",
       "    }\n",
       "\n",
       "    .dataframe tbody tr th {\n",
       "        vertical-align: top;\n",
       "    }\n",
       "\n",
       "    .dataframe thead th {\n",
       "        text-align: right;\n",
       "    }\n",
       "</style>\n",
       "<table border=\"1\" class=\"dataframe\">\n",
       "  <thead>\n",
       "    <tr style=\"text-align: right;\">\n",
       "      <th></th>\n",
       "      <th>locationId</th>\n",
       "      <th>location</th>\n",
       "      <th>city</th>\n",
       "      <th>country</th>\n",
       "      <th>utc</th>\n",
       "      <th>local</th>\n",
       "      <th>parameter</th>\n",
       "      <th>value</th>\n",
       "      <th>unit</th>\n",
       "      <th>latitude</th>\n",
       "      <th>longitude</th>\n",
       "      <th>year</th>\n",
       "    </tr>\n",
       "  </thead>\n",
       "  <tbody>\n",
       "    <tr>\n",
       "      <th>56853</th>\n",
       "      <td>162</td>\n",
       "      <td>Houston Deer Park C3</td>\n",
       "      <td>Houston-Sugar Land-Baytown</td>\n",
       "      <td>US</td>\n",
       "      <td>2016-06-15 04:00:00+00:00</td>\n",
       "      <td>2016-06-14T23:00:00-05:00</td>\n",
       "      <td>pm25</td>\n",
       "      <td>15.7</td>\n",
       "      <td>µg/m³</td>\n",
       "      <td>29.670025</td>\n",
       "      <td>-95.128508</td>\n",
       "      <td>2016</td>\n",
       "    </tr>\n",
       "    <tr>\n",
       "      <th>56850</th>\n",
       "      <td>162</td>\n",
       "      <td>Houston Deer Park C3</td>\n",
       "      <td>Houston-Sugar Land-Baytown</td>\n",
       "      <td>US</td>\n",
       "      <td>2016-06-15 05:00:00+00:00</td>\n",
       "      <td>2016-06-15T00:00:00-05:00</td>\n",
       "      <td>pm25</td>\n",
       "      <td>15.1</td>\n",
       "      <td>µg/m³</td>\n",
       "      <td>29.670025</td>\n",
       "      <td>-95.128508</td>\n",
       "      <td>2016</td>\n",
       "    </tr>\n",
       "  </tbody>\n",
       "</table>\n",
       "</div>"
      ],
      "text/plain": [
       "       locationId              location                        city country  \\\n",
       "56853         162  Houston Deer Park C3  Houston-Sugar Land-Baytown      US   \n",
       "56850         162  Houston Deer Park C3  Houston-Sugar Land-Baytown      US   \n",
       "\n",
       "                            utc                      local parameter  value  \\\n",
       "56853 2016-06-15 04:00:00+00:00  2016-06-14T23:00:00-05:00      pm25   15.7   \n",
       "56850 2016-06-15 05:00:00+00:00  2016-06-15T00:00:00-05:00      pm25   15.1   \n",
       "\n",
       "        unit   latitude  longitude  year  \n",
       "56853  µg/m³  29.670025 -95.128508  2016  \n",
       "56850  µg/m³  29.670025 -95.128508  2016  "
      ]
     },
     "execution_count": 16,
     "metadata": {},
     "output_type": "execute_result"
    }
   ],
   "source": [
    "houston.head(2)"
   ]
  },
  {
   "cell_type": "code",
   "execution_count": 17,
   "id": "a93088be",
   "metadata": {},
   "outputs": [
    {
     "data": {
      "text/html": [
       "<div>\n",
       "<style scoped>\n",
       "    .dataframe tbody tr th:only-of-type {\n",
       "        vertical-align: middle;\n",
       "    }\n",
       "\n",
       "    .dataframe tbody tr th {\n",
       "        vertical-align: top;\n",
       "    }\n",
       "\n",
       "    .dataframe thead th {\n",
       "        text-align: right;\n",
       "    }\n",
       "</style>\n",
       "<table border=\"1\" class=\"dataframe\">\n",
       "  <thead>\n",
       "    <tr style=\"text-align: right;\">\n",
       "      <th></th>\n",
       "      <th>year</th>\n",
       "      <th>city</th>\n",
       "      <th>parameter</th>\n",
       "      <th>value</th>\n",
       "    </tr>\n",
       "  </thead>\n",
       "  <tbody>\n",
       "    <tr>\n",
       "      <th>0</th>\n",
       "      <td>2016</td>\n",
       "      <td>Houston-Sugar Land-Baytown</td>\n",
       "      <td>pm25</td>\n",
       "      <td>8.191340</td>\n",
       "    </tr>\n",
       "    <tr>\n",
       "      <th>1</th>\n",
       "      <td>2017</td>\n",
       "      <td>Houston-Sugar Land-Baytown</td>\n",
       "      <td>pm25</td>\n",
       "      <td>7.745053</td>\n",
       "    </tr>\n",
       "    <tr>\n",
       "      <th>2</th>\n",
       "      <td>2018</td>\n",
       "      <td>Houston-Sugar Land-Baytown</td>\n",
       "      <td>pm25</td>\n",
       "      <td>8.357957</td>\n",
       "    </tr>\n",
       "    <tr>\n",
       "      <th>3</th>\n",
       "      <td>2019</td>\n",
       "      <td>Houston-Sugar Land-Baytown</td>\n",
       "      <td>pm25</td>\n",
       "      <td>7.292325</td>\n",
       "    </tr>\n",
       "  </tbody>\n",
       "</table>\n",
       "</div>"
      ],
      "text/plain": [
       "   year                        city parameter     value\n",
       "0  2016  Houston-Sugar Land-Baytown      pm25  8.191340\n",
       "1  2017  Houston-Sugar Land-Baytown      pm25  7.745053\n",
       "2  2018  Houston-Sugar Land-Baytown      pm25  8.357957\n",
       "3  2019  Houston-Sugar Land-Baytown      pm25  7.292325"
      ]
     },
     "execution_count": 17,
     "metadata": {},
     "output_type": "execute_result"
    }
   ],
   "source": [
    "houston_pm25 = houston.groupby(['year', 'city', 'parameter'], as_index=False).agg({'value':'mean'})\n",
    "houston_pm25"
   ]
  },
  {
   "cell_type": "code",
   "execution_count": 18,
   "id": "e37d987c",
   "metadata": {},
   "outputs": [
    {
     "data": {
      "text/plain": [
       "<AxesSubplot:xlabel='year', ylabel='value'>"
      ]
     },
     "execution_count": 18,
     "metadata": {},
     "output_type": "execute_result"
    },
    {
     "data": {
      "image/png": "[encoded data removed]",
      "text/plain": [
       "<Figure size 432x288 with 1 Axes>"
      ]
     },
     "metadata": {},
     "output_type": "display_data"
    }
   ],
   "source": [
    "sns.barplot(data=houston_pm25, x='year', y='value')"
   ]
  },
  {
   "cell_type": "markdown",
   "id": "f8834044",
   "metadata": {},
   "source": [
    "Houston se mantiene por debajo en los valores de contaminación establecidos por la OMS para pm2.5 anualmente."
   ]
  },
  {
   "cell_type": "markdown",
   "id": "705cca69",
   "metadata": {},
   "source": [
    "### Santiago"
   ]
  },
  {
   "cell_type": "code",
   "execution_count": 19,
   "id": "0d4dccf0",
   "metadata": {},
   "outputs": [],
   "source": [
    "santiago = pd.read_csv('Santiago.csv')"
   ]
  },
  {
   "cell_type": "code",
   "execution_count": 20,
   "id": "f2b27759",
   "metadata": {},
   "outputs": [
    {
     "data": {
      "text/html": [
       "<div>\n",
       "<style scoped>\n",
       "    .dataframe tbody tr th:only-of-type {\n",
       "        vertical-align: middle;\n",
       "    }\n",
       "\n",
       "    .dataframe tbody tr th {\n",
       "        vertical-align: top;\n",
       "    }\n",
       "\n",
       "    .dataframe thead th {\n",
       "        text-align: right;\n",
       "    }\n",
       "</style>\n",
       "<table border=\"1\" class=\"dataframe\">\n",
       "  <thead>\n",
       "    <tr style=\"text-align: right;\">\n",
       "      <th></th>\n",
       "      <th>locationId</th>\n",
       "      <th>location</th>\n",
       "      <th>city</th>\n",
       "      <th>country</th>\n",
       "      <th>utc</th>\n",
       "      <th>local</th>\n",
       "      <th>parameter</th>\n",
       "      <th>value</th>\n",
       "      <th>unit</th>\n",
       "      <th>latitude</th>\n",
       "      <th>longitude</th>\n",
       "    </tr>\n",
       "  </thead>\n",
       "  <tbody>\n",
       "    <tr>\n",
       "      <th>0</th>\n",
       "      <td>25</td>\n",
       "      <td>Parque O'Higgins</td>\n",
       "      <td>Santiago</td>\n",
       "      <td>CL</td>\n",
       "      <td>2021-08-20T21:00:00+00:00</td>\n",
       "      <td>2021-08-20T20:00:00-01:00</td>\n",
       "      <td>pm25</td>\n",
       "      <td>30</td>\n",
       "      <td>µg/m³</td>\n",
       "      <td>-33.464142</td>\n",
       "      <td>-70.660797</td>\n",
       "    </tr>\n",
       "    <tr>\n",
       "      <th>1</th>\n",
       "      <td>25</td>\n",
       "      <td>Parque O'Higgins</td>\n",
       "      <td>Santiago</td>\n",
       "      <td>CL</td>\n",
       "      <td>2021-08-20T21:00:00+00:00</td>\n",
       "      <td>2021-08-20T20:00:00-01:00</td>\n",
       "      <td>pm10</td>\n",
       "      <td>100</td>\n",
       "      <td>µg/m³</td>\n",
       "      <td>-33.464142</td>\n",
       "      <td>-70.660797</td>\n",
       "    </tr>\n",
       "  </tbody>\n",
       "</table>\n",
       "</div>"
      ],
      "text/plain": [
       "   locationId          location      city country                        utc  \\\n",
       "0          25  Parque O'Higgins  Santiago      CL  2021-08-20T21:00:00+00:00   \n",
       "1          25  Parque O'Higgins  Santiago      CL  2021-08-20T21:00:00+00:00   \n",
       "\n",
       "                       local parameter  value   unit   latitude  longitude  \n",
       "0  2021-08-20T20:00:00-01:00      pm25     30  µg/m³ -33.464142 -70.660797  \n",
       "1  2021-08-20T20:00:00-01:00      pm10    100  µg/m³ -33.464142 -70.660797  "
      ]
     },
     "execution_count": 20,
     "metadata": {},
     "output_type": "execute_result"
    }
   ],
   "source": [
    "santiago.head(2)"
   ]
  },
  {
   "cell_type": "code",
   "execution_count": 21,
   "id": "7db2ba56",
   "metadata": {},
   "outputs": [
    {
     "name": "stdout",
     "output_type": "stream",
     "text": [
      "<class 'pandas.core.frame.DataFrame'>\n",
      "RangeIndex: 20866 entries, 0 to 20865\n",
      "Data columns (total 11 columns):\n",
      " #   Column      Non-Null Count  Dtype  \n",
      "---  ------      --------------  -----  \n",
      " 0   locationId  20866 non-null  int64  \n",
      " 1   location    20866 non-null  object \n",
      " 2   city        20866 non-null  object \n",
      " 3   country     20866 non-null  object \n",
      " 4   utc         20866 non-null  object \n",
      " 5   local       20866 non-null  object \n",
      " 6   parameter   20866 non-null  object \n",
      " 7   value       20866 non-null  int64  \n",
      " 8   unit        20866 non-null  object \n",
      " 9   latitude    20866 non-null  float64\n",
      " 10  longitude   20866 non-null  float64\n",
      "dtypes: float64(2), int64(2), object(7)\n",
      "memory usage: 1.8+ MB\n"
     ]
    }
   ],
   "source": [
    "santiago.info()"
   ]
  },
  {
   "cell_type": "code",
   "execution_count": 22,
   "id": "a298cbea",
   "metadata": {},
   "outputs": [
    {
     "data": {
      "text/plain": [
       "(20866, 11)"
      ]
     },
     "execution_count": 22,
     "metadata": {},
     "output_type": "execute_result"
    }
   ],
   "source": [
    "santiago.shape"
   ]
  },
  {
   "cell_type": "code",
   "execution_count": 23,
   "id": "33693f26",
   "metadata": {},
   "outputs": [
    {
     "data": {
      "text/plain": [
       "pm25    10434\n",
       "pm10    10432\n",
       "Name: parameter, dtype: int64"
      ]
     },
     "execution_count": 23,
     "metadata": {},
     "output_type": "execute_result"
    }
   ],
   "source": [
    "santiago['parameter'].value_counts()"
   ]
  },
  {
   "cell_type": "code",
   "execution_count": 24,
   "id": "a62331e5",
   "metadata": {},
   "outputs": [
    {
     "data": {
      "text/plain": [
       "µg/m³    20866\n",
       "Name: unit, dtype: int64"
      ]
     },
     "execution_count": 24,
     "metadata": {},
     "output_type": "execute_result"
    }
   ],
   "source": [
    "santiago['unit'].value_counts()"
   ]
  },
  {
   "cell_type": "code",
   "execution_count": 25,
   "id": "01c4616d",
   "metadata": {},
   "outputs": [],
   "source": [
    "santiago = santiago.loc[santiago['parameter'] == 'pm25']"
   ]
  },
  {
   "cell_type": "code",
   "execution_count": 26,
   "id": "124ab482",
   "metadata": {},
   "outputs": [],
   "source": [
    "santiago['utc'] = pd.to_datetime(santiago['utc'])"
   ]
  },
  {
   "cell_type": "code",
   "execution_count": 27,
   "id": "43937b5b",
   "metadata": {},
   "outputs": [
    {
     "data": {
      "text/html": [
       "<div>\n",
       "<style scoped>\n",
       "    .dataframe tbody tr th:only-of-type {\n",
       "        vertical-align: middle;\n",
       "    }\n",
       "\n",
       "    .dataframe tbody tr th {\n",
       "        vertical-align: top;\n",
       "    }\n",
       "\n",
       "    .dataframe thead th {\n",
       "        text-align: right;\n",
       "    }\n",
       "</style>\n",
       "<table border=\"1\" class=\"dataframe\">\n",
       "  <thead>\n",
       "    <tr style=\"text-align: right;\">\n",
       "      <th></th>\n",
       "      <th>locationId</th>\n",
       "      <th>location</th>\n",
       "      <th>city</th>\n",
       "      <th>country</th>\n",
       "      <th>utc</th>\n",
       "      <th>local</th>\n",
       "      <th>parameter</th>\n",
       "      <th>value</th>\n",
       "      <th>unit</th>\n",
       "      <th>latitude</th>\n",
       "      <th>longitude</th>\n",
       "    </tr>\n",
       "  </thead>\n",
       "  <tbody>\n",
       "    <tr>\n",
       "      <th>20865</th>\n",
       "      <td>25</td>\n",
       "      <td>Parque O'Higgins</td>\n",
       "      <td>Santiago</td>\n",
       "      <td>CL</td>\n",
       "      <td>2020-01-01 04:00:00+00:00</td>\n",
       "      <td>2020-01-01T03:00:00-01:00</td>\n",
       "      <td>pm25</td>\n",
       "      <td>10</td>\n",
       "      <td>µg/m³</td>\n",
       "      <td>-33.464142</td>\n",
       "      <td>-70.660797</td>\n",
       "    </tr>\n",
       "    <tr>\n",
       "      <th>20862</th>\n",
       "      <td>25</td>\n",
       "      <td>Parque O'Higgins</td>\n",
       "      <td>Santiago</td>\n",
       "      <td>CL</td>\n",
       "      <td>2020-01-01 05:00:00+00:00</td>\n",
       "      <td>2020-01-01T04:00:00-01:00</td>\n",
       "      <td>pm25</td>\n",
       "      <td>24</td>\n",
       "      <td>µg/m³</td>\n",
       "      <td>-33.464142</td>\n",
       "      <td>-70.660797</td>\n",
       "    </tr>\n",
       "  </tbody>\n",
       "</table>\n",
       "</div>"
      ],
      "text/plain": [
       "       locationId          location      city country  \\\n",
       "20865          25  Parque O'Higgins  Santiago      CL   \n",
       "20862          25  Parque O'Higgins  Santiago      CL   \n",
       "\n",
       "                            utc                      local parameter  value  \\\n",
       "20865 2020-01-01 04:00:00+00:00  2020-01-01T03:00:00-01:00      pm25     10   \n",
       "20862 2020-01-01 05:00:00+00:00  2020-01-01T04:00:00-01:00      pm25     24   \n",
       "\n",
       "        unit   latitude  longitude  \n",
       "20865  µg/m³ -33.464142 -70.660797  \n",
       "20862  µg/m³ -33.464142 -70.660797  "
      ]
     },
     "execution_count": 27,
     "metadata": {},
     "output_type": "execute_result"
    }
   ],
   "source": [
    "santiago = santiago.sort_values('utc')\n",
    "santiago.head(2)"
   ]
  },
  {
   "cell_type": "code",
   "execution_count": 28,
   "id": "a23fb7ea",
   "metadata": {},
   "outputs": [],
   "source": [
    "santiago['year'] = santiago['utc'].dt.year"
   ]
  },
  {
   "cell_type": "code",
   "execution_count": 29,
   "id": "a601fe4a",
   "metadata": {},
   "outputs": [
    {
     "data": {
      "text/html": [
       "<div>\n",
       "<style scoped>\n",
       "    .dataframe tbody tr th:only-of-type {\n",
       "        vertical-align: middle;\n",
       "    }\n",
       "\n",
       "    .dataframe tbody tr th {\n",
       "        vertical-align: top;\n",
       "    }\n",
       "\n",
       "    .dataframe thead th {\n",
       "        text-align: right;\n",
       "    }\n",
       "</style>\n",
       "<table border=\"1\" class=\"dataframe\">\n",
       "  <thead>\n",
       "    <tr style=\"text-align: right;\">\n",
       "      <th></th>\n",
       "      <th>locationId</th>\n",
       "      <th>location</th>\n",
       "      <th>city</th>\n",
       "      <th>country</th>\n",
       "      <th>utc</th>\n",
       "      <th>local</th>\n",
       "      <th>parameter</th>\n",
       "      <th>value</th>\n",
       "      <th>unit</th>\n",
       "      <th>latitude</th>\n",
       "      <th>longitude</th>\n",
       "      <th>year</th>\n",
       "    </tr>\n",
       "  </thead>\n",
       "  <tbody>\n",
       "    <tr>\n",
       "      <th>20865</th>\n",
       "      <td>25</td>\n",
       "      <td>Parque O'Higgins</td>\n",
       "      <td>Santiago</td>\n",
       "      <td>CL</td>\n",
       "      <td>2020-01-01 04:00:00+00:00</td>\n",
       "      <td>2020-01-01T03:00:00-01:00</td>\n",
       "      <td>pm25</td>\n",
       "      <td>10</td>\n",
       "      <td>µg/m³</td>\n",
       "      <td>-33.464142</td>\n",
       "      <td>-70.660797</td>\n",
       "      <td>2020</td>\n",
       "    </tr>\n",
       "    <tr>\n",
       "      <th>20862</th>\n",
       "      <td>25</td>\n",
       "      <td>Parque O'Higgins</td>\n",
       "      <td>Santiago</td>\n",
       "      <td>CL</td>\n",
       "      <td>2020-01-01 05:00:00+00:00</td>\n",
       "      <td>2020-01-01T04:00:00-01:00</td>\n",
       "      <td>pm25</td>\n",
       "      <td>24</td>\n",
       "      <td>µg/m³</td>\n",
       "      <td>-33.464142</td>\n",
       "      <td>-70.660797</td>\n",
       "      <td>2020</td>\n",
       "    </tr>\n",
       "  </tbody>\n",
       "</table>\n",
       "</div>"
      ],
      "text/plain": [
       "       locationId          location      city country  \\\n",
       "20865          25  Parque O'Higgins  Santiago      CL   \n",
       "20862          25  Parque O'Higgins  Santiago      CL   \n",
       "\n",
       "                            utc                      local parameter  value  \\\n",
       "20865 2020-01-01 04:00:00+00:00  2020-01-01T03:00:00-01:00      pm25     10   \n",
       "20862 2020-01-01 05:00:00+00:00  2020-01-01T04:00:00-01:00      pm25     24   \n",
       "\n",
       "        unit   latitude  longitude  year  \n",
       "20865  µg/m³ -33.464142 -70.660797  2020  \n",
       "20862  µg/m³ -33.464142 -70.660797  2020  "
      ]
     },
     "execution_count": 29,
     "metadata": {},
     "output_type": "execute_result"
    }
   ],
   "source": [
    "santiago.head(2)"
   ]
  },
  {
   "cell_type": "code",
   "execution_count": 30,
   "id": "d659aafc",
   "metadata": {},
   "outputs": [
    {
     "data": {
      "text/plain": [
       "2020    7546\n",
       "2021    2888\n",
       "Name: year, dtype: int64"
      ]
     },
     "execution_count": 30,
     "metadata": {},
     "output_type": "execute_result"
    }
   ],
   "source": [
    "santiago['year'].value_counts()"
   ]
  },
  {
   "cell_type": "code",
   "execution_count": 31,
   "id": "aa1f3e2c",
   "metadata": {},
   "outputs": [
    {
     "data": {
      "text/html": [
       "<div>\n",
       "<style scoped>\n",
       "    .dataframe tbody tr th:only-of-type {\n",
       "        vertical-align: middle;\n",
       "    }\n",
       "\n",
       "    .dataframe tbody tr th {\n",
       "        vertical-align: top;\n",
       "    }\n",
       "\n",
       "    .dataframe thead th {\n",
       "        text-align: right;\n",
       "    }\n",
       "</style>\n",
       "<table border=\"1\" class=\"dataframe\">\n",
       "  <thead>\n",
       "    <tr style=\"text-align: right;\">\n",
       "      <th></th>\n",
       "      <th>year</th>\n",
       "      <th>city</th>\n",
       "      <th>parameter</th>\n",
       "      <th>value</th>\n",
       "    </tr>\n",
       "  </thead>\n",
       "  <tbody>\n",
       "    <tr>\n",
       "      <th>0</th>\n",
       "      <td>2020</td>\n",
       "      <td>Santiago</td>\n",
       "      <td>pm25</td>\n",
       "      <td>20.293798</td>\n",
       "    </tr>\n",
       "    <tr>\n",
       "      <th>1</th>\n",
       "      <td>2021</td>\n",
       "      <td>Santiago</td>\n",
       "      <td>pm25</td>\n",
       "      <td>21.945637</td>\n",
       "    </tr>\n",
       "  </tbody>\n",
       "</table>\n",
       "</div>"
      ],
      "text/plain": [
       "   year      city parameter      value\n",
       "0  2020  Santiago      pm25  20.293798\n",
       "1  2021  Santiago      pm25  21.945637"
      ]
     },
     "execution_count": 31,
     "metadata": {},
     "output_type": "execute_result"
    }
   ],
   "source": [
    "santiago_pm25 = santiago.groupby(['year', 'city', 'parameter'], as_index=False).agg({'value':'mean'})\n",
    "santiago_pm25"
   ]
  },
  {
   "cell_type": "code",
   "execution_count": 32,
   "id": "e3a47d6c",
   "metadata": {},
   "outputs": [
    {
     "data": {
      "text/plain": [
       "<AxesSubplot:xlabel='year', ylabel='value'>"
      ]
     },
     "execution_count": 32,
     "metadata": {},
     "output_type": "execute_result"
    },
    {
     "data": {
      "image/png": "[encoded data removed]",
      "text/plain": [
       "<Figure size 432x288 with 1 Axes>"
      ]
     },
     "metadata": {},
     "output_type": "display_data"
    }
   ],
   "source": [
    "sns.barplot(data=santiago_pm25, x='year', y='value')"
   ]
  },
  {
   "cell_type": "code",
   "execution_count": null,
   "id": "eb8b1abe",
   "metadata": {},
   "outputs": [],
   "source": []
  },
  {
   "cell_type": "markdown",
   "id": "8e2bf363",
   "metadata": {},
   "source": [
    "### Mexico"
   ]
  },
  {
   "cell_type": "code",
   "execution_count": 33,
   "id": "8faeefcd",
   "metadata": {},
   "outputs": [],
   "source": [
    "mexico = pd.read_csv('df_new_cam.csv')"
   ]
  },
  {
   "cell_type": "code",
   "execution_count": 34,
   "id": "f75dabcb",
   "metadata": {},
   "outputs": [
    {
     "data": {
      "text/html": [
       "<div>\n",
       "<style scoped>\n",
       "    .dataframe tbody tr th:only-of-type {\n",
       "        vertical-align: middle;\n",
       "    }\n",
       "\n",
       "    .dataframe tbody tr th {\n",
       "        vertical-align: top;\n",
       "    }\n",
       "\n",
       "    .dataframe thead th {\n",
       "        text-align: right;\n",
       "    }\n",
       "</style>\n",
       "<table border=\"1\" class=\"dataframe\">\n",
       "  <thead>\n",
       "    <tr style=\"text-align: right;\">\n",
       "      <th></th>\n",
       "      <th>locationId</th>\n",
       "      <th>location</th>\n",
       "      <th>city</th>\n",
       "      <th>country</th>\n",
       "      <th>utc</th>\n",
       "      <th>local</th>\n",
       "      <th>parameter</th>\n",
       "      <th>value</th>\n",
       "      <th>unit</th>\n",
       "      <th>latitude</th>\n",
       "      <th>longitude</th>\n",
       "    </tr>\n",
       "  </thead>\n",
       "  <tbody>\n",
       "    <tr>\n",
       "      <th>0</th>\n",
       "      <td>1739</td>\n",
       "      <td>Camarones</td>\n",
       "      <td>DISTRITO FEDERAL</td>\n",
       "      <td>MX</td>\n",
       "      <td>2021-10-06T14:00:00+00:00</td>\n",
       "      <td>2021-10-06T09:00:00-05:00</td>\n",
       "      <td>pm25</td>\n",
       "      <td>5</td>\n",
       "      <td>µg/m³</td>\n",
       "      <td>19.4684</td>\n",
       "      <td>-99.1697</td>\n",
       "    </tr>\n",
       "    <tr>\n",
       "      <th>1</th>\n",
       "      <td>1739</td>\n",
       "      <td>Camarones</td>\n",
       "      <td>DISTRITO FEDERAL</td>\n",
       "      <td>MX</td>\n",
       "      <td>2021-10-06T14:00:00+00:00</td>\n",
       "      <td>2021-10-06T09:00:00-05:00</td>\n",
       "      <td>pm10</td>\n",
       "      <td>17</td>\n",
       "      <td>µg/m³</td>\n",
       "      <td>19.4684</td>\n",
       "      <td>-99.1697</td>\n",
       "    </tr>\n",
       "  </tbody>\n",
       "</table>\n",
       "</div>"
      ],
      "text/plain": [
       "   locationId   location              city country                        utc  \\\n",
       "0        1739  Camarones  DISTRITO FEDERAL      MX  2021-10-06T14:00:00+00:00   \n",
       "1        1739  Camarones  DISTRITO FEDERAL      MX  2021-10-06T14:00:00+00:00   \n",
       "\n",
       "                       local parameter  value   unit  latitude  longitude  \n",
       "0  2021-10-06T09:00:00-05:00      pm25      5  µg/m³   19.4684   -99.1697  \n",
       "1  2021-10-06T09:00:00-05:00      pm10     17  µg/m³   19.4684   -99.1697  "
      ]
     },
     "execution_count": 34,
     "metadata": {},
     "output_type": "execute_result"
    }
   ],
   "source": [
    "mexico.head(2)"
   ]
  },
  {
   "cell_type": "code",
   "execution_count": 35,
   "id": "1e1a020f",
   "metadata": {},
   "outputs": [
    {
     "name": "stdout",
     "output_type": "stream",
     "text": [
      "<class 'pandas.core.frame.DataFrame'>\n",
      "RangeIndex: 14105 entries, 0 to 14104\n",
      "Data columns (total 11 columns):\n",
      " #   Column      Non-Null Count  Dtype  \n",
      "---  ------      --------------  -----  \n",
      " 0   locationId  14105 non-null  int64  \n",
      " 1   location    14105 non-null  object \n",
      " 2   city        14105 non-null  object \n",
      " 3   country     14105 non-null  object \n",
      " 4   utc         14105 non-null  object \n",
      " 5   local       14105 non-null  object \n",
      " 6   parameter   14105 non-null  object \n",
      " 7   value       14105 non-null  int64  \n",
      " 8   unit        14105 non-null  object \n",
      " 9   latitude    14105 non-null  float64\n",
      " 10  longitude   14105 non-null  float64\n",
      "dtypes: float64(2), int64(2), object(7)\n",
      "memory usage: 1.2+ MB\n"
     ]
    }
   ],
   "source": [
    "mexico.info()"
   ]
  },
  {
   "cell_type": "code",
   "execution_count": 36,
   "id": "5a148a85",
   "metadata": {},
   "outputs": [
    {
     "data": {
      "text/plain": [
       "(14105, 11)"
      ]
     },
     "execution_count": 36,
     "metadata": {},
     "output_type": "execute_result"
    }
   ],
   "source": [
    "mexico.shape"
   ]
  },
  {
   "cell_type": "code",
   "execution_count": 37,
   "id": "e1920b09",
   "metadata": {},
   "outputs": [
    {
     "data": {
      "text/plain": [
       "pm10    7086\n",
       "pm25    7019\n",
       "Name: parameter, dtype: int64"
      ]
     },
     "execution_count": 37,
     "metadata": {},
     "output_type": "execute_result"
    }
   ],
   "source": [
    "mexico['parameter'].value_counts()"
   ]
  },
  {
   "cell_type": "code",
   "execution_count": 38,
   "id": "89ae59d3",
   "metadata": {},
   "outputs": [
    {
     "data": {
      "text/plain": [
       "µg/m³    14105\n",
       "Name: unit, dtype: int64"
      ]
     },
     "execution_count": 38,
     "metadata": {},
     "output_type": "execute_result"
    }
   ],
   "source": [
    "mexico['unit'].value_counts()"
   ]
  },
  {
   "cell_type": "code",
   "execution_count": 39,
   "id": "b3fe4210",
   "metadata": {},
   "outputs": [],
   "source": [
    "mexico = mexico.loc[mexico['parameter'] == 'pm25']"
   ]
  },
  {
   "cell_type": "code",
   "execution_count": 40,
   "id": "4e91d7e6",
   "metadata": {},
   "outputs": [],
   "source": [
    "mexico['utc'] = pd.to_datetime(mexico['utc'])"
   ]
  },
  {
   "cell_type": "code",
   "execution_count": 41,
   "id": "b3893ec8",
   "metadata": {},
   "outputs": [
    {
     "data": {
      "text/html": [
       "<div>\n",
       "<style scoped>\n",
       "    .dataframe tbody tr th:only-of-type {\n",
       "        vertical-align: middle;\n",
       "    }\n",
       "\n",
       "    .dataframe tbody tr th {\n",
       "        vertical-align: top;\n",
       "    }\n",
       "\n",
       "    .dataframe thead th {\n",
       "        text-align: right;\n",
       "    }\n",
       "</style>\n",
       "<table border=\"1\" class=\"dataframe\">\n",
       "  <thead>\n",
       "    <tr style=\"text-align: right;\">\n",
       "      <th></th>\n",
       "      <th>locationId</th>\n",
       "      <th>location</th>\n",
       "      <th>city</th>\n",
       "      <th>country</th>\n",
       "      <th>utc</th>\n",
       "      <th>local</th>\n",
       "      <th>parameter</th>\n",
       "      <th>value</th>\n",
       "      <th>unit</th>\n",
       "      <th>latitude</th>\n",
       "      <th>longitude</th>\n",
       "    </tr>\n",
       "  </thead>\n",
       "  <tbody>\n",
       "    <tr>\n",
       "      <th>14104</th>\n",
       "      <td>1739</td>\n",
       "      <td>Camarones</td>\n",
       "      <td>DISTRITO FEDERAL</td>\n",
       "      <td>MX</td>\n",
       "      <td>2019-04-09 20:00:00+00:00</td>\n",
       "      <td>2019-04-09T15:00:00-05:00</td>\n",
       "      <td>pm25</td>\n",
       "      <td>17</td>\n",
       "      <td>µg/m³</td>\n",
       "      <td>19.4684</td>\n",
       "      <td>-99.1697</td>\n",
       "    </tr>\n",
       "    <tr>\n",
       "      <th>14102</th>\n",
       "      <td>1739</td>\n",
       "      <td>Camarones</td>\n",
       "      <td>DISTRITO FEDERAL</td>\n",
       "      <td>MX</td>\n",
       "      <td>2019-04-09 21:00:00+00:00</td>\n",
       "      <td>2019-04-09T16:00:00-05:00</td>\n",
       "      <td>pm25</td>\n",
       "      <td>14</td>\n",
       "      <td>µg/m³</td>\n",
       "      <td>19.4684</td>\n",
       "      <td>-99.1697</td>\n",
       "    </tr>\n",
       "  </tbody>\n",
       "</table>\n",
       "</div>"
      ],
      "text/plain": [
       "       locationId   location              city country  \\\n",
       "14104        1739  Camarones  DISTRITO FEDERAL      MX   \n",
       "14102        1739  Camarones  DISTRITO FEDERAL      MX   \n",
       "\n",
       "                            utc                      local parameter  value  \\\n",
       "14104 2019-04-09 20:00:00+00:00  2019-04-09T15:00:00-05:00      pm25     17   \n",
       "14102 2019-04-09 21:00:00+00:00  2019-04-09T16:00:00-05:00      pm25     14   \n",
       "\n",
       "        unit  latitude  longitude  \n",
       "14104  µg/m³   19.4684   -99.1697  \n",
       "14102  µg/m³   19.4684   -99.1697  "
      ]
     },
     "execution_count": 41,
     "metadata": {},
     "output_type": "execute_result"
    }
   ],
   "source": [
    "mexico = mexico.sort_values('utc')\n",
    "mexico.head(2)"
   ]
  },
  {
   "cell_type": "code",
   "execution_count": 42,
   "id": "ce7a15b1",
   "metadata": {},
   "outputs": [],
   "source": [
    "mexico['year'] = mexico['utc'].dt.year"
   ]
  },
  {
   "cell_type": "code",
   "execution_count": 43,
   "id": "157588c9",
   "metadata": {},
   "outputs": [
    {
     "data": {
      "text/html": [
       "<div>\n",
       "<style scoped>\n",
       "    .dataframe tbody tr th:only-of-type {\n",
       "        vertical-align: middle;\n",
       "    }\n",
       "\n",
       "    .dataframe tbody tr th {\n",
       "        vertical-align: top;\n",
       "    }\n",
       "\n",
       "    .dataframe thead th {\n",
       "        text-align: right;\n",
       "    }\n",
       "</style>\n",
       "<table border=\"1\" class=\"dataframe\">\n",
       "  <thead>\n",
       "    <tr style=\"text-align: right;\">\n",
       "      <th></th>\n",
       "      <th>locationId</th>\n",
       "      <th>location</th>\n",
       "      <th>city</th>\n",
       "      <th>country</th>\n",
       "      <th>utc</th>\n",
       "      <th>local</th>\n",
       "      <th>parameter</th>\n",
       "      <th>value</th>\n",
       "      <th>unit</th>\n",
       "      <th>latitude</th>\n",
       "      <th>longitude</th>\n",
       "      <th>year</th>\n",
       "    </tr>\n",
       "  </thead>\n",
       "  <tbody>\n",
       "    <tr>\n",
       "      <th>14104</th>\n",
       "      <td>1739</td>\n",
       "      <td>Camarones</td>\n",
       "      <td>DISTRITO FEDERAL</td>\n",
       "      <td>MX</td>\n",
       "      <td>2019-04-09 20:00:00+00:00</td>\n",
       "      <td>2019-04-09T15:00:00-05:00</td>\n",
       "      <td>pm25</td>\n",
       "      <td>17</td>\n",
       "      <td>µg/m³</td>\n",
       "      <td>19.4684</td>\n",
       "      <td>-99.1697</td>\n",
       "      <td>2019</td>\n",
       "    </tr>\n",
       "    <tr>\n",
       "      <th>14102</th>\n",
       "      <td>1739</td>\n",
       "      <td>Camarones</td>\n",
       "      <td>DISTRITO FEDERAL</td>\n",
       "      <td>MX</td>\n",
       "      <td>2019-04-09 21:00:00+00:00</td>\n",
       "      <td>2019-04-09T16:00:00-05:00</td>\n",
       "      <td>pm25</td>\n",
       "      <td>14</td>\n",
       "      <td>µg/m³</td>\n",
       "      <td>19.4684</td>\n",
       "      <td>-99.1697</td>\n",
       "      <td>2019</td>\n",
       "    </tr>\n",
       "  </tbody>\n",
       "</table>\n",
       "</div>"
      ],
      "text/plain": [
       "       locationId   location              city country  \\\n",
       "14104        1739  Camarones  DISTRITO FEDERAL      MX   \n",
       "14102        1739  Camarones  DISTRITO FEDERAL      MX   \n",
       "\n",
       "                            utc                      local parameter  value  \\\n",
       "14104 2019-04-09 20:00:00+00:00  2019-04-09T15:00:00-05:00      pm25     17   \n",
       "14102 2019-04-09 21:00:00+00:00  2019-04-09T16:00:00-05:00      pm25     14   \n",
       "\n",
       "        unit  latitude  longitude  year  \n",
       "14104  µg/m³   19.4684   -99.1697  2019  \n",
       "14102  µg/m³   19.4684   -99.1697  2019  "
      ]
     },
     "execution_count": 43,
     "metadata": {},
     "output_type": "execute_result"
    }
   ],
   "source": [
    "mexico.head(2)"
   ]
  },
  {
   "cell_type": "code",
   "execution_count": 44,
   "id": "80834412",
   "metadata": {},
   "outputs": [
    {
     "data": {
      "text/plain": [
       "2020    3349\n",
       "2021    2359\n",
       "2019    1311\n",
       "Name: year, dtype: int64"
      ]
     },
     "execution_count": 44,
     "metadata": {},
     "output_type": "execute_result"
    }
   ],
   "source": [
    "mexico['year'].value_counts()"
   ]
  },
  {
   "cell_type": "code",
   "execution_count": 45,
   "id": "266ef139",
   "metadata": {},
   "outputs": [
    {
     "data": {
      "text/html": [
       "<div>\n",
       "<style scoped>\n",
       "    .dataframe tbody tr th:only-of-type {\n",
       "        vertical-align: middle;\n",
       "    }\n",
       "\n",
       "    .dataframe tbody tr th {\n",
       "        vertical-align: top;\n",
       "    }\n",
       "\n",
       "    .dataframe thead th {\n",
       "        text-align: right;\n",
       "    }\n",
       "</style>\n",
       "<table border=\"1\" class=\"dataframe\">\n",
       "  <thead>\n",
       "    <tr style=\"text-align: right;\">\n",
       "      <th></th>\n",
       "      <th>year</th>\n",
       "      <th>city</th>\n",
       "      <th>parameter</th>\n",
       "      <th>value</th>\n",
       "    </tr>\n",
       "  </thead>\n",
       "  <tbody>\n",
       "    <tr>\n",
       "      <th>0</th>\n",
       "      <td>2019</td>\n",
       "      <td>DISTRITO FEDERAL</td>\n",
       "      <td>pm25</td>\n",
       "      <td>26.372235</td>\n",
       "    </tr>\n",
       "    <tr>\n",
       "      <th>1</th>\n",
       "      <td>2020</td>\n",
       "      <td>DISTRITO FEDERAL</td>\n",
       "      <td>pm25</td>\n",
       "      <td>18.066886</td>\n",
       "    </tr>\n",
       "    <tr>\n",
       "      <th>2</th>\n",
       "      <td>2021</td>\n",
       "      <td>DISTRITO FEDERAL</td>\n",
       "      <td>pm25</td>\n",
       "      <td>19.555320</td>\n",
       "    </tr>\n",
       "  </tbody>\n",
       "</table>\n",
       "</div>"
      ],
      "text/plain": [
       "   year              city parameter      value\n",
       "0  2019  DISTRITO FEDERAL      pm25  26.372235\n",
       "1  2020  DISTRITO FEDERAL      pm25  18.066886\n",
       "2  2021  DISTRITO FEDERAL      pm25  19.555320"
      ]
     },
     "execution_count": 45,
     "metadata": {},
     "output_type": "execute_result"
    }
   ],
   "source": [
    "mexico_pm25 = mexico.groupby(['year', 'city', 'parameter'], as_index=False).agg({'value':'mean'})\n",
    "mexico_pm25"
   ]
  },
  {
   "cell_type": "code",
   "execution_count": 46,
   "id": "4dff4400",
   "metadata": {},
   "outputs": [
    {
     "data": {
      "text/plain": [
       "<AxesSubplot:xlabel='year', ylabel='value'>"
      ]
     },
     "execution_count": 46,
     "metadata": {},
     "output_type": "execute_result"
    },
    {
     "data": {
      "image/png": "[encoded data removed]",
      "text/plain": [
       "<Figure size 432x288 with 1 Axes>"
      ]
     },
     "metadata": {},
     "output_type": "display_data"
    }
   ],
   "source": [
    "sns.barplot(data=mexico_pm25, x='year', y='value')"
   ]
  },
  {
   "cell_type": "markdown",
   "id": "fc059681",
   "metadata": {},
   "source": [
    "### Dehli"
   ]
  },
  {
   "cell_type": "code",
   "execution_count": 47,
   "id": "c43f14a7",
   "metadata": {},
   "outputs": [],
   "source": [
    "dehli = pd.read_csv('Dehli.csv')"
   ]
  },
  {
   "cell_type": "code",
   "execution_count": 48,
   "id": "fb529bf5",
   "metadata": {},
   "outputs": [
    {
     "data": {
      "text/html": [
       "<div>\n",
       "<style scoped>\n",
       "    .dataframe tbody tr th:only-of-type {\n",
       "        vertical-align: middle;\n",
       "    }\n",
       "\n",
       "    .dataframe tbody tr th {\n",
       "        vertical-align: top;\n",
       "    }\n",
       "\n",
       "    .dataframe thead th {\n",
       "        text-align: right;\n",
       "    }\n",
       "</style>\n",
       "<table border=\"1\" class=\"dataframe\">\n",
       "  <thead>\n",
       "    <tr style=\"text-align: right;\">\n",
       "      <th></th>\n",
       "      <th>locationId</th>\n",
       "      <th>location</th>\n",
       "      <th>city</th>\n",
       "      <th>country</th>\n",
       "      <th>utc</th>\n",
       "      <th>local</th>\n",
       "      <th>parameter</th>\n",
       "      <th>value</th>\n",
       "      <th>unit</th>\n",
       "      <th>latitude</th>\n",
       "      <th>longitude</th>\n",
       "    </tr>\n",
       "  </thead>\n",
       "  <tbody>\n",
       "    <tr>\n",
       "      <th>0</th>\n",
       "      <td>5570</td>\n",
       "      <td>Aya Nagar, Delhi - IMD</td>\n",
       "      <td>Delhi</td>\n",
       "      <td>IN</td>\n",
       "      <td>2020-12-31T04:00:00+00:00</td>\n",
       "      <td>2020-12-31T09:30:00+05:30</td>\n",
       "      <td>pm10</td>\n",
       "      <td>179.59</td>\n",
       "      <td>µg/m³</td>\n",
       "      <td>28.470691</td>\n",
       "      <td>77.109936</td>\n",
       "    </tr>\n",
       "    <tr>\n",
       "      <th>1</th>\n",
       "      <td>5570</td>\n",
       "      <td>Aya Nagar, Delhi - IMD</td>\n",
       "      <td>Delhi</td>\n",
       "      <td>IN</td>\n",
       "      <td>2020-12-31T04:00:00+00:00</td>\n",
       "      <td>2020-12-31T09:30:00+05:30</td>\n",
       "      <td>pm25</td>\n",
       "      <td>115.80</td>\n",
       "      <td>µg/m³</td>\n",
       "      <td>28.470691</td>\n",
       "      <td>77.109936</td>\n",
       "    </tr>\n",
       "  </tbody>\n",
       "</table>\n",
       "</div>"
      ],
      "text/plain": [
       "   locationId                location   city country  \\\n",
       "0        5570  Aya Nagar, Delhi - IMD  Delhi      IN   \n",
       "1        5570  Aya Nagar, Delhi - IMD  Delhi      IN   \n",
       "\n",
       "                         utc                      local parameter   value  \\\n",
       "0  2020-12-31T04:00:00+00:00  2020-12-31T09:30:00+05:30      pm10  179.59   \n",
       "1  2020-12-31T04:00:00+00:00  2020-12-31T09:30:00+05:30      pm25  115.80   \n",
       "\n",
       "    unit   latitude  longitude  \n",
       "0  µg/m³  28.470691  77.109936  \n",
       "1  µg/m³  28.470691  77.109936  "
      ]
     },
     "execution_count": 48,
     "metadata": {},
     "output_type": "execute_result"
    }
   ],
   "source": [
    "dehli.head(2)"
   ]
  },
  {
   "cell_type": "code",
   "execution_count": 49,
   "id": "65ed6dae",
   "metadata": {},
   "outputs": [
    {
     "name": "stdout",
     "output_type": "stream",
     "text": [
      "<class 'pandas.core.frame.DataFrame'>\n",
      "RangeIndex: 30500 entries, 0 to 30499\n",
      "Data columns (total 11 columns):\n",
      " #   Column      Non-Null Count  Dtype  \n",
      "---  ------      --------------  -----  \n",
      " 0   locationId  30500 non-null  int64  \n",
      " 1   location    30500 non-null  object \n",
      " 2   city        30500 non-null  object \n",
      " 3   country     30500 non-null  object \n",
      " 4   utc         30500 non-null  object \n",
      " 5   local       30500 non-null  object \n",
      " 6   parameter   30500 non-null  object \n",
      " 7   value       30500 non-null  float64\n",
      " 8   unit        30500 non-null  object \n",
      " 9   latitude    30500 non-null  float64\n",
      " 10  longitude   30500 non-null  float64\n",
      "dtypes: float64(3), int64(1), object(7)\n",
      "memory usage: 2.6+ MB\n"
     ]
    }
   ],
   "source": [
    "dehli.info()"
   ]
  },
  {
   "cell_type": "code",
   "execution_count": 50,
   "id": "78d3ca49",
   "metadata": {},
   "outputs": [
    {
     "data": {
      "text/plain": [
       "(30500, 11)"
      ]
     },
     "execution_count": 50,
     "metadata": {},
     "output_type": "execute_result"
    }
   ],
   "source": [
    "dehli.shape"
   ]
  },
  {
   "cell_type": "code",
   "execution_count": 51,
   "id": "c3df3ff7",
   "metadata": {},
   "outputs": [
    {
     "data": {
      "text/plain": [
       "pm10    15250\n",
       "pm25    15250\n",
       "Name: parameter, dtype: int64"
      ]
     },
     "execution_count": 51,
     "metadata": {},
     "output_type": "execute_result"
    }
   ],
   "source": [
    "dehli['parameter'].value_counts()"
   ]
  },
  {
   "cell_type": "code",
   "execution_count": 52,
   "id": "22e7d4dc",
   "metadata": {},
   "outputs": [
    {
     "data": {
      "text/plain": [
       "µg/m³    30500\n",
       "Name: unit, dtype: int64"
      ]
     },
     "execution_count": 52,
     "metadata": {},
     "output_type": "execute_result"
    }
   ],
   "source": [
    "dehli['unit'].value_counts()"
   ]
  },
  {
   "cell_type": "code",
   "execution_count": 53,
   "id": "2769bc8a",
   "metadata": {},
   "outputs": [],
   "source": [
    "dehli = dehli.loc[dehli['parameter'] == 'pm25']"
   ]
  },
  {
   "cell_type": "code",
   "execution_count": 54,
   "id": "55197d20",
   "metadata": {},
   "outputs": [],
   "source": [
    "dehli['utc'] = pd.to_datetime(dehli['utc'])"
   ]
  },
  {
   "cell_type": "code",
   "execution_count": 55,
   "id": "b109bb18",
   "metadata": {},
   "outputs": [
    {
     "data": {
      "text/html": [
       "<div>\n",
       "<style scoped>\n",
       "    .dataframe tbody tr th:only-of-type {\n",
       "        vertical-align: middle;\n",
       "    }\n",
       "\n",
       "    .dataframe tbody tr th {\n",
       "        vertical-align: top;\n",
       "    }\n",
       "\n",
       "    .dataframe thead th {\n",
       "        text-align: right;\n",
       "    }\n",
       "</style>\n",
       "<table border=\"1\" class=\"dataframe\">\n",
       "  <thead>\n",
       "    <tr style=\"text-align: right;\">\n",
       "      <th></th>\n",
       "      <th>locationId</th>\n",
       "      <th>location</th>\n",
       "      <th>city</th>\n",
       "      <th>country</th>\n",
       "      <th>utc</th>\n",
       "      <th>local</th>\n",
       "      <th>parameter</th>\n",
       "      <th>value</th>\n",
       "      <th>unit</th>\n",
       "      <th>latitude</th>\n",
       "      <th>longitude</th>\n",
       "    </tr>\n",
       "  </thead>\n",
       "  <tbody>\n",
       "    <tr>\n",
       "      <th>30498</th>\n",
       "      <td>5570</td>\n",
       "      <td>Aya Nagar, Delhi - IMD</td>\n",
       "      <td>Delhi</td>\n",
       "      <td>IN</td>\n",
       "      <td>2020-01-01 04:00:00+00:00</td>\n",
       "      <td>2020-01-01T09:30:00+05:30</td>\n",
       "      <td>pm25</td>\n",
       "      <td>446.75</td>\n",
       "      <td>µg/m³</td>\n",
       "      <td>28.470691</td>\n",
       "      <td>77.109936</td>\n",
       "    </tr>\n",
       "    <tr>\n",
       "      <th>30496</th>\n",
       "      <td>5570</td>\n",
       "      <td>Aya Nagar, Delhi - IMD</td>\n",
       "      <td>Delhi</td>\n",
       "      <td>IN</td>\n",
       "      <td>2020-01-01 04:15:00+00:00</td>\n",
       "      <td>2020-01-01T09:45:00+05:30</td>\n",
       "      <td>pm25</td>\n",
       "      <td>400.46</td>\n",
       "      <td>µg/m³</td>\n",
       "      <td>28.470691</td>\n",
       "      <td>77.109936</td>\n",
       "    </tr>\n",
       "  </tbody>\n",
       "</table>\n",
       "</div>"
      ],
      "text/plain": [
       "       locationId                location   city country  \\\n",
       "30498        5570  Aya Nagar, Delhi - IMD  Delhi      IN   \n",
       "30496        5570  Aya Nagar, Delhi - IMD  Delhi      IN   \n",
       "\n",
       "                            utc                      local parameter   value  \\\n",
       "30498 2020-01-01 04:00:00+00:00  2020-01-01T09:30:00+05:30      pm25  446.75   \n",
       "30496 2020-01-01 04:15:00+00:00  2020-01-01T09:45:00+05:30      pm25  400.46   \n",
       "\n",
       "        unit   latitude  longitude  \n",
       "30498  µg/m³  28.470691  77.109936  \n",
       "30496  µg/m³  28.470691  77.109936  "
      ]
     },
     "execution_count": 55,
     "metadata": {},
     "output_type": "execute_result"
    }
   ],
   "source": [
    "dehli = dehli.sort_values('utc')\n",
    "dehli.head(2)"
   ]
  },
  {
   "cell_type": "code",
   "execution_count": 56,
   "id": "a916b56c",
   "metadata": {},
   "outputs": [],
   "source": [
    "dehli['year'] = dehli['utc'].dt.year"
   ]
  },
  {
   "cell_type": "code",
   "execution_count": 57,
   "id": "685827a0",
   "metadata": {},
   "outputs": [
    {
     "data": {
      "text/html": [
       "<div>\n",
       "<style scoped>\n",
       "    .dataframe tbody tr th:only-of-type {\n",
       "        vertical-align: middle;\n",
       "    }\n",
       "\n",
       "    .dataframe tbody tr th {\n",
       "        vertical-align: top;\n",
       "    }\n",
       "\n",
       "    .dataframe thead th {\n",
       "        text-align: right;\n",
       "    }\n",
       "</style>\n",
       "<table border=\"1\" class=\"dataframe\">\n",
       "  <thead>\n",
       "    <tr style=\"text-align: right;\">\n",
       "      <th></th>\n",
       "      <th>locationId</th>\n",
       "      <th>location</th>\n",
       "      <th>city</th>\n",
       "      <th>country</th>\n",
       "      <th>utc</th>\n",
       "      <th>local</th>\n",
       "      <th>parameter</th>\n",
       "      <th>value</th>\n",
       "      <th>unit</th>\n",
       "      <th>latitude</th>\n",
       "      <th>longitude</th>\n",
       "      <th>year</th>\n",
       "    </tr>\n",
       "  </thead>\n",
       "  <tbody>\n",
       "    <tr>\n",
       "      <th>30498</th>\n",
       "      <td>5570</td>\n",
       "      <td>Aya Nagar, Delhi - IMD</td>\n",
       "      <td>Delhi</td>\n",
       "      <td>IN</td>\n",
       "      <td>2020-01-01 04:00:00+00:00</td>\n",
       "      <td>2020-01-01T09:30:00+05:30</td>\n",
       "      <td>pm25</td>\n",
       "      <td>446.75</td>\n",
       "      <td>µg/m³</td>\n",
       "      <td>28.470691</td>\n",
       "      <td>77.109936</td>\n",
       "      <td>2020</td>\n",
       "    </tr>\n",
       "    <tr>\n",
       "      <th>30496</th>\n",
       "      <td>5570</td>\n",
       "      <td>Aya Nagar, Delhi - IMD</td>\n",
       "      <td>Delhi</td>\n",
       "      <td>IN</td>\n",
       "      <td>2020-01-01 04:15:00+00:00</td>\n",
       "      <td>2020-01-01T09:45:00+05:30</td>\n",
       "      <td>pm25</td>\n",
       "      <td>400.46</td>\n",
       "      <td>µg/m³</td>\n",
       "      <td>28.470691</td>\n",
       "      <td>77.109936</td>\n",
       "      <td>2020</td>\n",
       "    </tr>\n",
       "  </tbody>\n",
       "</table>\n",
       "</div>"
      ],
      "text/plain": [
       "       locationId                location   city country  \\\n",
       "30498        5570  Aya Nagar, Delhi - IMD  Delhi      IN   \n",
       "30496        5570  Aya Nagar, Delhi - IMD  Delhi      IN   \n",
       "\n",
       "                            utc                      local parameter   value  \\\n",
       "30498 2020-01-01 04:00:00+00:00  2020-01-01T09:30:00+05:30      pm25  446.75   \n",
       "30496 2020-01-01 04:15:00+00:00  2020-01-01T09:45:00+05:30      pm25  400.46   \n",
       "\n",
       "        unit   latitude  longitude  year  \n",
       "30498  µg/m³  28.470691  77.109936  2020  \n",
       "30496  µg/m³  28.470691  77.109936  2020  "
      ]
     },
     "execution_count": 57,
     "metadata": {},
     "output_type": "execute_result"
    }
   ],
   "source": [
    "dehli.head(2)"
   ]
  },
  {
   "cell_type": "code",
   "execution_count": 58,
   "id": "fb9348d2",
   "metadata": {},
   "outputs": [
    {
     "data": {
      "text/plain": [
       "2020    15250\n",
       "Name: year, dtype: int64"
      ]
     },
     "execution_count": 58,
     "metadata": {},
     "output_type": "execute_result"
    }
   ],
   "source": [
    "dehli['year'].value_counts()"
   ]
  },
  {
   "cell_type": "code",
   "execution_count": 59,
   "id": "d2de381c",
   "metadata": {},
   "outputs": [
    {
     "data": {
      "text/html": [
       "<div>\n",
       "<style scoped>\n",
       "    .dataframe tbody tr th:only-of-type {\n",
       "        vertical-align: middle;\n",
       "    }\n",
       "\n",
       "    .dataframe tbody tr th {\n",
       "        vertical-align: top;\n",
       "    }\n",
       "\n",
       "    .dataframe thead th {\n",
       "        text-align: right;\n",
       "    }\n",
       "</style>\n",
       "<table border=\"1\" class=\"dataframe\">\n",
       "  <thead>\n",
       "    <tr style=\"text-align: right;\">\n",
       "      <th></th>\n",
       "      <th>year</th>\n",
       "      <th>city</th>\n",
       "      <th>parameter</th>\n",
       "      <th>value</th>\n",
       "    </tr>\n",
       "  </thead>\n",
       "  <tbody>\n",
       "    <tr>\n",
       "      <th>0</th>\n",
       "      <td>2020</td>\n",
       "      <td>Delhi</td>\n",
       "      <td>pm25</td>\n",
       "      <td>69.113219</td>\n",
       "    </tr>\n",
       "  </tbody>\n",
       "</table>\n",
       "</div>"
      ],
      "text/plain": [
       "   year   city parameter      value\n",
       "0  2020  Delhi      pm25  69.113219"
      ]
     },
     "execution_count": 59,
     "metadata": {},
     "output_type": "execute_result"
    }
   ],
   "source": [
    "dehli_pm25 = dehli.groupby(['year', 'city', 'parameter'], as_index=False).agg({'value':'mean'})\n",
    "dehli_pm25"
   ]
  },
  {
   "cell_type": "markdown",
   "id": "5b68efb4",
   "metadata": {},
   "source": [
    "**Uniendo los dataframe y evaluando en el año 2020**"
   ]
  },
  {
   "cell_type": "code",
   "execution_count": 60,
   "id": "1c6612d5",
   "metadata": {},
   "outputs": [],
   "source": [
    "mexico_y = mexico_pm25[mexico_pm25['year'] == 2020]"
   ]
  },
  {
   "cell_type": "code",
   "execution_count": 61,
   "id": "9f1170e0",
   "metadata": {},
   "outputs": [],
   "source": [
    "santiago_y = santiago_pm25[santiago_pm25['year'] == 2020]"
   ]
  },
  {
   "cell_type": "code",
   "execution_count": 62,
   "id": "df9860a1",
   "metadata": {},
   "outputs": [],
   "source": [
    "pm_25_by_country = pd.concat([dehli_pm25, mexico_y, santiago_y], axis=0)"
   ]
  },
  {
   "cell_type": "code",
   "execution_count": 63,
   "id": "acc1791b",
   "metadata": {},
   "outputs": [
    {
     "data": {
      "text/html": [
       "<div>\n",
       "<style scoped>\n",
       "    .dataframe tbody tr th:only-of-type {\n",
       "        vertical-align: middle;\n",
       "    }\n",
       "\n",
       "    .dataframe tbody tr th {\n",
       "        vertical-align: top;\n",
       "    }\n",
       "\n",
       "    .dataframe thead th {\n",
       "        text-align: right;\n",
       "    }\n",
       "</style>\n",
       "<table border=\"1\" class=\"dataframe\">\n",
       "  <thead>\n",
       "    <tr style=\"text-align: right;\">\n",
       "      <th></th>\n",
       "      <th>year</th>\n",
       "      <th>city</th>\n",
       "      <th>parameter</th>\n",
       "      <th>value</th>\n",
       "    </tr>\n",
       "  </thead>\n",
       "  <tbody>\n",
       "    <tr>\n",
       "      <th>0</th>\n",
       "      <td>2020</td>\n",
       "      <td>Delhi</td>\n",
       "      <td>pm25</td>\n",
       "      <td>69.113219</td>\n",
       "    </tr>\n",
       "    <tr>\n",
       "      <th>1</th>\n",
       "      <td>2020</td>\n",
       "      <td>DISTRITO FEDERAL</td>\n",
       "      <td>pm25</td>\n",
       "      <td>18.066886</td>\n",
       "    </tr>\n",
       "    <tr>\n",
       "      <th>0</th>\n",
       "      <td>2020</td>\n",
       "      <td>Santiago</td>\n",
       "      <td>pm25</td>\n",
       "      <td>20.293798</td>\n",
       "    </tr>\n",
       "  </tbody>\n",
       "</table>\n",
       "</div>"
      ],
      "text/plain": [
       "   year              city parameter      value\n",
       "0  2020             Delhi      pm25  69.113219\n",
       "1  2020  DISTRITO FEDERAL      pm25  18.066886\n",
       "0  2020          Santiago      pm25  20.293798"
      ]
     },
     "execution_count": 63,
     "metadata": {},
     "output_type": "execute_result"
    }
   ],
   "source": [
    "pm_25_by_country"
   ]
  },
  {
   "cell_type": "code",
   "execution_count": 64,
   "id": "af29183b",
   "metadata": {},
   "outputs": [
    {
     "data": {
      "text/plain": [
       "<AxesSubplot:xlabel='city', ylabel='value'>"
      ]
     },
     "execution_count": 64,
     "metadata": {},
     "output_type": "execute_result"
    },
    {
     "data": {
      "image/png": "[encoded data removed]",
      "text/plain": [
       "<Figure size 432x288 with 1 Axes>"
      ]
     },
     "metadata": {},
     "output_type": "display_data"
    }
   ],
   "source": [
    "sns.barplot(data=pm_25_by_country, x='city', y='value')"
   ]
  },
  {
   "cell_type": "markdown",
   "id": "772b26de",
   "metadata": {},
   "source": [
    "### Historical Data Houston"
   ]
  },
  {
   "cell_type": "code",
   "execution_count": 65,
   "id": "3b75b271",
   "metadata": {},
   "outputs": [],
   "source": [
    "houston_hist = pd.read_csv('houston-east, houston, texas-air-quality.csv')"
   ]
  },
  {
   "cell_type": "code",
   "execution_count": 66,
   "id": "e0d6dca6",
   "metadata": {},
   "outputs": [
    {
     "data": {
      "text/plain": [
       "['date', ' pm25', ' pm10', ' o3', ' no2', ' so2', ' co']"
      ]
     },
     "execution_count": 66,
     "metadata": {},
     "output_type": "execute_result"
    }
   ],
   "source": [
    "to_rename = [column for column in houston_hist.columns]\n",
    "to_rename"
   ]
  },
  {
   "cell_type": "code",
   "execution_count": 67,
   "id": "c83a745c",
   "metadata": {},
   "outputs": [],
   "source": [
    "to_keep = ['date', 'pm25', 'pm10', 'o3', 'no2', 'so2', 'co']"
   ]
  },
  {
   "cell_type": "code",
   "execution_count": 68,
   "id": "945d89d4",
   "metadata": {
    "scrolled": true
   },
   "outputs": [
    {
     "data": {
      "text/plain": [
       "{'date': 'date',\n",
       " ' pm25': 'pm25',\n",
       " ' pm10': 'pm10',\n",
       " ' o3': 'o3',\n",
       " ' no2': 'no2',\n",
       " ' so2': 'so2',\n",
       " ' co': 'co'}"
      ]
     },
     "execution_count": 68,
     "metadata": {},
     "output_type": "execute_result"
    }
   ],
   "source": [
    "dict_hou = dict(zip(to_rename, to_keep))\n",
    "dict_hou"
   ]
  },
  {
   "cell_type": "code",
   "execution_count": 69,
   "id": "6267ecd0",
   "metadata": {},
   "outputs": [],
   "source": [
    "houston_hist.rename(columns=dict_hou, inplace=True)"
   ]
  },
  {
   "cell_type": "code",
   "execution_count": 70,
   "id": "5d1ac01a",
   "metadata": {
    "scrolled": false
   },
   "outputs": [
    {
     "data": {
      "text/html": [
       "<div>\n",
       "<style scoped>\n",
       "    .dataframe tbody tr th:only-of-type {\n",
       "        vertical-align: middle;\n",
       "    }\n",
       "\n",
       "    .dataframe tbody tr th {\n",
       "        vertical-align: top;\n",
       "    }\n",
       "\n",
       "    .dataframe thead th {\n",
       "        text-align: right;\n",
       "    }\n",
       "</style>\n",
       "<table border=\"1\" class=\"dataframe\">\n",
       "  <thead>\n",
       "    <tr style=\"text-align: right;\">\n",
       "      <th></th>\n",
       "      <th>date</th>\n",
       "      <th>pm25</th>\n",
       "      <th>pm10</th>\n",
       "      <th>o3</th>\n",
       "      <th>no2</th>\n",
       "      <th>so2</th>\n",
       "      <th>co</th>\n",
       "    </tr>\n",
       "  </thead>\n",
       "  <tbody>\n",
       "    <tr>\n",
       "      <th>0</th>\n",
       "      <td>2021/10/2</td>\n",
       "      <td>29</td>\n",
       "      <td></td>\n",
       "      <td>19</td>\n",
       "      <td>10</td>\n",
       "      <td></td>\n",
       "      <td></td>\n",
       "    </tr>\n",
       "    <tr>\n",
       "      <th>1</th>\n",
       "      <td>2021/10/3</td>\n",
       "      <td>29</td>\n",
       "      <td></td>\n",
       "      <td></td>\n",
       "      <td></td>\n",
       "      <td></td>\n",
       "      <td></td>\n",
       "    </tr>\n",
       "    <tr>\n",
       "      <th>2</th>\n",
       "      <td>2021/10/4</td>\n",
       "      <td>58</td>\n",
       "      <td></td>\n",
       "      <td></td>\n",
       "      <td></td>\n",
       "      <td></td>\n",
       "      <td></td>\n",
       "    </tr>\n",
       "    <tr>\n",
       "      <th>3</th>\n",
       "      <td>2021/9/2</td>\n",
       "      <td>53</td>\n",
       "      <td></td>\n",
       "      <td>19</td>\n",
       "      <td>8</td>\n",
       "      <td></td>\n",
       "      <td></td>\n",
       "    </tr>\n",
       "    <tr>\n",
       "      <th>4</th>\n",
       "      <td>2021/9/3</td>\n",
       "      <td>56</td>\n",
       "      <td></td>\n",
       "      <td>20</td>\n",
       "      <td>10</td>\n",
       "      <td></td>\n",
       "      <td></td>\n",
       "    </tr>\n",
       "    <tr>\n",
       "      <th>5</th>\n",
       "      <td>2021/9/4</td>\n",
       "      <td>44</td>\n",
       "      <td></td>\n",
       "      <td>25</td>\n",
       "      <td>5</td>\n",
       "      <td></td>\n",
       "      <td></td>\n",
       "    </tr>\n",
       "    <tr>\n",
       "      <th>6</th>\n",
       "      <td>2021/9/5</td>\n",
       "      <td>76</td>\n",
       "      <td></td>\n",
       "      <td>25</td>\n",
       "      <td>3</td>\n",
       "      <td></td>\n",
       "      <td></td>\n",
       "    </tr>\n",
       "    <tr>\n",
       "      <th>7</th>\n",
       "      <td>2021/9/6</td>\n",
       "      <td>81</td>\n",
       "      <td></td>\n",
       "      <td>37</td>\n",
       "      <td>5</td>\n",
       "      <td></td>\n",
       "      <td></td>\n",
       "    </tr>\n",
       "    <tr>\n",
       "      <th>8</th>\n",
       "      <td>2021/9/7</td>\n",
       "      <td>55</td>\n",
       "      <td></td>\n",
       "      <td>41</td>\n",
       "      <td>13</td>\n",
       "      <td></td>\n",
       "      <td></td>\n",
       "    </tr>\n",
       "    <tr>\n",
       "      <th>9</th>\n",
       "      <td>2021/9/8</td>\n",
       "      <td>49</td>\n",
       "      <td></td>\n",
       "      <td>51</td>\n",
       "      <td>19</td>\n",
       "      <td></td>\n",
       "      <td></td>\n",
       "    </tr>\n",
       "  </tbody>\n",
       "</table>\n",
       "</div>"
      ],
      "text/plain": [
       "        date pm25 pm10   o3  no2 so2 co\n",
       "0  2021/10/2   29        19   10       \n",
       "1  2021/10/3   29                      \n",
       "2  2021/10/4   58                      \n",
       "3   2021/9/2   53        19    8       \n",
       "4   2021/9/3   56        20   10       \n",
       "5   2021/9/4   44        25    5       \n",
       "6   2021/9/5   76        25    3       \n",
       "7   2021/9/6   81        37    5       \n",
       "8   2021/9/7   55        41   13       \n",
       "9   2021/9/8   49        51   19       "
      ]
     },
     "execution_count": 70,
     "metadata": {},
     "output_type": "execute_result"
    }
   ],
   "source": [
    "houston_hist.head(10)"
   ]
  },
  {
   "cell_type": "code",
   "execution_count": 71,
   "id": "718b1732",
   "metadata": {},
   "outputs": [
    {
     "data": {
      "text/plain": [
       "(2793, 7)"
      ]
     },
     "execution_count": 71,
     "metadata": {},
     "output_type": "execute_result"
    }
   ],
   "source": [
    "houston_hist.shape"
   ]
  },
  {
   "cell_type": "code",
   "execution_count": 72,
   "id": "75a25df6",
   "metadata": {},
   "outputs": [],
   "source": [
    "houston_hist.drop(columns=['pm10', 'o3', 'no2', 'so2', 'co'], inplace=True)"
   ]
  },
  {
   "cell_type": "code",
   "execution_count": 73,
   "id": "82047ffd",
   "metadata": {},
   "outputs": [],
   "source": [
    "houston_hist['date'] = pd.to_datetime(houston_hist['date'])"
   ]
  },
  {
   "cell_type": "code",
   "execution_count": 74,
   "id": "b9f0944a",
   "metadata": {},
   "outputs": [
    {
     "data": {
      "text/plain": [
       "date    datetime64[ns]\n",
       "pm25            object\n",
       "dtype: object"
      ]
     },
     "execution_count": 74,
     "metadata": {},
     "output_type": "execute_result"
    }
   ],
   "source": [
    "houston_hist.dtypes"
   ]
  },
  {
   "cell_type": "code",
   "execution_count": 75,
   "id": "d92bff08",
   "metadata": {},
   "outputs": [
    {
     "data": {
      "text/html": [
       "<div>\n",
       "<style scoped>\n",
       "    .dataframe tbody tr th:only-of-type {\n",
       "        vertical-align: middle;\n",
       "    }\n",
       "\n",
       "    .dataframe tbody tr th {\n",
       "        vertical-align: top;\n",
       "    }\n",
       "\n",
       "    .dataframe thead th {\n",
       "        text-align: right;\n",
       "    }\n",
       "</style>\n",
       "<table border=\"1\" class=\"dataframe\">\n",
       "  <thead>\n",
       "    <tr style=\"text-align: right;\">\n",
       "      <th></th>\n",
       "      <th>date</th>\n",
       "      <th>pm25</th>\n",
       "    </tr>\n",
       "  </thead>\n",
       "  <tbody>\n",
       "    <tr>\n",
       "      <th>2775</th>\n",
       "      <td>2014-01-01</td>\n",
       "      <td></td>\n",
       "    </tr>\n",
       "    <tr>\n",
       "      <th>2456</th>\n",
       "      <td>2014-01-02</td>\n",
       "      <td>72</td>\n",
       "    </tr>\n",
       "  </tbody>\n",
       "</table>\n",
       "</div>"
      ],
      "text/plain": [
       "           date pm25\n",
       "2775 2014-01-01     \n",
       "2456 2014-01-02   72"
      ]
     },
     "execution_count": 75,
     "metadata": {},
     "output_type": "execute_result"
    }
   ],
   "source": [
    "houston_hist = houston_hist.sort_values('date')\n",
    "houston_hist.head(2)"
   ]
  },
  {
   "cell_type": "code",
   "execution_count": 76,
   "id": "cafdb2dd",
   "metadata": {},
   "outputs": [],
   "source": [
    "houston_hist.set_index('date', inplace=True)"
   ]
  },
  {
   "cell_type": "code",
   "execution_count": 77,
   "id": "7ea058b2",
   "metadata": {
    "scrolled": false
   },
   "outputs": [
    {
     "data": {
      "text/html": [
       "<div>\n",
       "<style scoped>\n",
       "    .dataframe tbody tr th:only-of-type {\n",
       "        vertical-align: middle;\n",
       "    }\n",
       "\n",
       "    .dataframe tbody tr th {\n",
       "        vertical-align: top;\n",
       "    }\n",
       "\n",
       "    .dataframe thead th {\n",
       "        text-align: right;\n",
       "    }\n",
       "</style>\n",
       "<table border=\"1\" class=\"dataframe\">\n",
       "  <thead>\n",
       "    <tr style=\"text-align: right;\">\n",
       "      <th></th>\n",
       "      <th>pm25</th>\n",
       "    </tr>\n",
       "    <tr>\n",
       "      <th>date</th>\n",
       "      <th></th>\n",
       "    </tr>\n",
       "  </thead>\n",
       "  <tbody>\n",
       "    <tr>\n",
       "      <th>2014-01-01</th>\n",
       "      <td></td>\n",
       "    </tr>\n",
       "    <tr>\n",
       "      <th>2014-01-02</th>\n",
       "      <td>72</td>\n",
       "    </tr>\n",
       "  </tbody>\n",
       "</table>\n",
       "</div>"
      ],
      "text/plain": [
       "           pm25\n",
       "date           \n",
       "2014-01-01     \n",
       "2014-01-02   72"
      ]
     },
     "execution_count": 77,
     "metadata": {},
     "output_type": "execute_result"
    }
   ],
   "source": [
    "houston_hist.head(2)"
   ]
  },
  {
   "cell_type": "code",
   "execution_count": 78,
   "id": "7ba0e479",
   "metadata": {},
   "outputs": [
    {
     "data": {
      "text/plain": [
       "pm25    object\n",
       "dtype: object"
      ]
     },
     "execution_count": 78,
     "metadata": {},
     "output_type": "execute_result"
    }
   ],
   "source": [
    "houston_hist.dtypes"
   ]
  },
  {
   "cell_type": "code",
   "execution_count": 79,
   "id": "c90152e0",
   "metadata": {},
   "outputs": [],
   "source": [
    "houston_hist['pm25'] = houston_hist['pm25'].apply(lambda x: x.strip()).replace('', np.nan)"
   ]
  },
  {
   "cell_type": "code",
   "execution_count": 80,
   "id": "5d810fdb",
   "metadata": {
    "scrolled": true
   },
   "outputs": [
    {
     "data": {
      "text/html": [
       "<div>\n",
       "<style scoped>\n",
       "    .dataframe tbody tr th:only-of-type {\n",
       "        vertical-align: middle;\n",
       "    }\n",
       "\n",
       "    .dataframe tbody tr th {\n",
       "        vertical-align: top;\n",
       "    }\n",
       "\n",
       "    .dataframe thead th {\n",
       "        text-align: right;\n",
       "    }\n",
       "</style>\n",
       "<table border=\"1\" class=\"dataframe\">\n",
       "  <thead>\n",
       "    <tr style=\"text-align: right;\">\n",
       "      <th></th>\n",
       "      <th>pm25</th>\n",
       "    </tr>\n",
       "    <tr>\n",
       "      <th>date</th>\n",
       "      <th></th>\n",
       "    </tr>\n",
       "  </thead>\n",
       "  <tbody>\n",
       "    <tr>\n",
       "      <th>2014-01-01</th>\n",
       "      <td>NaN</td>\n",
       "    </tr>\n",
       "    <tr>\n",
       "      <th>2014-01-02</th>\n",
       "      <td>72</td>\n",
       "    </tr>\n",
       "  </tbody>\n",
       "</table>\n",
       "</div>"
      ],
      "text/plain": [
       "           pm25\n",
       "date           \n",
       "2014-01-01  NaN\n",
       "2014-01-02   72"
      ]
     },
     "execution_count": 80,
     "metadata": {},
     "output_type": "execute_result"
    }
   ],
   "source": [
    "houston_hist.head(2)"
   ]
  },
  {
   "cell_type": "code",
   "execution_count": 81,
   "id": "911008a1",
   "metadata": {},
   "outputs": [],
   "source": [
    "houston_hist.dropna(inplace=True)"
   ]
  },
  {
   "cell_type": "code",
   "execution_count": 82,
   "id": "1688ef31",
   "metadata": {},
   "outputs": [],
   "source": [
    "houston_hist['pm25'] = houston_hist['pm25'].astype('int64')"
   ]
  },
  {
   "cell_type": "code",
   "execution_count": 83,
   "id": "7a3e7ebb",
   "metadata": {},
   "outputs": [
    {
     "data": {
      "text/plain": [
       "pm25    int64\n",
       "dtype: object"
      ]
     },
     "execution_count": 83,
     "metadata": {},
     "output_type": "execute_result"
    }
   ],
   "source": [
    "houston_hist.dtypes"
   ]
  },
  {
   "cell_type": "code",
   "execution_count": 84,
   "id": "5adaba43",
   "metadata": {
    "scrolled": true
   },
   "outputs": [
    {
     "data": {
      "text/html": [
       "<div>\n",
       "<style scoped>\n",
       "    .dataframe tbody tr th:only-of-type {\n",
       "        vertical-align: middle;\n",
       "    }\n",
       "\n",
       "    .dataframe tbody tr th {\n",
       "        vertical-align: top;\n",
       "    }\n",
       "\n",
       "    .dataframe thead th {\n",
       "        text-align: right;\n",
       "    }\n",
       "</style>\n",
       "<table border=\"1\" class=\"dataframe\">\n",
       "  <thead>\n",
       "    <tr style=\"text-align: right;\">\n",
       "      <th></th>\n",
       "      <th>pm25</th>\n",
       "    </tr>\n",
       "    <tr>\n",
       "      <th>date</th>\n",
       "      <th></th>\n",
       "    </tr>\n",
       "  </thead>\n",
       "  <tbody>\n",
       "    <tr>\n",
       "      <th>2014-01-02</th>\n",
       "      <td>72</td>\n",
       "    </tr>\n",
       "    <tr>\n",
       "      <th>2014-01-03</th>\n",
       "      <td>61</td>\n",
       "    </tr>\n",
       "  </tbody>\n",
       "</table>\n",
       "</div>"
      ],
      "text/plain": [
       "            pm25\n",
       "date            \n",
       "2014-01-02    72\n",
       "2014-01-03    61"
      ]
     },
     "execution_count": 84,
     "metadata": {},
     "output_type": "execute_result"
    }
   ],
   "source": [
    "houston_hist.head(2)"
   ]
  },
  {
   "cell_type": "code",
   "execution_count": 85,
   "id": "82423559",
   "metadata": {},
   "outputs": [],
   "source": [
    "houston_hist = houston_hist.loc['2019-01-01':]"
   ]
  },
  {
   "cell_type": "code",
   "execution_count": 86,
   "id": "bfdec42a",
   "metadata": {},
   "outputs": [],
   "source": [
    "houston_hist_m = houston_hist['pm25'].resample('MS').mean() "
   ]
  },
  {
   "cell_type": "code",
   "execution_count": 87,
   "id": "862c9d73",
   "metadata": {
    "scrolled": true
   },
   "outputs": [
    {
     "data": {
      "text/plain": [
       "date\n",
       "2019-01-01    37.266667\n",
       "2019-02-01    35.500000\n",
       "2019-03-01    42.806452\n",
       "2019-04-01    35.620690\n",
       "2019-05-01    37.666667\n",
       "2019-06-01    41.166667\n",
       "2019-07-01    38.387097\n",
       "2019-08-01    37.322581\n",
       "2019-09-01    33.666667\n",
       "2019-10-01    33.483871\n",
       "2019-11-01    44.033333\n",
       "2019-12-01    40.533333\n",
       "2020-01-01    36.178571\n",
       "2020-02-01    32.846154\n",
       "2020-03-01    39.000000\n",
       "2020-04-01    41.777778\n",
       "2020-05-01    32.064516\n",
       "2020-06-01    42.300000\n",
       "2020-07-01    46.161290\n",
       "2020-08-01    42.633333\n",
       "2020-09-01    40.066667\n",
       "2020-10-01    40.838710\n",
       "2020-11-01    39.400000\n",
       "2020-12-01    36.516129\n",
       "2021-01-01    41.290323\n",
       "2021-02-01    42.185185\n",
       "2021-03-01    40.580645\n",
       "2021-04-01    42.300000\n",
       "2021-05-01    39.222222\n",
       "2021-06-01    38.652174\n",
       "2021-07-01    42.677419\n",
       "2021-08-01    41.419355\n",
       "2021-09-01    47.066667\n",
       "2021-10-01    35.750000\n",
       "Freq: MS, Name: pm25, dtype: float64"
      ]
     },
     "execution_count": 87,
     "metadata": {},
     "output_type": "execute_result"
    }
   ],
   "source": [
    "houston_hist_m"
   ]
  },
  {
   "cell_type": "code",
   "execution_count": 105,
   "id": "cdfa64c7",
   "metadata": {},
   "outputs": [
    {
     "data": {
      "text/plain": [
       "(34,)"
      ]
     },
     "execution_count": 105,
     "metadata": {},
     "output_type": "execute_result"
    }
   ],
   "source": [
    "houston_hist_m.shape"
   ]
  },
  {
   "cell_type": "code",
   "execution_count": 127,
   "id": "6b703a5d",
   "metadata": {},
   "outputs": [],
   "source": [
    "def plot_df(df, title=\"\", xlabel='Fecha', ylabel='AQI PM2.5', dpi=100):\n",
    "    plt.figure(figsize=(16,5), dpi=dpi)\n",
    "    df.plot()\n",
    "    plt.gca().set(title=title, xlabel=xlabel, ylabel=ylabel)\n",
    "    plt.show()"
   ]
  },
  {
   "cell_type": "code",
   "execution_count": 135,
   "id": "2a3cc3a6",
   "metadata": {
    "scrolled": false
   },
   "outputs": [
    {
     "data": {
      "image/png": "[encoded data removed]",
      "text/plain": [
       "<Figure size 1600x500 with 1 Axes>"
      ]
     },
     "metadata": {},
     "output_type": "display_data"
    }
   ],
   "source": [
    "plot_df(houston_hist_m, title='Data histórica de Houston para PM2.5')"
   ]
  },
  {
   "cell_type": "code",
   "execution_count": 129,
   "id": "d7efa420",
   "metadata": {},
   "outputs": [
    {
     "data": {
      "image/png": "[encoded data removed]",
      "text/plain": [
       "<Figure size 1296x576 with 4 Axes>"
      ]
     },
     "metadata": {},
     "output_type": "display_data"
    }
   ],
   "source": [
    "from pylab import rcParams\n",
    "rcParams['figure.figsize'] = 18, 8\n",
    "\n",
    "decomposition = sm.tsa.seasonal_decompose(houston_hist_m, model='additive')\n",
    "fig = decomposition.plot()"
   ]
  },
  {
   "cell_type": "code",
   "execution_count": 92,
   "id": "538fcd58",
   "metadata": {
    "scrolled": true
   },
   "outputs": [
    {
     "data": {
      "text/plain": [
       "(-5.111417484307345,\n",
       " 1.3296532273038841e-05,\n",
       " 0,\n",
       " 33,\n",
       " {'1%': -3.6461350877925254,\n",
       "  '5%': -2.954126991123355,\n",
       "  '10%': -2.6159676124885216},\n",
       " 127.37254026083517)"
      ]
     },
     "execution_count": 92,
     "metadata": {},
     "output_type": "execute_result"
    }
   ],
   "source": [
    "from statsmodels.tsa.stattools import adfuller\n",
    "\n",
    "test_adf = adfuller(houston_hist_m)\n",
    "\n",
    "test_adf"
   ]
  },
  {
   "cell_type": "markdown",
   "id": "cb9410e2",
   "metadata": {},
   "source": [
    "The null Hypothesis can be rejected since have a critical value of less than -2.9 and p value of less than 0.05. Which means that the time series is stationary."
   ]
  },
  {
   "cell_type": "code",
   "execution_count": 93,
   "id": "a4bf7ad5",
   "metadata": {},
   "outputs": [],
   "source": [
    "p = d = q = range(0, 2)\n",
    "pdq = list(itertools.product(p, d, q))\n",
    "seasonal_pdq = [(x[0], x[1], x[2], 12) for x in list(itertools.product(p, d, q))]"
   ]
  },
  {
   "cell_type": "code",
   "execution_count": 94,
   "id": "8a4a1396",
   "metadata": {},
   "outputs": [
    {
     "name": "stdout",
     "output_type": "stream",
     "text": [
      "SARIMA(0, 0, 0)x(0, 0, 0, 12)12 - AIC:338.4468356512672\n",
      "SARIMA(0, 0, 0)x(0, 0, 1, 12)12 - AIC:209.3150836529246\n",
      "SARIMA(0, 0, 0)x(0, 1, 0, 12)12 - AIC:131.3770963301489\n"
     ]
    },
    {
     "name": "stderr",
     "output_type": "stream",
     "text": [
      "C:\\Users\\c725676\\Anaconda3\\lib\\site-packages\\statsmodels\\tsa\\statespace\\sarimax.py:866: UserWarning: Too few observations to estimate starting parameters for seasonal ARMA. All parameters except for variances will be set to zeros.\n",
      "  warn('Too few observations to estimate starting parameters%s.'\n"
     ]
    },
    {
     "name": "stdout",
     "output_type": "stream",
     "text": [
      "SARIMA(0, 0, 0)x(0, 1, 1, 12)12 - AIC:57.81373063620905\n",
      "SARIMA(0, 0, 0)x(1, 0, 0, 12)12 - AIC:137.7063151010057\n",
      "SARIMA(0, 0, 0)x(1, 0, 1, 12)12 - AIC:131.19700829063711\n",
      "SARIMA(0, 0, 0)x(1, 1, 0, 12)12 - AIC:63.75376018033637\n",
      "SARIMA(0, 0, 0)x(1, 1, 1, 12)12 - AIC:59.81168434781093\n",
      "SARIMA(0, 0, 1)x(0, 0, 0, 12)12 - AIC:291.15801779797846\n",
      "SARIMA(0, 0, 1)x(0, 0, 1, 12)12 - AIC:178.3048189799535\n",
      "SARIMA(0, 0, 1)x(0, 1, 0, 12)12 - AIC:127.67361910601596\n",
      "SARIMA(0, 0, 1)x(0, 1, 1, 12)12 - AIC:51.22691513951407\n",
      "SARIMA(0, 0, 1)x(1, 0, 0, 12)12 - AIC:139.6804564478623\n"
     ]
    },
    {
     "name": "stderr",
     "output_type": "stream",
     "text": [
      "C:\\Users\\c725676\\Anaconda3\\lib\\site-packages\\statsmodels\\base\\model.py:566: ConvergenceWarning: Maximum Likelihood optimization failed to converge. Check mle_retvals\n",
      "  warnings.warn(\"Maximum Likelihood optimization failed to \"\n"
     ]
    },
    {
     "name": "stdout",
     "output_type": "stream",
     "text": [
      "SARIMA(0, 0, 1)x(1, 0, 1, 12)12 - AIC:128.26555394434212\n",
      "SARIMA(0, 0, 1)x(1, 1, 0, 12)12 - AIC:65.62047945087406\n",
      "SARIMA(0, 0, 1)x(1, 1, 1, 12)12 - AIC:53.22235878005536\n",
      "SARIMA(0, 1, 0)x(0, 0, 0, 12)12 - AIC:195.960378755709\n",
      "SARIMA(0, 1, 0)x(0, 0, 1, 12)12 - AIC:125.36014115432536\n",
      "SARIMA(0, 1, 0)x(0, 1, 0, 12)12 - AIC:137.44704327597987\n",
      "SARIMA(0, 1, 0)x(0, 1, 1, 12)12 - AIC:57.27271689717968\n",
      "SARIMA(0, 1, 0)x(1, 0, 0, 12)12 - AIC:130.7947022636453\n",
      "SARIMA(0, 1, 0)x(1, 0, 1, 12)12 - AIC:127.32285574226593\n",
      "SARIMA(0, 1, 0)x(1, 1, 0, 12)12 - AIC:63.1641063967816\n",
      "SARIMA(0, 1, 0)x(1, 1, 1, 12)12 - AIC:59.2726659864597\n",
      "SARIMA(0, 1, 1)x(0, 0, 0, 12)12 - AIC:173.75622680446983\n",
      "SARIMA(0, 1, 1)x(0, 0, 1, 12)12 - AIC:111.3960389305205\n",
      "SARIMA(0, 1, 1)x(0, 1, 0, 12)12 - AIC:123.51407613135305\n",
      "SARIMA(0, 1, 1)x(0, 1, 1, 12)12 - AIC:46.32515788504918\n",
      "SARIMA(0, 1, 1)x(1, 0, 0, 12)12 - AIC:122.19259114417576\n",
      "SARIMA(0, 1, 1)x(1, 0, 1, 12)12 - AIC:113.29794258987907\n",
      "SARIMA(0, 1, 1)x(1, 1, 0, 12)12 - AIC:59.484737336260814\n",
      "SARIMA(0, 1, 1)x(1, 1, 1, 12)12 - AIC:48.90128221714682\n",
      "SARIMA(1, 0, 0)x(0, 0, 0, 12)12 - AIC:202.9676562215943\n",
      "SARIMA(1, 0, 0)x(0, 0, 1, 12)12 - AIC:132.76850427301773\n",
      "SARIMA(1, 0, 0)x(0, 1, 0, 12)12 - AIC:133.16130244413282\n",
      "SARIMA(1, 0, 0)x(0, 1, 1, 12)12 - AIC:59.68963260158969\n",
      "SARIMA(1, 0, 0)x(1, 0, 0, 12)12 - AIC:132.68873689061945\n",
      "SARIMA(1, 0, 0)x(1, 0, 1, 12)12 - AIC:134.68799019602682\n",
      "SARIMA(1, 0, 0)x(1, 1, 0, 12)12 - AIC:59.68953301611653\n",
      "SARIMA(1, 0, 0)x(1, 1, 1, 12)12 - AIC:61.68843188001411\n",
      "SARIMA(1, 0, 1)x(0, 0, 0, 12)12 - AIC:180.18807619846842\n"
     ]
    },
    {
     "name": "stderr",
     "output_type": "stream",
     "text": [
      "C:\\Users\\c725676\\Anaconda3\\lib\\site-packages\\statsmodels\\base\\model.py:566: ConvergenceWarning: Maximum Likelihood optimization failed to converge. Check mle_retvals\n",
      "  warnings.warn(\"Maximum Likelihood optimization failed to \"\n"
     ]
    },
    {
     "name": "stdout",
     "output_type": "stream",
     "text": [
      "SARIMA(1, 0, 1)x(0, 0, 1, 12)12 - AIC:118.6121647067806\n",
      "SARIMA(1, 0, 1)x(0, 1, 0, 12)12 - AIC:129.24395401311745\n",
      "SARIMA(1, 0, 1)x(0, 1, 1, 12)12 - AIC:53.21681806837881\n",
      "SARIMA(1, 0, 1)x(1, 0, 0, 12)12 - AIC:123.48205868519744\n",
      "SARIMA(1, 0, 1)x(1, 0, 1, 12)12 - AIC:120.56080661274838\n",
      "SARIMA(1, 0, 1)x(1, 1, 0, 12)12 - AIC:61.689423341237834\n",
      "SARIMA(1, 0, 1)x(1, 1, 1, 12)12 - AIC:55.213706057257006\n",
      "SARIMA(1, 1, 0)x(0, 0, 0, 12)12 - AIC:193.23375634649773\n",
      "SARIMA(1, 1, 0)x(0, 0, 1, 12)12 - AIC:123.36336347530185\n",
      "SARIMA(1, 1, 0)x(0, 1, 0, 12)12 - AIC:136.70636553930314\n",
      "SARIMA(1, 1, 0)x(0, 1, 1, 12)12 - AIC:55.69118259349587\n",
      "SARIMA(1, 1, 0)x(1, 0, 0, 12)12 - AIC:123.30905676572286\n",
      "SARIMA(1, 1, 0)x(1, 0, 1, 12)12 - AIC:125.28201053149971\n",
      "SARIMA(1, 1, 0)x(1, 1, 0, 12)12 - AIC:55.46592747429078\n",
      "SARIMA(1, 1, 0)x(1, 1, 1, 12)12 - AIC:57.38306311459178\n",
      "SARIMA(1, 1, 1)x(0, 0, 0, 12)12 - AIC:175.743472094801\n",
      "SARIMA(1, 1, 1)x(0, 0, 1, 12)12 - AIC:113.26566270329693\n",
      "SARIMA(1, 1, 1)x(0, 1, 0, 12)12 - AIC:125.49570926692203\n",
      "SARIMA(1, 1, 1)x(0, 1, 1, 12)12 - AIC:47.63208813200369\n",
      "SARIMA(1, 1, 1)x(1, 0, 0, 12)12 - AIC:119.677269197669\n",
      "SARIMA(1, 1, 1)x(1, 0, 1, 12)12 - AIC:115.18958896394085\n",
      "SARIMA(1, 1, 1)x(1, 1, 0, 12)12 - AIC:55.310253336186676\n",
      "SARIMA(1, 1, 1)x(1, 1, 1, 12)12 - AIC:50.620971832071184\n"
     ]
    }
   ],
   "source": [
    "model_param = list()\n",
    "aic = list()\n",
    "\n",
    "for param in pdq:\n",
    "    for param_seasonal in seasonal_pdq:\n",
    "        try:\n",
    "            mod = sm.tsa.statespace.SARIMAX(houston_hist_m,\n",
    "                                            order=param,\n",
    "                                            seasonal_order=param_seasonal,\n",
    "                                            enforce_stationarity=False,\n",
    "                                            enforce_invertibility=False)\n",
    "\n",
    "            results = mod.fit()\n",
    "            model_param.append((param, param_seasonal))\n",
    "            aic.append(results.aic)\n",
    "\n",
    "            print('SARIMA{}x{}12 - AIC:{}'.format(param, param_seasonal, results.aic))\n",
    "        except:\n",
    "            continue"
   ]
  },
  {
   "cell_type": "code",
   "execution_count": 96,
   "id": "08eb8f5d",
   "metadata": {},
   "outputs": [
    {
     "data": {
      "text/html": [
       "<div>\n",
       "<style scoped>\n",
       "    .dataframe tbody tr th:only-of-type {\n",
       "        vertical-align: middle;\n",
       "    }\n",
       "\n",
       "    .dataframe tbody tr th {\n",
       "        vertical-align: top;\n",
       "    }\n",
       "\n",
       "    .dataframe thead th {\n",
       "        text-align: right;\n",
       "    }\n",
       "</style>\n",
       "<table border=\"1\" class=\"dataframe\">\n",
       "  <thead>\n",
       "    <tr style=\"text-align: right;\">\n",
       "      <th></th>\n",
       "      <th>parameters</th>\n",
       "      <th>aic</th>\n",
       "    </tr>\n",
       "  </thead>\n",
       "  <tbody>\n",
       "    <tr>\n",
       "      <th>0</th>\n",
       "      <td>((0, 0, 0), (0, 0, 0, 12))</td>\n",
       "      <td>338.446836</td>\n",
       "    </tr>\n",
       "    <tr>\n",
       "      <th>1</th>\n",
       "      <td>((0, 0, 0), (0, 0, 1, 12))</td>\n",
       "      <td>209.315084</td>\n",
       "    </tr>\n",
       "    <tr>\n",
       "      <th>2</th>\n",
       "      <td>((0, 0, 0), (0, 1, 0, 12))</td>\n",
       "      <td>131.377096</td>\n",
       "    </tr>\n",
       "    <tr>\n",
       "      <th>3</th>\n",
       "      <td>((0, 0, 0), (0, 1, 1, 12))</td>\n",
       "      <td>57.813731</td>\n",
       "    </tr>\n",
       "    <tr>\n",
       "      <th>4</th>\n",
       "      <td>((0, 0, 0), (1, 0, 0, 12))</td>\n",
       "      <td>137.706315</td>\n",
       "    </tr>\n",
       "  </tbody>\n",
       "</table>\n",
       "</div>"
      ],
      "text/plain": [
       "                   parameters         aic\n",
       "0  ((0, 0, 0), (0, 0, 0, 12))  338.446836\n",
       "1  ((0, 0, 0), (0, 0, 1, 12))  209.315084\n",
       "2  ((0, 0, 0), (0, 1, 0, 12))  131.377096\n",
       "3  ((0, 0, 0), (0, 1, 1, 12))   57.813731\n",
       "4  ((0, 0, 0), (1, 0, 0, 12))  137.706315"
      ]
     },
     "execution_count": 96,
     "metadata": {},
     "output_type": "execute_result"
    }
   ],
   "source": [
    "df_model = pd.DataFrame(zip(model_param, aic), columns=['parameters', 'aic'])\n",
    "df_model.head()"
   ]
  },
  {
   "cell_type": "code",
   "execution_count": 97,
   "id": "d7048cce",
   "metadata": {},
   "outputs": [
    {
     "data": {
      "text/plain": [
       "parameters    ((0, 0, 0), (0, 0, 0, 12))\n",
       "aic                            46.325158\n",
       "dtype: object"
      ]
     },
     "execution_count": 97,
     "metadata": {},
     "output_type": "execute_result"
    }
   ],
   "source": [
    "df_model.min()"
   ]
  },
  {
   "cell_type": "code",
   "execution_count": 98,
   "id": "ccc2f331",
   "metadata": {},
   "outputs": [
    {
     "name": "stdout",
     "output_type": "stream",
     "text": [
      "==============================================================================\n",
      "                 coef    std err          z      P>|z|      [0.025      0.975]\n",
      "------------------------------------------------------------------------------\n",
      "ma.L1         -0.9981     53.937     -0.019      0.985    -106.713     104.717\n",
      "ma.S.L12      -0.9698     33.693     -0.029      0.977     -67.006      65.066\n",
      "sigma2        11.4569    749.028      0.015      0.988   -1456.611    1479.524\n",
      "==============================================================================\n"
     ]
    },
    {
     "name": "stderr",
     "output_type": "stream",
     "text": [
      "C:\\Users\\c725676\\Anaconda3\\lib\\site-packages\\statsmodels\\tsa\\statespace\\sarimax.py:866: UserWarning: Too few observations to estimate starting parameters for seasonal ARMA. All parameters except for variances will be set to zeros.\n",
      "  warn('Too few observations to estimate starting parameters%s.'\n"
     ]
    }
   ],
   "source": [
    "model = sm.tsa.statespace.SARIMAX(\n",
    "    houston_hist_m,\n",
    "    order=(0, 1, 1),\n",
    "    seasonal_order=(0, 1, 1, 12),\n",
    "    enforce_stationarity=False\n",
    ")\n",
    "\n",
    "results = model.fit()\n",
    "\n",
    "print(results.summary().tables[1])"
   ]
  },
  {
   "cell_type": "code",
   "execution_count": 99,
   "id": "56c80b66",
   "metadata": {},
   "outputs": [
    {
     "ename": "ValueError",
     "evalue": "Length of endogenous variable must be larger the the number of lags used in the model and the number of observations burned in the log-likelihood calculation.",
     "output_type": "error",
     "traceback": [
      "\u001b[1;31m---------------------------------------------------------------------------\u001b[0m",
      "\u001b[1;31mValueError\u001b[0m                                Traceback (most recent call last)",
      "\u001b[1;32m<ipython-input-99-6cfeaa52b7c1>\u001b[0m in \u001b[0;36m<module>\u001b[1;34m\u001b[0m\n\u001b[1;32m----> 1\u001b[1;33m \u001b[0mresults\u001b[0m\u001b[1;33m.\u001b[0m\u001b[0mplot_diagnostics\u001b[0m\u001b[1;33m(\u001b[0m\u001b[0mfigsize\u001b[0m\u001b[1;33m=\u001b[0m\u001b[1;33m(\u001b[0m\u001b[1;36m16\u001b[0m\u001b[1;33m,\u001b[0m \u001b[1;36m8\u001b[0m\u001b[1;33m)\u001b[0m\u001b[1;33m)\u001b[0m\u001b[1;33m\u001b[0m\u001b[1;33m\u001b[0m\u001b[0m\n\u001b[0m\u001b[0;32m      2\u001b[0m \u001b[0mplt\u001b[0m\u001b[1;33m.\u001b[0m\u001b[0mshow\u001b[0m\u001b[1;33m(\u001b[0m\u001b[1;33m)\u001b[0m\u001b[1;33m\u001b[0m\u001b[1;33m\u001b[0m\u001b[0m\n",
      "\u001b[1;32m~\\Anaconda3\\lib\\site-packages\\statsmodels\\tsa\\statespace\\mlemodel.py\u001b[0m in \u001b[0;36mplot_diagnostics\u001b[1;34m(self, variable, lags, fig, figsize, truncate_endog_names)\u001b[0m\n\u001b[0;32m   4282\u001b[0m \u001b[1;33m\u001b[0m\u001b[0m\n\u001b[0;32m   4283\u001b[0m         \u001b[1;32mif\u001b[0m \u001b[0mresid\u001b[0m\u001b[1;33m.\u001b[0m\u001b[0mshape\u001b[0m\u001b[1;33m[\u001b[0m\u001b[1;36m0\u001b[0m\u001b[1;33m]\u001b[0m \u001b[1;33m<\u001b[0m \u001b[0mmax\u001b[0m\u001b[1;33m(\u001b[0m\u001b[0md\u001b[0m\u001b[1;33m,\u001b[0m \u001b[0mlags\u001b[0m\u001b[1;33m)\u001b[0m\u001b[1;33m:\u001b[0m\u001b[1;33m\u001b[0m\u001b[1;33m\u001b[0m\u001b[0m\n\u001b[1;32m-> 4284\u001b[1;33m             raise ValueError(\n\u001b[0m\u001b[0;32m   4285\u001b[0m                 \u001b[1;34m\"Length of endogenous variable must be larger the the number \"\u001b[0m\u001b[1;33m\u001b[0m\u001b[1;33m\u001b[0m\u001b[0m\n\u001b[0;32m   4286\u001b[0m                 \u001b[1;34m\"of lags used in the model and the number of observations \"\u001b[0m\u001b[1;33m\u001b[0m\u001b[1;33m\u001b[0m\u001b[0m\n",
      "\u001b[1;31mValueError\u001b[0m: Length of endogenous variable must be larger the the number of lags used in the model and the number of observations burned in the log-likelihood calculation."
     ]
    },
    {
     "data": {
      "text/plain": [
       "<Figure size 1152x576 with 0 Axes>"
      ]
     },
     "metadata": {},
     "output_type": "display_data"
    }
   ],
   "source": [
    "results.plot_diagnostics(figsize=(16, 8))\n",
    "plt.show()"
   ]
  },
  {
   "cell_type": "code",
   "execution_count": 100,
   "id": "00e9596f",
   "metadata": {},
   "outputs": [
    {
     "data": {
      "text/html": [
       "<div>\n",
       "<style scoped>\n",
       "    .dataframe tbody tr th:only-of-type {\n",
       "        vertical-align: middle;\n",
       "    }\n",
       "\n",
       "    .dataframe tbody tr th {\n",
       "        vertical-align: top;\n",
       "    }\n",
       "\n",
       "    .dataframe thead th {\n",
       "        text-align: right;\n",
       "    }\n",
       "</style>\n",
       "<table border=\"1\" class=\"dataframe\">\n",
       "  <thead>\n",
       "    <tr style=\"text-align: right;\">\n",
       "      <th></th>\n",
       "      <th>lower pm25</th>\n",
       "      <th>upper pm25</th>\n",
       "    </tr>\n",
       "    <tr>\n",
       "      <th>date</th>\n",
       "      <th></th>\n",
       "      <th></th>\n",
       "    </tr>\n",
       "  </thead>\n",
       "  <tbody>\n",
       "    <tr>\n",
       "      <th>2021-01-01</th>\n",
       "      <td>27.755173</td>\n",
       "      <td>47.041866</td>\n",
       "    </tr>\n",
       "    <tr>\n",
       "      <th>2021-02-01</th>\n",
       "      <td>27.547741</td>\n",
       "      <td>45.428697</td>\n",
       "    </tr>\n",
       "    <tr>\n",
       "      <th>2021-03-01</th>\n",
       "      <td>35.596914</td>\n",
       "      <td>53.116949</td>\n",
       "    </tr>\n",
       "    <tr>\n",
       "      <th>2021-04-01</th>\n",
       "      <td>32.888535</td>\n",
       "      <td>50.163727</td>\n",
       "    </tr>\n",
       "    <tr>\n",
       "      <th>2021-05-01</th>\n",
       "      <td>29.251225</td>\n",
       "      <td>46.349361</td>\n",
       "    </tr>\n",
       "    <tr>\n",
       "      <th>2021-06-01</th>\n",
       "      <td>36.365206</td>\n",
       "      <td>53.329327</td>\n",
       "    </tr>\n",
       "    <tr>\n",
       "      <th>2021-07-01</th>\n",
       "      <td>36.271891</td>\n",
       "      <td>53.131037</td>\n",
       "    </tr>\n",
       "    <tr>\n",
       "      <th>2021-08-01</th>\n",
       "      <td>33.814937</td>\n",
       "      <td>50.589625</td>\n",
       "    </tr>\n",
       "    <tr>\n",
       "      <th>2021-09-01</th>\n",
       "      <td>30.667456</td>\n",
       "      <td>47.372723</td>\n",
       "    </tr>\n",
       "    <tr>\n",
       "      <th>2021-10-01</th>\n",
       "      <td>31.661871</td>\n",
       "      <td>48.309066</td>\n",
       "    </tr>\n",
       "  </tbody>\n",
       "</table>\n",
       "</div>"
      ],
      "text/plain": [
       "            lower pm25  upper pm25\n",
       "date                              \n",
       "2021-01-01   27.755173   47.041866\n",
       "2021-02-01   27.547741   45.428697\n",
       "2021-03-01   35.596914   53.116949\n",
       "2021-04-01   32.888535   50.163727\n",
       "2021-05-01   29.251225   46.349361\n",
       "2021-06-01   36.365206   53.329327\n",
       "2021-07-01   36.271891   53.131037\n",
       "2021-08-01   33.814937   50.589625\n",
       "2021-09-01   30.667456   47.372723\n",
       "2021-10-01   31.661871   48.309066"
      ]
     },
     "execution_count": 100,
     "metadata": {},
     "output_type": "execute_result"
    }
   ],
   "source": [
    "pred = results.get_prediction(start=pd.to_datetime('2021-01-01'))\n",
    "pred_ci = pred.conf_int()\n",
    "pred_ci"
   ]
  },
  {
   "cell_type": "code",
   "execution_count": 126,
   "id": "4f803478",
   "metadata": {},
   "outputs": [
    {
     "data": {
      "image/png": "[encoded data removed]",
      "text/plain": [
       "<Figure size 1008x504 with 1 Axes>"
      ]
     },
     "metadata": {},
     "output_type": "display_data"
    }
   ],
   "source": [
    "\n",
    "\n",
    "ax = houston_hist_m['2019':].plot(label='Datos Observados')\n",
    "\n",
    "pred.predicted_mean.plot(ax=ax, label='Predicciones', alpha=0.7, figsize=(14, 7))\n",
    "\n",
    "ax.fill_between(pred_ci.index,\n",
    "                pred_ci.iloc[:, 0], \n",
    "                pred_ci.iloc[:, 1], \n",
    "                color='gray',\n",
    "                alpha=0.2)\n",
    "\n",
    "ax.set_xlabel('Fecha')\n",
    "ax.set_ylabel('AQI PM2.5')\n",
    "\n",
    "plt.legend()\n",
    "plt.show();"
   ]
  },
  {
   "cell_type": "code",
   "execution_count": 125,
   "id": "3150f4a5",
   "metadata": {},
   "outputs": [
    {
     "data": {
      "image/png": "[encoded data removed]",
      "text/plain": [
       "<Figure size 1008x504 with 1 Axes>"
      ]
     },
     "metadata": {},
     "output_type": "display_data"
    }
   ],
   "source": [
    "prediccion_futura = results.get_forecast(steps=40)\n",
    "pred_ic = prediccion_futura.conf_int()\n",
    "ax = houston_hist_m['2019':].plot(label='Pasado', figsize=(14, 7))\n",
    "prediccion_futura.predicted_mean.plot(ax=ax, label='Pronóstico', alpha=0.7)\n",
    "\n",
    "ax.fill_between(pred_ic.index,\n",
    "                pred_ic.iloc[:, 0],\n",
    "                pred_ic.iloc[:, 1], color='k',\n",
    "                alpha=0.25)\n",
    "\n",
    "ax.set_xlabel('Fecha')\n",
    "ax.set_ylabel('AQI PM2.5')\n",
    "plt.legend()\n",
    "plt.show()"
   ]
  },
  {
   "cell_type": "code",
   "execution_count": 133,
   "id": "455530b9",
   "metadata": {},
   "outputs": [
    {
     "name": "stdout",
     "output_type": "stream",
     "text": [
      "The Mean Squared Error of our forecasts is 19.03\n"
     ]
    }
   ],
   "source": [
    "from sklearn.metrics import mean_squared_error as mse \n",
    "\n",
    "y_forecasted = pred.predicted_mean\n",
    "y_truth = houston_hist_m['2019':]\n",
    "\n",
    "mse = ((y_forecasted - y_truth) ** 2).mean()\n",
    "print('The Mean Squared Error of our forecasts is {}'.format(round(mse, 2)))"
   ]
  },
  {
   "cell_type": "code",
   "execution_count": 134,
   "id": "c54fea4c",
   "metadata": {},
   "outputs": [
    {
     "name": "stdout",
     "output_type": "stream",
     "text": [
      "The Root Mean Squared Error of our forecasts is 4.36\n"
     ]
    }
   ],
   "source": [
    "print('The Root Mean Squared Error of our forecasts is {}'.format(round(np.sqrt(mse), 2)))"
   ]
  },
  {
   "cell_type": "code",
   "execution_count": null,
   "id": "c178fdc5",
   "metadata": {},
   "outputs": [],
   "source": []
  }
 ],
 "metadata": {
  "kernelspec": {
   "display_name": "Python 3",
   "language": "python",
   "name": "python3"
  },
  "language_info": {
   "codemirror_mode": {
    "name": "ipython",
    "version": 3
   },
   "file_extension": ".py",
   "mimetype": "text/x-python",
   "name": "python",
   "nbconvert_exporter": "python",
   "pygments_lexer": "ipython3",
   "version": "3.8.8"
  }
 },
 "nbformat": 4,
 "nbformat_minor": 5
}
