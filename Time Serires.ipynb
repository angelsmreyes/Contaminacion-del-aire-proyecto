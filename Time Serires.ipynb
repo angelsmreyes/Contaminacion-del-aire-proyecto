{
 "cells": [
  {
   "cell_type": "code",
   "execution_count": 38,
   "id": "47e7043d",
   "metadata": {},
   "outputs": [],
   "source": [
    "import pandas as pd \n",
    "import numpy as np\n",
    "import matplotlib.pyplot as plt \n",
    "import seaborn as sns"
   ]
  },
  {
   "cell_type": "markdown",
   "id": "63e9b1c2",
   "metadata": {},
   "source": [
    "### Houston"
   ]
  },
  {
   "cell_type": "code",
   "execution_count": 44,
   "id": "81b7b97d",
   "metadata": {},
   "outputs": [
    {
     "data": {
      "text/html": [
       "<div>\n",
       "<style scoped>\n",
       "    .dataframe tbody tr th:only-of-type {\n",
       "        vertical-align: middle;\n",
       "    }\n",
       "\n",
       "    .dataframe tbody tr th {\n",
       "        vertical-align: top;\n",
       "    }\n",
       "\n",
       "    .dataframe thead th {\n",
       "        text-align: right;\n",
       "    }\n",
       "</style>\n",
       "<table border=\"1\" class=\"dataframe\">\n",
       "  <thead>\n",
       "    <tr style=\"text-align: right;\">\n",
       "      <th></th>\n",
       "      <th>locationId</th>\n",
       "      <th>location</th>\n",
       "      <th>city</th>\n",
       "      <th>country</th>\n",
       "      <th>utc</th>\n",
       "      <th>local</th>\n",
       "      <th>parameter</th>\n",
       "      <th>value</th>\n",
       "      <th>unit</th>\n",
       "      <th>latitude</th>\n",
       "      <th>longitude</th>\n",
       "    </tr>\n",
       "  </thead>\n",
       "  <tbody>\n",
       "    <tr>\n",
       "      <th>0</th>\n",
       "      <td>162</td>\n",
       "      <td>Houston Deer Park C3</td>\n",
       "      <td>Houston-Sugar Land-Baytown</td>\n",
       "      <td>US</td>\n",
       "      <td>2021-10-06T11:00:00+00:00</td>\n",
       "      <td>2021-10-06T06:00:00-05:00</td>\n",
       "      <td>o3</td>\n",
       "      <td>0.001</td>\n",
       "      <td>ppm</td>\n",
       "      <td>29.670025</td>\n",
       "      <td>-95.128508</td>\n",
       "    </tr>\n",
       "    <tr>\n",
       "      <th>1</th>\n",
       "      <td>162</td>\n",
       "      <td>Houston Deer Park C3</td>\n",
       "      <td>Houston-Sugar Land-Baytown</td>\n",
       "      <td>US</td>\n",
       "      <td>2021-10-06T10:00:00+00:00</td>\n",
       "      <td>2021-10-06T05:00:00-05:00</td>\n",
       "      <td>o3</td>\n",
       "      <td>0.003</td>\n",
       "      <td>ppm</td>\n",
       "      <td>29.670025</td>\n",
       "      <td>-95.128508</td>\n",
       "    </tr>\n",
       "  </tbody>\n",
       "</table>\n",
       "</div>"
      ],
      "text/plain": [
       "   locationId              location                        city country  \\\n",
       "0         162  Houston Deer Park C3  Houston-Sugar Land-Baytown      US   \n",
       "1         162  Houston Deer Park C3  Houston-Sugar Land-Baytown      US   \n",
       "\n",
       "                         utc                      local parameter  value unit  \\\n",
       "0  2021-10-06T11:00:00+00:00  2021-10-06T06:00:00-05:00        o3  0.001  ppm   \n",
       "1  2021-10-06T10:00:00+00:00  2021-10-06T05:00:00-05:00        o3  0.003  ppm   \n",
       "\n",
       "    latitude  longitude  \n",
       "0  29.670025 -95.128508  \n",
       "1  29.670025 -95.128508  "
      ]
     },
     "execution_count": 44,
     "metadata": {},
     "output_type": "execute_result"
    }
   ],
   "source": [
    "houston = pd.read_csv('Houston.csv')\n",
    "houston.head(2)"
   ]
  },
  {
   "cell_type": "code",
   "execution_count": 45,
   "id": "137fcc08",
   "metadata": {},
   "outputs": [
    {
     "name": "stdout",
     "output_type": "stream",
     "text": [
      "<class 'pandas.core.frame.DataFrame'>\n",
      "RangeIndex: 56854 entries, 0 to 56853\n",
      "Data columns (total 11 columns):\n",
      " #   Column      Non-Null Count  Dtype  \n",
      "---  ------      --------------  -----  \n",
      " 0   locationId  56854 non-null  int64  \n",
      " 1   location    56854 non-null  object \n",
      " 2   city        56854 non-null  object \n",
      " 3   country     56854 non-null  object \n",
      " 4   utc         56854 non-null  object \n",
      " 5   local       56854 non-null  object \n",
      " 6   parameter   56854 non-null  object \n",
      " 7   value       56854 non-null  float64\n",
      " 8   unit        56854 non-null  object \n",
      " 9   latitude    56854 non-null  float64\n",
      " 10  longitude   56854 non-null  float64\n",
      "dtypes: float64(3), int64(1), object(7)\n",
      "memory usage: 4.8+ MB\n"
     ]
    }
   ],
   "source": [
    "houston.info()"
   ]
  },
  {
   "cell_type": "code",
   "execution_count": 46,
   "id": "6c306ae6",
   "metadata": {},
   "outputs": [
    {
     "data": {
      "text/plain": [
       "(56854, 11)"
      ]
     },
     "execution_count": 46,
     "metadata": {},
     "output_type": "execute_result"
    }
   ],
   "source": [
    "houston.shape"
   ]
  },
  {
   "cell_type": "code",
   "execution_count": 47,
   "id": "d19b4461",
   "metadata": {},
   "outputs": [
    {
     "data": {
      "text/plain": [
       "o3      33762\n",
       "pm25    23092\n",
       "Name: parameter, dtype: int64"
      ]
     },
     "execution_count": 47,
     "metadata": {},
     "output_type": "execute_result"
    }
   ],
   "source": [
    "houston['parameter'].value_counts()"
   ]
  },
  {
   "cell_type": "code",
   "execution_count": 48,
   "id": "3517af1f",
   "metadata": {},
   "outputs": [
    {
     "data": {
      "text/plain": [
       "ppm      33762\n",
       "µg/m³    23092\n",
       "Name: unit, dtype: int64"
      ]
     },
     "execution_count": 48,
     "metadata": {},
     "output_type": "execute_result"
    }
   ],
   "source": [
    "houston['unit'].value_counts()"
   ]
  },
  {
   "cell_type": "code",
   "execution_count": 49,
   "id": "5bd68843",
   "metadata": {},
   "outputs": [],
   "source": [
    "houston = houston.loc[(houston['parameter'] == 'pm25') & (houston['unit'] == 'µg/m³')]"
   ]
  },
  {
   "cell_type": "code",
   "execution_count": 50,
   "id": "b2f0298d",
   "metadata": {},
   "outputs": [],
   "source": [
    "houston['utc'] = pd.to_datetime(houston['utc'])"
   ]
  },
  {
   "cell_type": "code",
   "execution_count": 51,
   "id": "b5457eda",
   "metadata": {},
   "outputs": [
    {
     "data": {
      "text/html": [
       "<div>\n",
       "<style scoped>\n",
       "    .dataframe tbody tr th:only-of-type {\n",
       "        vertical-align: middle;\n",
       "    }\n",
       "\n",
       "    .dataframe tbody tr th {\n",
       "        vertical-align: top;\n",
       "    }\n",
       "\n",
       "    .dataframe thead th {\n",
       "        text-align: right;\n",
       "    }\n",
       "</style>\n",
       "<table border=\"1\" class=\"dataframe\">\n",
       "  <thead>\n",
       "    <tr style=\"text-align: right;\">\n",
       "      <th></th>\n",
       "      <th>locationId</th>\n",
       "      <th>location</th>\n",
       "      <th>city</th>\n",
       "      <th>country</th>\n",
       "      <th>utc</th>\n",
       "      <th>local</th>\n",
       "      <th>parameter</th>\n",
       "      <th>value</th>\n",
       "      <th>unit</th>\n",
       "      <th>latitude</th>\n",
       "      <th>longitude</th>\n",
       "    </tr>\n",
       "  </thead>\n",
       "  <tbody>\n",
       "    <tr>\n",
       "      <th>56853</th>\n",
       "      <td>162</td>\n",
       "      <td>Houston Deer Park C3</td>\n",
       "      <td>Houston-Sugar Land-Baytown</td>\n",
       "      <td>US</td>\n",
       "      <td>2016-06-15 04:00:00+00:00</td>\n",
       "      <td>2016-06-14T23:00:00-05:00</td>\n",
       "      <td>pm25</td>\n",
       "      <td>15.7</td>\n",
       "      <td>µg/m³</td>\n",
       "      <td>29.670025</td>\n",
       "      <td>-95.128508</td>\n",
       "    </tr>\n",
       "    <tr>\n",
       "      <th>56850</th>\n",
       "      <td>162</td>\n",
       "      <td>Houston Deer Park C3</td>\n",
       "      <td>Houston-Sugar Land-Baytown</td>\n",
       "      <td>US</td>\n",
       "      <td>2016-06-15 05:00:00+00:00</td>\n",
       "      <td>2016-06-15T00:00:00-05:00</td>\n",
       "      <td>pm25</td>\n",
       "      <td>15.1</td>\n",
       "      <td>µg/m³</td>\n",
       "      <td>29.670025</td>\n",
       "      <td>-95.128508</td>\n",
       "    </tr>\n",
       "  </tbody>\n",
       "</table>\n",
       "</div>"
      ],
      "text/plain": [
       "       locationId              location                        city country  \\\n",
       "56853         162  Houston Deer Park C3  Houston-Sugar Land-Baytown      US   \n",
       "56850         162  Houston Deer Park C3  Houston-Sugar Land-Baytown      US   \n",
       "\n",
       "                            utc                      local parameter  value  \\\n",
       "56853 2016-06-15 04:00:00+00:00  2016-06-14T23:00:00-05:00      pm25   15.7   \n",
       "56850 2016-06-15 05:00:00+00:00  2016-06-15T00:00:00-05:00      pm25   15.1   \n",
       "\n",
       "        unit   latitude  longitude  \n",
       "56853  µg/m³  29.670025 -95.128508  \n",
       "56850  µg/m³  29.670025 -95.128508  "
      ]
     },
     "execution_count": 51,
     "metadata": {},
     "output_type": "execute_result"
    }
   ],
   "source": [
    "houston = houston.sort_values('utc')\n",
    "houston.head(2)"
   ]
  },
  {
   "cell_type": "code",
   "execution_count": 52,
   "id": "c3f54bc0",
   "metadata": {},
   "outputs": [],
   "source": [
    "houston['year'] = houston['utc'].dt.year"
   ]
  },
  {
   "cell_type": "code",
   "execution_count": 53,
   "id": "615820f5",
   "metadata": {},
   "outputs": [
    {
     "data": {
      "text/html": [
       "<div>\n",
       "<style scoped>\n",
       "    .dataframe tbody tr th:only-of-type {\n",
       "        vertical-align: middle;\n",
       "    }\n",
       "\n",
       "    .dataframe tbody tr th {\n",
       "        vertical-align: top;\n",
       "    }\n",
       "\n",
       "    .dataframe thead th {\n",
       "        text-align: right;\n",
       "    }\n",
       "</style>\n",
       "<table border=\"1\" class=\"dataframe\">\n",
       "  <thead>\n",
       "    <tr style=\"text-align: right;\">\n",
       "      <th></th>\n",
       "      <th>locationId</th>\n",
       "      <th>location</th>\n",
       "      <th>city</th>\n",
       "      <th>country</th>\n",
       "      <th>utc</th>\n",
       "      <th>local</th>\n",
       "      <th>parameter</th>\n",
       "      <th>value</th>\n",
       "      <th>unit</th>\n",
       "      <th>latitude</th>\n",
       "      <th>longitude</th>\n",
       "      <th>year</th>\n",
       "    </tr>\n",
       "  </thead>\n",
       "  <tbody>\n",
       "    <tr>\n",
       "      <th>56853</th>\n",
       "      <td>162</td>\n",
       "      <td>Houston Deer Park C3</td>\n",
       "      <td>Houston-Sugar Land-Baytown</td>\n",
       "      <td>US</td>\n",
       "      <td>2016-06-15 04:00:00+00:00</td>\n",
       "      <td>2016-06-14T23:00:00-05:00</td>\n",
       "      <td>pm25</td>\n",
       "      <td>15.7</td>\n",
       "      <td>µg/m³</td>\n",
       "      <td>29.670025</td>\n",
       "      <td>-95.128508</td>\n",
       "      <td>2016</td>\n",
       "    </tr>\n",
       "    <tr>\n",
       "      <th>56850</th>\n",
       "      <td>162</td>\n",
       "      <td>Houston Deer Park C3</td>\n",
       "      <td>Houston-Sugar Land-Baytown</td>\n",
       "      <td>US</td>\n",
       "      <td>2016-06-15 05:00:00+00:00</td>\n",
       "      <td>2016-06-15T00:00:00-05:00</td>\n",
       "      <td>pm25</td>\n",
       "      <td>15.1</td>\n",
       "      <td>µg/m³</td>\n",
       "      <td>29.670025</td>\n",
       "      <td>-95.128508</td>\n",
       "      <td>2016</td>\n",
       "    </tr>\n",
       "  </tbody>\n",
       "</table>\n",
       "</div>"
      ],
      "text/plain": [
       "       locationId              location                        city country  \\\n",
       "56853         162  Houston Deer Park C3  Houston-Sugar Land-Baytown      US   \n",
       "56850         162  Houston Deer Park C3  Houston-Sugar Land-Baytown      US   \n",
       "\n",
       "                            utc                      local parameter  value  \\\n",
       "56853 2016-06-15 04:00:00+00:00  2016-06-14T23:00:00-05:00      pm25   15.7   \n",
       "56850 2016-06-15 05:00:00+00:00  2016-06-15T00:00:00-05:00      pm25   15.1   \n",
       "\n",
       "        unit   latitude  longitude  year  \n",
       "56853  µg/m³  29.670025 -95.128508  2016  \n",
       "56850  µg/m³  29.670025 -95.128508  2016  "
      ]
     },
     "execution_count": 53,
     "metadata": {},
     "output_type": "execute_result"
    }
   ],
   "source": [
    "houston.head(2)"
   ]
  },
  {
   "cell_type": "code",
   "execution_count": 54,
   "id": "8a2c2412",
   "metadata": {},
   "outputs": [
    {
     "data": {
      "text/plain": [
       "2019    7700\n",
       "2018    5561\n",
       "2017    5316\n",
       "2016    4515\n",
       "Name: year, dtype: int64"
      ]
     },
     "execution_count": 54,
     "metadata": {},
     "output_type": "execute_result"
    }
   ],
   "source": [
    "houston['year'].value_counts()"
   ]
  },
  {
   "cell_type": "code",
   "execution_count": 55,
   "id": "bc1aed61",
   "metadata": {},
   "outputs": [
    {
     "data": {
      "text/html": [
       "<div>\n",
       "<style scoped>\n",
       "    .dataframe tbody tr th:only-of-type {\n",
       "        vertical-align: middle;\n",
       "    }\n",
       "\n",
       "    .dataframe tbody tr th {\n",
       "        vertical-align: top;\n",
       "    }\n",
       "\n",
       "    .dataframe thead th {\n",
       "        text-align: right;\n",
       "    }\n",
       "</style>\n",
       "<table border=\"1\" class=\"dataframe\">\n",
       "  <thead>\n",
       "    <tr style=\"text-align: right;\">\n",
       "      <th></th>\n",
       "      <th>locationId</th>\n",
       "      <th>location</th>\n",
       "      <th>city</th>\n",
       "      <th>country</th>\n",
       "      <th>utc</th>\n",
       "      <th>local</th>\n",
       "      <th>parameter</th>\n",
       "      <th>value</th>\n",
       "      <th>unit</th>\n",
       "      <th>latitude</th>\n",
       "      <th>longitude</th>\n",
       "      <th>year</th>\n",
       "    </tr>\n",
       "  </thead>\n",
       "  <tbody>\n",
       "    <tr>\n",
       "      <th>56853</th>\n",
       "      <td>162</td>\n",
       "      <td>Houston Deer Park C3</td>\n",
       "      <td>Houston-Sugar Land-Baytown</td>\n",
       "      <td>US</td>\n",
       "      <td>2016-06-15 04:00:00+00:00</td>\n",
       "      <td>2016-06-14T23:00:00-05:00</td>\n",
       "      <td>pm25</td>\n",
       "      <td>15.7</td>\n",
       "      <td>µg/m³</td>\n",
       "      <td>29.670025</td>\n",
       "      <td>-95.128508</td>\n",
       "      <td>2016</td>\n",
       "    </tr>\n",
       "    <tr>\n",
       "      <th>56850</th>\n",
       "      <td>162</td>\n",
       "      <td>Houston Deer Park C3</td>\n",
       "      <td>Houston-Sugar Land-Baytown</td>\n",
       "      <td>US</td>\n",
       "      <td>2016-06-15 05:00:00+00:00</td>\n",
       "      <td>2016-06-15T00:00:00-05:00</td>\n",
       "      <td>pm25</td>\n",
       "      <td>15.1</td>\n",
       "      <td>µg/m³</td>\n",
       "      <td>29.670025</td>\n",
       "      <td>-95.128508</td>\n",
       "      <td>2016</td>\n",
       "    </tr>\n",
       "  </tbody>\n",
       "</table>\n",
       "</div>"
      ],
      "text/plain": [
       "       locationId              location                        city country  \\\n",
       "56853         162  Houston Deer Park C3  Houston-Sugar Land-Baytown      US   \n",
       "56850         162  Houston Deer Park C3  Houston-Sugar Land-Baytown      US   \n",
       "\n",
       "                            utc                      local parameter  value  \\\n",
       "56853 2016-06-15 04:00:00+00:00  2016-06-14T23:00:00-05:00      pm25   15.7   \n",
       "56850 2016-06-15 05:00:00+00:00  2016-06-15T00:00:00-05:00      pm25   15.1   \n",
       "\n",
       "        unit   latitude  longitude  year  \n",
       "56853  µg/m³  29.670025 -95.128508  2016  \n",
       "56850  µg/m³  29.670025 -95.128508  2016  "
      ]
     },
     "execution_count": 55,
     "metadata": {},
     "output_type": "execute_result"
    }
   ],
   "source": [
    "houston.head(2)"
   ]
  },
  {
   "cell_type": "code",
   "execution_count": 60,
   "id": "a93088be",
   "metadata": {},
   "outputs": [
    {
     "data": {
      "text/html": [
       "<div>\n",
       "<style scoped>\n",
       "    .dataframe tbody tr th:only-of-type {\n",
       "        vertical-align: middle;\n",
       "    }\n",
       "\n",
       "    .dataframe tbody tr th {\n",
       "        vertical-align: top;\n",
       "    }\n",
       "\n",
       "    .dataframe thead th {\n",
       "        text-align: right;\n",
       "    }\n",
       "</style>\n",
       "<table border=\"1\" class=\"dataframe\">\n",
       "  <thead>\n",
       "    <tr style=\"text-align: right;\">\n",
       "      <th></th>\n",
       "      <th>year</th>\n",
       "      <th>city</th>\n",
       "      <th>parameter</th>\n",
       "      <th>value</th>\n",
       "    </tr>\n",
       "  </thead>\n",
       "  <tbody>\n",
       "    <tr>\n",
       "      <th>0</th>\n",
       "      <td>2016</td>\n",
       "      <td>Houston-Sugar Land-Baytown</td>\n",
       "      <td>pm25</td>\n",
       "      <td>8.191340</td>\n",
       "    </tr>\n",
       "    <tr>\n",
       "      <th>1</th>\n",
       "      <td>2017</td>\n",
       "      <td>Houston-Sugar Land-Baytown</td>\n",
       "      <td>pm25</td>\n",
       "      <td>7.745053</td>\n",
       "    </tr>\n",
       "    <tr>\n",
       "      <th>2</th>\n",
       "      <td>2018</td>\n",
       "      <td>Houston-Sugar Land-Baytown</td>\n",
       "      <td>pm25</td>\n",
       "      <td>8.357957</td>\n",
       "    </tr>\n",
       "    <tr>\n",
       "      <th>3</th>\n",
       "      <td>2019</td>\n",
       "      <td>Houston-Sugar Land-Baytown</td>\n",
       "      <td>pm25</td>\n",
       "      <td>7.292325</td>\n",
       "    </tr>\n",
       "  </tbody>\n",
       "</table>\n",
       "</div>"
      ],
      "text/plain": [
       "   year                        city parameter     value\n",
       "0  2016  Houston-Sugar Land-Baytown      pm25  8.191340\n",
       "1  2017  Houston-Sugar Land-Baytown      pm25  7.745053\n",
       "2  2018  Houston-Sugar Land-Baytown      pm25  8.357957\n",
       "3  2019  Houston-Sugar Land-Baytown      pm25  7.292325"
      ]
     },
     "execution_count": 60,
     "metadata": {},
     "output_type": "execute_result"
    }
   ],
   "source": [
    "houston_pm25 = houston.groupby(['year', 'city', 'parameter'], as_index=False).agg({'value':'mean'})\n",
    "houston_pm25"
   ]
  },
  {
   "cell_type": "code",
   "execution_count": 61,
   "id": "e37d987c",
   "metadata": {},
   "outputs": [
    {
     "data": {
      "text/plain": [
       "<AxesSubplot:xlabel='year', ylabel='value'>"
      ]
     },
     "execution_count": 61,
     "metadata": {},
     "output_type": "execute_result"
    },
    {
     "data": {
      "image/png": "[encoded data removed]",
      "text/plain": [
       "<Figure size 432x288 with 1 Axes>"
      ]
     },
     "metadata": {
      "needs_background": "light"
     },
     "output_type": "display_data"
    }
   ],
   "source": [
    "sns.barplot(data=houston_pm25, x='year', y='value')"
   ]
  },
  {
   "cell_type": "markdown",
   "id": "f8834044",
   "metadata": {},
   "source": [
    "Houston se mantiene por debajo en los valores de contaminación establecidos por la OMS para pm2.5 anualmente."
   ]
  },
  {
   "cell_type": "markdown",
   "id": "705cca69",
   "metadata": {},
   "source": [
    "### Santiago"
   ]
  },
  {
   "cell_type": "code",
   "execution_count": 73,
   "id": "0d4dccf0",
   "metadata": {},
   "outputs": [],
   "source": [
    "santiago = pd.read_csv('Santiago.csv')"
   ]
  },
  {
   "cell_type": "code",
   "execution_count": 74,
   "id": "f2b27759",
   "metadata": {},
   "outputs": [
    {
     "data": {
      "text/html": [
       "<div>\n",
       "<style scoped>\n",
       "    .dataframe tbody tr th:only-of-type {\n",
       "        vertical-align: middle;\n",
       "    }\n",
       "\n",
       "    .dataframe tbody tr th {\n",
       "        vertical-align: top;\n",
       "    }\n",
       "\n",
       "    .dataframe thead th {\n",
       "        text-align: right;\n",
       "    }\n",
       "</style>\n",
       "<table border=\"1\" class=\"dataframe\">\n",
       "  <thead>\n",
       "    <tr style=\"text-align: right;\">\n",
       "      <th></th>\n",
       "      <th>locationId</th>\n",
       "      <th>location</th>\n",
       "      <th>city</th>\n",
       "      <th>country</th>\n",
       "      <th>utc</th>\n",
       "      <th>local</th>\n",
       "      <th>parameter</th>\n",
       "      <th>value</th>\n",
       "      <th>unit</th>\n",
       "      <th>latitude</th>\n",
       "      <th>longitude</th>\n",
       "    </tr>\n",
       "  </thead>\n",
       "  <tbody>\n",
       "    <tr>\n",
       "      <th>0</th>\n",
       "      <td>25</td>\n",
       "      <td>Parque O'Higgins</td>\n",
       "      <td>Santiago</td>\n",
       "      <td>CL</td>\n",
       "      <td>2021-08-20T21:00:00+00:00</td>\n",
       "      <td>2021-08-20T20:00:00-01:00</td>\n",
       "      <td>pm25</td>\n",
       "      <td>30</td>\n",
       "      <td>µg/m³</td>\n",
       "      <td>-33.464142</td>\n",
       "      <td>-70.660797</td>\n",
       "    </tr>\n",
       "    <tr>\n",
       "      <th>1</th>\n",
       "      <td>25</td>\n",
       "      <td>Parque O'Higgins</td>\n",
       "      <td>Santiago</td>\n",
       "      <td>CL</td>\n",
       "      <td>2021-08-20T21:00:00+00:00</td>\n",
       "      <td>2021-08-20T20:00:00-01:00</td>\n",
       "      <td>pm10</td>\n",
       "      <td>100</td>\n",
       "      <td>µg/m³</td>\n",
       "      <td>-33.464142</td>\n",
       "      <td>-70.660797</td>\n",
       "    </tr>\n",
       "  </tbody>\n",
       "</table>\n",
       "</div>"
      ],
      "text/plain": [
       "   locationId          location      city country                        utc  \\\n",
       "0          25  Parque O'Higgins  Santiago      CL  2021-08-20T21:00:00+00:00   \n",
       "1          25  Parque O'Higgins  Santiago      CL  2021-08-20T21:00:00+00:00   \n",
       "\n",
       "                       local parameter  value   unit   latitude  longitude  \n",
       "0  2021-08-20T20:00:00-01:00      pm25     30  µg/m³ -33.464142 -70.660797  \n",
       "1  2021-08-20T20:00:00-01:00      pm10    100  µg/m³ -33.464142 -70.660797  "
      ]
     },
     "execution_count": 74,
     "metadata": {},
     "output_type": "execute_result"
    }
   ],
   "source": [
    "santiago.head(2)"
   ]
  },
  {
   "cell_type": "code",
   "execution_count": 75,
   "id": "7db2ba56",
   "metadata": {},
   "outputs": [
    {
     "name": "stdout",
     "output_type": "stream",
     "text": [
      "<class 'pandas.core.frame.DataFrame'>\n",
      "RangeIndex: 20866 entries, 0 to 20865\n",
      "Data columns (total 11 columns):\n",
      " #   Column      Non-Null Count  Dtype  \n",
      "---  ------      --------------  -----  \n",
      " 0   locationId  20866 non-null  int64  \n",
      " 1   location    20866 non-null  object \n",
      " 2   city        20866 non-null  object \n",
      " 3   country     20866 non-null  object \n",
      " 4   utc         20866 non-null  object \n",
      " 5   local       20866 non-null  object \n",
      " 6   parameter   20866 non-null  object \n",
      " 7   value       20866 non-null  int64  \n",
      " 8   unit        20866 non-null  object \n",
      " 9   latitude    20866 non-null  float64\n",
      " 10  longitude   20866 non-null  float64\n",
      "dtypes: float64(2), int64(2), object(7)\n",
      "memory usage: 1.8+ MB\n"
     ]
    }
   ],
   "source": [
    "santiago.info()"
   ]
  },
  {
   "cell_type": "code",
   "execution_count": 76,
   "id": "a298cbea",
   "metadata": {},
   "outputs": [
    {
     "data": {
      "text/plain": [
       "(20866, 11)"
      ]
     },
     "execution_count": 76,
     "metadata": {},
     "output_type": "execute_result"
    }
   ],
   "source": [
    "santiago.shape"
   ]
  },
  {
   "cell_type": "code",
   "execution_count": 77,
   "id": "33693f26",
   "metadata": {},
   "outputs": [
    {
     "data": {
      "text/plain": [
       "pm25    10434\n",
       "pm10    10432\n",
       "Name: parameter, dtype: int64"
      ]
     },
     "execution_count": 77,
     "metadata": {},
     "output_type": "execute_result"
    }
   ],
   "source": [
    "santiago['parameter'].value_counts()"
   ]
  },
  {
   "cell_type": "code",
   "execution_count": 78,
   "id": "a62331e5",
   "metadata": {},
   "outputs": [
    {
     "data": {
      "text/plain": [
       "µg/m³    20866\n",
       "Name: unit, dtype: int64"
      ]
     },
     "execution_count": 78,
     "metadata": {},
     "output_type": "execute_result"
    }
   ],
   "source": [
    "santiago['unit'].value_counts()"
   ]
  },
  {
   "cell_type": "code",
   "execution_count": 79,
   "id": "01c4616d",
   "metadata": {},
   "outputs": [],
   "source": [
    "santiago = santiago.loc[santiago['parameter'] == 'pm25']"
   ]
  },
  {
   "cell_type": "code",
   "execution_count": 80,
   "id": "124ab482",
   "metadata": {},
   "outputs": [],
   "source": [
    "santiago['utc'] = pd.to_datetime(santiago['utc'])"
   ]
  },
  {
   "cell_type": "code",
   "execution_count": 83,
   "id": "43937b5b",
   "metadata": {},
   "outputs": [
    {
     "data": {
      "text/html": [
       "<div>\n",
       "<style scoped>\n",
       "    .dataframe tbody tr th:only-of-type {\n",
       "        vertical-align: middle;\n",
       "    }\n",
       "\n",
       "    .dataframe tbody tr th {\n",
       "        vertical-align: top;\n",
       "    }\n",
       "\n",
       "    .dataframe thead th {\n",
       "        text-align: right;\n",
       "    }\n",
       "</style>\n",
       "<table border=\"1\" class=\"dataframe\">\n",
       "  <thead>\n",
       "    <tr style=\"text-align: right;\">\n",
       "      <th></th>\n",
       "      <th>locationId</th>\n",
       "      <th>location</th>\n",
       "      <th>city</th>\n",
       "      <th>country</th>\n",
       "      <th>utc</th>\n",
       "      <th>local</th>\n",
       "      <th>parameter</th>\n",
       "      <th>value</th>\n",
       "      <th>unit</th>\n",
       "      <th>latitude</th>\n",
       "      <th>longitude</th>\n",
       "    </tr>\n",
       "  </thead>\n",
       "  <tbody>\n",
       "    <tr>\n",
       "      <th>20865</th>\n",
       "      <td>25</td>\n",
       "      <td>Parque O'Higgins</td>\n",
       "      <td>Santiago</td>\n",
       "      <td>CL</td>\n",
       "      <td>2020-01-01 04:00:00+00:00</td>\n",
       "      <td>2020-01-01T03:00:00-01:00</td>\n",
       "      <td>pm25</td>\n",
       "      <td>10</td>\n",
       "      <td>µg/m³</td>\n",
       "      <td>-33.464142</td>\n",
       "      <td>-70.660797</td>\n",
       "    </tr>\n",
       "    <tr>\n",
       "      <th>20862</th>\n",
       "      <td>25</td>\n",
       "      <td>Parque O'Higgins</td>\n",
       "      <td>Santiago</td>\n",
       "      <td>CL</td>\n",
       "      <td>2020-01-01 05:00:00+00:00</td>\n",
       "      <td>2020-01-01T04:00:00-01:00</td>\n",
       "      <td>pm25</td>\n",
       "      <td>24</td>\n",
       "      <td>µg/m³</td>\n",
       "      <td>-33.464142</td>\n",
       "      <td>-70.660797</td>\n",
       "    </tr>\n",
       "  </tbody>\n",
       "</table>\n",
       "</div>"
      ],
      "text/plain": [
       "       locationId          location      city country  \\\n",
       "20865          25  Parque O'Higgins  Santiago      CL   \n",
       "20862          25  Parque O'Higgins  Santiago      CL   \n",
       "\n",
       "                            utc                      local parameter  value  \\\n",
       "20865 2020-01-01 04:00:00+00:00  2020-01-01T03:00:00-01:00      pm25     10   \n",
       "20862 2020-01-01 05:00:00+00:00  2020-01-01T04:00:00-01:00      pm25     24   \n",
       "\n",
       "        unit   latitude  longitude  \n",
       "20865  µg/m³ -33.464142 -70.660797  \n",
       "20862  µg/m³ -33.464142 -70.660797  "
      ]
     },
     "execution_count": 83,
     "metadata": {},
     "output_type": "execute_result"
    }
   ],
   "source": [
    "santiago = santiago.sort_values('utc')\n",
    "santiago.head(2)"
   ]
  },
  {
   "cell_type": "code",
   "execution_count": 84,
   "id": "a23fb7ea",
   "metadata": {},
   "outputs": [],
   "source": [
    "santiago['year'] = santiago['utc'].dt.year"
   ]
  },
  {
   "cell_type": "code",
   "execution_count": 86,
   "id": "a601fe4a",
   "metadata": {},
   "outputs": [
    {
     "data": {
      "text/html": [
       "<div>\n",
       "<style scoped>\n",
       "    .dataframe tbody tr th:only-of-type {\n",
       "        vertical-align: middle;\n",
       "    }\n",
       "\n",
       "    .dataframe tbody tr th {\n",
       "        vertical-align: top;\n",
       "    }\n",
       "\n",
       "    .dataframe thead th {\n",
       "        text-align: right;\n",
       "    }\n",
       "</style>\n",
       "<table border=\"1\" class=\"dataframe\">\n",
       "  <thead>\n",
       "    <tr style=\"text-align: right;\">\n",
       "      <th></th>\n",
       "      <th>locationId</th>\n",
       "      <th>location</th>\n",
       "      <th>city</th>\n",
       "      <th>country</th>\n",
       "      <th>utc</th>\n",
       "      <th>local</th>\n",
       "      <th>parameter</th>\n",
       "      <th>value</th>\n",
       "      <th>unit</th>\n",
       "      <th>latitude</th>\n",
       "      <th>longitude</th>\n",
       "      <th>year</th>\n",
       "    </tr>\n",
       "  </thead>\n",
       "  <tbody>\n",
       "    <tr>\n",
       "      <th>20865</th>\n",
       "      <td>25</td>\n",
       "      <td>Parque O'Higgins</td>\n",
       "      <td>Santiago</td>\n",
       "      <td>CL</td>\n",
       "      <td>2020-01-01 04:00:00+00:00</td>\n",
       "      <td>2020-01-01T03:00:00-01:00</td>\n",
       "      <td>pm25</td>\n",
       "      <td>10</td>\n",
       "      <td>µg/m³</td>\n",
       "      <td>-33.464142</td>\n",
       "      <td>-70.660797</td>\n",
       "      <td>2020</td>\n",
       "    </tr>\n",
       "    <tr>\n",
       "      <th>20862</th>\n",
       "      <td>25</td>\n",
       "      <td>Parque O'Higgins</td>\n",
       "      <td>Santiago</td>\n",
       "      <td>CL</td>\n",
       "      <td>2020-01-01 05:00:00+00:00</td>\n",
       "      <td>2020-01-01T04:00:00-01:00</td>\n",
       "      <td>pm25</td>\n",
       "      <td>24</td>\n",
       "      <td>µg/m³</td>\n",
       "      <td>-33.464142</td>\n",
       "      <td>-70.660797</td>\n",
       "      <td>2020</td>\n",
       "    </tr>\n",
       "  </tbody>\n",
       "</table>\n",
       "</div>"
      ],
      "text/plain": [
       "       locationId          location      city country  \\\n",
       "20865          25  Parque O'Higgins  Santiago      CL   \n",
       "20862          25  Parque O'Higgins  Santiago      CL   \n",
       "\n",
       "                            utc                      local parameter  value  \\\n",
       "20865 2020-01-01 04:00:00+00:00  2020-01-01T03:00:00-01:00      pm25     10   \n",
       "20862 2020-01-01 05:00:00+00:00  2020-01-01T04:00:00-01:00      pm25     24   \n",
       "\n",
       "        unit   latitude  longitude  year  \n",
       "20865  µg/m³ -33.464142 -70.660797  2020  \n",
       "20862  µg/m³ -33.464142 -70.660797  2020  "
      ]
     },
     "execution_count": 86,
     "metadata": {},
     "output_type": "execute_result"
    }
   ],
   "source": [
    "santiago.head(2)"
   ]
  },
  {
   "cell_type": "code",
   "execution_count": 87,
   "id": "d659aafc",
   "metadata": {},
   "outputs": [
    {
     "data": {
      "text/plain": [
       "2020    7546\n",
       "2021    2888\n",
       "Name: year, dtype: int64"
      ]
     },
     "execution_count": 87,
     "metadata": {},
     "output_type": "execute_result"
    }
   ],
   "source": [
    "santiago['year'].value_counts()"
   ]
  },
  {
   "cell_type": "code",
   "execution_count": 89,
   "id": "aa1f3e2c",
   "metadata": {},
   "outputs": [
    {
     "data": {
      "text/html": [
       "<div>\n",
       "<style scoped>\n",
       "    .dataframe tbody tr th:only-of-type {\n",
       "        vertical-align: middle;\n",
       "    }\n",
       "\n",
       "    .dataframe tbody tr th {\n",
       "        vertical-align: top;\n",
       "    }\n",
       "\n",
       "    .dataframe thead th {\n",
       "        text-align: right;\n",
       "    }\n",
       "</style>\n",
       "<table border=\"1\" class=\"dataframe\">\n",
       "  <thead>\n",
       "    <tr style=\"text-align: right;\">\n",
       "      <th></th>\n",
       "      <th>year</th>\n",
       "      <th>city</th>\n",
       "      <th>parameter</th>\n",
       "      <th>value</th>\n",
       "    </tr>\n",
       "  </thead>\n",
       "  <tbody>\n",
       "    <tr>\n",
       "      <th>0</th>\n",
       "      <td>2020</td>\n",
       "      <td>Santiago</td>\n",
       "      <td>pm25</td>\n",
       "      <td>20.293798</td>\n",
       "    </tr>\n",
       "    <tr>\n",
       "      <th>1</th>\n",
       "      <td>2021</td>\n",
       "      <td>Santiago</td>\n",
       "      <td>pm25</td>\n",
       "      <td>21.945637</td>\n",
       "    </tr>\n",
       "  </tbody>\n",
       "</table>\n",
       "</div>"
      ],
      "text/plain": [
       "   year      city parameter      value\n",
       "0  2020  Santiago      pm25  20.293798\n",
       "1  2021  Santiago      pm25  21.945637"
      ]
     },
     "execution_count": 89,
     "metadata": {},
     "output_type": "execute_result"
    }
   ],
   "source": [
    "santiago_pm25 = santiago.groupby(['year', 'city', 'parameter'], as_index=False).agg({'value':'mean'})\n",
    "santiago_pm25"
   ]
  },
  {
   "cell_type": "code",
   "execution_count": 93,
   "id": "e3a47d6c",
   "metadata": {},
   "outputs": [
    {
     "data": {
      "text/plain": [
       "<AxesSubplot:xlabel='year', ylabel='value'>"
      ]
     },
     "execution_count": 93,
     "metadata": {},
     "output_type": "execute_result"
    },
    {
     "data": {
      "image/png": "[encoded data removed]",
      "text/plain": [
       "<Figure size 432x288 with 1 Axes>"
      ]
     },
     "metadata": {
      "needs_background": "light"
     },
     "output_type": "display_data"
    }
   ],
   "source": [
    "sns.barplot(data=santiago_pm25, x='year', y='value')"
   ]
  },
  {
   "cell_type": "code",
   "execution_count": null,
   "id": "eb8b1abe",
   "metadata": {},
   "outputs": [],
   "source": []
  },
  {
   "cell_type": "markdown",
   "id": "8e2bf363",
   "metadata": {},
   "source": [
    "### Mexico"
   ]
  },
  {
   "cell_type": "code",
   "execution_count": 104,
   "id": "8faeefcd",
   "metadata": {},
   "outputs": [],
   "source": [
    "mexico = pd.read_csv('df_new_cam.csv')"
   ]
  },
  {
   "cell_type": "code",
   "execution_count": 105,
   "id": "f75dabcb",
   "metadata": {},
   "outputs": [
    {
     "data": {
      "text/html": [
       "<div>\n",
       "<style scoped>\n",
       "    .dataframe tbody tr th:only-of-type {\n",
       "        vertical-align: middle;\n",
       "    }\n",
       "\n",
       "    .dataframe tbody tr th {\n",
       "        vertical-align: top;\n",
       "    }\n",
       "\n",
       "    .dataframe thead th {\n",
       "        text-align: right;\n",
       "    }\n",
       "</style>\n",
       "<table border=\"1\" class=\"dataframe\">\n",
       "  <thead>\n",
       "    <tr style=\"text-align: right;\">\n",
       "      <th></th>\n",
       "      <th>locationId</th>\n",
       "      <th>location</th>\n",
       "      <th>city</th>\n",
       "      <th>country</th>\n",
       "      <th>utc</th>\n",
       "      <th>local</th>\n",
       "      <th>parameter</th>\n",
       "      <th>value</th>\n",
       "      <th>unit</th>\n",
       "      <th>latitude</th>\n",
       "      <th>longitude</th>\n",
       "    </tr>\n",
       "  </thead>\n",
       "  <tbody>\n",
       "    <tr>\n",
       "      <th>0</th>\n",
       "      <td>1739</td>\n",
       "      <td>Camarones</td>\n",
       "      <td>DISTRITO FEDERAL</td>\n",
       "      <td>MX</td>\n",
       "      <td>2021-10-06T14:00:00+00:00</td>\n",
       "      <td>2021-10-06T09:00:00-05:00</td>\n",
       "      <td>pm25</td>\n",
       "      <td>5</td>\n",
       "      <td>µg/m³</td>\n",
       "      <td>19.4684</td>\n",
       "      <td>-99.1697</td>\n",
       "    </tr>\n",
       "    <tr>\n",
       "      <th>1</th>\n",
       "      <td>1739</td>\n",
       "      <td>Camarones</td>\n",
       "      <td>DISTRITO FEDERAL</td>\n",
       "      <td>MX</td>\n",
       "      <td>2021-10-06T14:00:00+00:00</td>\n",
       "      <td>2021-10-06T09:00:00-05:00</td>\n",
       "      <td>pm10</td>\n",
       "      <td>17</td>\n",
       "      <td>µg/m³</td>\n",
       "      <td>19.4684</td>\n",
       "      <td>-99.1697</td>\n",
       "    </tr>\n",
       "  </tbody>\n",
       "</table>\n",
       "</div>"
      ],
      "text/plain": [
       "   locationId   location              city country                        utc  \\\n",
       "0        1739  Camarones  DISTRITO FEDERAL      MX  2021-10-06T14:00:00+00:00   \n",
       "1        1739  Camarones  DISTRITO FEDERAL      MX  2021-10-06T14:00:00+00:00   \n",
       "\n",
       "                       local parameter  value   unit  latitude  longitude  \n",
       "0  2021-10-06T09:00:00-05:00      pm25      5  µg/m³   19.4684   -99.1697  \n",
       "1  2021-10-06T09:00:00-05:00      pm10     17  µg/m³   19.4684   -99.1697  "
      ]
     },
     "execution_count": 105,
     "metadata": {},
     "output_type": "execute_result"
    }
   ],
   "source": [
    "mexico.head(2)"
   ]
  },
  {
   "cell_type": "code",
   "execution_count": 106,
   "id": "1e1a020f",
   "metadata": {},
   "outputs": [
    {
     "name": "stdout",
     "output_type": "stream",
     "text": [
      "<class 'pandas.core.frame.DataFrame'>\n",
      "RangeIndex: 14105 entries, 0 to 14104\n",
      "Data columns (total 11 columns):\n",
      " #   Column      Non-Null Count  Dtype  \n",
      "---  ------      --------------  -----  \n",
      " 0   locationId  14105 non-null  int64  \n",
      " 1   location    14105 non-null  object \n",
      " 2   city        14105 non-null  object \n",
      " 3   country     14105 non-null  object \n",
      " 4   utc         14105 non-null  object \n",
      " 5   local       14105 non-null  object \n",
      " 6   parameter   14105 non-null  object \n",
      " 7   value       14105 non-null  int64  \n",
      " 8   unit        14105 non-null  object \n",
      " 9   latitude    14105 non-null  float64\n",
      " 10  longitude   14105 non-null  float64\n",
      "dtypes: float64(2), int64(2), object(7)\n",
      "memory usage: 1.2+ MB\n"
     ]
    }
   ],
   "source": [
    "mexico.info()"
   ]
  },
  {
   "cell_type": "code",
   "execution_count": 107,
   "id": "5a148a85",
   "metadata": {},
   "outputs": [
    {
     "data": {
      "text/plain": [
       "(14105, 11)"
      ]
     },
     "execution_count": 107,
     "metadata": {},
     "output_type": "execute_result"
    }
   ],
   "source": [
    "mexico.shape"
   ]
  },
  {
   "cell_type": "code",
   "execution_count": 108,
   "id": "e1920b09",
   "metadata": {},
   "outputs": [
    {
     "data": {
      "text/plain": [
       "pm10    7086\n",
       "pm25    7019\n",
       "Name: parameter, dtype: int64"
      ]
     },
     "execution_count": 108,
     "metadata": {},
     "output_type": "execute_result"
    }
   ],
   "source": [
    "mexico['parameter'].value_counts()"
   ]
  },
  {
   "cell_type": "code",
   "execution_count": 109,
   "id": "89ae59d3",
   "metadata": {},
   "outputs": [
    {
     "data": {
      "text/plain": [
       "µg/m³    14105\n",
       "Name: unit, dtype: int64"
      ]
     },
     "execution_count": 109,
     "metadata": {},
     "output_type": "execute_result"
    }
   ],
   "source": [
    "mexico['unit'].value_counts()"
   ]
  },
  {
   "cell_type": "code",
   "execution_count": 110,
   "id": "b3fe4210",
   "metadata": {},
   "outputs": [],
   "source": [
    "mexico = mexico.loc[mexico['parameter'] == 'pm25']"
   ]
  },
  {
   "cell_type": "code",
   "execution_count": 111,
   "id": "4e91d7e6",
   "metadata": {},
   "outputs": [],
   "source": [
    "mexico['utc'] = pd.to_datetime(mexico['utc'])"
   ]
  },
  {
   "cell_type": "code",
   "execution_count": 112,
   "id": "b3893ec8",
   "metadata": {},
   "outputs": [
    {
     "data": {
      "text/html": [
       "<div>\n",
       "<style scoped>\n",
       "    .dataframe tbody tr th:only-of-type {\n",
       "        vertical-align: middle;\n",
       "    }\n",
       "\n",
       "    .dataframe tbody tr th {\n",
       "        vertical-align: top;\n",
       "    }\n",
       "\n",
       "    .dataframe thead th {\n",
       "        text-align: right;\n",
       "    }\n",
       "</style>\n",
       "<table border=\"1\" class=\"dataframe\">\n",
       "  <thead>\n",
       "    <tr style=\"text-align: right;\">\n",
       "      <th></th>\n",
       "      <th>locationId</th>\n",
       "      <th>location</th>\n",
       "      <th>city</th>\n",
       "      <th>country</th>\n",
       "      <th>utc</th>\n",
       "      <th>local</th>\n",
       "      <th>parameter</th>\n",
       "      <th>value</th>\n",
       "      <th>unit</th>\n",
       "      <th>latitude</th>\n",
       "      <th>longitude</th>\n",
       "    </tr>\n",
       "  </thead>\n",
       "  <tbody>\n",
       "    <tr>\n",
       "      <th>14104</th>\n",
       "      <td>1739</td>\n",
       "      <td>Camarones</td>\n",
       "      <td>DISTRITO FEDERAL</td>\n",
       "      <td>MX</td>\n",
       "      <td>2019-04-09 20:00:00+00:00</td>\n",
       "      <td>2019-04-09T15:00:00-05:00</td>\n",
       "      <td>pm25</td>\n",
       "      <td>17</td>\n",
       "      <td>µg/m³</td>\n",
       "      <td>19.4684</td>\n",
       "      <td>-99.1697</td>\n",
       "    </tr>\n",
       "    <tr>\n",
       "      <th>14102</th>\n",
       "      <td>1739</td>\n",
       "      <td>Camarones</td>\n",
       "      <td>DISTRITO FEDERAL</td>\n",
       "      <td>MX</td>\n",
       "      <td>2019-04-09 21:00:00+00:00</td>\n",
       "      <td>2019-04-09T16:00:00-05:00</td>\n",
       "      <td>pm25</td>\n",
       "      <td>14</td>\n",
       "      <td>µg/m³</td>\n",
       "      <td>19.4684</td>\n",
       "      <td>-99.1697</td>\n",
       "    </tr>\n",
       "  </tbody>\n",
       "</table>\n",
       "</div>"
      ],
      "text/plain": [
       "       locationId   location              city country  \\\n",
       "14104        1739  Camarones  DISTRITO FEDERAL      MX   \n",
       "14102        1739  Camarones  DISTRITO FEDERAL      MX   \n",
       "\n",
       "                            utc                      local parameter  value  \\\n",
       "14104 2019-04-09 20:00:00+00:00  2019-04-09T15:00:00-05:00      pm25     17   \n",
       "14102 2019-04-09 21:00:00+00:00  2019-04-09T16:00:00-05:00      pm25     14   \n",
       "\n",
       "        unit  latitude  longitude  \n",
       "14104  µg/m³   19.4684   -99.1697  \n",
       "14102  µg/m³   19.4684   -99.1697  "
      ]
     },
     "execution_count": 112,
     "metadata": {},
     "output_type": "execute_result"
    }
   ],
   "source": [
    "mexico = mexico.sort_values('utc')\n",
    "mexico.head(2)"
   ]
  },
  {
   "cell_type": "code",
   "execution_count": 113,
   "id": "ce7a15b1",
   "metadata": {},
   "outputs": [],
   "source": [
    "mexico['year'] = mexico['utc'].dt.year"
   ]
  },
  {
   "cell_type": "code",
   "execution_count": 114,
   "id": "157588c9",
   "metadata": {},
   "outputs": [
    {
     "data": {
      "text/html": [
       "<div>\n",
       "<style scoped>\n",
       "    .dataframe tbody tr th:only-of-type {\n",
       "        vertical-align: middle;\n",
       "    }\n",
       "\n",
       "    .dataframe tbody tr th {\n",
       "        vertical-align: top;\n",
       "    }\n",
       "\n",
       "    .dataframe thead th {\n",
       "        text-align: right;\n",
       "    }\n",
       "</style>\n",
       "<table border=\"1\" class=\"dataframe\">\n",
       "  <thead>\n",
       "    <tr style=\"text-align: right;\">\n",
       "      <th></th>\n",
       "      <th>locationId</th>\n",
       "      <th>location</th>\n",
       "      <th>city</th>\n",
       "      <th>country</th>\n",
       "      <th>utc</th>\n",
       "      <th>local</th>\n",
       "      <th>parameter</th>\n",
       "      <th>value</th>\n",
       "      <th>unit</th>\n",
       "      <th>latitude</th>\n",
       "      <th>longitude</th>\n",
       "      <th>year</th>\n",
       "    </tr>\n",
       "  </thead>\n",
       "  <tbody>\n",
       "    <tr>\n",
       "      <th>14104</th>\n",
       "      <td>1739</td>\n",
       "      <td>Camarones</td>\n",
       "      <td>DISTRITO FEDERAL</td>\n",
       "      <td>MX</td>\n",
       "      <td>2019-04-09 20:00:00+00:00</td>\n",
       "      <td>2019-04-09T15:00:00-05:00</td>\n",
       "      <td>pm25</td>\n",
       "      <td>17</td>\n",
       "      <td>µg/m³</td>\n",
       "      <td>19.4684</td>\n",
       "      <td>-99.1697</td>\n",
       "      <td>2019</td>\n",
       "    </tr>\n",
       "    <tr>\n",
       "      <th>14102</th>\n",
       "      <td>1739</td>\n",
       "      <td>Camarones</td>\n",
       "      <td>DISTRITO FEDERAL</td>\n",
       "      <td>MX</td>\n",
       "      <td>2019-04-09 21:00:00+00:00</td>\n",
       "      <td>2019-04-09T16:00:00-05:00</td>\n",
       "      <td>pm25</td>\n",
       "      <td>14</td>\n",
       "      <td>µg/m³</td>\n",
       "      <td>19.4684</td>\n",
       "      <td>-99.1697</td>\n",
       "      <td>2019</td>\n",
       "    </tr>\n",
       "  </tbody>\n",
       "</table>\n",
       "</div>"
      ],
      "text/plain": [
       "       locationId   location              city country  \\\n",
       "14104        1739  Camarones  DISTRITO FEDERAL      MX   \n",
       "14102        1739  Camarones  DISTRITO FEDERAL      MX   \n",
       "\n",
       "                            utc                      local parameter  value  \\\n",
       "14104 2019-04-09 20:00:00+00:00  2019-04-09T15:00:00-05:00      pm25     17   \n",
       "14102 2019-04-09 21:00:00+00:00  2019-04-09T16:00:00-05:00      pm25     14   \n",
       "\n",
       "        unit  latitude  longitude  year  \n",
       "14104  µg/m³   19.4684   -99.1697  2019  \n",
       "14102  µg/m³   19.4684   -99.1697  2019  "
      ]
     },
     "execution_count": 114,
     "metadata": {},
     "output_type": "execute_result"
    }
   ],
   "source": [
    "mexico.head(2)"
   ]
  },
  {
   "cell_type": "code",
   "execution_count": 115,
   "id": "80834412",
   "metadata": {},
   "outputs": [
    {
     "data": {
      "text/plain": [
       "2020    3349\n",
       "2021    2359\n",
       "2019    1311\n",
       "Name: year, dtype: int64"
      ]
     },
     "execution_count": 115,
     "metadata": {},
     "output_type": "execute_result"
    }
   ],
   "source": [
    "mexico['year'].value_counts()"
   ]
  },
  {
   "cell_type": "code",
   "execution_count": 116,
   "id": "266ef139",
   "metadata": {},
   "outputs": [
    {
     "data": {
      "text/html": [
       "<div>\n",
       "<style scoped>\n",
       "    .dataframe tbody tr th:only-of-type {\n",
       "        vertical-align: middle;\n",
       "    }\n",
       "\n",
       "    .dataframe tbody tr th {\n",
       "        vertical-align: top;\n",
       "    }\n",
       "\n",
       "    .dataframe thead th {\n",
       "        text-align: right;\n",
       "    }\n",
       "</style>\n",
       "<table border=\"1\" class=\"dataframe\">\n",
       "  <thead>\n",
       "    <tr style=\"text-align: right;\">\n",
       "      <th></th>\n",
       "      <th>year</th>\n",
       "      <th>city</th>\n",
       "      <th>parameter</th>\n",
       "      <th>value</th>\n",
       "    </tr>\n",
       "  </thead>\n",
       "  <tbody>\n",
       "    <tr>\n",
       "      <th>0</th>\n",
       "      <td>2019</td>\n",
       "      <td>DISTRITO FEDERAL</td>\n",
       "      <td>pm25</td>\n",
       "      <td>26.372235</td>\n",
       "    </tr>\n",
       "    <tr>\n",
       "      <th>1</th>\n",
       "      <td>2020</td>\n",
       "      <td>DISTRITO FEDERAL</td>\n",
       "      <td>pm25</td>\n",
       "      <td>18.066886</td>\n",
       "    </tr>\n",
       "    <tr>\n",
       "      <th>2</th>\n",
       "      <td>2021</td>\n",
       "      <td>DISTRITO FEDERAL</td>\n",
       "      <td>pm25</td>\n",
       "      <td>19.555320</td>\n",
       "    </tr>\n",
       "  </tbody>\n",
       "</table>\n",
       "</div>"
      ],
      "text/plain": [
       "   year              city parameter      value\n",
       "0  2019  DISTRITO FEDERAL      pm25  26.372235\n",
       "1  2020  DISTRITO FEDERAL      pm25  18.066886\n",
       "2  2021  DISTRITO FEDERAL      pm25  19.555320"
      ]
     },
     "execution_count": 116,
     "metadata": {},
     "output_type": "execute_result"
    }
   ],
   "source": [
    "mexico_pm25 = mexico.groupby(['year', 'city', 'parameter'], as_index=False).agg({'value':'mean'})\n",
    "mexico_pm25"
   ]
  },
  {
   "cell_type": "code",
   "execution_count": 118,
   "id": "4dff4400",
   "metadata": {},
   "outputs": [
    {
     "data": {
      "text/plain": [
       "<AxesSubplot:xlabel='year', ylabel='value'>"
      ]
     },
     "execution_count": 118,
     "metadata": {},
     "output_type": "execute_result"
    },
    {
     "data": {
      "image/png": "[encoded data removed]",
      "text/plain": [
       "<Figure size 432x288 with 1 Axes>"
      ]
     },
     "metadata": {
      "needs_background": "light"
     },
     "output_type": "display_data"
    }
   ],
   "source": [
    "sns.barplot(data=mexico_pm25, x='year', y='value')"
   ]
  },
  {
   "cell_type": "markdown",
   "id": "28d50d2b",
   "metadata": {},
   "source": [
    "### Dehli"
   ]
  },
  {
   "cell_type": "code",
   "execution_count": 128,
   "id": "17e8044f",
   "metadata": {},
   "outputs": [],
   "source": [
    "dehli = pd.read_csv('Dehli.csv')"
   ]
  },
  {
   "cell_type": "code",
   "execution_count": 129,
   "id": "574bb2dc",
   "metadata": {},
   "outputs": [
    {
     "data": {
      "text/html": [
       "<div>\n",
       "<style scoped>\n",
       "    .dataframe tbody tr th:only-of-type {\n",
       "        vertical-align: middle;\n",
       "    }\n",
       "\n",
       "    .dataframe tbody tr th {\n",
       "        vertical-align: top;\n",
       "    }\n",
       "\n",
       "    .dataframe thead th {\n",
       "        text-align: right;\n",
       "    }\n",
       "</style>\n",
       "<table border=\"1\" class=\"dataframe\">\n",
       "  <thead>\n",
       "    <tr style=\"text-align: right;\">\n",
       "      <th></th>\n",
       "      <th>locationId</th>\n",
       "      <th>location</th>\n",
       "      <th>city</th>\n",
       "      <th>country</th>\n",
       "      <th>utc</th>\n",
       "      <th>local</th>\n",
       "      <th>parameter</th>\n",
       "      <th>value</th>\n",
       "      <th>unit</th>\n",
       "      <th>latitude</th>\n",
       "      <th>longitude</th>\n",
       "    </tr>\n",
       "  </thead>\n",
       "  <tbody>\n",
       "    <tr>\n",
       "      <th>0</th>\n",
       "      <td>5570</td>\n",
       "      <td>Aya Nagar, Delhi - IMD</td>\n",
       "      <td>Delhi</td>\n",
       "      <td>IN</td>\n",
       "      <td>2020-12-31T04:00:00+00:00</td>\n",
       "      <td>2020-12-31T09:30:00+05:30</td>\n",
       "      <td>pm10</td>\n",
       "      <td>179.59</td>\n",
       "      <td>µg/m³</td>\n",
       "      <td>28.470691</td>\n",
       "      <td>77.109936</td>\n",
       "    </tr>\n",
       "    <tr>\n",
       "      <th>1</th>\n",
       "      <td>5570</td>\n",
       "      <td>Aya Nagar, Delhi - IMD</td>\n",
       "      <td>Delhi</td>\n",
       "      <td>IN</td>\n",
       "      <td>2020-12-31T04:00:00+00:00</td>\n",
       "      <td>2020-12-31T09:30:00+05:30</td>\n",
       "      <td>pm25</td>\n",
       "      <td>115.80</td>\n",
       "      <td>µg/m³</td>\n",
       "      <td>28.470691</td>\n",
       "      <td>77.109936</td>\n",
       "    </tr>\n",
       "  </tbody>\n",
       "</table>\n",
       "</div>"
      ],
      "text/plain": [
       "   locationId                location   city country  \\\n",
       "0        5570  Aya Nagar, Delhi - IMD  Delhi      IN   \n",
       "1        5570  Aya Nagar, Delhi - IMD  Delhi      IN   \n",
       "\n",
       "                         utc                      local parameter   value  \\\n",
       "0  2020-12-31T04:00:00+00:00  2020-12-31T09:30:00+05:30      pm10  179.59   \n",
       "1  2020-12-31T04:00:00+00:00  2020-12-31T09:30:00+05:30      pm25  115.80   \n",
       "\n",
       "    unit   latitude  longitude  \n",
       "0  µg/m³  28.470691  77.109936  \n",
       "1  µg/m³  28.470691  77.109936  "
      ]
     },
     "execution_count": 129,
     "metadata": {},
     "output_type": "execute_result"
    }
   ],
   "source": [
    "dehli.head(2)"
   ]
  },
  {
   "cell_type": "code",
   "execution_count": 130,
   "id": "f0d48e21",
   "metadata": {},
   "outputs": [
    {
     "name": "stdout",
     "output_type": "stream",
     "text": [
      "<class 'pandas.core.frame.DataFrame'>\n",
      "RangeIndex: 30500 entries, 0 to 30499\n",
      "Data columns (total 11 columns):\n",
      " #   Column      Non-Null Count  Dtype  \n",
      "---  ------      --------------  -----  \n",
      " 0   locationId  30500 non-null  int64  \n",
      " 1   location    30500 non-null  object \n",
      " 2   city        30500 non-null  object \n",
      " 3   country     30500 non-null  object \n",
      " 4   utc         30500 non-null  object \n",
      " 5   local       30500 non-null  object \n",
      " 6   parameter   30500 non-null  object \n",
      " 7   value       30500 non-null  float64\n",
      " 8   unit        30500 non-null  object \n",
      " 9   latitude    30500 non-null  float64\n",
      " 10  longitude   30500 non-null  float64\n",
      "dtypes: float64(3), int64(1), object(7)\n",
      "memory usage: 2.6+ MB\n"
     ]
    }
   ],
   "source": [
    "dehli.info()"
   ]
  },
  {
   "cell_type": "code",
   "execution_count": 131,
   "id": "2c9f6c6b",
   "metadata": {},
   "outputs": [
    {
     "data": {
      "text/plain": [
       "(30500, 11)"
      ]
     },
     "execution_count": 131,
     "metadata": {},
     "output_type": "execute_result"
    }
   ],
   "source": [
    "dehli.shape"
   ]
  },
  {
   "cell_type": "code",
   "execution_count": 132,
   "id": "bf3e46f5",
   "metadata": {},
   "outputs": [
    {
     "data": {
      "text/plain": [
       "pm25    15250\n",
       "pm10    15250\n",
       "Name: parameter, dtype: int64"
      ]
     },
     "execution_count": 132,
     "metadata": {},
     "output_type": "execute_result"
    }
   ],
   "source": [
    "dehli['parameter'].value_counts()"
   ]
  },
  {
   "cell_type": "code",
   "execution_count": 133,
   "id": "4d215f53",
   "metadata": {},
   "outputs": [
    {
     "data": {
      "text/plain": [
       "µg/m³    30500\n",
       "Name: unit, dtype: int64"
      ]
     },
     "execution_count": 133,
     "metadata": {},
     "output_type": "execute_result"
    }
   ],
   "source": [
    "dehli['unit'].value_counts()"
   ]
  },
  {
   "cell_type": "code",
   "execution_count": 134,
   "id": "d555ec90",
   "metadata": {},
   "outputs": [],
   "source": [
    "dehli = dehli.loc[dehli['parameter'] == 'pm25']"
   ]
  },
  {
   "cell_type": "code",
   "execution_count": 135,
   "id": "4230f110",
   "metadata": {},
   "outputs": [],
   "source": [
    "dehli['utc'] = pd.to_datetime(dehli['utc'])"
   ]
  },
  {
   "cell_type": "code",
   "execution_count": 136,
   "id": "8e19ec77",
   "metadata": {},
   "outputs": [
    {
     "data": {
      "text/html": [
       "<div>\n",
       "<style scoped>\n",
       "    .dataframe tbody tr th:only-of-type {\n",
       "        vertical-align: middle;\n",
       "    }\n",
       "\n",
       "    .dataframe tbody tr th {\n",
       "        vertical-align: top;\n",
       "    }\n",
       "\n",
       "    .dataframe thead th {\n",
       "        text-align: right;\n",
       "    }\n",
       "</style>\n",
       "<table border=\"1\" class=\"dataframe\">\n",
       "  <thead>\n",
       "    <tr style=\"text-align: right;\">\n",
       "      <th></th>\n",
       "      <th>locationId</th>\n",
       "      <th>location</th>\n",
       "      <th>city</th>\n",
       "      <th>country</th>\n",
       "      <th>utc</th>\n",
       "      <th>local</th>\n",
       "      <th>parameter</th>\n",
       "      <th>value</th>\n",
       "      <th>unit</th>\n",
       "      <th>latitude</th>\n",
       "      <th>longitude</th>\n",
       "    </tr>\n",
       "  </thead>\n",
       "  <tbody>\n",
       "    <tr>\n",
       "      <th>30498</th>\n",
       "      <td>5570</td>\n",
       "      <td>Aya Nagar, Delhi - IMD</td>\n",
       "      <td>Delhi</td>\n",
       "      <td>IN</td>\n",
       "      <td>2020-01-01 04:00:00+00:00</td>\n",
       "      <td>2020-01-01T09:30:00+05:30</td>\n",
       "      <td>pm25</td>\n",
       "      <td>446.75</td>\n",
       "      <td>µg/m³</td>\n",
       "      <td>28.470691</td>\n",
       "      <td>77.109936</td>\n",
       "    </tr>\n",
       "    <tr>\n",
       "      <th>30496</th>\n",
       "      <td>5570</td>\n",
       "      <td>Aya Nagar, Delhi - IMD</td>\n",
       "      <td>Delhi</td>\n",
       "      <td>IN</td>\n",
       "      <td>2020-01-01 04:15:00+00:00</td>\n",
       "      <td>2020-01-01T09:45:00+05:30</td>\n",
       "      <td>pm25</td>\n",
       "      <td>400.46</td>\n",
       "      <td>µg/m³</td>\n",
       "      <td>28.470691</td>\n",
       "      <td>77.109936</td>\n",
       "    </tr>\n",
       "  </tbody>\n",
       "</table>\n",
       "</div>"
      ],
      "text/plain": [
       "       locationId                location   city country  \\\n",
       "30498        5570  Aya Nagar, Delhi - IMD  Delhi      IN   \n",
       "30496        5570  Aya Nagar, Delhi - IMD  Delhi      IN   \n",
       "\n",
       "                            utc                      local parameter   value  \\\n",
       "30498 2020-01-01 04:00:00+00:00  2020-01-01T09:30:00+05:30      pm25  446.75   \n",
       "30496 2020-01-01 04:15:00+00:00  2020-01-01T09:45:00+05:30      pm25  400.46   \n",
       "\n",
       "        unit   latitude  longitude  \n",
       "30498  µg/m³  28.470691  77.109936  \n",
       "30496  µg/m³  28.470691  77.109936  "
      ]
     },
     "execution_count": 136,
     "metadata": {},
     "output_type": "execute_result"
    }
   ],
   "source": [
    "dehli = dehli.sort_values('utc')\n",
    "dehli.head(2)"
   ]
  },
  {
   "cell_type": "code",
   "execution_count": 137,
   "id": "a7820a40",
   "metadata": {},
   "outputs": [],
   "source": [
    "dehli['year'] = dehli['utc'].dt.year"
   ]
  },
  {
   "cell_type": "code",
   "execution_count": 138,
   "id": "10df5c96",
   "metadata": {},
   "outputs": [
    {
     "data": {
      "text/html": [
       "<div>\n",
       "<style scoped>\n",
       "    .dataframe tbody tr th:only-of-type {\n",
       "        vertical-align: middle;\n",
       "    }\n",
       "\n",
       "    .dataframe tbody tr th {\n",
       "        vertical-align: top;\n",
       "    }\n",
       "\n",
       "    .dataframe thead th {\n",
       "        text-align: right;\n",
       "    }\n",
       "</style>\n",
       "<table border=\"1\" class=\"dataframe\">\n",
       "  <thead>\n",
       "    <tr style=\"text-align: right;\">\n",
       "      <th></th>\n",
       "      <th>locationId</th>\n",
       "      <th>location</th>\n",
       "      <th>city</th>\n",
       "      <th>country</th>\n",
       "      <th>utc</th>\n",
       "      <th>local</th>\n",
       "      <th>parameter</th>\n",
       "      <th>value</th>\n",
       "      <th>unit</th>\n",
       "      <th>latitude</th>\n",
       "      <th>longitude</th>\n",
       "      <th>year</th>\n",
       "    </tr>\n",
       "  </thead>\n",
       "  <tbody>\n",
       "    <tr>\n",
       "      <th>30498</th>\n",
       "      <td>5570</td>\n",
       "      <td>Aya Nagar, Delhi - IMD</td>\n",
       "      <td>Delhi</td>\n",
       "      <td>IN</td>\n",
       "      <td>2020-01-01 04:00:00+00:00</td>\n",
       "      <td>2020-01-01T09:30:00+05:30</td>\n",
       "      <td>pm25</td>\n",
       "      <td>446.75</td>\n",
       "      <td>µg/m³</td>\n",
       "      <td>28.470691</td>\n",
       "      <td>77.109936</td>\n",
       "      <td>2020</td>\n",
       "    </tr>\n",
       "    <tr>\n",
       "      <th>30496</th>\n",
       "      <td>5570</td>\n",
       "      <td>Aya Nagar, Delhi - IMD</td>\n",
       "      <td>Delhi</td>\n",
       "      <td>IN</td>\n",
       "      <td>2020-01-01 04:15:00+00:00</td>\n",
       "      <td>2020-01-01T09:45:00+05:30</td>\n",
       "      <td>pm25</td>\n",
       "      <td>400.46</td>\n",
       "      <td>µg/m³</td>\n",
       "      <td>28.470691</td>\n",
       "      <td>77.109936</td>\n",
       "      <td>2020</td>\n",
       "    </tr>\n",
       "  </tbody>\n",
       "</table>\n",
       "</div>"
      ],
      "text/plain": [
       "       locationId                location   city country  \\\n",
       "30498        5570  Aya Nagar, Delhi - IMD  Delhi      IN   \n",
       "30496        5570  Aya Nagar, Delhi - IMD  Delhi      IN   \n",
       "\n",
       "                            utc                      local parameter   value  \\\n",
       "30498 2020-01-01 04:00:00+00:00  2020-01-01T09:30:00+05:30      pm25  446.75   \n",
       "30496 2020-01-01 04:15:00+00:00  2020-01-01T09:45:00+05:30      pm25  400.46   \n",
       "\n",
       "        unit   latitude  longitude  year  \n",
       "30498  µg/m³  28.470691  77.109936  2020  \n",
       "30496  µg/m³  28.470691  77.109936  2020  "
      ]
     },
     "execution_count": 138,
     "metadata": {},
     "output_type": "execute_result"
    }
   ],
   "source": [
    "dehli.head(2)"
   ]
  },
  {
   "cell_type": "code",
   "execution_count": 139,
   "id": "66115636",
   "metadata": {},
   "outputs": [
    {
     "data": {
      "text/plain": [
       "2020    15250\n",
       "Name: year, dtype: int64"
      ]
     },
     "execution_count": 139,
     "metadata": {},
     "output_type": "execute_result"
    }
   ],
   "source": [
    "dehli['year'].value_counts()"
   ]
  },
  {
   "cell_type": "code",
   "execution_count": 140,
   "id": "6e70b329",
   "metadata": {},
   "outputs": [
    {
     "data": {
      "text/html": [
       "<div>\n",
       "<style scoped>\n",
       "    .dataframe tbody tr th:only-of-type {\n",
       "        vertical-align: middle;\n",
       "    }\n",
       "\n",
       "    .dataframe tbody tr th {\n",
       "        vertical-align: top;\n",
       "    }\n",
       "\n",
       "    .dataframe thead th {\n",
       "        text-align: right;\n",
       "    }\n",
       "</style>\n",
       "<table border=\"1\" class=\"dataframe\">\n",
       "  <thead>\n",
       "    <tr style=\"text-align: right;\">\n",
       "      <th></th>\n",
       "      <th>year</th>\n",
       "      <th>city</th>\n",
       "      <th>parameter</th>\n",
       "      <th>value</th>\n",
       "    </tr>\n",
       "  </thead>\n",
       "  <tbody>\n",
       "    <tr>\n",
       "      <th>0</th>\n",
       "      <td>2020</td>\n",
       "      <td>Delhi</td>\n",
       "      <td>pm25</td>\n",
       "      <td>69.113219</td>\n",
       "    </tr>\n",
       "  </tbody>\n",
       "</table>\n",
       "</div>"
      ],
      "text/plain": [
       "   year   city parameter      value\n",
       "0  2020  Delhi      pm25  69.113219"
      ]
     },
     "execution_count": 140,
     "metadata": {},
     "output_type": "execute_result"
    }
   ],
   "source": [
    "dehli_pm25 = dehli.groupby(['year', 'city', 'parameter'], as_index=False).agg({'value':'mean'})\n",
    "dehli_pm25"
   ]
  },
  {
   "cell_type": "code",
   "execution_count": null,
   "id": "28b6f844",
   "metadata": {},
   "outputs": [],
   "source": []
  },
  {
   "cell_type": "code",
   "execution_count": null,
   "id": "d4023118",
   "metadata": {},
   "outputs": [],
   "source": []
  },
  {
   "cell_type": "markdown",
   "id": "b8a4239a",
   "metadata": {},
   "source": [
    "Hacer un filtrado por year=2020"
   ]
  },
  {
   "cell_type": "code",
   "execution_count": 146,
   "id": "8f943f6e",
   "metadata": {},
   "outputs": [],
   "source": [
    "mexico_y = mexico_pm25[mexico_pm25['year'] == 2020]"
   ]
  },
  {
   "cell_type": "code",
   "execution_count": 148,
   "id": "1a932275",
   "metadata": {},
   "outputs": [],
   "source": [
    "santiago_y = santiago_pm25[santiago_pm25['year'] == 2020]"
   ]
  },
  {
   "cell_type": "code",
   "execution_count": 150,
   "id": "f1198a28",
   "metadata": {},
   "outputs": [],
   "source": [
    "pm_25_by_country = pd.concat([dehli_pm25, mexico_y, santiago_y], axis=0)"
   ]
  },
  {
   "cell_type": "code",
   "execution_count": 151,
   "id": "98910dd4",
   "metadata": {},
   "outputs": [
    {
     "data": {
      "text/html": [
       "<div>\n",
       "<style scoped>\n",
       "    .dataframe tbody tr th:only-of-type {\n",
       "        vertical-align: middle;\n",
       "    }\n",
       "\n",
       "    .dataframe tbody tr th {\n",
       "        vertical-align: top;\n",
       "    }\n",
       "\n",
       "    .dataframe thead th {\n",
       "        text-align: right;\n",
       "    }\n",
       "</style>\n",
       "<table border=\"1\" class=\"dataframe\">\n",
       "  <thead>\n",
       "    <tr style=\"text-align: right;\">\n",
       "      <th></th>\n",
       "      <th>year</th>\n",
       "      <th>city</th>\n",
       "      <th>parameter</th>\n",
       "      <th>value</th>\n",
       "    </tr>\n",
       "  </thead>\n",
       "  <tbody>\n",
       "    <tr>\n",
       "      <th>0</th>\n",
       "      <td>2020</td>\n",
       "      <td>Delhi</td>\n",
       "      <td>pm25</td>\n",
       "      <td>69.113219</td>\n",
       "    </tr>\n",
       "    <tr>\n",
       "      <th>1</th>\n",
       "      <td>2020</td>\n",
       "      <td>DISTRITO FEDERAL</td>\n",
       "      <td>pm25</td>\n",
       "      <td>18.066886</td>\n",
       "    </tr>\n",
       "    <tr>\n",
       "      <th>0</th>\n",
       "      <td>2020</td>\n",
       "      <td>Santiago</td>\n",
       "      <td>pm25</td>\n",
       "      <td>20.293798</td>\n",
       "    </tr>\n",
       "  </tbody>\n",
       "</table>\n",
       "</div>"
      ],
      "text/plain": [
       "   year              city parameter      value\n",
       "0  2020             Delhi      pm25  69.113219\n",
       "1  2020  DISTRITO FEDERAL      pm25  18.066886\n",
       "0  2020          Santiago      pm25  20.293798"
      ]
     },
     "execution_count": 151,
     "metadata": {},
     "output_type": "execute_result"
    }
   ],
   "source": [
    "pm_25_by_country"
   ]
  },
  {
   "cell_type": "code",
   "execution_count": 153,
   "id": "5720051c",
   "metadata": {},
   "outputs": [
    {
     "data": {
      "text/plain": [
       "<AxesSubplot:xlabel='city', ylabel='value'>"
      ]
     },
     "execution_count": 153,
     "metadata": {},
     "output_type": "execute_result"
    },
    {
     "data": {
      "image/png": "[encoded data removed]",
      "text/plain": [
       "<Figure size 432x288 with 1 Axes>"
      ]
     },
     "metadata": {
      "needs_background": "light"
     },
     "output_type": "display_data"
    }
   ],
   "source": [
    "sns.barplot(data=pm_25_by_country, x='city', y='value')"
   ]
  },
  {
   "cell_type": "code",
   "execution_count": null,
   "id": "47e370e2",
   "metadata": {},
   "outputs": [],
   "source": []
  }
 ],
 "metadata": {
  "kernelspec": {
   "display_name": "Python 3",
   "language": "python",
   "name": "python3"
  },
  "language_info": {
   "codemirror_mode": {
    "name": "ipython",
    "version": 3
   },
   "file_extension": ".py",
   "mimetype": "text/x-python",
   "name": "python",
   "nbconvert_exporter": "python",
   "pygments_lexer": "ipython3",
   "version": "3.8.8"
  }
 },
 "nbformat": 4,
 "nbformat_minor": 5
}
