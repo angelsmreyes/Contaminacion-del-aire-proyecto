{
 "cells": [
  {
   "cell_type": "code",
   "execution_count": 2,
   "id": "47e7043d",
   "metadata": {},
   "outputs": [],
   "source": [
    "import pandas as pd \n",
    "import numpy as np\n",
    "import matplotlib.pyplot as plt \n",
    "import seaborn as sns"
   ]
  },
  {
   "cell_type": "code",
   "execution_count": null,
   "id": "06f94ded",
   "metadata": {},
   "outputs": [],
   "source": [
    "from dateutil.parser import parse \n",
    "import matplotlib as mpl\n",
    "import numpy as np\n",
    "import pandas as pd\n",
    "plt.rcParams.update({'figure.figsize': (10, 7), 'figure.dpi': 120})"
   ]
  },
  {
   "cell_type": "markdown",
   "id": "63e9b1c2",
   "metadata": {},
   "source": [
    "### Houston"
   ]
  },
  {
   "cell_type": "code",
   "execution_count": 3,
   "id": "81b7b97d",
   "metadata": {},
   "outputs": [
    {
     "data": {
      "text/html": [
       "<div>\n",
       "<style scoped>\n",
       "    .dataframe tbody tr th:only-of-type {\n",
       "        vertical-align: middle;\n",
       "    }\n",
       "\n",
       "    .dataframe tbody tr th {\n",
       "        vertical-align: top;\n",
       "    }\n",
       "\n",
       "    .dataframe thead th {\n",
       "        text-align: right;\n",
       "    }\n",
       "</style>\n",
       "<table border=\"1\" class=\"dataframe\">\n",
       "  <thead>\n",
       "    <tr style=\"text-align: right;\">\n",
       "      <th></th>\n",
       "      <th>locationId</th>\n",
       "      <th>location</th>\n",
       "      <th>city</th>\n",
       "      <th>country</th>\n",
       "      <th>utc</th>\n",
       "      <th>local</th>\n",
       "      <th>parameter</th>\n",
       "      <th>value</th>\n",
       "      <th>unit</th>\n",
       "      <th>latitude</th>\n",
       "      <th>longitude</th>\n",
       "    </tr>\n",
       "  </thead>\n",
       "  <tbody>\n",
       "    <tr>\n",
       "      <th>0</th>\n",
       "      <td>162</td>\n",
       "      <td>Houston Deer Park C3</td>\n",
       "      <td>Houston-Sugar Land-Baytown</td>\n",
       "      <td>US</td>\n",
       "      <td>2021-10-06T11:00:00+00:00</td>\n",
       "      <td>2021-10-06T06:00:00-05:00</td>\n",
       "      <td>o3</td>\n",
       "      <td>0.001</td>\n",
       "      <td>ppm</td>\n",
       "      <td>29.670025</td>\n",
       "      <td>-95.128508</td>\n",
       "    </tr>\n",
       "    <tr>\n",
       "      <th>1</th>\n",
       "      <td>162</td>\n",
       "      <td>Houston Deer Park C3</td>\n",
       "      <td>Houston-Sugar Land-Baytown</td>\n",
       "      <td>US</td>\n",
       "      <td>2021-10-06T10:00:00+00:00</td>\n",
       "      <td>2021-10-06T05:00:00-05:00</td>\n",
       "      <td>o3</td>\n",
       "      <td>0.003</td>\n",
       "      <td>ppm</td>\n",
       "      <td>29.670025</td>\n",
       "      <td>-95.128508</td>\n",
       "    </tr>\n",
       "  </tbody>\n",
       "</table>\n",
       "</div>"
      ],
      "text/plain": [
       "   locationId              location                        city country  \\\n",
       "0         162  Houston Deer Park C3  Houston-Sugar Land-Baytown      US   \n",
       "1         162  Houston Deer Park C3  Houston-Sugar Land-Baytown      US   \n",
       "\n",
       "                         utc                      local parameter  value unit  \\\n",
       "0  2021-10-06T11:00:00+00:00  2021-10-06T06:00:00-05:00        o3  0.001  ppm   \n",
       "1  2021-10-06T10:00:00+00:00  2021-10-06T05:00:00-05:00        o3  0.003  ppm   \n",
       "\n",
       "    latitude  longitude  \n",
       "0  29.670025 -95.128508  \n",
       "1  29.670025 -95.128508  "
      ]
     },
     "execution_count": 3,
     "metadata": {},
     "output_type": "execute_result"
    }
   ],
   "source": [
    "houston = pd.read_csv('Houston.csv')\n",
    "houston.head(2)"
   ]
  },
  {
   "cell_type": "code",
   "execution_count": 4,
   "id": "137fcc08",
   "metadata": {},
   "outputs": [
    {
     "name": "stdout",
     "output_type": "stream",
     "text": [
      "<class 'pandas.core.frame.DataFrame'>\n",
      "RangeIndex: 56854 entries, 0 to 56853\n",
      "Data columns (total 11 columns):\n",
      " #   Column      Non-Null Count  Dtype  \n",
      "---  ------      --------------  -----  \n",
      " 0   locationId  56854 non-null  int64  \n",
      " 1   location    56854 non-null  object \n",
      " 2   city        56854 non-null  object \n",
      " 3   country     56854 non-null  object \n",
      " 4   utc         56854 non-null  object \n",
      " 5   local       56854 non-null  object \n",
      " 6   parameter   56854 non-null  object \n",
      " 7   value       56854 non-null  float64\n",
      " 8   unit        56854 non-null  object \n",
      " 9   latitude    56854 non-null  float64\n",
      " 10  longitude   56854 non-null  float64\n",
      "dtypes: float64(3), int64(1), object(7)\n",
      "memory usage: 4.8+ MB\n"
     ]
    }
   ],
   "source": [
    "houston.info()"
   ]
  },
  {
   "cell_type": "code",
   "execution_count": 5,
   "id": "6c306ae6",
   "metadata": {},
   "outputs": [
    {
     "data": {
      "text/plain": [
       "(56854, 11)"
      ]
     },
     "execution_count": 5,
     "metadata": {},
     "output_type": "execute_result"
    }
   ],
   "source": [
    "houston.shape"
   ]
  },
  {
   "cell_type": "code",
   "execution_count": 6,
   "id": "d19b4461",
   "metadata": {},
   "outputs": [
    {
     "data": {
      "text/plain": [
       "o3      33762\n",
       "pm25    23092\n",
       "Name: parameter, dtype: int64"
      ]
     },
     "execution_count": 6,
     "metadata": {},
     "output_type": "execute_result"
    }
   ],
   "source": [
    "houston['parameter'].value_counts()"
   ]
  },
  {
   "cell_type": "code",
   "execution_count": 7,
   "id": "3517af1f",
   "metadata": {},
   "outputs": [
    {
     "data": {
      "text/plain": [
       "ppm      33762\n",
       "µg/m³    23092\n",
       "Name: unit, dtype: int64"
      ]
     },
     "execution_count": 7,
     "metadata": {},
     "output_type": "execute_result"
    }
   ],
   "source": [
    "houston['unit'].value_counts()"
   ]
  },
  {
   "cell_type": "code",
   "execution_count": 8,
   "id": "5bd68843",
   "metadata": {},
   "outputs": [],
   "source": [
    "houston = houston.loc[(houston['parameter'] == 'pm25') & (houston['unit'] == 'µg/m³')]"
   ]
  },
  {
   "cell_type": "code",
   "execution_count": 9,
   "id": "b2f0298d",
   "metadata": {},
   "outputs": [],
   "source": [
    "houston['utc'] = pd.to_datetime(houston['utc'])"
   ]
  },
  {
   "cell_type": "code",
   "execution_count": 10,
   "id": "b5457eda",
   "metadata": {},
   "outputs": [
    {
     "data": {
      "text/html": [
       "<div>\n",
       "<style scoped>\n",
       "    .dataframe tbody tr th:only-of-type {\n",
       "        vertical-align: middle;\n",
       "    }\n",
       "\n",
       "    .dataframe tbody tr th {\n",
       "        vertical-align: top;\n",
       "    }\n",
       "\n",
       "    .dataframe thead th {\n",
       "        text-align: right;\n",
       "    }\n",
       "</style>\n",
       "<table border=\"1\" class=\"dataframe\">\n",
       "  <thead>\n",
       "    <tr style=\"text-align: right;\">\n",
       "      <th></th>\n",
       "      <th>locationId</th>\n",
       "      <th>location</th>\n",
       "      <th>city</th>\n",
       "      <th>country</th>\n",
       "      <th>utc</th>\n",
       "      <th>local</th>\n",
       "      <th>parameter</th>\n",
       "      <th>value</th>\n",
       "      <th>unit</th>\n",
       "      <th>latitude</th>\n",
       "      <th>longitude</th>\n",
       "    </tr>\n",
       "  </thead>\n",
       "  <tbody>\n",
       "    <tr>\n",
       "      <th>56853</th>\n",
       "      <td>162</td>\n",
       "      <td>Houston Deer Park C3</td>\n",
       "      <td>Houston-Sugar Land-Baytown</td>\n",
       "      <td>US</td>\n",
       "      <td>2016-06-15 04:00:00+00:00</td>\n",
       "      <td>2016-06-14T23:00:00-05:00</td>\n",
       "      <td>pm25</td>\n",
       "      <td>15.7</td>\n",
       "      <td>µg/m³</td>\n",
       "      <td>29.670025</td>\n",
       "      <td>-95.128508</td>\n",
       "    </tr>\n",
       "    <tr>\n",
       "      <th>56850</th>\n",
       "      <td>162</td>\n",
       "      <td>Houston Deer Park C3</td>\n",
       "      <td>Houston-Sugar Land-Baytown</td>\n",
       "      <td>US</td>\n",
       "      <td>2016-06-15 05:00:00+00:00</td>\n",
       "      <td>2016-06-15T00:00:00-05:00</td>\n",
       "      <td>pm25</td>\n",
       "      <td>15.1</td>\n",
       "      <td>µg/m³</td>\n",
       "      <td>29.670025</td>\n",
       "      <td>-95.128508</td>\n",
       "    </tr>\n",
       "  </tbody>\n",
       "</table>\n",
       "</div>"
      ],
      "text/plain": [
       "       locationId              location                        city country  \\\n",
       "56853         162  Houston Deer Park C3  Houston-Sugar Land-Baytown      US   \n",
       "56850         162  Houston Deer Park C3  Houston-Sugar Land-Baytown      US   \n",
       "\n",
       "                            utc                      local parameter  value  \\\n",
       "56853 2016-06-15 04:00:00+00:00  2016-06-14T23:00:00-05:00      pm25   15.7   \n",
       "56850 2016-06-15 05:00:00+00:00  2016-06-15T00:00:00-05:00      pm25   15.1   \n",
       "\n",
       "        unit   latitude  longitude  \n",
       "56853  µg/m³  29.670025 -95.128508  \n",
       "56850  µg/m³  29.670025 -95.128508  "
      ]
     },
     "execution_count": 10,
     "metadata": {},
     "output_type": "execute_result"
    }
   ],
   "source": [
    "houston = houston.sort_values('utc')\n",
    "houston.head(2)"
   ]
  },
  {
   "cell_type": "code",
   "execution_count": 11,
   "id": "c3f54bc0",
   "metadata": {},
   "outputs": [],
   "source": [
    "houston['year'] = houston['utc'].dt.year"
   ]
  },
  {
   "cell_type": "code",
   "execution_count": 12,
   "id": "615820f5",
   "metadata": {},
   "outputs": [
    {
     "data": {
      "text/html": [
       "<div>\n",
       "<style scoped>\n",
       "    .dataframe tbody tr th:only-of-type {\n",
       "        vertical-align: middle;\n",
       "    }\n",
       "\n",
       "    .dataframe tbody tr th {\n",
       "        vertical-align: top;\n",
       "    }\n",
       "\n",
       "    .dataframe thead th {\n",
       "        text-align: right;\n",
       "    }\n",
       "</style>\n",
       "<table border=\"1\" class=\"dataframe\">\n",
       "  <thead>\n",
       "    <tr style=\"text-align: right;\">\n",
       "      <th></th>\n",
       "      <th>locationId</th>\n",
       "      <th>location</th>\n",
       "      <th>city</th>\n",
       "      <th>country</th>\n",
       "      <th>utc</th>\n",
       "      <th>local</th>\n",
       "      <th>parameter</th>\n",
       "      <th>value</th>\n",
       "      <th>unit</th>\n",
       "      <th>latitude</th>\n",
       "      <th>longitude</th>\n",
       "      <th>year</th>\n",
       "    </tr>\n",
       "  </thead>\n",
       "  <tbody>\n",
       "    <tr>\n",
       "      <th>56853</th>\n",
       "      <td>162</td>\n",
       "      <td>Houston Deer Park C3</td>\n",
       "      <td>Houston-Sugar Land-Baytown</td>\n",
       "      <td>US</td>\n",
       "      <td>2016-06-15 04:00:00+00:00</td>\n",
       "      <td>2016-06-14T23:00:00-05:00</td>\n",
       "      <td>pm25</td>\n",
       "      <td>15.7</td>\n",
       "      <td>µg/m³</td>\n",
       "      <td>29.670025</td>\n",
       "      <td>-95.128508</td>\n",
       "      <td>2016</td>\n",
       "    </tr>\n",
       "    <tr>\n",
       "      <th>56850</th>\n",
       "      <td>162</td>\n",
       "      <td>Houston Deer Park C3</td>\n",
       "      <td>Houston-Sugar Land-Baytown</td>\n",
       "      <td>US</td>\n",
       "      <td>2016-06-15 05:00:00+00:00</td>\n",
       "      <td>2016-06-15T00:00:00-05:00</td>\n",
       "      <td>pm25</td>\n",
       "      <td>15.1</td>\n",
       "      <td>µg/m³</td>\n",
       "      <td>29.670025</td>\n",
       "      <td>-95.128508</td>\n",
       "      <td>2016</td>\n",
       "    </tr>\n",
       "  </tbody>\n",
       "</table>\n",
       "</div>"
      ],
      "text/plain": [
       "       locationId              location                        city country  \\\n",
       "56853         162  Houston Deer Park C3  Houston-Sugar Land-Baytown      US   \n",
       "56850         162  Houston Deer Park C3  Houston-Sugar Land-Baytown      US   \n",
       "\n",
       "                            utc                      local parameter  value  \\\n",
       "56853 2016-06-15 04:00:00+00:00  2016-06-14T23:00:00-05:00      pm25   15.7   \n",
       "56850 2016-06-15 05:00:00+00:00  2016-06-15T00:00:00-05:00      pm25   15.1   \n",
       "\n",
       "        unit   latitude  longitude  year  \n",
       "56853  µg/m³  29.670025 -95.128508  2016  \n",
       "56850  µg/m³  29.670025 -95.128508  2016  "
      ]
     },
     "execution_count": 12,
     "metadata": {},
     "output_type": "execute_result"
    }
   ],
   "source": [
    "houston.head(2)"
   ]
  },
  {
   "cell_type": "code",
   "execution_count": 13,
   "id": "8a2c2412",
   "metadata": {},
   "outputs": [
    {
     "data": {
      "text/plain": [
       "2019    7700\n",
       "2018    5561\n",
       "2017    5316\n",
       "2016    4515\n",
       "Name: year, dtype: int64"
      ]
     },
     "execution_count": 13,
     "metadata": {},
     "output_type": "execute_result"
    }
   ],
   "source": [
    "houston['year'].value_counts()"
   ]
  },
  {
   "cell_type": "code",
   "execution_count": 14,
   "id": "bc1aed61",
   "metadata": {},
   "outputs": [
    {
     "data": {
      "text/html": [
       "<div>\n",
       "<style scoped>\n",
       "    .dataframe tbody tr th:only-of-type {\n",
       "        vertical-align: middle;\n",
       "    }\n",
       "\n",
       "    .dataframe tbody tr th {\n",
       "        vertical-align: top;\n",
       "    }\n",
       "\n",
       "    .dataframe thead th {\n",
       "        text-align: right;\n",
       "    }\n",
       "</style>\n",
       "<table border=\"1\" class=\"dataframe\">\n",
       "  <thead>\n",
       "    <tr style=\"text-align: right;\">\n",
       "      <th></th>\n",
       "      <th>locationId</th>\n",
       "      <th>location</th>\n",
       "      <th>city</th>\n",
       "      <th>country</th>\n",
       "      <th>utc</th>\n",
       "      <th>local</th>\n",
       "      <th>parameter</th>\n",
       "      <th>value</th>\n",
       "      <th>unit</th>\n",
       "      <th>latitude</th>\n",
       "      <th>longitude</th>\n",
       "      <th>year</th>\n",
       "    </tr>\n",
       "  </thead>\n",
       "  <tbody>\n",
       "    <tr>\n",
       "      <th>56853</th>\n",
       "      <td>162</td>\n",
       "      <td>Houston Deer Park C3</td>\n",
       "      <td>Houston-Sugar Land-Baytown</td>\n",
       "      <td>US</td>\n",
       "      <td>2016-06-15 04:00:00+00:00</td>\n",
       "      <td>2016-06-14T23:00:00-05:00</td>\n",
       "      <td>pm25</td>\n",
       "      <td>15.7</td>\n",
       "      <td>µg/m³</td>\n",
       "      <td>29.670025</td>\n",
       "      <td>-95.128508</td>\n",
       "      <td>2016</td>\n",
       "    </tr>\n",
       "    <tr>\n",
       "      <th>56850</th>\n",
       "      <td>162</td>\n",
       "      <td>Houston Deer Park C3</td>\n",
       "      <td>Houston-Sugar Land-Baytown</td>\n",
       "      <td>US</td>\n",
       "      <td>2016-06-15 05:00:00+00:00</td>\n",
       "      <td>2016-06-15T00:00:00-05:00</td>\n",
       "      <td>pm25</td>\n",
       "      <td>15.1</td>\n",
       "      <td>µg/m³</td>\n",
       "      <td>29.670025</td>\n",
       "      <td>-95.128508</td>\n",
       "      <td>2016</td>\n",
       "    </tr>\n",
       "  </tbody>\n",
       "</table>\n",
       "</div>"
      ],
      "text/plain": [
       "       locationId              location                        city country  \\\n",
       "56853         162  Houston Deer Park C3  Houston-Sugar Land-Baytown      US   \n",
       "56850         162  Houston Deer Park C3  Houston-Sugar Land-Baytown      US   \n",
       "\n",
       "                            utc                      local parameter  value  \\\n",
       "56853 2016-06-15 04:00:00+00:00  2016-06-14T23:00:00-05:00      pm25   15.7   \n",
       "56850 2016-06-15 05:00:00+00:00  2016-06-15T00:00:00-05:00      pm25   15.1   \n",
       "\n",
       "        unit   latitude  longitude  year  \n",
       "56853  µg/m³  29.670025 -95.128508  2016  \n",
       "56850  µg/m³  29.670025 -95.128508  2016  "
      ]
     },
     "execution_count": 14,
     "metadata": {},
     "output_type": "execute_result"
    }
   ],
   "source": [
    "houston.head(2)"
   ]
  },
  {
   "cell_type": "code",
   "execution_count": 15,
   "id": "a93088be",
   "metadata": {},
   "outputs": [
    {
     "data": {
      "text/html": [
       "<div>\n",
       "<style scoped>\n",
       "    .dataframe tbody tr th:only-of-type {\n",
       "        vertical-align: middle;\n",
       "    }\n",
       "\n",
       "    .dataframe tbody tr th {\n",
       "        vertical-align: top;\n",
       "    }\n",
       "\n",
       "    .dataframe thead th {\n",
       "        text-align: right;\n",
       "    }\n",
       "</style>\n",
       "<table border=\"1\" class=\"dataframe\">\n",
       "  <thead>\n",
       "    <tr style=\"text-align: right;\">\n",
       "      <th></th>\n",
       "      <th>year</th>\n",
       "      <th>city</th>\n",
       "      <th>parameter</th>\n",
       "      <th>value</th>\n",
       "    </tr>\n",
       "  </thead>\n",
       "  <tbody>\n",
       "    <tr>\n",
       "      <th>0</th>\n",
       "      <td>2016</td>\n",
       "      <td>Houston-Sugar Land-Baytown</td>\n",
       "      <td>pm25</td>\n",
       "      <td>8.191340</td>\n",
       "    </tr>\n",
       "    <tr>\n",
       "      <th>1</th>\n",
       "      <td>2017</td>\n",
       "      <td>Houston-Sugar Land-Baytown</td>\n",
       "      <td>pm25</td>\n",
       "      <td>7.745053</td>\n",
       "    </tr>\n",
       "    <tr>\n",
       "      <th>2</th>\n",
       "      <td>2018</td>\n",
       "      <td>Houston-Sugar Land-Baytown</td>\n",
       "      <td>pm25</td>\n",
       "      <td>8.357957</td>\n",
       "    </tr>\n",
       "    <tr>\n",
       "      <th>3</th>\n",
       "      <td>2019</td>\n",
       "      <td>Houston-Sugar Land-Baytown</td>\n",
       "      <td>pm25</td>\n",
       "      <td>7.292325</td>\n",
       "    </tr>\n",
       "  </tbody>\n",
       "</table>\n",
       "</div>"
      ],
      "text/plain": [
       "   year                        city parameter     value\n",
       "0  2016  Houston-Sugar Land-Baytown      pm25  8.191340\n",
       "1  2017  Houston-Sugar Land-Baytown      pm25  7.745053\n",
       "2  2018  Houston-Sugar Land-Baytown      pm25  8.357957\n",
       "3  2019  Houston-Sugar Land-Baytown      pm25  7.292325"
      ]
     },
     "execution_count": 15,
     "metadata": {},
     "output_type": "execute_result"
    }
   ],
   "source": [
    "houston_pm25 = houston.groupby(['year', 'city', 'parameter'], as_index=False).agg({'value':'mean'})\n",
    "houston_pm25"
   ]
  },
  {
   "cell_type": "code",
   "execution_count": 16,
   "id": "e37d987c",
   "metadata": {},
   "outputs": [
    {
     "data": {
      "text/plain": [
       "<AxesSubplot:xlabel='year', ylabel='value'>"
      ]
     },
     "execution_count": 16,
     "metadata": {},
     "output_type": "execute_result"
    },
    {
     "data": {
      "image/png": "[encoded data removed]",
      "text/plain": [
       "<Figure size 432x288 with 1 Axes>"
      ]
     },
     "metadata": {
      "needs_background": "light"
     },
     "output_type": "display_data"
    }
   ],
   "source": [
    "sns.barplot(data=houston_pm25, x='year', y='value')"
   ]
  },
  {
   "cell_type": "markdown",
   "id": "f8834044",
   "metadata": {},
   "source": [
    "Houston se mantiene por debajo en los valores de contaminación establecidos por la OMS para pm2.5 anualmente."
   ]
  },
  {
   "cell_type": "markdown",
   "id": "705cca69",
   "metadata": {},
   "source": [
    "### Santiago"
   ]
  },
  {
   "cell_type": "code",
   "execution_count": 17,
   "id": "0d4dccf0",
   "metadata": {},
   "outputs": [],
   "source": [
    "santiago = pd.read_csv('Santiago.csv')"
   ]
  },
  {
   "cell_type": "code",
   "execution_count": 18,
   "id": "f2b27759",
   "metadata": {},
   "outputs": [
    {
     "data": {
      "text/html": [
       "<div>\n",
       "<style scoped>\n",
       "    .dataframe tbody tr th:only-of-type {\n",
       "        vertical-align: middle;\n",
       "    }\n",
       "\n",
       "    .dataframe tbody tr th {\n",
       "        vertical-align: top;\n",
       "    }\n",
       "\n",
       "    .dataframe thead th {\n",
       "        text-align: right;\n",
       "    }\n",
       "</style>\n",
       "<table border=\"1\" class=\"dataframe\">\n",
       "  <thead>\n",
       "    <tr style=\"text-align: right;\">\n",
       "      <th></th>\n",
       "      <th>locationId</th>\n",
       "      <th>location</th>\n",
       "      <th>city</th>\n",
       "      <th>country</th>\n",
       "      <th>utc</th>\n",
       "      <th>local</th>\n",
       "      <th>parameter</th>\n",
       "      <th>value</th>\n",
       "      <th>unit</th>\n",
       "      <th>latitude</th>\n",
       "      <th>longitude</th>\n",
       "    </tr>\n",
       "  </thead>\n",
       "  <tbody>\n",
       "    <tr>\n",
       "      <th>0</th>\n",
       "      <td>25</td>\n",
       "      <td>Parque O'Higgins</td>\n",
       "      <td>Santiago</td>\n",
       "      <td>CL</td>\n",
       "      <td>2021-08-20T21:00:00+00:00</td>\n",
       "      <td>2021-08-20T20:00:00-01:00</td>\n",
       "      <td>pm25</td>\n",
       "      <td>30</td>\n",
       "      <td>µg/m³</td>\n",
       "      <td>-33.464142</td>\n",
       "      <td>-70.660797</td>\n",
       "    </tr>\n",
       "    <tr>\n",
       "      <th>1</th>\n",
       "      <td>25</td>\n",
       "      <td>Parque O'Higgins</td>\n",
       "      <td>Santiago</td>\n",
       "      <td>CL</td>\n",
       "      <td>2021-08-20T21:00:00+00:00</td>\n",
       "      <td>2021-08-20T20:00:00-01:00</td>\n",
       "      <td>pm10</td>\n",
       "      <td>100</td>\n",
       "      <td>µg/m³</td>\n",
       "      <td>-33.464142</td>\n",
       "      <td>-70.660797</td>\n",
       "    </tr>\n",
       "  </tbody>\n",
       "</table>\n",
       "</div>"
      ],
      "text/plain": [
       "   locationId          location      city country                        utc  \\\n",
       "0          25  Parque O'Higgins  Santiago      CL  2021-08-20T21:00:00+00:00   \n",
       "1          25  Parque O'Higgins  Santiago      CL  2021-08-20T21:00:00+00:00   \n",
       "\n",
       "                       local parameter  value   unit   latitude  longitude  \n",
       "0  2021-08-20T20:00:00-01:00      pm25     30  µg/m³ -33.464142 -70.660797  \n",
       "1  2021-08-20T20:00:00-01:00      pm10    100  µg/m³ -33.464142 -70.660797  "
      ]
     },
     "execution_count": 18,
     "metadata": {},
     "output_type": "execute_result"
    }
   ],
   "source": [
    "santiago.head(2)"
   ]
  },
  {
   "cell_type": "code",
   "execution_count": 19,
   "id": "7db2ba56",
   "metadata": {},
   "outputs": [
    {
     "name": "stdout",
     "output_type": "stream",
     "text": [
      "<class 'pandas.core.frame.DataFrame'>\n",
      "RangeIndex: 20866 entries, 0 to 20865\n",
      "Data columns (total 11 columns):\n",
      " #   Column      Non-Null Count  Dtype  \n",
      "---  ------      --------------  -----  \n",
      " 0   locationId  20866 non-null  int64  \n",
      " 1   location    20866 non-null  object \n",
      " 2   city        20866 non-null  object \n",
      " 3   country     20866 non-null  object \n",
      " 4   utc         20866 non-null  object \n",
      " 5   local       20866 non-null  object \n",
      " 6   parameter   20866 non-null  object \n",
      " 7   value       20866 non-null  int64  \n",
      " 8   unit        20866 non-null  object \n",
      " 9   latitude    20866 non-null  float64\n",
      " 10  longitude   20866 non-null  float64\n",
      "dtypes: float64(2), int64(2), object(7)\n",
      "memory usage: 1.8+ MB\n"
     ]
    }
   ],
   "source": [
    "santiago.info()"
   ]
  },
  {
   "cell_type": "code",
   "execution_count": 20,
   "id": "a298cbea",
   "metadata": {},
   "outputs": [
    {
     "data": {
      "text/plain": [
       "(20866, 11)"
      ]
     },
     "execution_count": 20,
     "metadata": {},
     "output_type": "execute_result"
    }
   ],
   "source": [
    "santiago.shape"
   ]
  },
  {
   "cell_type": "code",
   "execution_count": 21,
   "id": "33693f26",
   "metadata": {},
   "outputs": [
    {
     "data": {
      "text/plain": [
       "pm25    10434\n",
       "pm10    10432\n",
       "Name: parameter, dtype: int64"
      ]
     },
     "execution_count": 21,
     "metadata": {},
     "output_type": "execute_result"
    }
   ],
   "source": [
    "santiago['parameter'].value_counts()"
   ]
  },
  {
   "cell_type": "code",
   "execution_count": 22,
   "id": "a62331e5",
   "metadata": {},
   "outputs": [
    {
     "data": {
      "text/plain": [
       "µg/m³    20866\n",
       "Name: unit, dtype: int64"
      ]
     },
     "execution_count": 22,
     "metadata": {},
     "output_type": "execute_result"
    }
   ],
   "source": [
    "santiago['unit'].value_counts()"
   ]
  },
  {
   "cell_type": "code",
   "execution_count": 23,
   "id": "01c4616d",
   "metadata": {},
   "outputs": [],
   "source": [
    "santiago = santiago.loc[santiago['parameter'] == 'pm25']"
   ]
  },
  {
   "cell_type": "code",
   "execution_count": 24,
   "id": "124ab482",
   "metadata": {},
   "outputs": [],
   "source": [
    "santiago['utc'] = pd.to_datetime(santiago['utc'])"
   ]
  },
  {
   "cell_type": "code",
   "execution_count": 25,
   "id": "43937b5b",
   "metadata": {},
   "outputs": [
    {
     "data": {
      "text/html": [
       "<div>\n",
       "<style scoped>\n",
       "    .dataframe tbody tr th:only-of-type {\n",
       "        vertical-align: middle;\n",
       "    }\n",
       "\n",
       "    .dataframe tbody tr th {\n",
       "        vertical-align: top;\n",
       "    }\n",
       "\n",
       "    .dataframe thead th {\n",
       "        text-align: right;\n",
       "    }\n",
       "</style>\n",
       "<table border=\"1\" class=\"dataframe\">\n",
       "  <thead>\n",
       "    <tr style=\"text-align: right;\">\n",
       "      <th></th>\n",
       "      <th>locationId</th>\n",
       "      <th>location</th>\n",
       "      <th>city</th>\n",
       "      <th>country</th>\n",
       "      <th>utc</th>\n",
       "      <th>local</th>\n",
       "      <th>parameter</th>\n",
       "      <th>value</th>\n",
       "      <th>unit</th>\n",
       "      <th>latitude</th>\n",
       "      <th>longitude</th>\n",
       "    </tr>\n",
       "  </thead>\n",
       "  <tbody>\n",
       "    <tr>\n",
       "      <th>20865</th>\n",
       "      <td>25</td>\n",
       "      <td>Parque O'Higgins</td>\n",
       "      <td>Santiago</td>\n",
       "      <td>CL</td>\n",
       "      <td>2020-01-01 04:00:00+00:00</td>\n",
       "      <td>2020-01-01T03:00:00-01:00</td>\n",
       "      <td>pm25</td>\n",
       "      <td>10</td>\n",
       "      <td>µg/m³</td>\n",
       "      <td>-33.464142</td>\n",
       "      <td>-70.660797</td>\n",
       "    </tr>\n",
       "    <tr>\n",
       "      <th>20862</th>\n",
       "      <td>25</td>\n",
       "      <td>Parque O'Higgins</td>\n",
       "      <td>Santiago</td>\n",
       "      <td>CL</td>\n",
       "      <td>2020-01-01 05:00:00+00:00</td>\n",
       "      <td>2020-01-01T04:00:00-01:00</td>\n",
       "      <td>pm25</td>\n",
       "      <td>24</td>\n",
       "      <td>µg/m³</td>\n",
       "      <td>-33.464142</td>\n",
       "      <td>-70.660797</td>\n",
       "    </tr>\n",
       "  </tbody>\n",
       "</table>\n",
       "</div>"
      ],
      "text/plain": [
       "       locationId          location      city country  \\\n",
       "20865          25  Parque O'Higgins  Santiago      CL   \n",
       "20862          25  Parque O'Higgins  Santiago      CL   \n",
       "\n",
       "                            utc                      local parameter  value  \\\n",
       "20865 2020-01-01 04:00:00+00:00  2020-01-01T03:00:00-01:00      pm25     10   \n",
       "20862 2020-01-01 05:00:00+00:00  2020-01-01T04:00:00-01:00      pm25     24   \n",
       "\n",
       "        unit   latitude  longitude  \n",
       "20865  µg/m³ -33.464142 -70.660797  \n",
       "20862  µg/m³ -33.464142 -70.660797  "
      ]
     },
     "execution_count": 25,
     "metadata": {},
     "output_type": "execute_result"
    }
   ],
   "source": [
    "santiago = santiago.sort_values('utc')\n",
    "santiago.head(2)"
   ]
  },
  {
   "cell_type": "code",
   "execution_count": 26,
   "id": "a23fb7ea",
   "metadata": {},
   "outputs": [],
   "source": [
    "santiago['year'] = santiago['utc'].dt.year"
   ]
  },
  {
   "cell_type": "code",
   "execution_count": 27,
   "id": "a601fe4a",
   "metadata": {},
   "outputs": [
    {
     "data": {
      "text/html": [
       "<div>\n",
       "<style scoped>\n",
       "    .dataframe tbody tr th:only-of-type {\n",
       "        vertical-align: middle;\n",
       "    }\n",
       "\n",
       "    .dataframe tbody tr th {\n",
       "        vertical-align: top;\n",
       "    }\n",
       "\n",
       "    .dataframe thead th {\n",
       "        text-align: right;\n",
       "    }\n",
       "</style>\n",
       "<table border=\"1\" class=\"dataframe\">\n",
       "  <thead>\n",
       "    <tr style=\"text-align: right;\">\n",
       "      <th></th>\n",
       "      <th>locationId</th>\n",
       "      <th>location</th>\n",
       "      <th>city</th>\n",
       "      <th>country</th>\n",
       "      <th>utc</th>\n",
       "      <th>local</th>\n",
       "      <th>parameter</th>\n",
       "      <th>value</th>\n",
       "      <th>unit</th>\n",
       "      <th>latitude</th>\n",
       "      <th>longitude</th>\n",
       "      <th>year</th>\n",
       "    </tr>\n",
       "  </thead>\n",
       "  <tbody>\n",
       "    <tr>\n",
       "      <th>20865</th>\n",
       "      <td>25</td>\n",
       "      <td>Parque O'Higgins</td>\n",
       "      <td>Santiago</td>\n",
       "      <td>CL</td>\n",
       "      <td>2020-01-01 04:00:00+00:00</td>\n",
       "      <td>2020-01-01T03:00:00-01:00</td>\n",
       "      <td>pm25</td>\n",
       "      <td>10</td>\n",
       "      <td>µg/m³</td>\n",
       "      <td>-33.464142</td>\n",
       "      <td>-70.660797</td>\n",
       "      <td>2020</td>\n",
       "    </tr>\n",
       "    <tr>\n",
       "      <th>20862</th>\n",
       "      <td>25</td>\n",
       "      <td>Parque O'Higgins</td>\n",
       "      <td>Santiago</td>\n",
       "      <td>CL</td>\n",
       "      <td>2020-01-01 05:00:00+00:00</td>\n",
       "      <td>2020-01-01T04:00:00-01:00</td>\n",
       "      <td>pm25</td>\n",
       "      <td>24</td>\n",
       "      <td>µg/m³</td>\n",
       "      <td>-33.464142</td>\n",
       "      <td>-70.660797</td>\n",
       "      <td>2020</td>\n",
       "    </tr>\n",
       "  </tbody>\n",
       "</table>\n",
       "</div>"
      ],
      "text/plain": [
       "       locationId          location      city country  \\\n",
       "20865          25  Parque O'Higgins  Santiago      CL   \n",
       "20862          25  Parque O'Higgins  Santiago      CL   \n",
       "\n",
       "                            utc                      local parameter  value  \\\n",
       "20865 2020-01-01 04:00:00+00:00  2020-01-01T03:00:00-01:00      pm25     10   \n",
       "20862 2020-01-01 05:00:00+00:00  2020-01-01T04:00:00-01:00      pm25     24   \n",
       "\n",
       "        unit   latitude  longitude  year  \n",
       "20865  µg/m³ -33.464142 -70.660797  2020  \n",
       "20862  µg/m³ -33.464142 -70.660797  2020  "
      ]
     },
     "execution_count": 27,
     "metadata": {},
     "output_type": "execute_result"
    }
   ],
   "source": [
    "santiago.head(2)"
   ]
  },
  {
   "cell_type": "code",
   "execution_count": 28,
   "id": "d659aafc",
   "metadata": {},
   "outputs": [
    {
     "data": {
      "text/plain": [
       "2020    7546\n",
       "2021    2888\n",
       "Name: year, dtype: int64"
      ]
     },
     "execution_count": 28,
     "metadata": {},
     "output_type": "execute_result"
    }
   ],
   "source": [
    "santiago['year'].value_counts()"
   ]
  },
  {
   "cell_type": "code",
   "execution_count": 29,
   "id": "aa1f3e2c",
   "metadata": {},
   "outputs": [
    {
     "data": {
      "text/html": [
       "<div>\n",
       "<style scoped>\n",
       "    .dataframe tbody tr th:only-of-type {\n",
       "        vertical-align: middle;\n",
       "    }\n",
       "\n",
       "    .dataframe tbody tr th {\n",
       "        vertical-align: top;\n",
       "    }\n",
       "\n",
       "    .dataframe thead th {\n",
       "        text-align: right;\n",
       "    }\n",
       "</style>\n",
       "<table border=\"1\" class=\"dataframe\">\n",
       "  <thead>\n",
       "    <tr style=\"text-align: right;\">\n",
       "      <th></th>\n",
       "      <th>year</th>\n",
       "      <th>city</th>\n",
       "      <th>parameter</th>\n",
       "      <th>value</th>\n",
       "    </tr>\n",
       "  </thead>\n",
       "  <tbody>\n",
       "    <tr>\n",
       "      <th>0</th>\n",
       "      <td>2020</td>\n",
       "      <td>Santiago</td>\n",
       "      <td>pm25</td>\n",
       "      <td>20.293798</td>\n",
       "    </tr>\n",
       "    <tr>\n",
       "      <th>1</th>\n",
       "      <td>2021</td>\n",
       "      <td>Santiago</td>\n",
       "      <td>pm25</td>\n",
       "      <td>21.945637</td>\n",
       "    </tr>\n",
       "  </tbody>\n",
       "</table>\n",
       "</div>"
      ],
      "text/plain": [
       "   year      city parameter      value\n",
       "0  2020  Santiago      pm25  20.293798\n",
       "1  2021  Santiago      pm25  21.945637"
      ]
     },
     "execution_count": 29,
     "metadata": {},
     "output_type": "execute_result"
    }
   ],
   "source": [
    "santiago_pm25 = santiago.groupby(['year', 'city', 'parameter'], as_index=False).agg({'value':'mean'})\n",
    "santiago_pm25"
   ]
  },
  {
   "cell_type": "code",
   "execution_count": 30,
   "id": "e3a47d6c",
   "metadata": {},
   "outputs": [
    {
     "data": {
      "text/plain": [
       "<AxesSubplot:xlabel='year', ylabel='value'>"
      ]
     },
     "execution_count": 30,
     "metadata": {},
     "output_type": "execute_result"
    },
    {
     "data": {
      "image/png": "[encoded data removed]",
      "text/plain": [
       "<Figure size 432x288 with 1 Axes>"
      ]
     },
     "metadata": {
      "needs_background": "light"
     },
     "output_type": "display_data"
    }
   ],
   "source": [
    "sns.barplot(data=santiago_pm25, x='year', y='value')"
   ]
  },
  {
   "cell_type": "code",
   "execution_count": null,
   "id": "eb8b1abe",
   "metadata": {},
   "outputs": [],
   "source": []
  },
  {
   "cell_type": "markdown",
   "id": "8e2bf363",
   "metadata": {},
   "source": [
    "### Mexico"
   ]
  },
  {
   "cell_type": "code",
   "execution_count": 31,
   "id": "8faeefcd",
   "metadata": {},
   "outputs": [],
   "source": [
    "mexico = pd.read_csv('df_new_cam.csv')"
   ]
  },
  {
   "cell_type": "code",
   "execution_count": 32,
   "id": "f75dabcb",
   "metadata": {},
   "outputs": [
    {
     "data": {
      "text/html": [
       "<div>\n",
       "<style scoped>\n",
       "    .dataframe tbody tr th:only-of-type {\n",
       "        vertical-align: middle;\n",
       "    }\n",
       "\n",
       "    .dataframe tbody tr th {\n",
       "        vertical-align: top;\n",
       "    }\n",
       "\n",
       "    .dataframe thead th {\n",
       "        text-align: right;\n",
       "    }\n",
       "</style>\n",
       "<table border=\"1\" class=\"dataframe\">\n",
       "  <thead>\n",
       "    <tr style=\"text-align: right;\">\n",
       "      <th></th>\n",
       "      <th>locationId</th>\n",
       "      <th>location</th>\n",
       "      <th>city</th>\n",
       "      <th>country</th>\n",
       "      <th>utc</th>\n",
       "      <th>local</th>\n",
       "      <th>parameter</th>\n",
       "      <th>value</th>\n",
       "      <th>unit</th>\n",
       "      <th>latitude</th>\n",
       "      <th>longitude</th>\n",
       "    </tr>\n",
       "  </thead>\n",
       "  <tbody>\n",
       "    <tr>\n",
       "      <th>0</th>\n",
       "      <td>1739</td>\n",
       "      <td>Camarones</td>\n",
       "      <td>DISTRITO FEDERAL</td>\n",
       "      <td>MX</td>\n",
       "      <td>2021-10-06T14:00:00+00:00</td>\n",
       "      <td>2021-10-06T09:00:00-05:00</td>\n",
       "      <td>pm25</td>\n",
       "      <td>5</td>\n",
       "      <td>µg/m³</td>\n",
       "      <td>19.4684</td>\n",
       "      <td>-99.1697</td>\n",
       "    </tr>\n",
       "    <tr>\n",
       "      <th>1</th>\n",
       "      <td>1739</td>\n",
       "      <td>Camarones</td>\n",
       "      <td>DISTRITO FEDERAL</td>\n",
       "      <td>MX</td>\n",
       "      <td>2021-10-06T14:00:00+00:00</td>\n",
       "      <td>2021-10-06T09:00:00-05:00</td>\n",
       "      <td>pm10</td>\n",
       "      <td>17</td>\n",
       "      <td>µg/m³</td>\n",
       "      <td>19.4684</td>\n",
       "      <td>-99.1697</td>\n",
       "    </tr>\n",
       "  </tbody>\n",
       "</table>\n",
       "</div>"
      ],
      "text/plain": [
       "   locationId   location              city country                        utc  \\\n",
       "0        1739  Camarones  DISTRITO FEDERAL      MX  2021-10-06T14:00:00+00:00   \n",
       "1        1739  Camarones  DISTRITO FEDERAL      MX  2021-10-06T14:00:00+00:00   \n",
       "\n",
       "                       local parameter  value   unit  latitude  longitude  \n",
       "0  2021-10-06T09:00:00-05:00      pm25      5  µg/m³   19.4684   -99.1697  \n",
       "1  2021-10-06T09:00:00-05:00      pm10     17  µg/m³   19.4684   -99.1697  "
      ]
     },
     "execution_count": 32,
     "metadata": {},
     "output_type": "execute_result"
    }
   ],
   "source": [
    "mexico.head(2)"
   ]
  },
  {
   "cell_type": "code",
   "execution_count": 33,
   "id": "1e1a020f",
   "metadata": {},
   "outputs": [
    {
     "name": "stdout",
     "output_type": "stream",
     "text": [
      "<class 'pandas.core.frame.DataFrame'>\n",
      "RangeIndex: 14105 entries, 0 to 14104\n",
      "Data columns (total 11 columns):\n",
      " #   Column      Non-Null Count  Dtype  \n",
      "---  ------      --------------  -----  \n",
      " 0   locationId  14105 non-null  int64  \n",
      " 1   location    14105 non-null  object \n",
      " 2   city        14105 non-null  object \n",
      " 3   country     14105 non-null  object \n",
      " 4   utc         14105 non-null  object \n",
      " 5   local       14105 non-null  object \n",
      " 6   parameter   14105 non-null  object \n",
      " 7   value       14105 non-null  int64  \n",
      " 8   unit        14105 non-null  object \n",
      " 9   latitude    14105 non-null  float64\n",
      " 10  longitude   14105 non-null  float64\n",
      "dtypes: float64(2), int64(2), object(7)\n",
      "memory usage: 1.2+ MB\n"
     ]
    }
   ],
   "source": [
    "mexico.info()"
   ]
  },
  {
   "cell_type": "code",
   "execution_count": 34,
   "id": "5a148a85",
   "metadata": {},
   "outputs": [
    {
     "data": {
      "text/plain": [
       "(14105, 11)"
      ]
     },
     "execution_count": 34,
     "metadata": {},
     "output_type": "execute_result"
    }
   ],
   "source": [
    "mexico.shape"
   ]
  },
  {
   "cell_type": "code",
   "execution_count": 35,
   "id": "e1920b09",
   "metadata": {},
   "outputs": [
    {
     "data": {
      "text/plain": [
       "pm10    7086\n",
       "pm25    7019\n",
       "Name: parameter, dtype: int64"
      ]
     },
     "execution_count": 35,
     "metadata": {},
     "output_type": "execute_result"
    }
   ],
   "source": [
    "mexico['parameter'].value_counts()"
   ]
  },
  {
   "cell_type": "code",
   "execution_count": 36,
   "id": "89ae59d3",
   "metadata": {},
   "outputs": [
    {
     "data": {
      "text/plain": [
       "µg/m³    14105\n",
       "Name: unit, dtype: int64"
      ]
     },
     "execution_count": 36,
     "metadata": {},
     "output_type": "execute_result"
    }
   ],
   "source": [
    "mexico['unit'].value_counts()"
   ]
  },
  {
   "cell_type": "code",
   "execution_count": 37,
   "id": "b3fe4210",
   "metadata": {},
   "outputs": [],
   "source": [
    "mexico = mexico.loc[mexico['parameter'] == 'pm25']"
   ]
  },
  {
   "cell_type": "code",
   "execution_count": 38,
   "id": "4e91d7e6",
   "metadata": {},
   "outputs": [],
   "source": [
    "mexico['utc'] = pd.to_datetime(mexico['utc'])"
   ]
  },
  {
   "cell_type": "code",
   "execution_count": 39,
   "id": "b3893ec8",
   "metadata": {},
   "outputs": [
    {
     "data": {
      "text/html": [
       "<div>\n",
       "<style scoped>\n",
       "    .dataframe tbody tr th:only-of-type {\n",
       "        vertical-align: middle;\n",
       "    }\n",
       "\n",
       "    .dataframe tbody tr th {\n",
       "        vertical-align: top;\n",
       "    }\n",
       "\n",
       "    .dataframe thead th {\n",
       "        text-align: right;\n",
       "    }\n",
       "</style>\n",
       "<table border=\"1\" class=\"dataframe\">\n",
       "  <thead>\n",
       "    <tr style=\"text-align: right;\">\n",
       "      <th></th>\n",
       "      <th>locationId</th>\n",
       "      <th>location</th>\n",
       "      <th>city</th>\n",
       "      <th>country</th>\n",
       "      <th>utc</th>\n",
       "      <th>local</th>\n",
       "      <th>parameter</th>\n",
       "      <th>value</th>\n",
       "      <th>unit</th>\n",
       "      <th>latitude</th>\n",
       "      <th>longitude</th>\n",
       "    </tr>\n",
       "  </thead>\n",
       "  <tbody>\n",
       "    <tr>\n",
       "      <th>14104</th>\n",
       "      <td>1739</td>\n",
       "      <td>Camarones</td>\n",
       "      <td>DISTRITO FEDERAL</td>\n",
       "      <td>MX</td>\n",
       "      <td>2019-04-09 20:00:00+00:00</td>\n",
       "      <td>2019-04-09T15:00:00-05:00</td>\n",
       "      <td>pm25</td>\n",
       "      <td>17</td>\n",
       "      <td>µg/m³</td>\n",
       "      <td>19.4684</td>\n",
       "      <td>-99.1697</td>\n",
       "    </tr>\n",
       "    <tr>\n",
       "      <th>14102</th>\n",
       "      <td>1739</td>\n",
       "      <td>Camarones</td>\n",
       "      <td>DISTRITO FEDERAL</td>\n",
       "      <td>MX</td>\n",
       "      <td>2019-04-09 21:00:00+00:00</td>\n",
       "      <td>2019-04-09T16:00:00-05:00</td>\n",
       "      <td>pm25</td>\n",
       "      <td>14</td>\n",
       "      <td>µg/m³</td>\n",
       "      <td>19.4684</td>\n",
       "      <td>-99.1697</td>\n",
       "    </tr>\n",
       "  </tbody>\n",
       "</table>\n",
       "</div>"
      ],
      "text/plain": [
       "       locationId   location              city country  \\\n",
       "14104        1739  Camarones  DISTRITO FEDERAL      MX   \n",
       "14102        1739  Camarones  DISTRITO FEDERAL      MX   \n",
       "\n",
       "                            utc                      local parameter  value  \\\n",
       "14104 2019-04-09 20:00:00+00:00  2019-04-09T15:00:00-05:00      pm25     17   \n",
       "14102 2019-04-09 21:00:00+00:00  2019-04-09T16:00:00-05:00      pm25     14   \n",
       "\n",
       "        unit  latitude  longitude  \n",
       "14104  µg/m³   19.4684   -99.1697  \n",
       "14102  µg/m³   19.4684   -99.1697  "
      ]
     },
     "execution_count": 39,
     "metadata": {},
     "output_type": "execute_result"
    }
   ],
   "source": [
    "mexico = mexico.sort_values('utc')\n",
    "mexico.head(2)"
   ]
  },
  {
   "cell_type": "code",
   "execution_count": 40,
   "id": "ce7a15b1",
   "metadata": {},
   "outputs": [],
   "source": [
    "mexico['year'] = mexico['utc'].dt.year"
   ]
  },
  {
   "cell_type": "code",
   "execution_count": 41,
   "id": "157588c9",
   "metadata": {},
   "outputs": [
    {
     "data": {
      "text/html": [
       "<div>\n",
       "<style scoped>\n",
       "    .dataframe tbody tr th:only-of-type {\n",
       "        vertical-align: middle;\n",
       "    }\n",
       "\n",
       "    .dataframe tbody tr th {\n",
       "        vertical-align: top;\n",
       "    }\n",
       "\n",
       "    .dataframe thead th {\n",
       "        text-align: right;\n",
       "    }\n",
       "</style>\n",
       "<table border=\"1\" class=\"dataframe\">\n",
       "  <thead>\n",
       "    <tr style=\"text-align: right;\">\n",
       "      <th></th>\n",
       "      <th>locationId</th>\n",
       "      <th>location</th>\n",
       "      <th>city</th>\n",
       "      <th>country</th>\n",
       "      <th>utc</th>\n",
       "      <th>local</th>\n",
       "      <th>parameter</th>\n",
       "      <th>value</th>\n",
       "      <th>unit</th>\n",
       "      <th>latitude</th>\n",
       "      <th>longitude</th>\n",
       "      <th>year</th>\n",
       "    </tr>\n",
       "  </thead>\n",
       "  <tbody>\n",
       "    <tr>\n",
       "      <th>14104</th>\n",
       "      <td>1739</td>\n",
       "      <td>Camarones</td>\n",
       "      <td>DISTRITO FEDERAL</td>\n",
       "      <td>MX</td>\n",
       "      <td>2019-04-09 20:00:00+00:00</td>\n",
       "      <td>2019-04-09T15:00:00-05:00</td>\n",
       "      <td>pm25</td>\n",
       "      <td>17</td>\n",
       "      <td>µg/m³</td>\n",
       "      <td>19.4684</td>\n",
       "      <td>-99.1697</td>\n",
       "      <td>2019</td>\n",
       "    </tr>\n",
       "    <tr>\n",
       "      <th>14102</th>\n",
       "      <td>1739</td>\n",
       "      <td>Camarones</td>\n",
       "      <td>DISTRITO FEDERAL</td>\n",
       "      <td>MX</td>\n",
       "      <td>2019-04-09 21:00:00+00:00</td>\n",
       "      <td>2019-04-09T16:00:00-05:00</td>\n",
       "      <td>pm25</td>\n",
       "      <td>14</td>\n",
       "      <td>µg/m³</td>\n",
       "      <td>19.4684</td>\n",
       "      <td>-99.1697</td>\n",
       "      <td>2019</td>\n",
       "    </tr>\n",
       "  </tbody>\n",
       "</table>\n",
       "</div>"
      ],
      "text/plain": [
       "       locationId   location              city country  \\\n",
       "14104        1739  Camarones  DISTRITO FEDERAL      MX   \n",
       "14102        1739  Camarones  DISTRITO FEDERAL      MX   \n",
       "\n",
       "                            utc                      local parameter  value  \\\n",
       "14104 2019-04-09 20:00:00+00:00  2019-04-09T15:00:00-05:00      pm25     17   \n",
       "14102 2019-04-09 21:00:00+00:00  2019-04-09T16:00:00-05:00      pm25     14   \n",
       "\n",
       "        unit  latitude  longitude  year  \n",
       "14104  µg/m³   19.4684   -99.1697  2019  \n",
       "14102  µg/m³   19.4684   -99.1697  2019  "
      ]
     },
     "execution_count": 41,
     "metadata": {},
     "output_type": "execute_result"
    }
   ],
   "source": [
    "mexico.head(2)"
   ]
  },
  {
   "cell_type": "code",
   "execution_count": 42,
   "id": "80834412",
   "metadata": {},
   "outputs": [
    {
     "data": {
      "text/plain": [
       "2020    3349\n",
       "2021    2359\n",
       "2019    1311\n",
       "Name: year, dtype: int64"
      ]
     },
     "execution_count": 42,
     "metadata": {},
     "output_type": "execute_result"
    }
   ],
   "source": [
    "mexico['year'].value_counts()"
   ]
  },
  {
   "cell_type": "code",
   "execution_count": 43,
   "id": "266ef139",
   "metadata": {},
   "outputs": [
    {
     "data": {
      "text/html": [
       "<div>\n",
       "<style scoped>\n",
       "    .dataframe tbody tr th:only-of-type {\n",
       "        vertical-align: middle;\n",
       "    }\n",
       "\n",
       "    .dataframe tbody tr th {\n",
       "        vertical-align: top;\n",
       "    }\n",
       "\n",
       "    .dataframe thead th {\n",
       "        text-align: right;\n",
       "    }\n",
       "</style>\n",
       "<table border=\"1\" class=\"dataframe\">\n",
       "  <thead>\n",
       "    <tr style=\"text-align: right;\">\n",
       "      <th></th>\n",
       "      <th>year</th>\n",
       "      <th>city</th>\n",
       "      <th>parameter</th>\n",
       "      <th>value</th>\n",
       "    </tr>\n",
       "  </thead>\n",
       "  <tbody>\n",
       "    <tr>\n",
       "      <th>0</th>\n",
       "      <td>2019</td>\n",
       "      <td>DISTRITO FEDERAL</td>\n",
       "      <td>pm25</td>\n",
       "      <td>26.372235</td>\n",
       "    </tr>\n",
       "    <tr>\n",
       "      <th>1</th>\n",
       "      <td>2020</td>\n",
       "      <td>DISTRITO FEDERAL</td>\n",
       "      <td>pm25</td>\n",
       "      <td>18.066886</td>\n",
       "    </tr>\n",
       "    <tr>\n",
       "      <th>2</th>\n",
       "      <td>2021</td>\n",
       "      <td>DISTRITO FEDERAL</td>\n",
       "      <td>pm25</td>\n",
       "      <td>19.555320</td>\n",
       "    </tr>\n",
       "  </tbody>\n",
       "</table>\n",
       "</div>"
      ],
      "text/plain": [
       "   year              city parameter      value\n",
       "0  2019  DISTRITO FEDERAL      pm25  26.372235\n",
       "1  2020  DISTRITO FEDERAL      pm25  18.066886\n",
       "2  2021  DISTRITO FEDERAL      pm25  19.555320"
      ]
     },
     "execution_count": 43,
     "metadata": {},
     "output_type": "execute_result"
    }
   ],
   "source": [
    "mexico_pm25 = mexico.groupby(['year', 'city', 'parameter'], as_index=False).agg({'value':'mean'})\n",
    "mexico_pm25"
   ]
  },
  {
   "cell_type": "code",
   "execution_count": 44,
   "id": "4dff4400",
   "metadata": {},
   "outputs": [
    {
     "data": {
      "text/plain": [
       "<AxesSubplot:xlabel='year', ylabel='value'>"
      ]
     },
     "execution_count": 44,
     "metadata": {},
     "output_type": "execute_result"
    },
    {
     "data": {
      "image/png": "[encoded data removed]",
      "text/plain": [
       "<Figure size 432x288 with 1 Axes>"
      ]
     },
     "metadata": {
      "needs_background": "light"
     },
     "output_type": "display_data"
    }
   ],
   "source": [
    "sns.barplot(data=mexico_pm25, x='year', y='value')"
   ]
  },
  {
   "cell_type": "markdown",
   "id": "fc059681",
   "metadata": {},
   "source": [
    "### Dehli"
   ]
  },
  {
   "cell_type": "code",
   "execution_count": 45,
   "id": "c43f14a7",
   "metadata": {},
   "outputs": [],
   "source": [
    "dehli = pd.read_csv('Dehli.csv')"
   ]
  },
  {
   "cell_type": "code",
   "execution_count": 46,
   "id": "fb529bf5",
   "metadata": {},
   "outputs": [
    {
     "data": {
      "text/html": [
       "<div>\n",
       "<style scoped>\n",
       "    .dataframe tbody tr th:only-of-type {\n",
       "        vertical-align: middle;\n",
       "    }\n",
       "\n",
       "    .dataframe tbody tr th {\n",
       "        vertical-align: top;\n",
       "    }\n",
       "\n",
       "    .dataframe thead th {\n",
       "        text-align: right;\n",
       "    }\n",
       "</style>\n",
       "<table border=\"1\" class=\"dataframe\">\n",
       "  <thead>\n",
       "    <tr style=\"text-align: right;\">\n",
       "      <th></th>\n",
       "      <th>locationId</th>\n",
       "      <th>location</th>\n",
       "      <th>city</th>\n",
       "      <th>country</th>\n",
       "      <th>utc</th>\n",
       "      <th>local</th>\n",
       "      <th>parameter</th>\n",
       "      <th>value</th>\n",
       "      <th>unit</th>\n",
       "      <th>latitude</th>\n",
       "      <th>longitude</th>\n",
       "    </tr>\n",
       "  </thead>\n",
       "  <tbody>\n",
       "    <tr>\n",
       "      <th>0</th>\n",
       "      <td>5570</td>\n",
       "      <td>Aya Nagar, Delhi - IMD</td>\n",
       "      <td>Delhi</td>\n",
       "      <td>IN</td>\n",
       "      <td>2020-12-31T04:00:00+00:00</td>\n",
       "      <td>2020-12-31T09:30:00+05:30</td>\n",
       "      <td>pm10</td>\n",
       "      <td>179.59</td>\n",
       "      <td>µg/m³</td>\n",
       "      <td>28.470691</td>\n",
       "      <td>77.109936</td>\n",
       "    </tr>\n",
       "    <tr>\n",
       "      <th>1</th>\n",
       "      <td>5570</td>\n",
       "      <td>Aya Nagar, Delhi - IMD</td>\n",
       "      <td>Delhi</td>\n",
       "      <td>IN</td>\n",
       "      <td>2020-12-31T04:00:00+00:00</td>\n",
       "      <td>2020-12-31T09:30:00+05:30</td>\n",
       "      <td>pm25</td>\n",
       "      <td>115.80</td>\n",
       "      <td>µg/m³</td>\n",
       "      <td>28.470691</td>\n",
       "      <td>77.109936</td>\n",
       "    </tr>\n",
       "  </tbody>\n",
       "</table>\n",
       "</div>"
      ],
      "text/plain": [
       "   locationId                location   city country  \\\n",
       "0        5570  Aya Nagar, Delhi - IMD  Delhi      IN   \n",
       "1        5570  Aya Nagar, Delhi - IMD  Delhi      IN   \n",
       "\n",
       "                         utc                      local parameter   value  \\\n",
       "0  2020-12-31T04:00:00+00:00  2020-12-31T09:30:00+05:30      pm10  179.59   \n",
       "1  2020-12-31T04:00:00+00:00  2020-12-31T09:30:00+05:30      pm25  115.80   \n",
       "\n",
       "    unit   latitude  longitude  \n",
       "0  µg/m³  28.470691  77.109936  \n",
       "1  µg/m³  28.470691  77.109936  "
      ]
     },
     "execution_count": 46,
     "metadata": {},
     "output_type": "execute_result"
    }
   ],
   "source": [
    "dehli.head(2)"
   ]
  },
  {
   "cell_type": "code",
   "execution_count": 47,
   "id": "65ed6dae",
   "metadata": {},
   "outputs": [
    {
     "name": "stdout",
     "output_type": "stream",
     "text": [
      "<class 'pandas.core.frame.DataFrame'>\n",
      "RangeIndex: 30500 entries, 0 to 30499\n",
      "Data columns (total 11 columns):\n",
      " #   Column      Non-Null Count  Dtype  \n",
      "---  ------      --------------  -----  \n",
      " 0   locationId  30500 non-null  int64  \n",
      " 1   location    30500 non-null  object \n",
      " 2   city        30500 non-null  object \n",
      " 3   country     30500 non-null  object \n",
      " 4   utc         30500 non-null  object \n",
      " 5   local       30500 non-null  object \n",
      " 6   parameter   30500 non-null  object \n",
      " 7   value       30500 non-null  float64\n",
      " 8   unit        30500 non-null  object \n",
      " 9   latitude    30500 non-null  float64\n",
      " 10  longitude   30500 non-null  float64\n",
      "dtypes: float64(3), int64(1), object(7)\n",
      "memory usage: 2.6+ MB\n"
     ]
    }
   ],
   "source": [
    "dehli.info()"
   ]
  },
  {
   "cell_type": "code",
   "execution_count": 48,
   "id": "78d3ca49",
   "metadata": {},
   "outputs": [
    {
     "data": {
      "text/plain": [
       "(30500, 11)"
      ]
     },
     "execution_count": 48,
     "metadata": {},
     "output_type": "execute_result"
    }
   ],
   "source": [
    "dehli.shape"
   ]
  },
  {
   "cell_type": "code",
   "execution_count": 49,
   "id": "c3df3ff7",
   "metadata": {},
   "outputs": [
    {
     "data": {
      "text/plain": [
       "pm10    15250\n",
       "pm25    15250\n",
       "Name: parameter, dtype: int64"
      ]
     },
     "execution_count": 49,
     "metadata": {},
     "output_type": "execute_result"
    }
   ],
   "source": [
    "dehli['parameter'].value_counts()"
   ]
  },
  {
   "cell_type": "code",
   "execution_count": 50,
   "id": "22e7d4dc",
   "metadata": {},
   "outputs": [
    {
     "data": {
      "text/plain": [
       "µg/m³    30500\n",
       "Name: unit, dtype: int64"
      ]
     },
     "execution_count": 50,
     "metadata": {},
     "output_type": "execute_result"
    }
   ],
   "source": [
    "dehli['unit'].value_counts()"
   ]
  },
  {
   "cell_type": "code",
   "execution_count": 51,
   "id": "2769bc8a",
   "metadata": {},
   "outputs": [],
   "source": [
    "dehli = dehli.loc[dehli['parameter'] == 'pm25']"
   ]
  },
  {
   "cell_type": "code",
   "execution_count": 52,
   "id": "55197d20",
   "metadata": {},
   "outputs": [],
   "source": [
    "dehli['utc'] = pd.to_datetime(dehli['utc'])"
   ]
  },
  {
   "cell_type": "code",
   "execution_count": 53,
   "id": "b109bb18",
   "metadata": {},
   "outputs": [
    {
     "data": {
      "text/html": [
       "<div>\n",
       "<style scoped>\n",
       "    .dataframe tbody tr th:only-of-type {\n",
       "        vertical-align: middle;\n",
       "    }\n",
       "\n",
       "    .dataframe tbody tr th {\n",
       "        vertical-align: top;\n",
       "    }\n",
       "\n",
       "    .dataframe thead th {\n",
       "        text-align: right;\n",
       "    }\n",
       "</style>\n",
       "<table border=\"1\" class=\"dataframe\">\n",
       "  <thead>\n",
       "    <tr style=\"text-align: right;\">\n",
       "      <th></th>\n",
       "      <th>locationId</th>\n",
       "      <th>location</th>\n",
       "      <th>city</th>\n",
       "      <th>country</th>\n",
       "      <th>utc</th>\n",
       "      <th>local</th>\n",
       "      <th>parameter</th>\n",
       "      <th>value</th>\n",
       "      <th>unit</th>\n",
       "      <th>latitude</th>\n",
       "      <th>longitude</th>\n",
       "    </tr>\n",
       "  </thead>\n",
       "  <tbody>\n",
       "    <tr>\n",
       "      <th>30498</th>\n",
       "      <td>5570</td>\n",
       "      <td>Aya Nagar, Delhi - IMD</td>\n",
       "      <td>Delhi</td>\n",
       "      <td>IN</td>\n",
       "      <td>2020-01-01 04:00:00+00:00</td>\n",
       "      <td>2020-01-01T09:30:00+05:30</td>\n",
       "      <td>pm25</td>\n",
       "      <td>446.75</td>\n",
       "      <td>µg/m³</td>\n",
       "      <td>28.470691</td>\n",
       "      <td>77.109936</td>\n",
       "    </tr>\n",
       "    <tr>\n",
       "      <th>30496</th>\n",
       "      <td>5570</td>\n",
       "      <td>Aya Nagar, Delhi - IMD</td>\n",
       "      <td>Delhi</td>\n",
       "      <td>IN</td>\n",
       "      <td>2020-01-01 04:15:00+00:00</td>\n",
       "      <td>2020-01-01T09:45:00+05:30</td>\n",
       "      <td>pm25</td>\n",
       "      <td>400.46</td>\n",
       "      <td>µg/m³</td>\n",
       "      <td>28.470691</td>\n",
       "      <td>77.109936</td>\n",
       "    </tr>\n",
       "  </tbody>\n",
       "</table>\n",
       "</div>"
      ],
      "text/plain": [
       "       locationId                location   city country  \\\n",
       "30498        5570  Aya Nagar, Delhi - IMD  Delhi      IN   \n",
       "30496        5570  Aya Nagar, Delhi - IMD  Delhi      IN   \n",
       "\n",
       "                            utc                      local parameter   value  \\\n",
       "30498 2020-01-01 04:00:00+00:00  2020-01-01T09:30:00+05:30      pm25  446.75   \n",
       "30496 2020-01-01 04:15:00+00:00  2020-01-01T09:45:00+05:30      pm25  400.46   \n",
       "\n",
       "        unit   latitude  longitude  \n",
       "30498  µg/m³  28.470691  77.109936  \n",
       "30496  µg/m³  28.470691  77.109936  "
      ]
     },
     "execution_count": 53,
     "metadata": {},
     "output_type": "execute_result"
    }
   ],
   "source": [
    "dehli = dehli.sort_values('utc')\n",
    "dehli.head(2)"
   ]
  },
  {
   "cell_type": "code",
   "execution_count": 54,
   "id": "a916b56c",
   "metadata": {},
   "outputs": [],
   "source": [
    "dehli['year'] = dehli['utc'].dt.year"
   ]
  },
  {
   "cell_type": "code",
   "execution_count": 55,
   "id": "685827a0",
   "metadata": {},
   "outputs": [
    {
     "data": {
      "text/html": [
       "<div>\n",
       "<style scoped>\n",
       "    .dataframe tbody tr th:only-of-type {\n",
       "        vertical-align: middle;\n",
       "    }\n",
       "\n",
       "    .dataframe tbody tr th {\n",
       "        vertical-align: top;\n",
       "    }\n",
       "\n",
       "    .dataframe thead th {\n",
       "        text-align: right;\n",
       "    }\n",
       "</style>\n",
       "<table border=\"1\" class=\"dataframe\">\n",
       "  <thead>\n",
       "    <tr style=\"text-align: right;\">\n",
       "      <th></th>\n",
       "      <th>locationId</th>\n",
       "      <th>location</th>\n",
       "      <th>city</th>\n",
       "      <th>country</th>\n",
       "      <th>utc</th>\n",
       "      <th>local</th>\n",
       "      <th>parameter</th>\n",
       "      <th>value</th>\n",
       "      <th>unit</th>\n",
       "      <th>latitude</th>\n",
       "      <th>longitude</th>\n",
       "      <th>year</th>\n",
       "    </tr>\n",
       "  </thead>\n",
       "  <tbody>\n",
       "    <tr>\n",
       "      <th>30498</th>\n",
       "      <td>5570</td>\n",
       "      <td>Aya Nagar, Delhi - IMD</td>\n",
       "      <td>Delhi</td>\n",
       "      <td>IN</td>\n",
       "      <td>2020-01-01 04:00:00+00:00</td>\n",
       "      <td>2020-01-01T09:30:00+05:30</td>\n",
       "      <td>pm25</td>\n",
       "      <td>446.75</td>\n",
       "      <td>µg/m³</td>\n",
       "      <td>28.470691</td>\n",
       "      <td>77.109936</td>\n",
       "      <td>2020</td>\n",
       "    </tr>\n",
       "    <tr>\n",
       "      <th>30496</th>\n",
       "      <td>5570</td>\n",
       "      <td>Aya Nagar, Delhi - IMD</td>\n",
       "      <td>Delhi</td>\n",
       "      <td>IN</td>\n",
       "      <td>2020-01-01 04:15:00+00:00</td>\n",
       "      <td>2020-01-01T09:45:00+05:30</td>\n",
       "      <td>pm25</td>\n",
       "      <td>400.46</td>\n",
       "      <td>µg/m³</td>\n",
       "      <td>28.470691</td>\n",
       "      <td>77.109936</td>\n",
       "      <td>2020</td>\n",
       "    </tr>\n",
       "  </tbody>\n",
       "</table>\n",
       "</div>"
      ],
      "text/plain": [
       "       locationId                location   city country  \\\n",
       "30498        5570  Aya Nagar, Delhi - IMD  Delhi      IN   \n",
       "30496        5570  Aya Nagar, Delhi - IMD  Delhi      IN   \n",
       "\n",
       "                            utc                      local parameter   value  \\\n",
       "30498 2020-01-01 04:00:00+00:00  2020-01-01T09:30:00+05:30      pm25  446.75   \n",
       "30496 2020-01-01 04:15:00+00:00  2020-01-01T09:45:00+05:30      pm25  400.46   \n",
       "\n",
       "        unit   latitude  longitude  year  \n",
       "30498  µg/m³  28.470691  77.109936  2020  \n",
       "30496  µg/m³  28.470691  77.109936  2020  "
      ]
     },
     "execution_count": 55,
     "metadata": {},
     "output_type": "execute_result"
    }
   ],
   "source": [
    "dehli.head(2)"
   ]
  },
  {
   "cell_type": "code",
   "execution_count": 56,
   "id": "fb9348d2",
   "metadata": {},
   "outputs": [
    {
     "data": {
      "text/plain": [
       "2020    15250\n",
       "Name: year, dtype: int64"
      ]
     },
     "execution_count": 56,
     "metadata": {},
     "output_type": "execute_result"
    }
   ],
   "source": [
    "dehli['year'].value_counts()"
   ]
  },
  {
   "cell_type": "code",
   "execution_count": 57,
   "id": "d2de381c",
   "metadata": {},
   "outputs": [
    {
     "data": {
      "text/html": [
       "<div>\n",
       "<style scoped>\n",
       "    .dataframe tbody tr th:only-of-type {\n",
       "        vertical-align: middle;\n",
       "    }\n",
       "\n",
       "    .dataframe tbody tr th {\n",
       "        vertical-align: top;\n",
       "    }\n",
       "\n",
       "    .dataframe thead th {\n",
       "        text-align: right;\n",
       "    }\n",
       "</style>\n",
       "<table border=\"1\" class=\"dataframe\">\n",
       "  <thead>\n",
       "    <tr style=\"text-align: right;\">\n",
       "      <th></th>\n",
       "      <th>year</th>\n",
       "      <th>city</th>\n",
       "      <th>parameter</th>\n",
       "      <th>value</th>\n",
       "    </tr>\n",
       "  </thead>\n",
       "  <tbody>\n",
       "    <tr>\n",
       "      <th>0</th>\n",
       "      <td>2020</td>\n",
       "      <td>Delhi</td>\n",
       "      <td>pm25</td>\n",
       "      <td>69.113219</td>\n",
       "    </tr>\n",
       "  </tbody>\n",
       "</table>\n",
       "</div>"
      ],
      "text/plain": [
       "   year   city parameter      value\n",
       "0  2020  Delhi      pm25  69.113219"
      ]
     },
     "execution_count": 57,
     "metadata": {},
     "output_type": "execute_result"
    }
   ],
   "source": [
    "dehli_pm25 = dehli.groupby(['year', 'city', 'parameter'], as_index=False).agg({'value':'mean'})\n",
    "dehli_pm25"
   ]
  },
  {
   "cell_type": "code",
   "execution_count": null,
   "id": "749a0183",
   "metadata": {},
   "outputs": [],
   "source": []
  },
  {
   "cell_type": "markdown",
   "id": "a0bf3caf",
   "metadata": {},
   "source": [
    "Hacer un filtrado por year=2020"
   ]
  },
  {
   "cell_type": "markdown",
   "id": "5b68efb4",
   "metadata": {},
   "source": [
    "**Uniendo los dataframe y evaluando en el año 2020**"
   ]
  },
  {
   "cell_type": "code",
   "execution_count": 58,
   "id": "1c6612d5",
   "metadata": {},
   "outputs": [],
   "source": [
    "mexico_y = mexico_pm25[mexico_pm25['year'] == 2020]"
   ]
  },
  {
   "cell_type": "code",
   "execution_count": 59,
   "id": "9f1170e0",
   "metadata": {},
   "outputs": [],
   "source": [
    "santiago_y = santiago_pm25[santiago_pm25['year'] == 2020]"
   ]
  },
  {
   "cell_type": "code",
   "execution_count": 60,
   "id": "df9860a1",
   "metadata": {},
   "outputs": [],
   "source": [
    "pm_25_by_country = pd.concat([dehli_pm25, mexico_y, santiago_y], axis=0)"
   ]
  },
  {
   "cell_type": "code",
   "execution_count": 61,
   "id": "acc1791b",
   "metadata": {},
   "outputs": [
    {
     "data": {
      "text/html": [
       "<div>\n",
       "<style scoped>\n",
       "    .dataframe tbody tr th:only-of-type {\n",
       "        vertical-align: middle;\n",
       "    }\n",
       "\n",
       "    .dataframe tbody tr th {\n",
       "        vertical-align: top;\n",
       "    }\n",
       "\n",
       "    .dataframe thead th {\n",
       "        text-align: right;\n",
       "    }\n",
       "</style>\n",
       "<table border=\"1\" class=\"dataframe\">\n",
       "  <thead>\n",
       "    <tr style=\"text-align: right;\">\n",
       "      <th></th>\n",
       "      <th>year</th>\n",
       "      <th>city</th>\n",
       "      <th>parameter</th>\n",
       "      <th>value</th>\n",
       "    </tr>\n",
       "  </thead>\n",
       "  <tbody>\n",
       "    <tr>\n",
       "      <th>0</th>\n",
       "      <td>2020</td>\n",
       "      <td>Delhi</td>\n",
       "      <td>pm25</td>\n",
       "      <td>69.113219</td>\n",
       "    </tr>\n",
       "    <tr>\n",
       "      <th>1</th>\n",
       "      <td>2020</td>\n",
       "      <td>DISTRITO FEDERAL</td>\n",
       "      <td>pm25</td>\n",
       "      <td>18.066886</td>\n",
       "    </tr>\n",
       "    <tr>\n",
       "      <th>0</th>\n",
       "      <td>2020</td>\n",
       "      <td>Santiago</td>\n",
       "      <td>pm25</td>\n",
       "      <td>20.293798</td>\n",
       "    </tr>\n",
       "  </tbody>\n",
       "</table>\n",
       "</div>"
      ],
      "text/plain": [
       "   year              city parameter      value\n",
       "0  2020             Delhi      pm25  69.113219\n",
       "1  2020  DISTRITO FEDERAL      pm25  18.066886\n",
       "0  2020          Santiago      pm25  20.293798"
      ]
     },
     "execution_count": 61,
     "metadata": {},
     "output_type": "execute_result"
    }
   ],
   "source": [
    "pm_25_by_country"
   ]
  },
  {
   "cell_type": "code",
   "execution_count": 62,
   "id": "af29183b",
   "metadata": {},
   "outputs": [
    {
     "data": {
      "text/plain": [
       "<AxesSubplot:xlabel='city', ylabel='value'>"
      ]
     },
     "execution_count": 62,
     "metadata": {},
     "output_type": "execute_result"
    },
    {
     "data": {
      "image/png": "[encoded data removed]",
      "text/plain": [
       "<Figure size 432x288 with 1 Axes>"
      ]
     },
     "metadata": {
      "needs_background": "light"
     },
     "output_type": "display_data"
    }
   ],
   "source": [
    "sns.barplot(data=pm_25_by_country, x='city', y='value')"
   ]
  },
  {
   "cell_type": "markdown",
   "id": "772b26de",
   "metadata": {},
   "source": [
    "### Historical Data Houston"
   ]
  },
  {
   "cell_type": "code",
   "execution_count": 63,
   "id": "3b75b271",
   "metadata": {},
   "outputs": [],
   "source": [
    "houston_hist = pd.read_csv('houston-east, houston, texas-air-quality.csv')"
   ]
  },
  {
   "cell_type": "code",
   "execution_count": 64,
   "id": "e0d6dca6",
   "metadata": {},
   "outputs": [
    {
     "data": {
      "text/plain": [
       "['date', ' pm25', ' pm10', ' o3', ' no2', ' so2', ' co']"
      ]
     },
     "execution_count": 64,
     "metadata": {},
     "output_type": "execute_result"
    }
   ],
   "source": [
    "to_rename = [column for column in houston_hist.columns]\n",
    "to_rename"
   ]
  },
  {
   "cell_type": "code",
   "execution_count": 65,
   "id": "c83a745c",
   "metadata": {},
   "outputs": [],
   "source": [
    "to_keep = ['date', 'pm25', 'pm10', 'o3', 'no2', 'so2', 'co']"
   ]
  },
  {
   "cell_type": "code",
   "execution_count": 66,
   "id": "945d89d4",
   "metadata": {
    "scrolled": true
   },
   "outputs": [
    {
     "data": {
      "text/plain": [
       "{'date': 'date',\n",
       " ' pm25': 'pm25',\n",
       " ' pm10': 'pm10',\n",
       " ' o3': 'o3',\n",
       " ' no2': 'no2',\n",
       " ' so2': 'so2',\n",
       " ' co': 'co'}"
      ]
     },
     "execution_count": 66,
     "metadata": {},
     "output_type": "execute_result"
    }
   ],
   "source": [
    "dict_hou = dict(zip(to_rename, to_keep))\n",
    "dict_hou"
   ]
  },
  {
   "cell_type": "code",
   "execution_count": 67,
   "id": "6267ecd0",
   "metadata": {},
   "outputs": [],
   "source": [
    "houston_hist.rename(columns=dict_hou, inplace=True)"
   ]
  },
  {
   "cell_type": "code",
   "execution_count": 68,
   "id": "5d1ac01a",
   "metadata": {
    "scrolled": false
   },
   "outputs": [
    {
     "data": {
      "text/html": [
       "<div>\n",
       "<style scoped>\n",
       "    .dataframe tbody tr th:only-of-type {\n",
       "        vertical-align: middle;\n",
       "    }\n",
       "\n",
       "    .dataframe tbody tr th {\n",
       "        vertical-align: top;\n",
       "    }\n",
       "\n",
       "    .dataframe thead th {\n",
       "        text-align: right;\n",
       "    }\n",
       "</style>\n",
       "<table border=\"1\" class=\"dataframe\">\n",
       "  <thead>\n",
       "    <tr style=\"text-align: right;\">\n",
       "      <th></th>\n",
       "      <th>date</th>\n",
       "      <th>pm25</th>\n",
       "      <th>pm10</th>\n",
       "      <th>o3</th>\n",
       "      <th>no2</th>\n",
       "      <th>so2</th>\n",
       "      <th>co</th>\n",
       "    </tr>\n",
       "  </thead>\n",
       "  <tbody>\n",
       "    <tr>\n",
       "      <th>0</th>\n",
       "      <td>2021/10/2</td>\n",
       "      <td>29</td>\n",
       "      <td></td>\n",
       "      <td>19</td>\n",
       "      <td>10</td>\n",
       "      <td></td>\n",
       "      <td></td>\n",
       "    </tr>\n",
       "    <tr>\n",
       "      <th>1</th>\n",
       "      <td>2021/10/3</td>\n",
       "      <td>29</td>\n",
       "      <td></td>\n",
       "      <td></td>\n",
       "      <td></td>\n",
       "      <td></td>\n",
       "      <td></td>\n",
       "    </tr>\n",
       "    <tr>\n",
       "      <th>2</th>\n",
       "      <td>2021/10/4</td>\n",
       "      <td>58</td>\n",
       "      <td></td>\n",
       "      <td></td>\n",
       "      <td></td>\n",
       "      <td></td>\n",
       "      <td></td>\n",
       "    </tr>\n",
       "    <tr>\n",
       "      <th>3</th>\n",
       "      <td>2021/9/2</td>\n",
       "      <td>53</td>\n",
       "      <td></td>\n",
       "      <td>19</td>\n",
       "      <td>8</td>\n",
       "      <td></td>\n",
       "      <td></td>\n",
       "    </tr>\n",
       "    <tr>\n",
       "      <th>4</th>\n",
       "      <td>2021/9/3</td>\n",
       "      <td>56</td>\n",
       "      <td></td>\n",
       "      <td>20</td>\n",
       "      <td>10</td>\n",
       "      <td></td>\n",
       "      <td></td>\n",
       "    </tr>\n",
       "    <tr>\n",
       "      <th>5</th>\n",
       "      <td>2021/9/4</td>\n",
       "      <td>44</td>\n",
       "      <td></td>\n",
       "      <td>25</td>\n",
       "      <td>5</td>\n",
       "      <td></td>\n",
       "      <td></td>\n",
       "    </tr>\n",
       "    <tr>\n",
       "      <th>6</th>\n",
       "      <td>2021/9/5</td>\n",
       "      <td>76</td>\n",
       "      <td></td>\n",
       "      <td>25</td>\n",
       "      <td>3</td>\n",
       "      <td></td>\n",
       "      <td></td>\n",
       "    </tr>\n",
       "    <tr>\n",
       "      <th>7</th>\n",
       "      <td>2021/9/6</td>\n",
       "      <td>81</td>\n",
       "      <td></td>\n",
       "      <td>37</td>\n",
       "      <td>5</td>\n",
       "      <td></td>\n",
       "      <td></td>\n",
       "    </tr>\n",
       "    <tr>\n",
       "      <th>8</th>\n",
       "      <td>2021/9/7</td>\n",
       "      <td>55</td>\n",
       "      <td></td>\n",
       "      <td>41</td>\n",
       "      <td>13</td>\n",
       "      <td></td>\n",
       "      <td></td>\n",
       "    </tr>\n",
       "    <tr>\n",
       "      <th>9</th>\n",
       "      <td>2021/9/8</td>\n",
       "      <td>49</td>\n",
       "      <td></td>\n",
       "      <td>51</td>\n",
       "      <td>19</td>\n",
       "      <td></td>\n",
       "      <td></td>\n",
       "    </tr>\n",
       "  </tbody>\n",
       "</table>\n",
       "</div>"
      ],
      "text/plain": [
       "        date pm25 pm10   o3  no2 so2 co\n",
       "0  2021/10/2   29        19   10       \n",
       "1  2021/10/3   29                      \n",
       "2  2021/10/4   58                      \n",
       "3   2021/9/2   53        19    8       \n",
       "4   2021/9/3   56        20   10       \n",
       "5   2021/9/4   44        25    5       \n",
       "6   2021/9/5   76        25    3       \n",
       "7   2021/9/6   81        37    5       \n",
       "8   2021/9/7   55        41   13       \n",
       "9   2021/9/8   49        51   19       "
      ]
     },
     "execution_count": 68,
     "metadata": {},
     "output_type": "execute_result"
    }
   ],
   "source": [
    "houston_hist.head(10)"
   ]
  },
  {
   "cell_type": "code",
   "execution_count": 69,
   "id": "718b1732",
   "metadata": {},
   "outputs": [
    {
     "data": {
      "text/plain": [
       "(2793, 7)"
      ]
     },
     "execution_count": 69,
     "metadata": {},
     "output_type": "execute_result"
    }
   ],
   "source": [
    "houston_hist.shape"
   ]
  },
  {
   "cell_type": "code",
   "execution_count": 70,
   "id": "75a25df6",
   "metadata": {},
   "outputs": [],
   "source": [
    "houston_hist.drop(columns=['pm10', 'o3', 'no2', 'so2', 'co'], inplace=True)"
   ]
  },
  {
   "cell_type": "code",
   "execution_count": 71,
   "id": "15308666",
   "metadata": {},
   "outputs": [
    {
     "data": {
      "text/html": [
       "<div>\n",
       "<style scoped>\n",
       "    .dataframe tbody tr th:only-of-type {\n",
       "        vertical-align: middle;\n",
       "    }\n",
       "\n",
       "    .dataframe tbody tr th {\n",
       "        vertical-align: top;\n",
       "    }\n",
       "\n",
       "    .dataframe thead th {\n",
       "        text-align: right;\n",
       "    }\n",
       "</style>\n",
       "<table border=\"1\" class=\"dataframe\">\n",
       "  <thead>\n",
       "    <tr style=\"text-align: right;\">\n",
       "      <th></th>\n",
       "      <th>date</th>\n",
       "      <th>pm25</th>\n",
       "    </tr>\n",
       "  </thead>\n",
       "  <tbody>\n",
       "    <tr>\n",
       "      <th>0</th>\n",
       "      <td>2021/10/2</td>\n",
       "      <td>29</td>\n",
       "    </tr>\n",
       "    <tr>\n",
       "      <th>1</th>\n",
       "      <td>2021/10/3</td>\n",
       "      <td>29</td>\n",
       "    </tr>\n",
       "    <tr>\n",
       "      <th>2</th>\n",
       "      <td>2021/10/4</td>\n",
       "      <td>58</td>\n",
       "    </tr>\n",
       "    <tr>\n",
       "      <th>3</th>\n",
       "      <td>2021/9/2</td>\n",
       "      <td>53</td>\n",
       "    </tr>\n",
       "    <tr>\n",
       "      <th>4</th>\n",
       "      <td>2021/9/3</td>\n",
       "      <td>56</td>\n",
       "    </tr>\n",
       "    <tr>\n",
       "      <th>...</th>\n",
       "      <td>...</td>\n",
       "      <td>...</td>\n",
       "    </tr>\n",
       "    <tr>\n",
       "      <th>2788</th>\n",
       "      <td>2014/3/3</td>\n",
       "      <td></td>\n",
       "    </tr>\n",
       "    <tr>\n",
       "      <th>2789</th>\n",
       "      <td>2014/3/10</td>\n",
       "      <td></td>\n",
       "    </tr>\n",
       "    <tr>\n",
       "      <th>2790</th>\n",
       "      <td>2017/9/1</td>\n",
       "      <td></td>\n",
       "    </tr>\n",
       "    <tr>\n",
       "      <th>2791</th>\n",
       "      <td>2017/9/28</td>\n",
       "      <td></td>\n",
       "    </tr>\n",
       "    <tr>\n",
       "      <th>2792</th>\n",
       "      <td>2014/8/11</td>\n",
       "      <td></td>\n",
       "    </tr>\n",
       "  </tbody>\n",
       "</table>\n",
       "<p>2793 rows × 2 columns</p>\n",
       "</div>"
      ],
      "text/plain": [
       "           date pm25\n",
       "0     2021/10/2   29\n",
       "1     2021/10/3   29\n",
       "2     2021/10/4   58\n",
       "3      2021/9/2   53\n",
       "4      2021/9/3   56\n",
       "...         ...  ...\n",
       "2788   2014/3/3     \n",
       "2789  2014/3/10     \n",
       "2790   2017/9/1     \n",
       "2791  2017/9/28     \n",
       "2792  2014/8/11     \n",
       "\n",
       "[2793 rows x 2 columns]"
      ]
     },
     "execution_count": 71,
     "metadata": {},
     "output_type": "execute_result"
    }
   ],
   "source": [
    "houston_hist"
   ]
  },
  {
   "cell_type": "code",
   "execution_count": 74,
   "id": "82047ffd",
   "metadata": {},
   "outputs": [],
   "source": [
    "houston_hist['date'] = pd.to_datetime(houston_hist['date'])"
   ]
  },
  {
   "cell_type": "code",
   "execution_count": 75,
   "id": "eb671e41",
   "metadata": {},
   "outputs": [
    {
     "data": {
      "text/html": [
       "<div>\n",
       "<style scoped>\n",
       "    .dataframe tbody tr th:only-of-type {\n",
       "        vertical-align: middle;\n",
       "    }\n",
       "\n",
       "    .dataframe tbody tr th {\n",
       "        vertical-align: top;\n",
       "    }\n",
       "\n",
       "    .dataframe thead th {\n",
       "        text-align: right;\n",
       "    }\n",
       "</style>\n",
       "<table border=\"1\" class=\"dataframe\">\n",
       "  <thead>\n",
       "    <tr style=\"text-align: right;\">\n",
       "      <th></th>\n",
       "      <th>date</th>\n",
       "      <th>pm25</th>\n",
       "    </tr>\n",
       "  </thead>\n",
       "  <tbody>\n",
       "    <tr>\n",
       "      <th>0</th>\n",
       "      <td>2021-10-02</td>\n",
       "      <td>29</td>\n",
       "    </tr>\n",
       "    <tr>\n",
       "      <th>1</th>\n",
       "      <td>2021-10-03</td>\n",
       "      <td>29</td>\n",
       "    </tr>\n",
       "    <tr>\n",
       "      <th>2</th>\n",
       "      <td>2021-10-04</td>\n",
       "      <td>58</td>\n",
       "    </tr>\n",
       "    <tr>\n",
       "      <th>3</th>\n",
       "      <td>2021-09-02</td>\n",
       "      <td>53</td>\n",
       "    </tr>\n",
       "    <tr>\n",
       "      <th>4</th>\n",
       "      <td>2021-09-03</td>\n",
       "      <td>56</td>\n",
       "    </tr>\n",
       "  </tbody>\n",
       "</table>\n",
       "</div>"
      ],
      "text/plain": [
       "        date pm25\n",
       "0 2021-10-02   29\n",
       "1 2021-10-03   29\n",
       "2 2021-10-04   58\n",
       "3 2021-09-02   53\n",
       "4 2021-09-03   56"
      ]
     },
     "execution_count": 75,
     "metadata": {},
     "output_type": "execute_result"
    }
   ],
   "source": [
    "houston_hist.head()"
   ]
  },
  {
   "cell_type": "code",
   "execution_count": 76,
   "id": "b9f0944a",
   "metadata": {},
   "outputs": [
    {
     "data": {
      "text/plain": [
       "date    datetime64[ns]\n",
       "pm25            object\n",
       "dtype: object"
      ]
     },
     "execution_count": 76,
     "metadata": {},
     "output_type": "execute_result"
    }
   ],
   "source": [
    "houston_hist.dtypes"
   ]
  },
  {
   "cell_type": "code",
   "execution_count": 77,
   "id": "d92bff08",
   "metadata": {},
   "outputs": [
    {
     "data": {
      "text/html": [
       "<div>\n",
       "<style scoped>\n",
       "    .dataframe tbody tr th:only-of-type {\n",
       "        vertical-align: middle;\n",
       "    }\n",
       "\n",
       "    .dataframe tbody tr th {\n",
       "        vertical-align: top;\n",
       "    }\n",
       "\n",
       "    .dataframe thead th {\n",
       "        text-align: right;\n",
       "    }\n",
       "</style>\n",
       "<table border=\"1\" class=\"dataframe\">\n",
       "  <thead>\n",
       "    <tr style=\"text-align: right;\">\n",
       "      <th></th>\n",
       "      <th>date</th>\n",
       "      <th>pm25</th>\n",
       "    </tr>\n",
       "  </thead>\n",
       "  <tbody>\n",
       "    <tr>\n",
       "      <th>2</th>\n",
       "      <td>2021-10-04</td>\n",
       "      <td>58</td>\n",
       "    </tr>\n",
       "    <tr>\n",
       "      <th>1</th>\n",
       "      <td>2021-10-03</td>\n",
       "      <td>29</td>\n",
       "    </tr>\n",
       "    <tr>\n",
       "      <th>0</th>\n",
       "      <td>2021-10-02</td>\n",
       "      <td>29</td>\n",
       "    </tr>\n",
       "    <tr>\n",
       "      <th>32</th>\n",
       "      <td>2021-10-01</td>\n",
       "      <td>27</td>\n",
       "    </tr>\n",
       "    <tr>\n",
       "      <th>31</th>\n",
       "      <td>2021-09-30</td>\n",
       "      <td>21</td>\n",
       "    </tr>\n",
       "    <tr>\n",
       "      <th>...</th>\n",
       "      <td>...</td>\n",
       "      <td>...</td>\n",
       "    </tr>\n",
       "    <tr>\n",
       "      <th>2777</th>\n",
       "      <td>2014-01-05</td>\n",
       "      <td></td>\n",
       "    </tr>\n",
       "    <tr>\n",
       "      <th>2776</th>\n",
       "      <td>2014-01-04</td>\n",
       "      <td></td>\n",
       "    </tr>\n",
       "    <tr>\n",
       "      <th>2457</th>\n",
       "      <td>2014-01-03</td>\n",
       "      <td>61</td>\n",
       "    </tr>\n",
       "    <tr>\n",
       "      <th>2456</th>\n",
       "      <td>2014-01-02</td>\n",
       "      <td>72</td>\n",
       "    </tr>\n",
       "    <tr>\n",
       "      <th>2775</th>\n",
       "      <td>2014-01-01</td>\n",
       "      <td></td>\n",
       "    </tr>\n",
       "  </tbody>\n",
       "</table>\n",
       "<p>2793 rows × 2 columns</p>\n",
       "</div>"
      ],
      "text/plain": [
       "           date pm25\n",
       "2    2021-10-04   58\n",
       "1    2021-10-03   29\n",
       "0    2021-10-02   29\n",
       "32   2021-10-01   27\n",
       "31   2021-09-30   21\n",
       "...         ...  ...\n",
       "2777 2014-01-05     \n",
       "2776 2014-01-04     \n",
       "2457 2014-01-03   61\n",
       "2456 2014-01-02   72\n",
       "2775 2014-01-01     \n",
       "\n",
       "[2793 rows x 2 columns]"
      ]
     },
     "execution_count": 77,
     "metadata": {},
     "output_type": "execute_result"
    }
   ],
   "source": [
    "houston_hist = houston_hist.sort_values('date', ascending=False)\n",
    "houston_hist"
   ]
  },
  {
   "cell_type": "code",
   "execution_count": 81,
   "id": "cafdb2dd",
   "metadata": {},
   "outputs": [
    {
     "data": {
      "text/html": [
       "<div>\n",
       "<style scoped>\n",
       "    .dataframe tbody tr th:only-of-type {\n",
       "        vertical-align: middle;\n",
       "    }\n",
       "\n",
       "    .dataframe tbody tr th {\n",
       "        vertical-align: top;\n",
       "    }\n",
       "\n",
       "    .dataframe thead th {\n",
       "        text-align: right;\n",
       "    }\n",
       "</style>\n",
       "<table border=\"1\" class=\"dataframe\">\n",
       "  <thead>\n",
       "    <tr style=\"text-align: right;\">\n",
       "      <th></th>\n",
       "      <th>pm25</th>\n",
       "    </tr>\n",
       "    <tr>\n",
       "      <th>date</th>\n",
       "      <th></th>\n",
       "    </tr>\n",
       "  </thead>\n",
       "  <tbody>\n",
       "    <tr>\n",
       "      <th>2021-10-04</th>\n",
       "      <td>58</td>\n",
       "    </tr>\n",
       "    <tr>\n",
       "      <th>2021-10-03</th>\n",
       "      <td>29</td>\n",
       "    </tr>\n",
       "    <tr>\n",
       "      <th>2021-10-02</th>\n",
       "      <td>29</td>\n",
       "    </tr>\n",
       "    <tr>\n",
       "      <th>2021-10-01</th>\n",
       "      <td>27</td>\n",
       "    </tr>\n",
       "    <tr>\n",
       "      <th>2021-09-30</th>\n",
       "      <td>21</td>\n",
       "    </tr>\n",
       "    <tr>\n",
       "      <th>...</th>\n",
       "      <td>...</td>\n",
       "    </tr>\n",
       "    <tr>\n",
       "      <th>2014-01-05</th>\n",
       "      <td></td>\n",
       "    </tr>\n",
       "    <tr>\n",
       "      <th>2014-01-04</th>\n",
       "      <td></td>\n",
       "    </tr>\n",
       "    <tr>\n",
       "      <th>2014-01-03</th>\n",
       "      <td>61</td>\n",
       "    </tr>\n",
       "    <tr>\n",
       "      <th>2014-01-02</th>\n",
       "      <td>72</td>\n",
       "    </tr>\n",
       "    <tr>\n",
       "      <th>2014-01-01</th>\n",
       "      <td></td>\n",
       "    </tr>\n",
       "  </tbody>\n",
       "</table>\n",
       "<p>2793 rows × 1 columns</p>\n",
       "</div>"
      ],
      "text/plain": [
       "           pm25\n",
       "date           \n",
       "2021-10-04   58\n",
       "2021-10-03   29\n",
       "2021-10-02   29\n",
       "2021-10-01   27\n",
       "2021-09-30   21\n",
       "...         ...\n",
       "2014-01-05     \n",
       "2014-01-04     \n",
       "2014-01-03   61\n",
       "2014-01-02   72\n",
       "2014-01-01     \n",
       "\n",
       "[2793 rows x 1 columns]"
      ]
     },
     "execution_count": 81,
     "metadata": {},
     "output_type": "execute_result"
    }
   ],
   "source": [
    "houston_hist.set_index('date')"
   ]
  },
  {
   "cell_type": "code",
   "execution_count": 82,
   "id": "6b703a5d",
   "metadata": {},
   "outputs": [],
   "source": [
    "def plot_df(df, x, y, title=\"\", xlabel='Date', ylabel='Value', dpi=100):\n",
    "    plt.figure(figsize=(16,5), dpi=dpi)\n",
    "    plt.plot(x, y, color='tab:red')\n",
    "    plt.gca().set(title=title, xlabel=xlabel, ylabel=ylabel)\n",
    "    plt.show()"
   ]
  },
  {
   "cell_type": "code",
   "execution_count": 83,
   "id": "2a3cc3a6",
   "metadata": {},
   "outputs": [
    {
     "data": {
      "image/png": "[encoded data removed]",
      "text/plain": [
       "<Figure size 1600x500 with 1 Axes>"
      ]
     },
     "metadata": {
      "needs_background": "light"
     },
     "output_type": "display_data"
    }
   ],
   "source": [
    "plot_df(houston_hist, x=houston_hist.index, y=houston_hist.pm25, title='Houston historycal pm2.5')"
   ]
  },
  {
   "cell_type": "code",
   "execution_count": 84,
   "id": "960b5702",
   "metadata": {},
   "outputs": [],
   "source": [
    "india_hist = pd.read_csv('india_historical.csv')"
   ]
  },
  {
   "cell_type": "code",
   "execution_count": 86,
   "id": "41e1d3c9",
   "metadata": {},
   "outputs": [
    {
     "data": {
      "text/html": [
       "<div>\n",
       "<style scoped>\n",
       "    .dataframe tbody tr th:only-of-type {\n",
       "        vertical-align: middle;\n",
       "    }\n",
       "\n",
       "    .dataframe tbody tr th {\n",
       "        vertical-align: top;\n",
       "    }\n",
       "\n",
       "    .dataframe thead th {\n",
       "        text-align: right;\n",
       "    }\n",
       "</style>\n",
       "<table border=\"1\" class=\"dataframe\">\n",
       "  <thead>\n",
       "    <tr style=\"text-align: right;\">\n",
       "      <th></th>\n",
       "      <th>locationId</th>\n",
       "      <th>location</th>\n",
       "      <th>city</th>\n",
       "      <th>country</th>\n",
       "      <th>utc</th>\n",
       "      <th>local</th>\n",
       "      <th>parameter</th>\n",
       "      <th>value</th>\n",
       "      <th>unit</th>\n",
       "      <th>latitude</th>\n",
       "      <th>longitude</th>\n",
       "    </tr>\n",
       "  </thead>\n",
       "  <tbody>\n",
       "    <tr>\n",
       "      <th>0</th>\n",
       "      <td>5509</td>\n",
       "      <td>Anand Vihar, Delhi - DPCC</td>\n",
       "      <td>Delhi</td>\n",
       "      <td>IN</td>\n",
       "      <td>2021-09-30T13:15:00+00:00</td>\n",
       "      <td>2021-09-30T18:45:00+05:30</td>\n",
       "      <td>pm10</td>\n",
       "      <td>178</td>\n",
       "      <td>µg/m³</td>\n",
       "      <td>28.647622</td>\n",
       "      <td>77.315809</td>\n",
       "    </tr>\n",
       "    <tr>\n",
       "      <th>1</th>\n",
       "      <td>5509</td>\n",
       "      <td>Anand Vihar, Delhi - DPCC</td>\n",
       "      <td>Delhi</td>\n",
       "      <td>IN</td>\n",
       "      <td>2021-09-30T12:45:00+00:00</td>\n",
       "      <td>2021-09-30T18:15:00+05:30</td>\n",
       "      <td>pm10</td>\n",
       "      <td>376</td>\n",
       "      <td>µg/m³</td>\n",
       "      <td>28.647622</td>\n",
       "      <td>77.315809</td>\n",
       "    </tr>\n",
       "  </tbody>\n",
       "</table>\n",
       "</div>"
      ],
      "text/plain": [
       "   locationId                   location   city country  \\\n",
       "0        5509  Anand Vihar, Delhi - DPCC  Delhi      IN   \n",
       "1        5509  Anand Vihar, Delhi - DPCC  Delhi      IN   \n",
       "\n",
       "                         utc                      local parameter  value  \\\n",
       "0  2021-09-30T13:15:00+00:00  2021-09-30T18:45:00+05:30      pm10    178   \n",
       "1  2021-09-30T12:45:00+00:00  2021-09-30T18:15:00+05:30      pm10    376   \n",
       "\n",
       "    unit   latitude  longitude  \n",
       "0  µg/m³  28.647622  77.315809  \n",
       "1  µg/m³  28.647622  77.315809  "
      ]
     },
     "execution_count": 86,
     "metadata": {},
     "output_type": "execute_result"
    }
   ],
   "source": [
    "india_hist.head(2)"
   ]
  },
  {
   "cell_type": "code",
   "execution_count": 87,
   "id": "d042e522",
   "metadata": {},
   "outputs": [
    {
     "data": {
      "text/plain": [
       "'2018-03-09T03:30:00+00:00'"
      ]
     },
     "execution_count": 87,
     "metadata": {},
     "output_type": "execute_result"
    }
   ],
   "source": [
    "india_hist.utc.min()"
   ]
  },
  {
   "cell_type": "code",
   "execution_count": 88,
   "id": "c8bf15a3",
   "metadata": {},
   "outputs": [
    {
     "data": {
      "text/plain": [
       "'2021-09-30T13:15:00+00:00'"
      ]
     },
     "execution_count": 88,
     "metadata": {},
     "output_type": "execute_result"
    }
   ],
   "source": [
    "india_hist.utc.max()"
   ]
  },
  {
   "cell_type": "code",
   "execution_count": 89,
   "id": "c24ea8a2",
   "metadata": {},
   "outputs": [
    {
     "data": {
      "text/plain": [
       "pm10    301\n",
       "pm25    222\n",
       "Name: parameter, dtype: int64"
      ]
     },
     "execution_count": 89,
     "metadata": {},
     "output_type": "execute_result"
    }
   ],
   "source": [
    "india_hist.parameter.value_counts()"
   ]
  },
  {
   "cell_type": "code",
   "execution_count": 91,
   "id": "80de0668",
   "metadata": {},
   "outputs": [],
   "source": [
    "india_hist = india_hist.loc[india_hist['parameter'] == 'pm25']"
   ]
  },
  {
   "cell_type": "code",
   "execution_count": 92,
   "id": "6b573f45",
   "metadata": {},
   "outputs": [
    {
     "data": {
      "text/html": [
       "<div>\n",
       "<style scoped>\n",
       "    .dataframe tbody tr th:only-of-type {\n",
       "        vertical-align: middle;\n",
       "    }\n",
       "\n",
       "    .dataframe tbody tr th {\n",
       "        vertical-align: top;\n",
       "    }\n",
       "\n",
       "    .dataframe thead th {\n",
       "        text-align: right;\n",
       "    }\n",
       "</style>\n",
       "<table border=\"1\" class=\"dataframe\">\n",
       "  <thead>\n",
       "    <tr style=\"text-align: right;\">\n",
       "      <th></th>\n",
       "      <th>locationId</th>\n",
       "      <th>location</th>\n",
       "      <th>city</th>\n",
       "      <th>country</th>\n",
       "      <th>utc</th>\n",
       "      <th>local</th>\n",
       "      <th>parameter</th>\n",
       "      <th>value</th>\n",
       "      <th>unit</th>\n",
       "      <th>latitude</th>\n",
       "      <th>longitude</th>\n",
       "    </tr>\n",
       "  </thead>\n",
       "  <tbody>\n",
       "    <tr>\n",
       "      <th>2</th>\n",
       "      <td>5509</td>\n",
       "      <td>Anand Vihar, Delhi - DPCC</td>\n",
       "      <td>Delhi</td>\n",
       "      <td>IN</td>\n",
       "      <td>2021-09-30T12:45:00+00:00</td>\n",
       "      <td>2021-09-30T18:15:00+05:30</td>\n",
       "      <td>pm25</td>\n",
       "      <td>242</td>\n",
       "      <td>µg/m³</td>\n",
       "      <td>28.647622</td>\n",
       "      <td>77.315809</td>\n",
       "    </tr>\n",
       "    <tr>\n",
       "      <th>4</th>\n",
       "      <td>5509</td>\n",
       "      <td>Anand Vihar, Delhi - DPCC</td>\n",
       "      <td>Delhi</td>\n",
       "      <td>IN</td>\n",
       "      <td>2021-09-30T12:15:00+00:00</td>\n",
       "      <td>2021-09-30T17:45:00+05:30</td>\n",
       "      <td>pm25</td>\n",
       "      <td>242</td>\n",
       "      <td>µg/m³</td>\n",
       "      <td>28.647622</td>\n",
       "      <td>77.315809</td>\n",
       "    </tr>\n",
       "  </tbody>\n",
       "</table>\n",
       "</div>"
      ],
      "text/plain": [
       "   locationId                   location   city country  \\\n",
       "2        5509  Anand Vihar, Delhi - DPCC  Delhi      IN   \n",
       "4        5509  Anand Vihar, Delhi - DPCC  Delhi      IN   \n",
       "\n",
       "                         utc                      local parameter  value  \\\n",
       "2  2021-09-30T12:45:00+00:00  2021-09-30T18:15:00+05:30      pm25    242   \n",
       "4  2021-09-30T12:15:00+00:00  2021-09-30T17:45:00+05:30      pm25    242   \n",
       "\n",
       "    unit   latitude  longitude  \n",
       "2  µg/m³  28.647622  77.315809  \n",
       "4  µg/m³  28.647622  77.315809  "
      ]
     },
     "execution_count": 92,
     "metadata": {},
     "output_type": "execute_result"
    }
   ],
   "source": [
    "india_hist.head(2)"
   ]
  },
  {
   "cell_type": "code",
   "execution_count": 93,
   "id": "01b80606",
   "metadata": {},
   "outputs": [],
   "source": [
    "india_hist['utc'] = pd.to_datetime(india_hist['utc'])"
   ]
  },
  {
   "cell_type": "code",
   "execution_count": 95,
   "id": "4699cd3f",
   "metadata": {},
   "outputs": [
    {
     "data": {
      "text/html": [
       "<div>\n",
       "<style scoped>\n",
       "    .dataframe tbody tr th:only-of-type {\n",
       "        vertical-align: middle;\n",
       "    }\n",
       "\n",
       "    .dataframe tbody tr th {\n",
       "        vertical-align: top;\n",
       "    }\n",
       "\n",
       "    .dataframe thead th {\n",
       "        text-align: right;\n",
       "    }\n",
       "</style>\n",
       "<table border=\"1\" class=\"dataframe\">\n",
       "  <thead>\n",
       "    <tr style=\"text-align: right;\">\n",
       "      <th></th>\n",
       "      <th>locationId</th>\n",
       "      <th>location</th>\n",
       "      <th>city</th>\n",
       "      <th>country</th>\n",
       "      <th>utc</th>\n",
       "      <th>local</th>\n",
       "      <th>parameter</th>\n",
       "      <th>value</th>\n",
       "      <th>unit</th>\n",
       "      <th>latitude</th>\n",
       "      <th>longitude</th>\n",
       "    </tr>\n",
       "  </thead>\n",
       "  <tbody>\n",
       "    <tr>\n",
       "      <th>2</th>\n",
       "      <td>5509</td>\n",
       "      <td>Anand Vihar, Delhi - DPCC</td>\n",
       "      <td>Delhi</td>\n",
       "      <td>IN</td>\n",
       "      <td>2021-09-30 12:45:00+00:00</td>\n",
       "      <td>2021-09-30T18:15:00+05:30</td>\n",
       "      <td>pm25</td>\n",
       "      <td>242</td>\n",
       "      <td>µg/m³</td>\n",
       "      <td>28.647622</td>\n",
       "      <td>77.315809</td>\n",
       "    </tr>\n",
       "    <tr>\n",
       "      <th>4</th>\n",
       "      <td>5509</td>\n",
       "      <td>Anand Vihar, Delhi - DPCC</td>\n",
       "      <td>Delhi</td>\n",
       "      <td>IN</td>\n",
       "      <td>2021-09-30 12:15:00+00:00</td>\n",
       "      <td>2021-09-30T17:45:00+05:30</td>\n",
       "      <td>pm25</td>\n",
       "      <td>242</td>\n",
       "      <td>µg/m³</td>\n",
       "      <td>28.647622</td>\n",
       "      <td>77.315809</td>\n",
       "    </tr>\n",
       "  </tbody>\n",
       "</table>\n",
       "</div>"
      ],
      "text/plain": [
       "   locationId                   location   city country  \\\n",
       "2        5509  Anand Vihar, Delhi - DPCC  Delhi      IN   \n",
       "4        5509  Anand Vihar, Delhi - DPCC  Delhi      IN   \n",
       "\n",
       "                        utc                      local parameter  value  \\\n",
       "2 2021-09-30 12:45:00+00:00  2021-09-30T18:15:00+05:30      pm25    242   \n",
       "4 2021-09-30 12:15:00+00:00  2021-09-30T17:45:00+05:30      pm25    242   \n",
       "\n",
       "    unit   latitude  longitude  \n",
       "2  µg/m³  28.647622  77.315809  \n",
       "4  µg/m³  28.647622  77.315809  "
      ]
     },
     "execution_count": 95,
     "metadata": {},
     "output_type": "execute_result"
    }
   ],
   "source": [
    "india_hist.head(2)"
   ]
  },
  {
   "cell_type": "code",
   "execution_count": 97,
   "id": "493f1c66",
   "metadata": {},
   "outputs": [
    {
     "data": {
      "text/html": [
       "<div>\n",
       "<style scoped>\n",
       "    .dataframe tbody tr th:only-of-type {\n",
       "        vertical-align: middle;\n",
       "    }\n",
       "\n",
       "    .dataframe tbody tr th {\n",
       "        vertical-align: top;\n",
       "    }\n",
       "\n",
       "    .dataframe thead th {\n",
       "        text-align: right;\n",
       "    }\n",
       "</style>\n",
       "<table border=\"1\" class=\"dataframe\">\n",
       "  <thead>\n",
       "    <tr style=\"text-align: right;\">\n",
       "      <th></th>\n",
       "      <th>utc</th>\n",
       "      <th>parameter</th>\n",
       "      <th>value</th>\n",
       "    </tr>\n",
       "  </thead>\n",
       "  <tbody>\n",
       "    <tr>\n",
       "      <th>0</th>\n",
       "      <td>2018-03-09 03:30:00+00:00</td>\n",
       "      <td>pm25</td>\n",
       "      <td>284</td>\n",
       "    </tr>\n",
       "    <tr>\n",
       "      <th>1</th>\n",
       "      <td>2018-03-09 06:30:00+00:00</td>\n",
       "      <td>pm25</td>\n",
       "      <td>351</td>\n",
       "    </tr>\n",
       "    <tr>\n",
       "      <th>2</th>\n",
       "      <td>2018-03-09 20:30:00+00:00</td>\n",
       "      <td>pm25</td>\n",
       "      <td>237</td>\n",
       "    </tr>\n",
       "    <tr>\n",
       "      <th>3</th>\n",
       "      <td>2018-03-09 22:30:00+00:00</td>\n",
       "      <td>pm25</td>\n",
       "      <td>216</td>\n",
       "    </tr>\n",
       "    <tr>\n",
       "      <th>4</th>\n",
       "      <td>2018-03-10 02:30:00+00:00</td>\n",
       "      <td>pm25</td>\n",
       "      <td>169</td>\n",
       "    </tr>\n",
       "    <tr>\n",
       "      <th>...</th>\n",
       "      <td>...</td>\n",
       "      <td>...</td>\n",
       "      <td>...</td>\n",
       "    </tr>\n",
       "    <tr>\n",
       "      <th>217</th>\n",
       "      <td>2021-09-30 08:30:00+00:00</td>\n",
       "      <td>pm25</td>\n",
       "      <td>17</td>\n",
       "    </tr>\n",
       "    <tr>\n",
       "      <th>218</th>\n",
       "      <td>2021-09-30 09:00:00+00:00</td>\n",
       "      <td>pm25</td>\n",
       "      <td>17</td>\n",
       "    </tr>\n",
       "    <tr>\n",
       "      <th>219</th>\n",
       "      <td>2021-09-30 11:45:00+00:00</td>\n",
       "      <td>pm25</td>\n",
       "      <td>42</td>\n",
       "    </tr>\n",
       "    <tr>\n",
       "      <th>220</th>\n",
       "      <td>2021-09-30 12:15:00+00:00</td>\n",
       "      <td>pm25</td>\n",
       "      <td>242</td>\n",
       "    </tr>\n",
       "    <tr>\n",
       "      <th>221</th>\n",
       "      <td>2021-09-30 12:45:00+00:00</td>\n",
       "      <td>pm25</td>\n",
       "      <td>242</td>\n",
       "    </tr>\n",
       "  </tbody>\n",
       "</table>\n",
       "<p>222 rows × 3 columns</p>\n",
       "</div>"
      ],
      "text/plain": [
       "                          utc parameter  value\n",
       "0   2018-03-09 03:30:00+00:00      pm25    284\n",
       "1   2018-03-09 06:30:00+00:00      pm25    351\n",
       "2   2018-03-09 20:30:00+00:00      pm25    237\n",
       "3   2018-03-09 22:30:00+00:00      pm25    216\n",
       "4   2018-03-10 02:30:00+00:00      pm25    169\n",
       "..                        ...       ...    ...\n",
       "217 2021-09-30 08:30:00+00:00      pm25     17\n",
       "218 2021-09-30 09:00:00+00:00      pm25     17\n",
       "219 2021-09-30 11:45:00+00:00      pm25     42\n",
       "220 2021-09-30 12:15:00+00:00      pm25    242\n",
       "221 2021-09-30 12:45:00+00:00      pm25    242\n",
       "\n",
       "[222 rows x 3 columns]"
      ]
     },
     "execution_count": 97,
     "metadata": {},
     "output_type": "execute_result"
    }
   ],
   "source": [
    "india_hist = india_hist.groupby(['utc', 'parameter'], as_index=False).agg({'value':'mean'})\n",
    "india_hist"
   ]
  },
  {
   "cell_type": "code",
   "execution_count": 98,
   "id": "b00fceaf",
   "metadata": {},
   "outputs": [
    {
     "data": {
      "text/plain": [
       "utc          datetime64[ns, UTC]\n",
       "parameter                 object\n",
       "value                      int64\n",
       "dtype: object"
      ]
     },
     "execution_count": 98,
     "metadata": {},
     "output_type": "execute_result"
    }
   ],
   "source": [
    "india_hist.dtypes"
   ]
  },
  {
   "cell_type": "code",
   "execution_count": null,
   "id": "ec110d50",
   "metadata": {},
   "outputs": [],
   "source": []
  }
 ],
 "metadata": {
  "kernelspec": {
   "display_name": "Python 3",
   "language": "python",
   "name": "python3"
  },
  "language_info": {
   "codemirror_mode": {
    "name": "ipython",
    "version": 3
   },
   "file_extension": ".py",
   "mimetype": "text/x-python",
   "name": "python",
   "nbconvert_exporter": "python",
   "pygments_lexer": "ipython3",
   "version": "3.8.8"
  }
 },
 "nbformat": 4,
 "nbformat_minor": 5
}
