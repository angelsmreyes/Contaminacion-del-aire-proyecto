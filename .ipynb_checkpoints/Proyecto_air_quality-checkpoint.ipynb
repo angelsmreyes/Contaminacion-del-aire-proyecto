{
 "cells": [
  {
   "cell_type": "code",
   "execution_count": 1,
   "id": "5354ca10",
   "metadata": {},
   "outputs": [],
   "source": [
    "import pandas as pd \n",
    "import numpy as np\n",
    "import matplotlib.pyplot as plt \n",
    "import seaborn as sns"
   ]
  },
  {
   "cell_type": "markdown",
   "id": "bdbc0bdb",
   "metadata": {},
   "source": [
    "**Cargando la data de Chile, Valdivia**"
   ]
  },
  {
   "cell_type": "code",
   "execution_count": 2,
   "id": "6c13b480",
   "metadata": {},
   "outputs": [],
   "source": [
    "chile_aqi = pd.read_csv('chile_air_quality.csv')"
   ]
  },
  {
   "cell_type": "code",
   "execution_count": 3,
   "id": "5847a444",
   "metadata": {},
   "outputs": [
    {
     "data": {
      "text/html": [
       "<div>\n",
       "<style scoped>\n",
       "    .dataframe tbody tr th:only-of-type {\n",
       "        vertical-align: middle;\n",
       "    }\n",
       "\n",
       "    .dataframe tbody tr th {\n",
       "        vertical-align: top;\n",
       "    }\n",
       "\n",
       "    .dataframe thead th {\n",
       "        text-align: right;\n",
       "    }\n",
       "</style>\n",
       "<table border=\"1\" class=\"dataframe\">\n",
       "  <thead>\n",
       "    <tr style=\"text-align: right;\">\n",
       "      <th></th>\n",
       "      <th>locationId</th>\n",
       "      <th>location</th>\n",
       "      <th>city</th>\n",
       "      <th>country</th>\n",
       "      <th>utc</th>\n",
       "      <th>local</th>\n",
       "      <th>parameter</th>\n",
       "      <th>value</th>\n",
       "      <th>unit</th>\n",
       "      <th>latitude</th>\n",
       "      <th>longitude</th>\n",
       "    </tr>\n",
       "  </thead>\n",
       "  <tbody>\n",
       "    <tr>\n",
       "      <th>0</th>\n",
       "      <td>6990</td>\n",
       "      <td>Valdivia 2</td>\n",
       "      <td>Valdivia</td>\n",
       "      <td>CL</td>\n",
       "      <td>2021-08-20T21:00:00+00:00</td>\n",
       "      <td>2021-08-20T20:00:00-01:00</td>\n",
       "      <td>pm25</td>\n",
       "      <td>6</td>\n",
       "      <td>µg/m³</td>\n",
       "      <td>-39.805429</td>\n",
       "      <td>-73.25873</td>\n",
       "    </tr>\n",
       "    <tr>\n",
       "      <th>1</th>\n",
       "      <td>6990</td>\n",
       "      <td>Valdivia 2</td>\n",
       "      <td>Valdivia</td>\n",
       "      <td>CL</td>\n",
       "      <td>2021-08-20T21:00:00+00:00</td>\n",
       "      <td>2021-08-20T20:00:00-01:00</td>\n",
       "      <td>pm10</td>\n",
       "      <td>8</td>\n",
       "      <td>µg/m³</td>\n",
       "      <td>-39.805429</td>\n",
       "      <td>-73.25873</td>\n",
       "    </tr>\n",
       "    <tr>\n",
       "      <th>2</th>\n",
       "      <td>6990</td>\n",
       "      <td>Valdivia 2</td>\n",
       "      <td>Valdivia</td>\n",
       "      <td>CL</td>\n",
       "      <td>2021-08-20T20:00:00+00:00</td>\n",
       "      <td>2021-08-20T19:00:00-01:00</td>\n",
       "      <td>pm25</td>\n",
       "      <td>1</td>\n",
       "      <td>µg/m³</td>\n",
       "      <td>-39.805429</td>\n",
       "      <td>-73.25873</td>\n",
       "    </tr>\n",
       "    <tr>\n",
       "      <th>3</th>\n",
       "      <td>6990</td>\n",
       "      <td>Valdivia 2</td>\n",
       "      <td>Valdivia</td>\n",
       "      <td>CL</td>\n",
       "      <td>2021-08-20T20:00:00+00:00</td>\n",
       "      <td>2021-08-20T19:00:00-01:00</td>\n",
       "      <td>pm10</td>\n",
       "      <td>6</td>\n",
       "      <td>µg/m³</td>\n",
       "      <td>-39.805429</td>\n",
       "      <td>-73.25873</td>\n",
       "    </tr>\n",
       "    <tr>\n",
       "      <th>4</th>\n",
       "      <td>6990</td>\n",
       "      <td>Valdivia 2</td>\n",
       "      <td>Valdivia</td>\n",
       "      <td>CL</td>\n",
       "      <td>2021-08-20T19:00:00+00:00</td>\n",
       "      <td>2021-08-20T18:00:00-01:00</td>\n",
       "      <td>pm10</td>\n",
       "      <td>5</td>\n",
       "      <td>µg/m³</td>\n",
       "      <td>-39.805429</td>\n",
       "      <td>-73.25873</td>\n",
       "    </tr>\n",
       "  </tbody>\n",
       "</table>\n",
       "</div>"
      ],
      "text/plain": [
       "   locationId    location      city country                        utc  \\\n",
       "0        6990  Valdivia 2  Valdivia      CL  2021-08-20T21:00:00+00:00   \n",
       "1        6990  Valdivia 2  Valdivia      CL  2021-08-20T21:00:00+00:00   \n",
       "2        6990  Valdivia 2  Valdivia      CL  2021-08-20T20:00:00+00:00   \n",
       "3        6990  Valdivia 2  Valdivia      CL  2021-08-20T20:00:00+00:00   \n",
       "4        6990  Valdivia 2  Valdivia      CL  2021-08-20T19:00:00+00:00   \n",
       "\n",
       "                       local parameter  value   unit   latitude  longitude  \n",
       "0  2021-08-20T20:00:00-01:00      pm25      6  µg/m³ -39.805429  -73.25873  \n",
       "1  2021-08-20T20:00:00-01:00      pm10      8  µg/m³ -39.805429  -73.25873  \n",
       "2  2021-08-20T19:00:00-01:00      pm25      1  µg/m³ -39.805429  -73.25873  \n",
       "3  2021-08-20T19:00:00-01:00      pm10      6  µg/m³ -39.805429  -73.25873  \n",
       "4  2021-08-20T18:00:00-01:00      pm10      5  µg/m³ -39.805429  -73.25873  "
      ]
     },
     "execution_count": 3,
     "metadata": {},
     "output_type": "execute_result"
    }
   ],
   "source": [
    "chile_aqi.head(5)"
   ]
  },
  {
   "cell_type": "code",
   "execution_count": 4,
   "id": "c7005413",
   "metadata": {},
   "outputs": [
    {
     "data": {
      "text/plain": [
       "(5676, 11)"
      ]
     },
     "execution_count": 4,
     "metadata": {},
     "output_type": "execute_result"
    }
   ],
   "source": [
    "chile_aqi.shape"
   ]
  },
  {
   "cell_type": "code",
   "execution_count": 5,
   "id": "13fd6c1f",
   "metadata": {},
   "outputs": [
    {
     "data": {
      "text/plain": [
       "locationId    0\n",
       "location      0\n",
       "city          0\n",
       "country       0\n",
       "utc           0\n",
       "local         0\n",
       "parameter     0\n",
       "value         0\n",
       "unit          0\n",
       "latitude      0\n",
       "longitude     0\n",
       "dtype: int64"
      ]
     },
     "execution_count": 5,
     "metadata": {},
     "output_type": "execute_result"
    }
   ],
   "source": [
    "chile_aqi.isnull().sum()"
   ]
  },
  {
   "cell_type": "code",
   "execution_count": 6,
   "id": "2c24da22",
   "metadata": {},
   "outputs": [
    {
     "name": "stdout",
     "output_type": "stream",
     "text": [
      "<class 'pandas.core.frame.DataFrame'>\n",
      "RangeIndex: 5676 entries, 0 to 5675\n",
      "Data columns (total 11 columns):\n",
      " #   Column      Non-Null Count  Dtype  \n",
      "---  ------      --------------  -----  \n",
      " 0   locationId  5676 non-null   int64  \n",
      " 1   location    5676 non-null   object \n",
      " 2   city        5676 non-null   object \n",
      " 3   country     5676 non-null   object \n",
      " 4   utc         5676 non-null   object \n",
      " 5   local       5676 non-null   object \n",
      " 6   parameter   5676 non-null   object \n",
      " 7   value       5676 non-null   int64  \n",
      " 8   unit        5676 non-null   object \n",
      " 9   latitude    5676 non-null   float64\n",
      " 10  longitude   5676 non-null   float64\n",
      "dtypes: float64(2), int64(2), object(7)\n",
      "memory usage: 487.9+ KB\n"
     ]
    }
   ],
   "source": [
    "chile_aqi.info()"
   ]
  },
  {
   "cell_type": "markdown",
   "id": "11f3dd42",
   "metadata": {},
   "source": [
    "You should transform utc and local to datetime"
   ]
  },
  {
   "cell_type": "markdown",
   "id": "2a85a0ae",
   "metadata": {},
   "source": [
    "**Cargando la data de Mexico, Tlaxcala**"
   ]
  },
  {
   "cell_type": "code",
   "execution_count": 7,
   "id": "7f6340ea",
   "metadata": {},
   "outputs": [],
   "source": [
    "mx_aqi = pd.read_csv('mx_air_quality.csv')"
   ]
  },
  {
   "cell_type": "code",
   "execution_count": 8,
   "id": "6cb797ee",
   "metadata": {},
   "outputs": [
    {
     "data": {
      "text/html": [
       "<div>\n",
       "<style scoped>\n",
       "    .dataframe tbody tr th:only-of-type {\n",
       "        vertical-align: middle;\n",
       "    }\n",
       "\n",
       "    .dataframe tbody tr th {\n",
       "        vertical-align: top;\n",
       "    }\n",
       "\n",
       "    .dataframe thead th {\n",
       "        text-align: right;\n",
       "    }\n",
       "</style>\n",
       "<table border=\"1\" class=\"dataframe\">\n",
       "  <thead>\n",
       "    <tr style=\"text-align: right;\">\n",
       "      <th></th>\n",
       "      <th>locationId</th>\n",
       "      <th>location</th>\n",
       "      <th>city</th>\n",
       "      <th>country</th>\n",
       "      <th>utc</th>\n",
       "      <th>local</th>\n",
       "      <th>parameter</th>\n",
       "      <th>value</th>\n",
       "      <th>unit</th>\n",
       "      <th>latitude</th>\n",
       "      <th>longitude</th>\n",
       "    </tr>\n",
       "  </thead>\n",
       "  <tbody>\n",
       "    <tr>\n",
       "      <th>0</th>\n",
       "      <td>235235</td>\n",
       "      <td>Palacio de Gobierno</td>\n",
       "      <td>Tlaxcala</td>\n",
       "      <td>MX</td>\n",
       "      <td>2021-09-22T04:00:00+00:00</td>\n",
       "      <td>2021-09-21T23:00:00-05:00</td>\n",
       "      <td>co</td>\n",
       "      <td>4.693750</td>\n",
       "      <td>ppm</td>\n",
       "      <td>19.317583</td>\n",
       "      <td>-98.237306</td>\n",
       "    </tr>\n",
       "    <tr>\n",
       "      <th>1</th>\n",
       "      <td>235235</td>\n",
       "      <td>Palacio de Gobierno</td>\n",
       "      <td>Tlaxcala</td>\n",
       "      <td>MX</td>\n",
       "      <td>2021-09-22T04:00:00+00:00</td>\n",
       "      <td>2021-09-21T23:00:00-05:00</td>\n",
       "      <td>pm25</td>\n",
       "      <td>11.379578</td>\n",
       "      <td>µg/m³</td>\n",
       "      <td>19.317583</td>\n",
       "      <td>-98.237306</td>\n",
       "    </tr>\n",
       "    <tr>\n",
       "      <th>2</th>\n",
       "      <td>235235</td>\n",
       "      <td>Palacio de Gobierno</td>\n",
       "      <td>Tlaxcala</td>\n",
       "      <td>MX</td>\n",
       "      <td>2021-09-22T04:00:00+00:00</td>\n",
       "      <td>2021-09-21T23:00:00-05:00</td>\n",
       "      <td>so2</td>\n",
       "      <td>0.668039</td>\n",
       "      <td>ppm</td>\n",
       "      <td>19.317583</td>\n",
       "      <td>-98.237306</td>\n",
       "    </tr>\n",
       "    <tr>\n",
       "      <th>3</th>\n",
       "      <td>235235</td>\n",
       "      <td>Palacio de Gobierno</td>\n",
       "      <td>Tlaxcala</td>\n",
       "      <td>MX</td>\n",
       "      <td>2021-09-22T04:00:00+00:00</td>\n",
       "      <td>2021-09-21T23:00:00-05:00</td>\n",
       "      <td>pm10</td>\n",
       "      <td>20.700410</td>\n",
       "      <td>µg/m³</td>\n",
       "      <td>19.317583</td>\n",
       "      <td>-98.237306</td>\n",
       "    </tr>\n",
       "    <tr>\n",
       "      <th>4</th>\n",
       "      <td>235235</td>\n",
       "      <td>Palacio de Gobierno</td>\n",
       "      <td>Tlaxcala</td>\n",
       "      <td>MX</td>\n",
       "      <td>2021-09-22T03:00:00+00:00</td>\n",
       "      <td>2021-09-21T22:00:00-05:00</td>\n",
       "      <td>co</td>\n",
       "      <td>5.050694</td>\n",
       "      <td>ppm</td>\n",
       "      <td>19.317583</td>\n",
       "      <td>-98.237306</td>\n",
       "    </tr>\n",
       "  </tbody>\n",
       "</table>\n",
       "</div>"
      ],
      "text/plain": [
       "   locationId             location      city country  \\\n",
       "0      235235  Palacio de Gobierno  Tlaxcala      MX   \n",
       "1      235235  Palacio de Gobierno  Tlaxcala      MX   \n",
       "2      235235  Palacio de Gobierno  Tlaxcala      MX   \n",
       "3      235235  Palacio de Gobierno  Tlaxcala      MX   \n",
       "4      235235  Palacio de Gobierno  Tlaxcala      MX   \n",
       "\n",
       "                         utc                      local parameter      value  \\\n",
       "0  2021-09-22T04:00:00+00:00  2021-09-21T23:00:00-05:00        co   4.693750   \n",
       "1  2021-09-22T04:00:00+00:00  2021-09-21T23:00:00-05:00      pm25  11.379578   \n",
       "2  2021-09-22T04:00:00+00:00  2021-09-21T23:00:00-05:00       so2   0.668039   \n",
       "3  2021-09-22T04:00:00+00:00  2021-09-21T23:00:00-05:00      pm10  20.700410   \n",
       "4  2021-09-22T03:00:00+00:00  2021-09-21T22:00:00-05:00        co   5.050694   \n",
       "\n",
       "    unit   latitude  longitude  \n",
       "0    ppm  19.317583 -98.237306  \n",
       "1  µg/m³  19.317583 -98.237306  \n",
       "2    ppm  19.317583 -98.237306  \n",
       "3  µg/m³  19.317583 -98.237306  \n",
       "4    ppm  19.317583 -98.237306  "
      ]
     },
     "execution_count": 8,
     "metadata": {},
     "output_type": "execute_result"
    }
   ],
   "source": [
    "mx_aqi.head(5)"
   ]
  },
  {
   "cell_type": "code",
   "execution_count": 9,
   "id": "6f909495",
   "metadata": {},
   "outputs": [
    {
     "data": {
      "text/plain": [
       "(335, 11)"
      ]
     },
     "execution_count": 9,
     "metadata": {},
     "output_type": "execute_result"
    }
   ],
   "source": [
    "mx_aqi.shape"
   ]
  },
  {
   "cell_type": "code",
   "execution_count": 10,
   "id": "deec227f",
   "metadata": {},
   "outputs": [
    {
     "data": {
      "text/plain": [
       "locationId    0\n",
       "location      0\n",
       "city          0\n",
       "country       0\n",
       "utc           0\n",
       "local         0\n",
       "parameter     0\n",
       "value         0\n",
       "unit          0\n",
       "latitude      0\n",
       "longitude     0\n",
       "dtype: int64"
      ]
     },
     "execution_count": 10,
     "metadata": {},
     "output_type": "execute_result"
    }
   ],
   "source": [
    "mx_aqi.isnull().sum()"
   ]
  },
  {
   "cell_type": "code",
   "execution_count": 11,
   "id": "a49a4892",
   "metadata": {},
   "outputs": [
    {
     "data": {
      "text/plain": [
       "locationId      int64\n",
       "location       object\n",
       "city           object\n",
       "country        object\n",
       "utc            object\n",
       "local          object\n",
       "parameter      object\n",
       "value         float64\n",
       "unit           object\n",
       "latitude      float64\n",
       "longitude     float64\n",
       "dtype: object"
      ]
     },
     "execution_count": 11,
     "metadata": {},
     "output_type": "execute_result"
    }
   ],
   "source": [
    "mx_aqi.dtypes"
   ]
  },
  {
   "cell_type": "markdown",
   "id": "323247ab",
   "metadata": {},
   "source": [
    "**Cargando la Data para mexico, saltillo**"
   ]
  },
  {
   "cell_type": "code",
   "execution_count": 12,
   "id": "23d07e7d",
   "metadata": {
    "scrolled": false
   },
   "outputs": [
    {
     "data": {
      "text/html": [
       "<div>\n",
       "<style scoped>\n",
       "    .dataframe tbody tr th:only-of-type {\n",
       "        vertical-align: middle;\n",
       "    }\n",
       "\n",
       "    .dataframe tbody tr th {\n",
       "        vertical-align: top;\n",
       "    }\n",
       "\n",
       "    .dataframe thead th {\n",
       "        text-align: right;\n",
       "    }\n",
       "</style>\n",
       "<table border=\"1\" class=\"dataframe\">\n",
       "  <thead>\n",
       "    <tr style=\"text-align: right;\">\n",
       "      <th></th>\n",
       "      <th>locationId</th>\n",
       "      <th>location</th>\n",
       "      <th>city</th>\n",
       "      <th>country</th>\n",
       "      <th>utc</th>\n",
       "      <th>local</th>\n",
       "      <th>parameter</th>\n",
       "      <th>value</th>\n",
       "      <th>unit</th>\n",
       "      <th>latitude</th>\n",
       "      <th>longitude</th>\n",
       "    </tr>\n",
       "  </thead>\n",
       "  <tbody>\n",
       "    <tr>\n",
       "      <th>0</th>\n",
       "      <td>8006</td>\n",
       "      <td>Finanzas</td>\n",
       "      <td>Saltillo</td>\n",
       "      <td>MX</td>\n",
       "      <td>2021-09-23T18:00:00+00:00</td>\n",
       "      <td>2021-09-23T13:00:00-05:00</td>\n",
       "      <td>so2</td>\n",
       "      <td>0.003317</td>\n",
       "      <td>ppm</td>\n",
       "      <td>25.421472</td>\n",
       "      <td>-100.996861</td>\n",
       "    </tr>\n",
       "    <tr>\n",
       "      <th>1</th>\n",
       "      <td>8006</td>\n",
       "      <td>Finanzas</td>\n",
       "      <td>Saltillo</td>\n",
       "      <td>MX</td>\n",
       "      <td>2021-09-23T18:00:00+00:00</td>\n",
       "      <td>2021-09-23T13:00:00-05:00</td>\n",
       "      <td>no2</td>\n",
       "      <td>0.013258</td>\n",
       "      <td>ppm</td>\n",
       "      <td>25.421472</td>\n",
       "      <td>-100.996861</td>\n",
       "    </tr>\n",
       "    <tr>\n",
       "      <th>2</th>\n",
       "      <td>8006</td>\n",
       "      <td>Finanzas</td>\n",
       "      <td>Saltillo</td>\n",
       "      <td>MX</td>\n",
       "      <td>2021-09-23T18:00:00+00:00</td>\n",
       "      <td>2021-09-23T13:00:00-05:00</td>\n",
       "      <td>pm10</td>\n",
       "      <td>68.471000</td>\n",
       "      <td>µg/m³</td>\n",
       "      <td>25.421472</td>\n",
       "      <td>-100.996861</td>\n",
       "    </tr>\n",
       "    <tr>\n",
       "      <th>3</th>\n",
       "      <td>8006</td>\n",
       "      <td>Finanzas</td>\n",
       "      <td>Saltillo</td>\n",
       "      <td>MX</td>\n",
       "      <td>2021-09-23T18:00:00+00:00</td>\n",
       "      <td>2021-09-23T13:00:00-05:00</td>\n",
       "      <td>o3</td>\n",
       "      <td>0.046686</td>\n",
       "      <td>ppm</td>\n",
       "      <td>25.421472</td>\n",
       "      <td>-100.996861</td>\n",
       "    </tr>\n",
       "    <tr>\n",
       "      <th>4</th>\n",
       "      <td>8006</td>\n",
       "      <td>Finanzas</td>\n",
       "      <td>Saltillo</td>\n",
       "      <td>MX</td>\n",
       "      <td>2021-09-23T18:00:00+00:00</td>\n",
       "      <td>2021-09-23T13:00:00-05:00</td>\n",
       "      <td>pm25</td>\n",
       "      <td>19.571000</td>\n",
       "      <td>µg/m³</td>\n",
       "      <td>25.421472</td>\n",
       "      <td>-100.996861</td>\n",
       "    </tr>\n",
       "  </tbody>\n",
       "</table>\n",
       "</div>"
      ],
      "text/plain": [
       "   locationId  location      city country                        utc  \\\n",
       "0        8006  Finanzas  Saltillo      MX  2021-09-23T18:00:00+00:00   \n",
       "1        8006  Finanzas  Saltillo      MX  2021-09-23T18:00:00+00:00   \n",
       "2        8006  Finanzas  Saltillo      MX  2021-09-23T18:00:00+00:00   \n",
       "3        8006  Finanzas  Saltillo      MX  2021-09-23T18:00:00+00:00   \n",
       "4        8006  Finanzas  Saltillo      MX  2021-09-23T18:00:00+00:00   \n",
       "\n",
       "                       local parameter      value   unit   latitude  \\\n",
       "0  2021-09-23T13:00:00-05:00       so2   0.003317    ppm  25.421472   \n",
       "1  2021-09-23T13:00:00-05:00       no2   0.013258    ppm  25.421472   \n",
       "2  2021-09-23T13:00:00-05:00      pm10  68.471000  µg/m³  25.421472   \n",
       "3  2021-09-23T13:00:00-05:00        o3   0.046686    ppm  25.421472   \n",
       "4  2021-09-23T13:00:00-05:00      pm25  19.571000  µg/m³  25.421472   \n",
       "\n",
       "    longitude  \n",
       "0 -100.996861  \n",
       "1 -100.996861  \n",
       "2 -100.996861  \n",
       "3 -100.996861  \n",
       "4 -100.996861  "
      ]
     },
     "execution_count": 12,
     "metadata": {},
     "output_type": "execute_result"
    }
   ],
   "source": [
    "mx_saltillo = pd.read_csv('mx_saltillo.csv')\n",
    "mx_saltillo.head(5)"
   ]
  },
  {
   "cell_type": "code",
   "execution_count": 13,
   "id": "8e6cc252",
   "metadata": {},
   "outputs": [
    {
     "data": {
      "text/plain": [
       "(5761, 11)"
      ]
     },
     "execution_count": 13,
     "metadata": {},
     "output_type": "execute_result"
    }
   ],
   "source": [
    "mx_saltillo.shape"
   ]
  },
  {
   "cell_type": "code",
   "execution_count": 14,
   "id": "de8104ff",
   "metadata": {},
   "outputs": [
    {
     "name": "stdout",
     "output_type": "stream",
     "text": [
      "<class 'pandas.core.frame.DataFrame'>\n",
      "RangeIndex: 5761 entries, 0 to 5760\n",
      "Data columns (total 11 columns):\n",
      " #   Column      Non-Null Count  Dtype  \n",
      "---  ------      --------------  -----  \n",
      " 0   locationId  5761 non-null   int64  \n",
      " 1   location    5761 non-null   object \n",
      " 2   city        5761 non-null   object \n",
      " 3   country     5761 non-null   object \n",
      " 4   utc         5761 non-null   object \n",
      " 5   local       5761 non-null   object \n",
      " 6   parameter   5761 non-null   object \n",
      " 7   value       5761 non-null   float64\n",
      " 8   unit        5761 non-null   object \n",
      " 9   latitude    5761 non-null   float64\n",
      " 10  longitude   5761 non-null   float64\n",
      "dtypes: float64(3), int64(1), object(7)\n",
      "memory usage: 495.2+ KB\n"
     ]
    }
   ],
   "source": [
    "mx_saltillo.info()"
   ]
  },
  {
   "cell_type": "markdown",
   "id": "c5667866",
   "metadata": {},
   "source": [
    "### Transformando las columnas utc y local de los tres dataframes"
   ]
  },
  {
   "cell_type": "code",
   "execution_count": 15,
   "id": "686d8c34",
   "metadata": {
    "scrolled": true
   },
   "outputs": [
    {
     "data": {
      "text/html": [
       "<div>\n",
       "<style scoped>\n",
       "    .dataframe tbody tr th:only-of-type {\n",
       "        vertical-align: middle;\n",
       "    }\n",
       "\n",
       "    .dataframe tbody tr th {\n",
       "        vertical-align: top;\n",
       "    }\n",
       "\n",
       "    .dataframe thead th {\n",
       "        text-align: right;\n",
       "    }\n",
       "</style>\n",
       "<table border=\"1\" class=\"dataframe\">\n",
       "  <thead>\n",
       "    <tr style=\"text-align: right;\">\n",
       "      <th></th>\n",
       "      <th>locationId</th>\n",
       "      <th>location</th>\n",
       "      <th>city</th>\n",
       "      <th>country</th>\n",
       "      <th>utc</th>\n",
       "      <th>local</th>\n",
       "      <th>parameter</th>\n",
       "      <th>value</th>\n",
       "      <th>unit</th>\n",
       "      <th>latitude</th>\n",
       "      <th>longitude</th>\n",
       "    </tr>\n",
       "  </thead>\n",
       "  <tbody>\n",
       "    <tr>\n",
       "      <th>0</th>\n",
       "      <td>6990</td>\n",
       "      <td>Valdivia 2</td>\n",
       "      <td>Valdivia</td>\n",
       "      <td>CL</td>\n",
       "      <td>2021-08-20T21:00:00+00:00</td>\n",
       "      <td>2021-08-20T20:00:00-01:00</td>\n",
       "      <td>pm25</td>\n",
       "      <td>6</td>\n",
       "      <td>µg/m³</td>\n",
       "      <td>-39.805429</td>\n",
       "      <td>-73.25873</td>\n",
       "    </tr>\n",
       "    <tr>\n",
       "      <th>1</th>\n",
       "      <td>6990</td>\n",
       "      <td>Valdivia 2</td>\n",
       "      <td>Valdivia</td>\n",
       "      <td>CL</td>\n",
       "      <td>2021-08-20T21:00:00+00:00</td>\n",
       "      <td>2021-08-20T20:00:00-01:00</td>\n",
       "      <td>pm10</td>\n",
       "      <td>8</td>\n",
       "      <td>µg/m³</td>\n",
       "      <td>-39.805429</td>\n",
       "      <td>-73.25873</td>\n",
       "    </tr>\n",
       "  </tbody>\n",
       "</table>\n",
       "</div>"
      ],
      "text/plain": [
       "   locationId    location      city country                        utc  \\\n",
       "0        6990  Valdivia 2  Valdivia      CL  2021-08-20T21:00:00+00:00   \n",
       "1        6990  Valdivia 2  Valdivia      CL  2021-08-20T21:00:00+00:00   \n",
       "\n",
       "                       local parameter  value   unit   latitude  longitude  \n",
       "0  2021-08-20T20:00:00-01:00      pm25      6  µg/m³ -39.805429  -73.25873  \n",
       "1  2021-08-20T20:00:00-01:00      pm10      8  µg/m³ -39.805429  -73.25873  "
      ]
     },
     "execution_count": 15,
     "metadata": {},
     "output_type": "execute_result"
    }
   ],
   "source": [
    "chile_aqi.head(2)"
   ]
  },
  {
   "cell_type": "code",
   "execution_count": 16,
   "id": "8a9f3a32",
   "metadata": {},
   "outputs": [
    {
     "data": {
      "text/plain": [
       "6990    5676\n",
       "Name: locationId, dtype: int64"
      ]
     },
     "execution_count": 16,
     "metadata": {},
     "output_type": "execute_result"
    }
   ],
   "source": [
    "chile_aqi['locationId'].value_counts()"
   ]
  },
  {
   "cell_type": "code",
   "execution_count": 17,
   "id": "43114548",
   "metadata": {},
   "outputs": [
    {
     "data": {
      "text/plain": [
       "array(['pm25', 'pm10'], dtype=object)"
      ]
     },
     "execution_count": 17,
     "metadata": {},
     "output_type": "execute_result"
    }
   ],
   "source": [
    "chile_aqi['parameter'].unique()"
   ]
  },
  {
   "cell_type": "code",
   "execution_count": 18,
   "id": "3c882bab",
   "metadata": {},
   "outputs": [
    {
     "data": {
      "text/plain": [
       "pm10    2839\n",
       "pm25    2837\n",
       "Name: parameter, dtype: int64"
      ]
     },
     "execution_count": 18,
     "metadata": {},
     "output_type": "execute_result"
    }
   ],
   "source": [
    "chile_aqi['parameter'].value_counts()"
   ]
  },
  {
   "cell_type": "code",
   "execution_count": 19,
   "id": "2f516d9f",
   "metadata": {},
   "outputs": [],
   "source": [
    "chile_aqi['utc'] = pd.to_datetime(chile_aqi['utc'])"
   ]
  },
  {
   "cell_type": "code",
   "execution_count": 20,
   "id": "02bb3f8f",
   "metadata": {},
   "outputs": [],
   "source": [
    "chile_aqi['local'] = pd.to_datetime(chile_aqi['local'])"
   ]
  },
  {
   "cell_type": "code",
   "execution_count": 21,
   "id": "04bb3eeb",
   "metadata": {},
   "outputs": [],
   "source": [
    "chile_aqi['year'] = chile_aqi['utc'].dt.year"
   ]
  },
  {
   "cell_type": "code",
   "execution_count": 22,
   "id": "89f25976",
   "metadata": {},
   "outputs": [],
   "source": [
    "chile_aqi['month'] = chile_aqi['utc'].dt.month"
   ]
  },
  {
   "cell_type": "code",
   "execution_count": 23,
   "id": "16e6cd64",
   "metadata": {},
   "outputs": [],
   "source": [
    "chile_aqi['hour_local'] = chile_aqi['local'].dt.hour "
   ]
  },
  {
   "cell_type": "code",
   "execution_count": 24,
   "id": "418189f2",
   "metadata": {},
   "outputs": [],
   "source": [
    "chile_aqi['hour_utc'] = chile_aqi['utc'].dt.hour"
   ]
  },
  {
   "cell_type": "code",
   "execution_count": 25,
   "id": "37da4692",
   "metadata": {
    "scrolled": false
   },
   "outputs": [
    {
     "data": {
      "text/html": [
       "<div>\n",
       "<style scoped>\n",
       "    .dataframe tbody tr th:only-of-type {\n",
       "        vertical-align: middle;\n",
       "    }\n",
       "\n",
       "    .dataframe tbody tr th {\n",
       "        vertical-align: top;\n",
       "    }\n",
       "\n",
       "    .dataframe thead th {\n",
       "        text-align: right;\n",
       "    }\n",
       "</style>\n",
       "<table border=\"1\" class=\"dataframe\">\n",
       "  <thead>\n",
       "    <tr style=\"text-align: right;\">\n",
       "      <th></th>\n",
       "      <th>locationId</th>\n",
       "      <th>location</th>\n",
       "      <th>city</th>\n",
       "      <th>country</th>\n",
       "      <th>utc</th>\n",
       "      <th>local</th>\n",
       "      <th>parameter</th>\n",
       "      <th>value</th>\n",
       "      <th>unit</th>\n",
       "      <th>latitude</th>\n",
       "      <th>longitude</th>\n",
       "      <th>year</th>\n",
       "      <th>month</th>\n",
       "      <th>hour_local</th>\n",
       "      <th>hour_utc</th>\n",
       "    </tr>\n",
       "  </thead>\n",
       "  <tbody>\n",
       "    <tr>\n",
       "      <th>0</th>\n",
       "      <td>6990</td>\n",
       "      <td>Valdivia 2</td>\n",
       "      <td>Valdivia</td>\n",
       "      <td>CL</td>\n",
       "      <td>2021-08-20 21:00:00+00:00</td>\n",
       "      <td>2021-08-20 20:00:00-01:00</td>\n",
       "      <td>pm25</td>\n",
       "      <td>6</td>\n",
       "      <td>µg/m³</td>\n",
       "      <td>-39.805429</td>\n",
       "      <td>-73.25873</td>\n",
       "      <td>2021</td>\n",
       "      <td>8</td>\n",
       "      <td>20</td>\n",
       "      <td>21</td>\n",
       "    </tr>\n",
       "    <tr>\n",
       "      <th>1</th>\n",
       "      <td>6990</td>\n",
       "      <td>Valdivia 2</td>\n",
       "      <td>Valdivia</td>\n",
       "      <td>CL</td>\n",
       "      <td>2021-08-20 21:00:00+00:00</td>\n",
       "      <td>2021-08-20 20:00:00-01:00</td>\n",
       "      <td>pm10</td>\n",
       "      <td>8</td>\n",
       "      <td>µg/m³</td>\n",
       "      <td>-39.805429</td>\n",
       "      <td>-73.25873</td>\n",
       "      <td>2021</td>\n",
       "      <td>8</td>\n",
       "      <td>20</td>\n",
       "      <td>21</td>\n",
       "    </tr>\n",
       "  </tbody>\n",
       "</table>\n",
       "</div>"
      ],
      "text/plain": [
       "   locationId    location      city country                       utc  \\\n",
       "0        6990  Valdivia 2  Valdivia      CL 2021-08-20 21:00:00+00:00   \n",
       "1        6990  Valdivia 2  Valdivia      CL 2021-08-20 21:00:00+00:00   \n",
       "\n",
       "                      local parameter  value   unit   latitude  longitude  \\\n",
       "0 2021-08-20 20:00:00-01:00      pm25      6  µg/m³ -39.805429  -73.25873   \n",
       "1 2021-08-20 20:00:00-01:00      pm10      8  µg/m³ -39.805429  -73.25873   \n",
       "\n",
       "   year  month  hour_local  hour_utc  \n",
       "0  2021      8          20        21  \n",
       "1  2021      8          20        21  "
      ]
     },
     "execution_count": 25,
     "metadata": {},
     "output_type": "execute_result"
    }
   ],
   "source": [
    "chile_aqi.head(2)"
   ]
  },
  {
   "cell_type": "code",
   "execution_count": 26,
   "id": "99c06a45",
   "metadata": {},
   "outputs": [
    {
     "data": {
      "text/plain": [
       "parameter\n",
       "pm10    14.827404\n",
       "pm25     7.323581\n",
       "Name: value, dtype: float64"
      ]
     },
     "execution_count": 26,
     "metadata": {},
     "output_type": "execute_result"
    }
   ],
   "source": [
    "chile_avg = chile_aqi.groupby('parameter')['value'].mean()\n",
    "chile_avg"
   ]
  },
  {
   "cell_type": "markdown",
   "id": "3f3ae3fb",
   "metadata": {},
   "source": [
    "**__________________________________________________________**"
   ]
  },
  {
   "cell_type": "code",
   "execution_count": 27,
   "id": "4d78b33e",
   "metadata": {
    "scrolled": false
   },
   "outputs": [
    {
     "data": {
      "text/plain": [
       "pm10    2839\n",
       "pm25    2837\n",
       "Name: parameter, dtype: int64"
      ]
     },
     "execution_count": 27,
     "metadata": {},
     "output_type": "execute_result"
    }
   ],
   "source": [
    "chile_aqi['parameter'].value_counts()"
   ]
  },
  {
   "cell_type": "code",
   "execution_count": 45,
   "id": "8e685eaf",
   "metadata": {},
   "outputs": [],
   "source": [
    "houston_aqi = pd.read_csv('Houston.csv')"
   ]
  },
  {
   "cell_type": "code",
   "execution_count": 48,
   "id": "567c0c93",
   "metadata": {
    "scrolled": true
   },
   "outputs": [
    {
     "data": {
      "text/plain": [
       "o3      33762\n",
       "pm25    23092\n",
       "Name: parameter, dtype: int64"
      ]
     },
     "execution_count": 48,
     "metadata": {},
     "output_type": "execute_result"
    }
   ],
   "source": []
  },
  {
   "cell_type": "code",
   "execution_count": 50,
   "id": "3d11a05b",
   "metadata": {},
   "outputs": [],
   "source": [
    "houston_aqi['utc'] = pd.to_datetime(houston_aqi['utc'])"
   ]
  },
  {
   "cell_type": "code",
   "execution_count": 52,
   "id": "56283bab",
   "metadata": {},
   "outputs": [
    {
     "data": {
      "text/html": [
       "<div>\n",
       "<style scoped>\n",
       "    .dataframe tbody tr th:only-of-type {\n",
       "        vertical-align: middle;\n",
       "    }\n",
       "\n",
       "    .dataframe tbody tr th {\n",
       "        vertical-align: top;\n",
       "    }\n",
       "\n",
       "    .dataframe thead th {\n",
       "        text-align: right;\n",
       "    }\n",
       "</style>\n",
       "<table border=\"1\" class=\"dataframe\">\n",
       "  <thead>\n",
       "    <tr style=\"text-align: right;\">\n",
       "      <th></th>\n",
       "      <th>locationId</th>\n",
       "      <th>location</th>\n",
       "      <th>city</th>\n",
       "      <th>country</th>\n",
       "      <th>utc</th>\n",
       "      <th>local</th>\n",
       "      <th>parameter</th>\n",
       "      <th>value</th>\n",
       "      <th>unit</th>\n",
       "      <th>latitude</th>\n",
       "      <th>longitude</th>\n",
       "    </tr>\n",
       "  </thead>\n",
       "  <tbody>\n",
       "    <tr>\n",
       "      <th>11851</th>\n",
       "      <td>162</td>\n",
       "      <td>Houston Deer Park C3</td>\n",
       "      <td>Houston-Sugar Land-Baytown</td>\n",
       "      <td>US</td>\n",
       "      <td>2019-12-06 20:00:00+00:00</td>\n",
       "      <td>2019-12-06T14:00:00-06:00</td>\n",
       "      <td>pm25</td>\n",
       "      <td>5.8</td>\n",
       "      <td>µg/m³</td>\n",
       "      <td>29.670025</td>\n",
       "      <td>-95.128508</td>\n",
       "    </tr>\n",
       "    <tr>\n",
       "      <th>11852</th>\n",
       "      <td>162</td>\n",
       "      <td>Houston Deer Park C3</td>\n",
       "      <td>Houston-Sugar Land-Baytown</td>\n",
       "      <td>US</td>\n",
       "      <td>2019-12-06 19:00:00+00:00</td>\n",
       "      <td>2019-12-06T13:00:00-06:00</td>\n",
       "      <td>pm25</td>\n",
       "      <td>22.1</td>\n",
       "      <td>µg/m³</td>\n",
       "      <td>29.670025</td>\n",
       "      <td>-95.128508</td>\n",
       "    </tr>\n",
       "    <tr>\n",
       "      <th>11857</th>\n",
       "      <td>162</td>\n",
       "      <td>Houston Deer Park C3</td>\n",
       "      <td>Houston-Sugar Land-Baytown</td>\n",
       "      <td>US</td>\n",
       "      <td>2019-12-06 16:00:00+00:00</td>\n",
       "      <td>2019-12-06T10:00:00-06:00</td>\n",
       "      <td>pm25</td>\n",
       "      <td>4.2</td>\n",
       "      <td>µg/m³</td>\n",
       "      <td>29.670025</td>\n",
       "      <td>-95.128508</td>\n",
       "    </tr>\n",
       "    <tr>\n",
       "      <th>11858</th>\n",
       "      <td>162</td>\n",
       "      <td>Houston Deer Park C3</td>\n",
       "      <td>Houston-Sugar Land-Baytown</td>\n",
       "      <td>US</td>\n",
       "      <td>2019-12-06 15:00:00+00:00</td>\n",
       "      <td>2019-12-06T09:00:00-06:00</td>\n",
       "      <td>pm25</td>\n",
       "      <td>-0.1</td>\n",
       "      <td>µg/m³</td>\n",
       "      <td>29.670025</td>\n",
       "      <td>-95.128508</td>\n",
       "    </tr>\n",
       "    <tr>\n",
       "      <th>11861</th>\n",
       "      <td>162</td>\n",
       "      <td>Houston Deer Park C3</td>\n",
       "      <td>Houston-Sugar Land-Baytown</td>\n",
       "      <td>US</td>\n",
       "      <td>2019-12-06 14:00:00+00:00</td>\n",
       "      <td>2019-12-06T08:00:00-06:00</td>\n",
       "      <td>pm25</td>\n",
       "      <td>9.5</td>\n",
       "      <td>µg/m³</td>\n",
       "      <td>29.670025</td>\n",
       "      <td>-95.128508</td>\n",
       "    </tr>\n",
       "  </tbody>\n",
       "</table>\n",
       "</div>"
      ],
      "text/plain": [
       "       locationId              location                        city country  \\\n",
       "11851         162  Houston Deer Park C3  Houston-Sugar Land-Baytown      US   \n",
       "11852         162  Houston Deer Park C3  Houston-Sugar Land-Baytown      US   \n",
       "11857         162  Houston Deer Park C3  Houston-Sugar Land-Baytown      US   \n",
       "11858         162  Houston Deer Park C3  Houston-Sugar Land-Baytown      US   \n",
       "11861         162  Houston Deer Park C3  Houston-Sugar Land-Baytown      US   \n",
       "\n",
       "                            utc                      local parameter  value  \\\n",
       "11851 2019-12-06 20:00:00+00:00  2019-12-06T14:00:00-06:00      pm25    5.8   \n",
       "11852 2019-12-06 19:00:00+00:00  2019-12-06T13:00:00-06:00      pm25   22.1   \n",
       "11857 2019-12-06 16:00:00+00:00  2019-12-06T10:00:00-06:00      pm25    4.2   \n",
       "11858 2019-12-06 15:00:00+00:00  2019-12-06T09:00:00-06:00      pm25   -0.1   \n",
       "11861 2019-12-06 14:00:00+00:00  2019-12-06T08:00:00-06:00      pm25    9.5   \n",
       "\n",
       "        unit   latitude  longitude  \n",
       "11851  µg/m³  29.670025 -95.128508  \n",
       "11852  µg/m³  29.670025 -95.128508  \n",
       "11857  µg/m³  29.670025 -95.128508  \n",
       "11858  µg/m³  29.670025 -95.128508  \n",
       "11861  µg/m³  29.670025 -95.128508  "
      ]
     },
     "execution_count": 52,
     "metadata": {},
     "output_type": "execute_result"
    }
   ],
   "source": [
    "houston_aqi = houston_aqi[houston_aqi['unit'] == 'µg/m³']\n",
    "houston_aqi.head()"
   ]
  },
  {
   "cell_type": "code",
   "execution_count": 53,
   "id": "1030df63",
   "metadata": {
    "scrolled": true
   },
   "outputs": [
    {
     "data": {
      "text/plain": [
       "pm25    23092\n",
       "Name: parameter, dtype: int64"
      ]
     },
     "execution_count": 53,
     "metadata": {},
     "output_type": "execute_result"
    }
   ],
   "source": [
    "houston_aqi['parameter'].value_counts()"
   ]
  },
  {
   "cell_type": "code",
   "execution_count": 57,
   "id": "68784c2c",
   "metadata": {
    "scrolled": true
   },
   "outputs": [
    {
     "data": {
      "text/html": [
       "<div>\n",
       "<style scoped>\n",
       "    .dataframe tbody tr th:only-of-type {\n",
       "        vertical-align: middle;\n",
       "    }\n",
       "\n",
       "    .dataframe tbody tr th {\n",
       "        vertical-align: top;\n",
       "    }\n",
       "\n",
       "    .dataframe thead th {\n",
       "        text-align: right;\n",
       "    }\n",
       "</style>\n",
       "<table border=\"1\" class=\"dataframe\">\n",
       "  <thead>\n",
       "    <tr style=\"text-align: right;\">\n",
       "      <th></th>\n",
       "      <th>locationId</th>\n",
       "      <th>location</th>\n",
       "      <th>city</th>\n",
       "      <th>country</th>\n",
       "      <th>utc</th>\n",
       "      <th>local</th>\n",
       "      <th>parameter</th>\n",
       "      <th>value</th>\n",
       "      <th>unit</th>\n",
       "      <th>latitude</th>\n",
       "      <th>longitude</th>\n",
       "      <th>year</th>\n",
       "    </tr>\n",
       "  </thead>\n",
       "  <tbody>\n",
       "    <tr>\n",
       "      <th>11851</th>\n",
       "      <td>162</td>\n",
       "      <td>Houston Deer Park C3</td>\n",
       "      <td>Houston-Sugar Land-Baytown</td>\n",
       "      <td>US</td>\n",
       "      <td>2019-12-06 20:00:00+00:00</td>\n",
       "      <td>2019-12-06T14:00:00-06:00</td>\n",
       "      <td>pm25</td>\n",
       "      <td>5.8</td>\n",
       "      <td>µg/m³</td>\n",
       "      <td>29.670025</td>\n",
       "      <td>-95.128508</td>\n",
       "      <td>2019</td>\n",
       "    </tr>\n",
       "    <tr>\n",
       "      <th>11852</th>\n",
       "      <td>162</td>\n",
       "      <td>Houston Deer Park C3</td>\n",
       "      <td>Houston-Sugar Land-Baytown</td>\n",
       "      <td>US</td>\n",
       "      <td>2019-12-06 19:00:00+00:00</td>\n",
       "      <td>2019-12-06T13:00:00-06:00</td>\n",
       "      <td>pm25</td>\n",
       "      <td>22.1</td>\n",
       "      <td>µg/m³</td>\n",
       "      <td>29.670025</td>\n",
       "      <td>-95.128508</td>\n",
       "      <td>2019</td>\n",
       "    </tr>\n",
       "  </tbody>\n",
       "</table>\n",
       "</div>"
      ],
      "text/plain": [
       "       locationId              location                        city country  \\\n",
       "11851         162  Houston Deer Park C3  Houston-Sugar Land-Baytown      US   \n",
       "11852         162  Houston Deer Park C3  Houston-Sugar Land-Baytown      US   \n",
       "\n",
       "                            utc                      local parameter  value  \\\n",
       "11851 2019-12-06 20:00:00+00:00  2019-12-06T14:00:00-06:00      pm25    5.8   \n",
       "11852 2019-12-06 19:00:00+00:00  2019-12-06T13:00:00-06:00      pm25   22.1   \n",
       "\n",
       "        unit   latitude  longitude  year  \n",
       "11851  µg/m³  29.670025 -95.128508  2019  \n",
       "11852  µg/m³  29.670025 -95.128508  2019  "
      ]
     },
     "execution_count": 57,
     "metadata": {},
     "output_type": "execute_result"
    }
   ],
   "source": [
    "houston_aqi.head(2)"
   ]
  },
  {
   "cell_type": "code",
   "execution_count": 58,
   "id": "f7abed72",
   "metadata": {
    "scrolled": false
   },
   "outputs": [
    {
     "data": {
      "text/plain": [
       "2019    7700\n",
       "2018    5561\n",
       "2017    5316\n",
       "2016    4515\n",
       "Name: year, dtype: int64"
      ]
     },
     "execution_count": 58,
     "metadata": {},
     "output_type": "execute_result"
    }
   ],
   "source": [
    "houston_aqi['year'].value_counts()"
   ]
  },
  {
   "cell_type": "code",
   "execution_count": 61,
   "id": "7966ea49",
   "metadata": {},
   "outputs": [
    {
     "ename": "KeyError",
     "evalue": "'utc'",
     "output_type": "error",
     "traceback": [
      "\u001b[1;31m---------------------------------------------------------------------------\u001b[0m",
      "\u001b[1;31mKeyError\u001b[0m                                  Traceback (most recent call last)",
      "\u001b[1;32m~\\Anaconda3\\lib\\site-packages\\pandas\\core\\indexes\\base.py\u001b[0m in \u001b[0;36mget_loc\u001b[1;34m(self, key, method, tolerance)\u001b[0m\n\u001b[0;32m   3079\u001b[0m             \u001b[1;32mtry\u001b[0m\u001b[1;33m:\u001b[0m\u001b[1;33m\u001b[0m\u001b[1;33m\u001b[0m\u001b[0m\n\u001b[1;32m-> 3080\u001b[1;33m                 \u001b[1;32mreturn\u001b[0m \u001b[0mself\u001b[0m\u001b[1;33m.\u001b[0m\u001b[0m_engine\u001b[0m\u001b[1;33m.\u001b[0m\u001b[0mget_loc\u001b[0m\u001b[1;33m(\u001b[0m\u001b[0mcasted_key\u001b[0m\u001b[1;33m)\u001b[0m\u001b[1;33m\u001b[0m\u001b[1;33m\u001b[0m\u001b[0m\n\u001b[0m\u001b[0;32m   3081\u001b[0m             \u001b[1;32mexcept\u001b[0m \u001b[0mKeyError\u001b[0m \u001b[1;32mas\u001b[0m \u001b[0merr\u001b[0m\u001b[1;33m:\u001b[0m\u001b[1;33m\u001b[0m\u001b[1;33m\u001b[0m\u001b[0m\n",
      "\u001b[1;32mpandas\\_libs\\index.pyx\u001b[0m in \u001b[0;36mpandas._libs.index.IndexEngine.get_loc\u001b[1;34m()\u001b[0m\n",
      "\u001b[1;32mpandas\\_libs\\index.pyx\u001b[0m in \u001b[0;36mpandas._libs.index.IndexEngine.get_loc\u001b[1;34m()\u001b[0m\n",
      "\u001b[1;32mpandas\\_libs\\hashtable_class_helper.pxi\u001b[0m in \u001b[0;36mpandas._libs.hashtable.PyObjectHashTable.get_item\u001b[1;34m()\u001b[0m\n",
      "\u001b[1;32mpandas\\_libs\\hashtable_class_helper.pxi\u001b[0m in \u001b[0;36mpandas._libs.hashtable.PyObjectHashTable.get_item\u001b[1;34m()\u001b[0m\n",
      "\u001b[1;31mKeyError\u001b[0m: 'utc'",
      "\nThe above exception was the direct cause of the following exception:\n",
      "\u001b[1;31mKeyError\u001b[0m                                  Traceback (most recent call last)",
      "\u001b[1;32m<ipython-input-61-5b7c33b5a7c8>\u001b[0m in \u001b[0;36m<module>\u001b[1;34m\u001b[0m\n\u001b[1;32m----> 1\u001b[1;33m \u001b[0mplt\u001b[0m\u001b[1;33m.\u001b[0m\u001b[0mplot\u001b[0m\u001b[1;33m(\u001b[0m\u001b[0mhouston_aqi\u001b[0m\u001b[1;33m[\u001b[0m\u001b[1;34m'utc'\u001b[0m\u001b[1;33m]\u001b[0m\u001b[1;33m,\u001b[0m \u001b[0mhouston_aqi\u001b[0m\u001b[1;33m[\u001b[0m\u001b[1;34m'value'\u001b[0m\u001b[1;33m]\u001b[0m\u001b[1;33m)\u001b[0m\u001b[1;33m\u001b[0m\u001b[1;33m\u001b[0m\u001b[0m\n\u001b[0m",
      "\u001b[1;32m~\\Anaconda3\\lib\\site-packages\\pandas\\core\\frame.py\u001b[0m in \u001b[0;36m__getitem__\u001b[1;34m(self, key)\u001b[0m\n\u001b[0;32m   3022\u001b[0m             \u001b[1;32mif\u001b[0m \u001b[0mself\u001b[0m\u001b[1;33m.\u001b[0m\u001b[0mcolumns\u001b[0m\u001b[1;33m.\u001b[0m\u001b[0mnlevels\u001b[0m \u001b[1;33m>\u001b[0m \u001b[1;36m1\u001b[0m\u001b[1;33m:\u001b[0m\u001b[1;33m\u001b[0m\u001b[1;33m\u001b[0m\u001b[0m\n\u001b[0;32m   3023\u001b[0m                 \u001b[1;32mreturn\u001b[0m \u001b[0mself\u001b[0m\u001b[1;33m.\u001b[0m\u001b[0m_getitem_multilevel\u001b[0m\u001b[1;33m(\u001b[0m\u001b[0mkey\u001b[0m\u001b[1;33m)\u001b[0m\u001b[1;33m\u001b[0m\u001b[1;33m\u001b[0m\u001b[0m\n\u001b[1;32m-> 3024\u001b[1;33m             \u001b[0mindexer\u001b[0m \u001b[1;33m=\u001b[0m \u001b[0mself\u001b[0m\u001b[1;33m.\u001b[0m\u001b[0mcolumns\u001b[0m\u001b[1;33m.\u001b[0m\u001b[0mget_loc\u001b[0m\u001b[1;33m(\u001b[0m\u001b[0mkey\u001b[0m\u001b[1;33m)\u001b[0m\u001b[1;33m\u001b[0m\u001b[1;33m\u001b[0m\u001b[0m\n\u001b[0m\u001b[0;32m   3025\u001b[0m             \u001b[1;32mif\u001b[0m \u001b[0mis_integer\u001b[0m\u001b[1;33m(\u001b[0m\u001b[0mindexer\u001b[0m\u001b[1;33m)\u001b[0m\u001b[1;33m:\u001b[0m\u001b[1;33m\u001b[0m\u001b[1;33m\u001b[0m\u001b[0m\n\u001b[0;32m   3026\u001b[0m                 \u001b[0mindexer\u001b[0m \u001b[1;33m=\u001b[0m \u001b[1;33m[\u001b[0m\u001b[0mindexer\u001b[0m\u001b[1;33m]\u001b[0m\u001b[1;33m\u001b[0m\u001b[1;33m\u001b[0m\u001b[0m\n",
      "\u001b[1;32m~\\Anaconda3\\lib\\site-packages\\pandas\\core\\indexes\\base.py\u001b[0m in \u001b[0;36mget_loc\u001b[1;34m(self, key, method, tolerance)\u001b[0m\n\u001b[0;32m   3080\u001b[0m                 \u001b[1;32mreturn\u001b[0m \u001b[0mself\u001b[0m\u001b[1;33m.\u001b[0m\u001b[0m_engine\u001b[0m\u001b[1;33m.\u001b[0m\u001b[0mget_loc\u001b[0m\u001b[1;33m(\u001b[0m\u001b[0mcasted_key\u001b[0m\u001b[1;33m)\u001b[0m\u001b[1;33m\u001b[0m\u001b[1;33m\u001b[0m\u001b[0m\n\u001b[0;32m   3081\u001b[0m             \u001b[1;32mexcept\u001b[0m \u001b[0mKeyError\u001b[0m \u001b[1;32mas\u001b[0m \u001b[0merr\u001b[0m\u001b[1;33m:\u001b[0m\u001b[1;33m\u001b[0m\u001b[1;33m\u001b[0m\u001b[0m\n\u001b[1;32m-> 3082\u001b[1;33m                 \u001b[1;32mraise\u001b[0m \u001b[0mKeyError\u001b[0m\u001b[1;33m(\u001b[0m\u001b[0mkey\u001b[0m\u001b[1;33m)\u001b[0m \u001b[1;32mfrom\u001b[0m \u001b[0merr\u001b[0m\u001b[1;33m\u001b[0m\u001b[1;33m\u001b[0m\u001b[0m\n\u001b[0m\u001b[0;32m   3083\u001b[0m \u001b[1;33m\u001b[0m\u001b[0m\n\u001b[0;32m   3084\u001b[0m         \u001b[1;32mif\u001b[0m \u001b[0mtolerance\u001b[0m \u001b[1;32mis\u001b[0m \u001b[1;32mnot\u001b[0m \u001b[1;32mNone\u001b[0m\u001b[1;33m:\u001b[0m\u001b[1;33m\u001b[0m\u001b[1;33m\u001b[0m\u001b[0m\n",
      "\u001b[1;31mKeyError\u001b[0m: 'utc'"
     ]
    }
   ],
   "source": [
    "plt.plot(houston_aqi['utc'], houston_aqi['value'])"
   ]
  },
  {
   "cell_type": "code",
   "execution_count": 59,
   "id": "321096e0",
   "metadata": {},
   "outputs": [
    {
     "data": {
      "text/html": [
       "<div>\n",
       "<style scoped>\n",
       "    .dataframe tbody tr th:only-of-type {\n",
       "        vertical-align: middle;\n",
       "    }\n",
       "\n",
       "    .dataframe tbody tr th {\n",
       "        vertical-align: top;\n",
       "    }\n",
       "\n",
       "    .dataframe thead th {\n",
       "        text-align: right;\n",
       "    }\n",
       "</style>\n",
       "<table border=\"1\" class=\"dataframe\">\n",
       "  <thead>\n",
       "    <tr style=\"text-align: right;\">\n",
       "      <th></th>\n",
       "      <th>year</th>\n",
       "      <th>parameter</th>\n",
       "      <th>value</th>\n",
       "    </tr>\n",
       "  </thead>\n",
       "  <tbody>\n",
       "    <tr>\n",
       "      <th>0</th>\n",
       "      <td>2016</td>\n",
       "      <td>pm25</td>\n",
       "      <td>8.191340</td>\n",
       "    </tr>\n",
       "    <tr>\n",
       "      <th>1</th>\n",
       "      <td>2017</td>\n",
       "      <td>pm25</td>\n",
       "      <td>7.745053</td>\n",
       "    </tr>\n",
       "    <tr>\n",
       "      <th>2</th>\n",
       "      <td>2018</td>\n",
       "      <td>pm25</td>\n",
       "      <td>8.357957</td>\n",
       "    </tr>\n",
       "    <tr>\n",
       "      <th>3</th>\n",
       "      <td>2019</td>\n",
       "      <td>pm25</td>\n",
       "      <td>7.292325</td>\n",
       "    </tr>\n",
       "  </tbody>\n",
       "</table>\n",
       "</div>"
      ],
      "text/plain": [
       "   year parameter     value\n",
       "0  2016      pm25  8.191340\n",
       "1  2017      pm25  7.745053\n",
       "2  2018      pm25  8.357957\n",
       "3  2019      pm25  7.292325"
      ]
     },
     "execution_count": 59,
     "metadata": {},
     "output_type": "execute_result"
    }
   ],
   "source": [
    "houston_aqi = houston_aqi.groupby(['year', 'parameter'], as_index=False).agg({'value':'mean'})\n",
    "houston_aqi"
   ]
  },
  {
   "cell_type": "markdown",
   "id": "38c3969f",
   "metadata": {},
   "source": [
    "- Realiza una columna de los años y la fecha completa\n",
    "\n",
    "- Ve los valores únicos de varias columnas\n",
    "\n",
    "- Group by por pollutant"
   ]
  },
  {
   "cell_type": "markdown",
   "id": "7b1f4349",
   "metadata": {},
   "source": [
    "### All years"
   ]
  },
  {
   "cell_type": "code",
   "execution_count": 28,
   "id": "900d0bdd",
   "metadata": {},
   "outputs": [],
   "source": [
    "mx_sal = pd.read_csv('saltillo_ally.csv')"
   ]
  },
  {
   "cell_type": "code",
   "execution_count": 29,
   "id": "0c834b35",
   "metadata": {},
   "outputs": [
    {
     "data": {
      "text/html": [
       "<div>\n",
       "<style scoped>\n",
       "    .dataframe tbody tr th:only-of-type {\n",
       "        vertical-align: middle;\n",
       "    }\n",
       "\n",
       "    .dataframe tbody tr th {\n",
       "        vertical-align: top;\n",
       "    }\n",
       "\n",
       "    .dataframe thead th {\n",
       "        text-align: right;\n",
       "    }\n",
       "</style>\n",
       "<table border=\"1\" class=\"dataframe\">\n",
       "  <thead>\n",
       "    <tr style=\"text-align: right;\">\n",
       "      <th></th>\n",
       "      <th>locationId</th>\n",
       "      <th>location</th>\n",
       "      <th>city</th>\n",
       "      <th>country</th>\n",
       "      <th>utc</th>\n",
       "      <th>local</th>\n",
       "      <th>parameter</th>\n",
       "      <th>value</th>\n",
       "      <th>unit</th>\n",
       "      <th>latitude</th>\n",
       "      <th>longitude</th>\n",
       "    </tr>\n",
       "  </thead>\n",
       "  <tbody>\n",
       "    <tr>\n",
       "      <th>0</th>\n",
       "      <td>8006</td>\n",
       "      <td>Finanzas</td>\n",
       "      <td>Saltillo</td>\n",
       "      <td>MX</td>\n",
       "      <td>2021-09-23T18:00:00+00:00</td>\n",
       "      <td>2021-09-23T13:00:00-05:00</td>\n",
       "      <td>o3</td>\n",
       "      <td>0.046686</td>\n",
       "      <td>ppm</td>\n",
       "      <td>25.421472</td>\n",
       "      <td>-100.996861</td>\n",
       "    </tr>\n",
       "    <tr>\n",
       "      <th>1</th>\n",
       "      <td>8006</td>\n",
       "      <td>Finanzas</td>\n",
       "      <td>Saltillo</td>\n",
       "      <td>MX</td>\n",
       "      <td>2021-09-23T18:00:00+00:00</td>\n",
       "      <td>2021-09-23T13:00:00-05:00</td>\n",
       "      <td>no2</td>\n",
       "      <td>0.013258</td>\n",
       "      <td>ppm</td>\n",
       "      <td>25.421472</td>\n",
       "      <td>-100.996861</td>\n",
       "    </tr>\n",
       "  </tbody>\n",
       "</table>\n",
       "</div>"
      ],
      "text/plain": [
       "   locationId  location      city country                        utc  \\\n",
       "0        8006  Finanzas  Saltillo      MX  2021-09-23T18:00:00+00:00   \n",
       "1        8006  Finanzas  Saltillo      MX  2021-09-23T18:00:00+00:00   \n",
       "\n",
       "                       local parameter     value unit   latitude   longitude  \n",
       "0  2021-09-23T13:00:00-05:00        o3  0.046686  ppm  25.421472 -100.996861  \n",
       "1  2021-09-23T13:00:00-05:00       no2  0.013258  ppm  25.421472 -100.996861  "
      ]
     },
     "execution_count": 29,
     "metadata": {},
     "output_type": "execute_result"
    }
   ],
   "source": [
    "mx_sal.head(2)"
   ]
  },
  {
   "cell_type": "code",
   "execution_count": 30,
   "id": "521c5544",
   "metadata": {},
   "outputs": [
    {
     "data": {
      "text/html": [
       "<div>\n",
       "<style scoped>\n",
       "    .dataframe tbody tr th:only-of-type {\n",
       "        vertical-align: middle;\n",
       "    }\n",
       "\n",
       "    .dataframe tbody tr th {\n",
       "        vertical-align: top;\n",
       "    }\n",
       "\n",
       "    .dataframe thead th {\n",
       "        text-align: right;\n",
       "    }\n",
       "</style>\n",
       "<table border=\"1\" class=\"dataframe\">\n",
       "  <thead>\n",
       "    <tr style=\"text-align: right;\">\n",
       "      <th></th>\n",
       "      <th>locationId</th>\n",
       "      <th>location</th>\n",
       "      <th>city</th>\n",
       "      <th>country</th>\n",
       "      <th>utc</th>\n",
       "      <th>local</th>\n",
       "      <th>parameter</th>\n",
       "      <th>value</th>\n",
       "      <th>unit</th>\n",
       "      <th>latitude</th>\n",
       "      <th>longitude</th>\n",
       "    </tr>\n",
       "  </thead>\n",
       "  <tbody>\n",
       "    <tr>\n",
       "      <th>2</th>\n",
       "      <td>8006</td>\n",
       "      <td>Finanzas</td>\n",
       "      <td>Saltillo</td>\n",
       "      <td>MX</td>\n",
       "      <td>2021-09-23T18:00:00+00:00</td>\n",
       "      <td>2021-09-23T13:00:00-05:00</td>\n",
       "      <td>pm10</td>\n",
       "      <td>68.471</td>\n",
       "      <td>µg/m³</td>\n",
       "      <td>25.421472</td>\n",
       "      <td>-100.996861</td>\n",
       "    </tr>\n",
       "    <tr>\n",
       "      <th>4</th>\n",
       "      <td>8006</td>\n",
       "      <td>Finanzas</td>\n",
       "      <td>Saltillo</td>\n",
       "      <td>MX</td>\n",
       "      <td>2021-09-23T18:00:00+00:00</td>\n",
       "      <td>2021-09-23T13:00:00-05:00</td>\n",
       "      <td>pm25</td>\n",
       "      <td>19.571</td>\n",
       "      <td>µg/m³</td>\n",
       "      <td>25.421472</td>\n",
       "      <td>-100.996861</td>\n",
       "    </tr>\n",
       "    <tr>\n",
       "      <th>8</th>\n",
       "      <td>8006</td>\n",
       "      <td>Finanzas</td>\n",
       "      <td>Saltillo</td>\n",
       "      <td>MX</td>\n",
       "      <td>2021-09-23T17:00:00+00:00</td>\n",
       "      <td>2021-09-23T12:00:00-05:00</td>\n",
       "      <td>pm10</td>\n",
       "      <td>58.031</td>\n",
       "      <td>µg/m³</td>\n",
       "      <td>25.421472</td>\n",
       "      <td>-100.996861</td>\n",
       "    </tr>\n",
       "    <tr>\n",
       "      <th>9</th>\n",
       "      <td>8006</td>\n",
       "      <td>Finanzas</td>\n",
       "      <td>Saltillo</td>\n",
       "      <td>MX</td>\n",
       "      <td>2021-09-23T17:00:00+00:00</td>\n",
       "      <td>2021-09-23T12:00:00-05:00</td>\n",
       "      <td>pm25</td>\n",
       "      <td>18.289</td>\n",
       "      <td>µg/m³</td>\n",
       "      <td>25.421472</td>\n",
       "      <td>-100.996861</td>\n",
       "    </tr>\n",
       "    <tr>\n",
       "      <th>10</th>\n",
       "      <td>8006</td>\n",
       "      <td>Finanzas</td>\n",
       "      <td>Saltillo</td>\n",
       "      <td>MX</td>\n",
       "      <td>2021-09-23T16:00:00+00:00</td>\n",
       "      <td>2021-09-23T11:00:00-05:00</td>\n",
       "      <td>pm10</td>\n",
       "      <td>49.564</td>\n",
       "      <td>µg/m³</td>\n",
       "      <td>25.421472</td>\n",
       "      <td>-100.996861</td>\n",
       "    </tr>\n",
       "  </tbody>\n",
       "</table>\n",
       "</div>"
      ],
      "text/plain": [
       "    locationId  location      city country                        utc  \\\n",
       "2         8006  Finanzas  Saltillo      MX  2021-09-23T18:00:00+00:00   \n",
       "4         8006  Finanzas  Saltillo      MX  2021-09-23T18:00:00+00:00   \n",
       "8         8006  Finanzas  Saltillo      MX  2021-09-23T17:00:00+00:00   \n",
       "9         8006  Finanzas  Saltillo      MX  2021-09-23T17:00:00+00:00   \n",
       "10        8006  Finanzas  Saltillo      MX  2021-09-23T16:00:00+00:00   \n",
       "\n",
       "                        local parameter   value   unit   latitude   longitude  \n",
       "2   2021-09-23T13:00:00-05:00      pm10  68.471  µg/m³  25.421472 -100.996861  \n",
       "4   2021-09-23T13:00:00-05:00      pm25  19.571  µg/m³  25.421472 -100.996861  \n",
       "8   2021-09-23T12:00:00-05:00      pm10  58.031  µg/m³  25.421472 -100.996861  \n",
       "9   2021-09-23T12:00:00-05:00      pm25  18.289  µg/m³  25.421472 -100.996861  \n",
       "10  2021-09-23T11:00:00-05:00      pm10  49.564  µg/m³  25.421472 -100.996861  "
      ]
     },
     "execution_count": 30,
     "metadata": {},
     "output_type": "execute_result"
    }
   ],
   "source": [
    "mx_sal = mx_sal[mx_sal['unit'] == 'µg/m³']\n",
    "mx_sal.head()"
   ]
  },
  {
   "cell_type": "code",
   "execution_count": 31,
   "id": "a237bb55",
   "metadata": {
    "scrolled": true
   },
   "outputs": [
    {
     "data": {
      "text/plain": [
       "pm10    2380\n",
       "pm25    2376\n",
       "Name: parameter, dtype: int64"
      ]
     },
     "execution_count": 31,
     "metadata": {},
     "output_type": "execute_result"
    }
   ],
   "source": [
    "mx_sal['parameter'].value_counts()"
   ]
  },
  {
   "cell_type": "code",
   "execution_count": 32,
   "id": "fca63363",
   "metadata": {},
   "outputs": [],
   "source": [
    "mx_sal['utc'] = pd.to_datetime(mx_sal['utc'])"
   ]
  },
  {
   "cell_type": "code",
   "execution_count": 33,
   "id": "e20c17a6",
   "metadata": {},
   "outputs": [],
   "source": [
    "mx_sal['local'] = pd.to_datetime(mx_sal['local'])"
   ]
  },
  {
   "cell_type": "code",
   "execution_count": 34,
   "id": "38c70bce",
   "metadata": {
    "scrolled": true
   },
   "outputs": [],
   "source": [
    "mx_sal['year'] = mx_sal['utc'].dt.year"
   ]
  },
  {
   "cell_type": "code",
   "execution_count": 35,
   "id": "fff5fe1c",
   "metadata": {},
   "outputs": [],
   "source": [
    "mx_sal['month'] = mx_sal['utc'].dt.month"
   ]
  },
  {
   "cell_type": "code",
   "execution_count": 36,
   "id": "aeddf90f",
   "metadata": {},
   "outputs": [],
   "source": [
    "mx_sal['hour_utc'] = mx_sal['utc'].dt.hour"
   ]
  },
  {
   "cell_type": "code",
   "execution_count": 37,
   "id": "6731bd66",
   "metadata": {},
   "outputs": [],
   "source": [
    "mx_sal['place'] = mx_sal['city'] + ' ' + mx_sal['country']"
   ]
  },
  {
   "cell_type": "code",
   "execution_count": 38,
   "id": "e8659cc3",
   "metadata": {
    "scrolled": false
   },
   "outputs": [
    {
     "data": {
      "text/html": [
       "<div>\n",
       "<style scoped>\n",
       "    .dataframe tbody tr th:only-of-type {\n",
       "        vertical-align: middle;\n",
       "    }\n",
       "\n",
       "    .dataframe tbody tr th {\n",
       "        vertical-align: top;\n",
       "    }\n",
       "\n",
       "    .dataframe thead th {\n",
       "        text-align: right;\n",
       "    }\n",
       "</style>\n",
       "<table border=\"1\" class=\"dataframe\">\n",
       "  <thead>\n",
       "    <tr style=\"text-align: right;\">\n",
       "      <th></th>\n",
       "      <th>locationId</th>\n",
       "      <th>location</th>\n",
       "      <th>city</th>\n",
       "      <th>country</th>\n",
       "      <th>utc</th>\n",
       "      <th>local</th>\n",
       "      <th>parameter</th>\n",
       "      <th>value</th>\n",
       "      <th>unit</th>\n",
       "      <th>latitude</th>\n",
       "      <th>longitude</th>\n",
       "      <th>year</th>\n",
       "      <th>month</th>\n",
       "      <th>hour_utc</th>\n",
       "      <th>place</th>\n",
       "    </tr>\n",
       "  </thead>\n",
       "  <tbody>\n",
       "    <tr>\n",
       "      <th>2</th>\n",
       "      <td>8006</td>\n",
       "      <td>Finanzas</td>\n",
       "      <td>Saltillo</td>\n",
       "      <td>MX</td>\n",
       "      <td>2021-09-23 18:00:00+00:00</td>\n",
       "      <td>2021-09-23 13:00:00-05:00</td>\n",
       "      <td>pm10</td>\n",
       "      <td>68.471</td>\n",
       "      <td>µg/m³</td>\n",
       "      <td>25.421472</td>\n",
       "      <td>-100.996861</td>\n",
       "      <td>2021</td>\n",
       "      <td>9</td>\n",
       "      <td>18</td>\n",
       "      <td>Saltillo MX</td>\n",
       "    </tr>\n",
       "    <tr>\n",
       "      <th>4</th>\n",
       "      <td>8006</td>\n",
       "      <td>Finanzas</td>\n",
       "      <td>Saltillo</td>\n",
       "      <td>MX</td>\n",
       "      <td>2021-09-23 18:00:00+00:00</td>\n",
       "      <td>2021-09-23 13:00:00-05:00</td>\n",
       "      <td>pm25</td>\n",
       "      <td>19.571</td>\n",
       "      <td>µg/m³</td>\n",
       "      <td>25.421472</td>\n",
       "      <td>-100.996861</td>\n",
       "      <td>2021</td>\n",
       "      <td>9</td>\n",
       "      <td>18</td>\n",
       "      <td>Saltillo MX</td>\n",
       "    </tr>\n",
       "    <tr>\n",
       "      <th>8</th>\n",
       "      <td>8006</td>\n",
       "      <td>Finanzas</td>\n",
       "      <td>Saltillo</td>\n",
       "      <td>MX</td>\n",
       "      <td>2021-09-23 17:00:00+00:00</td>\n",
       "      <td>2021-09-23 12:00:00-05:00</td>\n",
       "      <td>pm10</td>\n",
       "      <td>58.031</td>\n",
       "      <td>µg/m³</td>\n",
       "      <td>25.421472</td>\n",
       "      <td>-100.996861</td>\n",
       "      <td>2021</td>\n",
       "      <td>9</td>\n",
       "      <td>17</td>\n",
       "      <td>Saltillo MX</td>\n",
       "    </tr>\n",
       "    <tr>\n",
       "      <th>9</th>\n",
       "      <td>8006</td>\n",
       "      <td>Finanzas</td>\n",
       "      <td>Saltillo</td>\n",
       "      <td>MX</td>\n",
       "      <td>2021-09-23 17:00:00+00:00</td>\n",
       "      <td>2021-09-23 12:00:00-05:00</td>\n",
       "      <td>pm25</td>\n",
       "      <td>18.289</td>\n",
       "      <td>µg/m³</td>\n",
       "      <td>25.421472</td>\n",
       "      <td>-100.996861</td>\n",
       "      <td>2021</td>\n",
       "      <td>9</td>\n",
       "      <td>17</td>\n",
       "      <td>Saltillo MX</td>\n",
       "    </tr>\n",
       "    <tr>\n",
       "      <th>10</th>\n",
       "      <td>8006</td>\n",
       "      <td>Finanzas</td>\n",
       "      <td>Saltillo</td>\n",
       "      <td>MX</td>\n",
       "      <td>2021-09-23 16:00:00+00:00</td>\n",
       "      <td>2021-09-23 11:00:00-05:00</td>\n",
       "      <td>pm10</td>\n",
       "      <td>49.564</td>\n",
       "      <td>µg/m³</td>\n",
       "      <td>25.421472</td>\n",
       "      <td>-100.996861</td>\n",
       "      <td>2021</td>\n",
       "      <td>9</td>\n",
       "      <td>16</td>\n",
       "      <td>Saltillo MX</td>\n",
       "    </tr>\n",
       "  </tbody>\n",
       "</table>\n",
       "</div>"
      ],
      "text/plain": [
       "    locationId  location      city country                       utc  \\\n",
       "2         8006  Finanzas  Saltillo      MX 2021-09-23 18:00:00+00:00   \n",
       "4         8006  Finanzas  Saltillo      MX 2021-09-23 18:00:00+00:00   \n",
       "8         8006  Finanzas  Saltillo      MX 2021-09-23 17:00:00+00:00   \n",
       "9         8006  Finanzas  Saltillo      MX 2021-09-23 17:00:00+00:00   \n",
       "10        8006  Finanzas  Saltillo      MX 2021-09-23 16:00:00+00:00   \n",
       "\n",
       "                        local parameter   value   unit   latitude   longitude  \\\n",
       "2   2021-09-23 13:00:00-05:00      pm10  68.471  µg/m³  25.421472 -100.996861   \n",
       "4   2021-09-23 13:00:00-05:00      pm25  19.571  µg/m³  25.421472 -100.996861   \n",
       "8   2021-09-23 12:00:00-05:00      pm10  58.031  µg/m³  25.421472 -100.996861   \n",
       "9   2021-09-23 12:00:00-05:00      pm25  18.289  µg/m³  25.421472 -100.996861   \n",
       "10  2021-09-23 11:00:00-05:00      pm10  49.564  µg/m³  25.421472 -100.996861   \n",
       "\n",
       "    year  month  hour_utc        place  \n",
       "2   2021      9        18  Saltillo MX  \n",
       "4   2021      9        18  Saltillo MX  \n",
       "8   2021      9        17  Saltillo MX  \n",
       "9   2021      9        17  Saltillo MX  \n",
       "10  2021      9        16  Saltillo MX  "
      ]
     },
     "execution_count": 38,
     "metadata": {},
     "output_type": "execute_result"
    }
   ],
   "source": [
    "mx_sal.head()"
   ]
  },
  {
   "cell_type": "code",
   "execution_count": 39,
   "id": "edb93ed5",
   "metadata": {
    "scrolled": false
   },
   "outputs": [],
   "source": [
    "mx_sal['year'] = mx_sal['year'].astype('object')"
   ]
  },
  {
   "cell_type": "code",
   "execution_count": 40,
   "id": "39dc3827",
   "metadata": {},
   "outputs": [],
   "source": [
    "mx_sal['month'] = mx_sal['month'].astype('object')"
   ]
  },
  {
   "cell_type": "markdown",
   "id": "ba6bcfd0",
   "metadata": {},
   "source": [
    "**Concentración de PM10 y PM25 en Saltillo en los años 2020 y 2021**"
   ]
  },
  {
   "cell_type": "code",
   "execution_count": 41,
   "id": "651096fb",
   "metadata": {
    "scrolled": true
   },
   "outputs": [
    {
     "data": {
      "text/html": [
       "<div>\n",
       "<style scoped>\n",
       "    .dataframe tbody tr th:only-of-type {\n",
       "        vertical-align: middle;\n",
       "    }\n",
       "\n",
       "    .dataframe tbody tr th {\n",
       "        vertical-align: top;\n",
       "    }\n",
       "\n",
       "    .dataframe thead th {\n",
       "        text-align: right;\n",
       "    }\n",
       "</style>\n",
       "<table border=\"1\" class=\"dataframe\">\n",
       "  <thead>\n",
       "    <tr style=\"text-align: right;\">\n",
       "      <th></th>\n",
       "      <th>year</th>\n",
       "      <th>parameter</th>\n",
       "      <th>value</th>\n",
       "    </tr>\n",
       "  </thead>\n",
       "  <tbody>\n",
       "    <tr>\n",
       "      <th>0</th>\n",
       "      <td>2020</td>\n",
       "      <td>pm10</td>\n",
       "      <td>84.814253</td>\n",
       "    </tr>\n",
       "    <tr>\n",
       "      <th>1</th>\n",
       "      <td>2021</td>\n",
       "      <td>pm10</td>\n",
       "      <td>58.435135</td>\n",
       "    </tr>\n",
       "  </tbody>\n",
       "</table>\n",
       "</div>"
      ],
      "text/plain": [
       "   year parameter      value\n",
       "0  2020      pm10  84.814253\n",
       "1  2021      pm10  58.435135"
      ]
     },
     "execution_count": 41,
     "metadata": {},
     "output_type": "execute_result"
    }
   ],
   "source": [
    "mx_con_pm10_y = mx_sal.loc[mx_sal['parameter'] == 'pm10', ['parameter','year', 'place', 'value']].groupby(['year', 'parameter'], as_index=False).agg({'value':'mean'})\n",
    "mx_con_pm10_y"
   ]
  },
  {
   "cell_type": "code",
   "execution_count": 42,
   "id": "672c4426",
   "metadata": {},
   "outputs": [
    {
     "data": {
      "text/plain": [
       "year           int64\n",
       "parameter     object\n",
       "value        float64\n",
       "dtype: object"
      ]
     },
     "execution_count": 42,
     "metadata": {},
     "output_type": "execute_result"
    }
   ],
   "source": [
    "mx_con_pm10_y.dtypes"
   ]
  },
  {
   "cell_type": "code",
   "execution_count": 43,
   "id": "88b989fe",
   "metadata": {},
   "outputs": [
    {
     "name": "stderr",
     "output_type": "stream",
     "text": [
      "C:\\Users\\c725676\\Anaconda3\\lib\\site-packages\\seaborn\\_decorators.py:36: FutureWarning: Pass the following variables as keyword args: x, y. From version 0.12, the only valid positional argument will be `data`, and passing other arguments without an explicit keyword will result in an error or misinterpretation.\n",
      "  warnings.warn(\n"
     ]
    },
    {
     "data": {
      "image/png": "[encoded data removed]",
      "text/plain": [
       "<Figure size 1008x432 with 1 Axes>"
      ]
     },
     "metadata": {
      "needs_background": "light"
     },
     "output_type": "display_data"
    }
   ],
   "source": [
    "plt.subplots(figsize=(14,6))\n",
    "sns.barplot(mx_con_pm10_y['year'], mx_con_pm10_y['value'])\n",
    "plt.title('Concentration of PM10 in the air over Saltillo');"
   ]
  },
  {
   "cell_type": "markdown",
   "id": "6dc41289",
   "metadata": {},
   "source": [
    "**Tentativo, tienes que hacer el barplot por año**"
   ]
  },
  {
   "cell_type": "code",
   "execution_count": 44,
   "id": "7214a6fb",
   "metadata": {},
   "outputs": [
    {
     "ename": "NameError",
     "evalue": "name 'mx_con_m_pm10' is not defined",
     "output_type": "error",
     "traceback": [
      "\u001b[1;31m---------------------------------------------------------------------------\u001b[0m",
      "\u001b[1;31mNameError\u001b[0m                                 Traceback (most recent call last)",
      "\u001b[1;32m<ipython-input-44-38dc5e5a1e7c>\u001b[0m in \u001b[0;36m<module>\u001b[1;34m\u001b[0m\n\u001b[0;32m      1\u001b[0m \u001b[1;31m#f, ax = plt.subplots(figsize=(14,6))\u001b[0m\u001b[1;33m\u001b[0m\u001b[1;33m\u001b[0m\u001b[1;33m\u001b[0m\u001b[0m\n\u001b[0;32m      2\u001b[0m \u001b[0mplt\u001b[0m\u001b[1;33m.\u001b[0m\u001b[0msubplots\u001b[0m\u001b[1;33m(\u001b[0m\u001b[0mfigsize\u001b[0m\u001b[1;33m=\u001b[0m\u001b[1;33m(\u001b[0m\u001b[1;36m14\u001b[0m\u001b[1;33m,\u001b[0m\u001b[1;36m6\u001b[0m\u001b[1;33m)\u001b[0m\u001b[1;33m)\u001b[0m\u001b[1;33m\u001b[0m\u001b[1;33m\u001b[0m\u001b[0m\n\u001b[1;32m----> 3\u001b[1;33m \u001b[0msns\u001b[0m\u001b[1;33m.\u001b[0m\u001b[0mbarplot\u001b[0m\u001b[1;33m(\u001b[0m\u001b[0mmx_con_m_pm10\u001b[0m\u001b[1;33m[\u001b[0m\u001b[1;34m'month'\u001b[0m\u001b[1;33m]\u001b[0m\u001b[1;33m,\u001b[0m \u001b[0mmx_con_m_pm10\u001b[0m\u001b[1;33m[\u001b[0m\u001b[1;34m'value'\u001b[0m\u001b[1;33m]\u001b[0m\u001b[1;33m)\u001b[0m\u001b[1;33m\u001b[0m\u001b[1;33m\u001b[0m\u001b[0m\n\u001b[0m\u001b[0;32m      4\u001b[0m \u001b[0mplt\u001b[0m\u001b[1;33m.\u001b[0m\u001b[0mtitle\u001b[0m\u001b[1;33m(\u001b[0m\u001b[1;34m'Concentration of PM10 in the air over Saltillo'\u001b[0m\u001b[1;33m)\u001b[0m\u001b[1;33m;\u001b[0m\u001b[1;33m\u001b[0m\u001b[1;33m\u001b[0m\u001b[0m\n",
      "\u001b[1;31mNameError\u001b[0m: name 'mx_con_m_pm10' is not defined"
     ]
    },
    {
     "data": {
      "image/png": "[encoded data removed]",
      "text/plain": [
       "<Figure size 1008x432 with 1 Axes>"
      ]
     },
     "metadata": {
      "needs_background": "light"
     },
     "output_type": "display_data"
    }
   ],
   "source": [
    "#f, ax = plt.subplots(figsize=(14,6))\n",
    "plt.subplots(figsize=(14,6))\n",
    "sns.barplot(mx_con_m_pm10['month'], mx_con_m_pm10['value'])\n",
    "plt.title('Concentration of PM10 in the air over Saltillo');"
   ]
  },
  {
   "cell_type": "code",
   "execution_count": null,
   "id": "3380b8b4",
   "metadata": {},
   "outputs": [],
   "source": [
    "mx_con_pm25_y = mx_sal.loc[mx_sal['parameter'] == 'pm25', ['parameter','year', 'place', 'value']].groupby(['year', 'parameter'], as_index=False).agg({'value':'mean'})\n",
    "mx_con_pm25_y"
   ]
  },
  {
   "cell_type": "code",
   "execution_count": null,
   "id": "d287c9d9",
   "metadata": {},
   "outputs": [],
   "source": [
    "plt.subplots(figsize=(14,6))\n",
    "sns.barplot(mx_con_pm25_y['year'], mx_con_pm25_y['value'])\n",
    "plt.title('Concentration of PM25 in the air over Saltillo');"
   ]
  },
  {
   "cell_type": "markdown",
   "id": "5b4f6b2f",
   "metadata": {},
   "source": [
    "### Datos Covid"
   ]
  },
  {
   "cell_type": "code",
   "execution_count": 50,
   "id": "7a8faea6",
   "metadata": {},
   "outputs": [],
   "source": [
    "covid = pd.read_csv('waqi-covid19-airqualitydata-2020.csv', skiprows=4)"
   ]
  },
  {
   "cell_type": "code",
   "execution_count": 51,
   "id": "9e5958a5",
   "metadata": {
    "scrolled": false
   },
   "outputs": [
    {
     "data": {
      "text/html": [
       "<div>\n",
       "<style scoped>\n",
       "    .dataframe tbody tr th:only-of-type {\n",
       "        vertical-align: middle;\n",
       "    }\n",
       "\n",
       "    .dataframe tbody tr th {\n",
       "        vertical-align: top;\n",
       "    }\n",
       "\n",
       "    .dataframe thead th {\n",
       "        text-align: right;\n",
       "    }\n",
       "</style>\n",
       "<table border=\"1\" class=\"dataframe\">\n",
       "  <thead>\n",
       "    <tr style=\"text-align: right;\">\n",
       "      <th></th>\n",
       "      <th>Date</th>\n",
       "      <th>Country</th>\n",
       "      <th>City</th>\n",
       "      <th>Specie</th>\n",
       "      <th>count</th>\n",
       "      <th>min</th>\n",
       "      <th>max</th>\n",
       "      <th>median</th>\n",
       "      <th>variance</th>\n",
       "    </tr>\n",
       "  </thead>\n",
       "  <tbody>\n",
       "    <tr>\n",
       "      <th>0</th>\n",
       "      <td>2021-07-01</td>\n",
       "      <td>MX</td>\n",
       "      <td>Guadalajara</td>\n",
       "      <td>temperature</td>\n",
       "      <td>118</td>\n",
       "      <td>17.7</td>\n",
       "      <td>26.0</td>\n",
       "      <td>18.1</td>\n",
       "      <td>29.05</td>\n",
       "    </tr>\n",
       "    <tr>\n",
       "      <th>1</th>\n",
       "      <td>2021-08-11</td>\n",
       "      <td>MX</td>\n",
       "      <td>Guadalajara</td>\n",
       "      <td>temperature</td>\n",
       "      <td>214</td>\n",
       "      <td>17.0</td>\n",
       "      <td>29.4</td>\n",
       "      <td>20.1</td>\n",
       "      <td>123.97</td>\n",
       "    </tr>\n",
       "  </tbody>\n",
       "</table>\n",
       "</div>"
      ],
      "text/plain": [
       "         Date Country         City       Specie  count   min   max  median  \\\n",
       "0  2021-07-01      MX  Guadalajara  temperature    118  17.7  26.0    18.1   \n",
       "1  2021-08-11      MX  Guadalajara  temperature    214  17.0  29.4    20.1   \n",
       "\n",
       "   variance  \n",
       "0     29.05  \n",
       "1    123.97  "
      ]
     },
     "execution_count": 51,
     "metadata": {},
     "output_type": "execute_result"
    }
   ],
   "source": [
    "covid.head(2)"
   ]
  },
  {
   "cell_type": "code",
   "execution_count": 56,
   "id": "fbc30f2e",
   "metadata": {},
   "outputs": [
    {
     "data": {
      "text/plain": [
       "(1664612, 9)"
      ]
     },
     "execution_count": 56,
     "metadata": {},
     "output_type": "execute_result"
    }
   ],
   "source": [
    "covid.shape"
   ]
  },
  {
   "cell_type": "code",
   "execution_count": 52,
   "id": "59664aaf",
   "metadata": {
    "scrolled": true
   },
   "outputs": [
    {
     "name": "stdout",
     "output_type": "stream",
     "text": [
      "<class 'pandas.core.frame.DataFrame'>\n",
      "RangeIndex: 1664612 entries, 0 to 1664611\n",
      "Data columns (total 9 columns):\n",
      " #   Column    Non-Null Count    Dtype  \n",
      "---  ------    --------------    -----  \n",
      " 0   Date      1664612 non-null  object \n",
      " 1   Country   1664612 non-null  object \n",
      " 2   City      1664612 non-null  object \n",
      " 3   Specie    1664612 non-null  object \n",
      " 4   count     1664612 non-null  int64  \n",
      " 5   min       1664612 non-null  float64\n",
      " 6   max       1664612 non-null  float64\n",
      " 7   median    1664612 non-null  float64\n",
      " 8   variance  1664612 non-null  float64\n",
      "dtypes: float64(4), int64(1), object(4)\n",
      "memory usage: 114.3+ MB\n"
     ]
    }
   ],
   "source": [
    "covid.info()"
   ]
  },
  {
   "cell_type": "code",
   "execution_count": 61,
   "id": "4f1f787f",
   "metadata": {},
   "outputs": [],
   "source": [
    "covid.Date = pd.to_datetime(covid.Date)"
   ]
  },
  {
   "cell_type": "code",
   "execution_count": 62,
   "id": "7aeea4c0",
   "metadata": {},
   "outputs": [
    {
     "data": {
      "text/plain": [
       "Timestamp('2020-12-28 00:00:00')"
      ]
     },
     "execution_count": 62,
     "metadata": {},
     "output_type": "execute_result"
    }
   ],
   "source": [
    "covid.Date.min()"
   ]
  },
  {
   "cell_type": "code",
   "execution_count": 63,
   "id": "f5e5c3a2",
   "metadata": {},
   "outputs": [
    {
     "data": {
      "text/plain": [
       "Timestamp('2021-10-03 00:00:00')"
      ]
     },
     "execution_count": 63,
     "metadata": {},
     "output_type": "execute_result"
    }
   ],
   "source": [
    "covid.Date.max()"
   ]
  },
  {
   "cell_type": "code",
   "execution_count": 92,
   "id": "b02f06cf",
   "metadata": {},
   "outputs": [],
   "source": [
    "mx_cl = covid.loc[(covid['Country'].isin(['MX', 'CL','US', 'IN'])) & (covid['City'].isin(['Mexico City', 'Santiago','Aguascalientes','New Delhi', 'Valparaíso', 'Houston']))]"
   ]
  },
  {
   "cell_type": "code",
   "execution_count": 93,
   "id": "1cef541a",
   "metadata": {
    "scrolled": true
   },
   "outputs": [
    {
     "data": {
      "text/html": [
       "<div>\n",
       "<style scoped>\n",
       "    .dataframe tbody tr th:only-of-type {\n",
       "        vertical-align: middle;\n",
       "    }\n",
       "\n",
       "    .dataframe tbody tr th {\n",
       "        vertical-align: top;\n",
       "    }\n",
       "\n",
       "    .dataframe thead th {\n",
       "        text-align: right;\n",
       "    }\n",
       "</style>\n",
       "<table border=\"1\" class=\"dataframe\">\n",
       "  <thead>\n",
       "    <tr style=\"text-align: right;\">\n",
       "      <th></th>\n",
       "      <th>Date</th>\n",
       "      <th>Country</th>\n",
       "      <th>City</th>\n",
       "      <th>Specie</th>\n",
       "      <th>count</th>\n",
       "      <th>min</th>\n",
       "      <th>max</th>\n",
       "      <th>median</th>\n",
       "      <th>variance</th>\n",
       "    </tr>\n",
       "  </thead>\n",
       "  <tbody>\n",
       "    <tr>\n",
       "      <th>8165</th>\n",
       "      <td>2021-09-02</td>\n",
       "      <td>MX</td>\n",
       "      <td>Mexico City</td>\n",
       "      <td>pm25</td>\n",
       "      <td>348</td>\n",
       "      <td>1.0</td>\n",
       "      <td>107.0</td>\n",
       "      <td>41.0</td>\n",
       "      <td>4712.30</td>\n",
       "    </tr>\n",
       "    <tr>\n",
       "      <th>8166</th>\n",
       "      <td>2021-09-11</td>\n",
       "      <td>MX</td>\n",
       "      <td>Mexico City</td>\n",
       "      <td>pm25</td>\n",
       "      <td>338</td>\n",
       "      <td>1.0</td>\n",
       "      <td>151.0</td>\n",
       "      <td>34.0</td>\n",
       "      <td>3632.87</td>\n",
       "    </tr>\n",
       "  </tbody>\n",
       "</table>\n",
       "</div>"
      ],
      "text/plain": [
       "           Date Country         City Specie  count  min    max  median  \\\n",
       "8165 2021-09-02      MX  Mexico City   pm25    348  1.0  107.0    41.0   \n",
       "8166 2021-09-11      MX  Mexico City   pm25    338  1.0  151.0    34.0   \n",
       "\n",
       "      variance  \n",
       "8165   4712.30  \n",
       "8166   3632.87  "
      ]
     },
     "execution_count": 93,
     "metadata": {},
     "output_type": "execute_result"
    }
   ],
   "source": [
    "mx_cl.head(2)"
   ]
  },
  {
   "cell_type": "code",
   "execution_count": 101,
   "id": "11689e94",
   "metadata": {
    "scrolled": true
   },
   "outputs": [
    {
     "data": {
      "text/html": [
       "<div>\n",
       "<style scoped>\n",
       "    .dataframe tbody tr th:only-of-type {\n",
       "        vertical-align: middle;\n",
       "    }\n",
       "\n",
       "    .dataframe tbody tr th {\n",
       "        vertical-align: top;\n",
       "    }\n",
       "\n",
       "    .dataframe thead th {\n",
       "        text-align: right;\n",
       "    }\n",
       "</style>\n",
       "<table border=\"1\" class=\"dataframe\">\n",
       "  <thead>\n",
       "    <tr style=\"text-align: right;\">\n",
       "      <th></th>\n",
       "      <th>Specie</th>\n",
       "      <th>City</th>\n",
       "      <th>median</th>\n",
       "    </tr>\n",
       "  </thead>\n",
       "  <tbody>\n",
       "    <tr>\n",
       "      <th>0</th>\n",
       "      <td>co</td>\n",
       "      <td>Aguascalientes</td>\n",
       "      <td>8.184483</td>\n",
       "    </tr>\n",
       "    <tr>\n",
       "      <th>1</th>\n",
       "      <td>co</td>\n",
       "      <td>Houston</td>\n",
       "      <td>2.122989</td>\n",
       "    </tr>\n",
       "    <tr>\n",
       "      <th>2</th>\n",
       "      <td>co</td>\n",
       "      <td>Mexico City</td>\n",
       "      <td>6.296751</td>\n",
       "    </tr>\n",
       "    <tr>\n",
       "      <th>3</th>\n",
       "      <td>co</td>\n",
       "      <td>Santiago</td>\n",
       "      <td>9.539286</td>\n",
       "    </tr>\n",
       "    <tr>\n",
       "      <th>4</th>\n",
       "      <td>dew</td>\n",
       "      <td>Aguascalientes</td>\n",
       "      <td>3.163077</td>\n",
       "    </tr>\n",
       "    <tr>\n",
       "      <th>...</th>\n",
       "      <td>...</td>\n",
       "      <td>...</td>\n",
       "      <td>...</td>\n",
       "    </tr>\n",
       "    <tr>\n",
       "      <th>61</th>\n",
       "      <td>wind-speed</td>\n",
       "      <td>Houston</td>\n",
       "      <td>4.997500</td>\n",
       "    </tr>\n",
       "    <tr>\n",
       "      <th>62</th>\n",
       "      <td>wind-speed</td>\n",
       "      <td>Mexico City</td>\n",
       "      <td>4.687857</td>\n",
       "    </tr>\n",
       "    <tr>\n",
       "      <th>63</th>\n",
       "      <td>wind-speed</td>\n",
       "      <td>New Delhi</td>\n",
       "      <td>2.658929</td>\n",
       "    </tr>\n",
       "    <tr>\n",
       "      <th>64</th>\n",
       "      <td>wind-speed</td>\n",
       "      <td>Santiago</td>\n",
       "      <td>2.712143</td>\n",
       "    </tr>\n",
       "    <tr>\n",
       "      <th>65</th>\n",
       "      <td>wind-speed</td>\n",
       "      <td>Valparaíso</td>\n",
       "      <td>2.200000</td>\n",
       "    </tr>\n",
       "  </tbody>\n",
       "</table>\n",
       "<p>66 rows × 3 columns</p>\n",
       "</div>"
      ],
      "text/plain": [
       "        Specie            City    median\n",
       "0           co  Aguascalientes  8.184483\n",
       "1           co         Houston  2.122989\n",
       "2           co     Mexico City  6.296751\n",
       "3           co        Santiago  9.539286\n",
       "4          dew  Aguascalientes  3.163077\n",
       "..         ...             ...       ...\n",
       "61  wind-speed         Houston  4.997500\n",
       "62  wind-speed     Mexico City  4.687857\n",
       "63  wind-speed       New Delhi  2.658929\n",
       "64  wind-speed        Santiago  2.712143\n",
       "65  wind-speed      Valparaíso  2.200000\n",
       "\n",
       "[66 rows x 3 columns]"
      ]
     },
     "execution_count": 101,
     "metadata": {},
     "output_type": "execute_result"
    }
   ],
   "source": [
    "poll_city = mx_cl.groupby(['Specie','City'], as_index=False).agg({'median':'mean'})\n",
    "poll_city"
   ]
  },
  {
   "cell_type": "code",
   "execution_count": 113,
   "id": "26e0de7c",
   "metadata": {},
   "outputs": [
    {
     "data": {
      "text/plain": [
       "humidity         6\n",
       "dew              6\n",
       "temperature      6\n",
       "pm25             6\n",
       "pressure         6\n",
       "wind-gust        6\n",
       "wind-speed       6\n",
       "no2              4\n",
       "o3               4\n",
       "co               4\n",
       "pm10             4\n",
       "so2              4\n",
       "precipitation    3\n",
       "wd               1\n",
       "Name: Specie, dtype: int64"
      ]
     },
     "execution_count": 113,
     "metadata": {},
     "output_type": "execute_result"
    }
   ],
   "source": [
    "poll_city['Specie'].value_counts()"
   ]
  },
  {
   "cell_type": "code",
   "execution_count": 103,
   "id": "db90c93c",
   "metadata": {},
   "outputs": [
    {
     "data": {
      "text/html": [
       "<div>\n",
       "<style scoped>\n",
       "    .dataframe tbody tr th:only-of-type {\n",
       "        vertical-align: middle;\n",
       "    }\n",
       "\n",
       "    .dataframe tbody tr th {\n",
       "        vertical-align: top;\n",
       "    }\n",
       "\n",
       "    .dataframe thead th {\n",
       "        text-align: right;\n",
       "    }\n",
       "</style>\n",
       "<table border=\"1\" class=\"dataframe\">\n",
       "  <thead>\n",
       "    <tr style=\"text-align: right;\">\n",
       "      <th></th>\n",
       "      <th>Specie</th>\n",
       "      <th>City</th>\n",
       "      <th>median</th>\n",
       "    </tr>\n",
       "  </thead>\n",
       "  <tbody>\n",
       "    <tr>\n",
       "      <th>28</th>\n",
       "      <td>pm25</td>\n",
       "      <td>Aguascalientes</td>\n",
       "      <td>187.661616</td>\n",
       "    </tr>\n",
       "    <tr>\n",
       "      <th>29</th>\n",
       "      <td>pm25</td>\n",
       "      <td>Houston</td>\n",
       "      <td>38.810714</td>\n",
       "    </tr>\n",
       "    <tr>\n",
       "      <th>30</th>\n",
       "      <td>pm25</td>\n",
       "      <td>Mexico City</td>\n",
       "      <td>60.740072</td>\n",
       "    </tr>\n",
       "    <tr>\n",
       "      <th>31</th>\n",
       "      <td>pm25</td>\n",
       "      <td>New Delhi</td>\n",
       "      <td>141.802158</td>\n",
       "    </tr>\n",
       "    <tr>\n",
       "      <th>32</th>\n",
       "      <td>pm25</td>\n",
       "      <td>Santiago</td>\n",
       "      <td>87.482143</td>\n",
       "    </tr>\n",
       "    <tr>\n",
       "      <th>33</th>\n",
       "      <td>pm25</td>\n",
       "      <td>Valparaíso</td>\n",
       "      <td>58.607143</td>\n",
       "    </tr>\n",
       "  </tbody>\n",
       "</table>\n",
       "</div>"
      ],
      "text/plain": [
       "   Specie            City      median\n",
       "28   pm25  Aguascalientes  187.661616\n",
       "29   pm25         Houston   38.810714\n",
       "30   pm25     Mexico City   60.740072\n",
       "31   pm25       New Delhi  141.802158\n",
       "32   pm25        Santiago   87.482143\n",
       "33   pm25      Valparaíso   58.607143"
      ]
     },
     "execution_count": 103,
     "metadata": {},
     "output_type": "execute_result"
    }
   ],
   "source": [
    "poll_c_pm25 = poll_city.loc[poll_city['Specie'] == 'pm25']\n",
    "poll_c_pm25"
   ]
  },
  {
   "cell_type": "code",
   "execution_count": 105,
   "id": "308a3de7",
   "metadata": {},
   "outputs": [
    {
     "name": "stderr",
     "output_type": "stream",
     "text": [
      "/home/brida/anaconda3/lib/python3.8/site-packages/seaborn/_decorators.py:36: FutureWarning: Pass the following variables as keyword args: x, y. From version 0.12, the only valid positional argument will be `data`, and passing other arguments without an explicit keyword will result in an error or misinterpretation.\n",
      "  warnings.warn(\n"
     ]
    },
    {
     "data": {
      "image/png": "[encoded data removed]",
      "text/plain": [
       "<Figure size 1008x432 with 1 Axes>"
      ]
     },
     "metadata": {
      "needs_background": "light"
     },
     "output_type": "display_data"
    }
   ],
   "source": [
    "plt.subplots(figsize=(14,6))\n",
    "sns.barplot(poll_c_pm25['City'], poll_c_pm25['median'])\n",
    "plt.title('Concentration of PM25 in the air over cities');"
   ]
  },
  {
   "cell_type": "code",
   "execution_count": 107,
   "id": "e44b86ce",
   "metadata": {},
   "outputs": [
    {
     "data": {
      "text/html": [
       "<div>\n",
       "<style scoped>\n",
       "    .dataframe tbody tr th:only-of-type {\n",
       "        vertical-align: middle;\n",
       "    }\n",
       "\n",
       "    .dataframe tbody tr th {\n",
       "        vertical-align: top;\n",
       "    }\n",
       "\n",
       "    .dataframe thead th {\n",
       "        text-align: right;\n",
       "    }\n",
       "</style>\n",
       "<table border=\"1\" class=\"dataframe\">\n",
       "  <thead>\n",
       "    <tr style=\"text-align: right;\">\n",
       "      <th></th>\n",
       "      <th>Specie</th>\n",
       "      <th>City</th>\n",
       "      <th>median</th>\n",
       "    </tr>\n",
       "  </thead>\n",
       "  <tbody>\n",
       "    <tr>\n",
       "      <th>24</th>\n",
       "      <td>pm10</td>\n",
       "      <td>Aguascalientes</td>\n",
       "      <td>63.140426</td>\n",
       "    </tr>\n",
       "    <tr>\n",
       "      <th>25</th>\n",
       "      <td>pm10</td>\n",
       "      <td>Mexico City</td>\n",
       "      <td>33.711191</td>\n",
       "    </tr>\n",
       "    <tr>\n",
       "      <th>26</th>\n",
       "      <td>pm10</td>\n",
       "      <td>Santiago</td>\n",
       "      <td>58.739286</td>\n",
       "    </tr>\n",
       "    <tr>\n",
       "      <th>27</th>\n",
       "      <td>pm10</td>\n",
       "      <td>Valparaíso</td>\n",
       "      <td>32.967509</td>\n",
       "    </tr>\n",
       "  </tbody>\n",
       "</table>\n",
       "</div>"
      ],
      "text/plain": [
       "   Specie            City     median\n",
       "24   pm10  Aguascalientes  63.140426\n",
       "25   pm10     Mexico City  33.711191\n",
       "26   pm10        Santiago  58.739286\n",
       "27   pm10      Valparaíso  32.967509"
      ]
     },
     "execution_count": 107,
     "metadata": {},
     "output_type": "execute_result"
    }
   ],
   "source": [
    "poll_c_pm10 = poll_city.loc[poll_city['Specie'] == 'pm10']\n",
    "poll_c_pm10"
   ]
  },
  {
   "cell_type": "code",
   "execution_count": 109,
   "id": "46e02c14",
   "metadata": {},
   "outputs": [
    {
     "name": "stderr",
     "output_type": "stream",
     "text": [
      "/home/brida/anaconda3/lib/python3.8/site-packages/seaborn/_decorators.py:36: FutureWarning: Pass the following variables as keyword args: x, y. From version 0.12, the only valid positional argument will be `data`, and passing other arguments without an explicit keyword will result in an error or misinterpretation.\n",
      "  warnings.warn(\n"
     ]
    },
    {
     "data": {
      "image/png": "[encoded data removed]",
      "text/plain": [
       "<Figure size 1008x432 with 1 Axes>"
      ]
     },
     "metadata": {
      "needs_background": "light"
     },
     "output_type": "display_data"
    }
   ],
   "source": [
    "plt.subplots(figsize=(14,6))\n",
    "sns.barplot(poll_c_pm10['City'], poll_c_pm10['median'])\n",
    "plt.title('Concentration of PM10 in the air over cities');"
   ]
  },
  {
   "cell_type": "code",
   "execution_count": null,
   "id": "444fe8f8",
   "metadata": {},
   "outputs": [],
   "source": []
  }
 ],
 "metadata": {
  "kernelspec": {
   "display_name": "Python 3",
   "language": "python",
   "name": "python3"
  },
  "language_info": {
   "codemirror_mode": {
    "name": "ipython",
    "version": 3
   },
   "file_extension": ".py",
   "mimetype": "text/x-python",
   "name": "python",
   "nbconvert_exporter": "python",
   "pygments_lexer": "ipython3",
   "version": "3.8.8"
  }
 },
 "nbformat": 4,
 "nbformat_minor": 5
}
